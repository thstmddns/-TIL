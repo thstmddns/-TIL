{
 "cells": [
  {
   "cell_type": "markdown",
   "id": "cf4e842a",
   "metadata": {},
   "source": [
    "### 한솥 도시락\n",
    "\n",
    "1. Selenium Method활용\n",
    "\n",
    "2. 메뉴이름, 가격 수집하기\n",
    "\n",
    "3. 더보기 계속 자동덕으로 클릭하기\n",
    "\n",
    "4. DataFrame"
   ]
  },
  {
   "cell_type": "code",
   "execution_count": 8,
   "id": "4d77b406",
   "metadata": {},
   "outputs": [],
   "source": [
    "from selenium import webdriver as wb\n",
    "from selenium.webdriver.common.by import By\n",
    "from selenium.webdriver.common.keys import Keys\n",
    "\n",
    "import time\n",
    "import pandas as pd\n",
    "from tqdm import tqdm"
   ]
  },
  {
   "cell_type": "markdown",
   "id": "714055ea",
   "metadata": {},
   "source": [
    "### 브라우저 오픈"
   ]
  },
  {
   "cell_type": "code",
   "execution_count": 9,
   "id": "a6f904fc",
   "metadata": {},
   "outputs": [],
   "source": [
    "driver = wb.Chrome()"
   ]
  },
  {
   "cell_type": "code",
   "execution_count": 10,
   "id": "7227a664",
   "metadata": {},
   "outputs": [],
   "source": [
    "driver.get('https://www.hsd.co.kr/')"
   ]
  },
  {
   "cell_type": "code",
   "execution_count": 11,
   "id": "03001d0b",
   "metadata": {},
   "outputs": [],
   "source": [
    "driver.maximize_window()"
   ]
  },
  {
   "cell_type": "code",
   "execution_count": 12,
   "id": "c2888a57",
   "metadata": {},
   "outputs": [],
   "source": [
    "menu = driver.find_element(By.XPATH, '//*[@id=\"gnb\"]/div[2]/ul/li[3]/p/a')\n",
    "all_menu = driver.find_element(By.XPATH, '//*[@id=\"gnb\"]/div[2]/ul/li[3]/div/ul/li[1]/a')\n"
   ]
  },
  {
   "cell_type": "markdown",
   "id": "df8a1d05",
   "metadata": {},
   "source": [
    "### Action Chain으로 메뉴에 접근해보자"
   ]
  },
  {
   "cell_type": "code",
   "execution_count": 13,
   "id": "dbbe7795",
   "metadata": {},
   "outputs": [],
   "source": [
    "from selenium.webdriver.common.action_chains import ActionChains"
   ]
  },
  {
   "cell_type": "code",
   "execution_count": 14,
   "id": "5772d858",
   "metadata": {},
   "outputs": [],
   "source": [
    "#  action 만들기 / 변수 생성\n",
    "action = ActionChains(driver)\n",
    "\n",
    "# 첫번째 관문, MENU로 이동\n",
    "action.move_to_element(menu)\n",
    "\n",
    "# 두번째 관문\n",
    "action.click(all_menu)\n",
    "time.sleep(1)\n",
    "\n",
    "# 그리고, 해당 작업을 수행해줘\n",
    "action.perform()"
   ]
  },
  {
   "cell_type": "markdown",
   "id": "0456f7e2",
   "metadata": {},
   "source": [
    "### 요소들 출력"
   ]
  },
  {
   "cell_type": "code",
   "execution_count": 15,
   "id": "ea694384",
   "metadata": {},
   "outputs": [
    {
     "name": "stdout",
     "output_type": "stream",
     "text": [
      "송정식 떡갈비 도시락\n",
      "카츠카츠 도시락\n",
      "아보카도 훈제 닭가슴살 명란 비빔밥\n",
      "아보카도 소불고기 명란 비빔밥\n",
      "새후마요\n",
      "숯불직화구이 두부강된장\n"
     ]
    }
   ],
   "source": [
    "titles = driver.find_elements(By.CSS_SELECTOR, 'h4.h.fz_03')\n",
    "\n",
    "for i in titles:\n",
    "    print(i.text)"
   ]
  },
  {
   "cell_type": "code",
   "execution_count": 16,
   "id": "a5e96c5b",
   "metadata": {},
   "outputs": [],
   "source": [
    "btn = driver.find_element(By.XPATH, '//*[@id=\"btn_more\"]/span/a')\n",
    "btn.click()"
   ]
  },
  {
   "cell_type": "code",
   "execution_count": 17,
   "id": "9a756a20",
   "metadata": {},
   "outputs": [
    {
     "data": {
      "text/plain": [
       "[<selenium.webdriver.remote.webelement.WebElement (session=\"c668107bcf0caaa6cda627fd48c041fb\", element=\"c812f277-1761-4f79-9eb3-350ad1aa7ad8\")>,\n",
       " <selenium.webdriver.remote.webelement.WebElement (session=\"c668107bcf0caaa6cda627fd48c041fb\", element=\"32edaa03-c416-4f63-ab3e-704c9bca4c35\")>,\n",
       " <selenium.webdriver.remote.webelement.WebElement (session=\"c668107bcf0caaa6cda627fd48c041fb\", element=\"967f210a-2604-41ba-8bc0-976a0ba39831\")>,\n",
       " <selenium.webdriver.remote.webelement.WebElement (session=\"c668107bcf0caaa6cda627fd48c041fb\", element=\"077b99ec-89ea-4f66-b488-97d39438d7fb\")>,\n",
       " <selenium.webdriver.remote.webelement.WebElement (session=\"c668107bcf0caaa6cda627fd48c041fb\", element=\"b3df642c-a862-44b5-93f0-7f86f8895991\")>,\n",
       " <selenium.webdriver.remote.webelement.WebElement (session=\"c668107bcf0caaa6cda627fd48c041fb\", element=\"918421d5-57e2-4705-b681-2213135c280e\")>,\n",
       " <selenium.webdriver.remote.webelement.WebElement (session=\"c668107bcf0caaa6cda627fd48c041fb\", element=\"3804f712-828d-470a-9338-943e9d908104\")>,\n",
       " <selenium.webdriver.remote.webelement.WebElement (session=\"c668107bcf0caaa6cda627fd48c041fb\", element=\"2c424f78-9099-4927-b28c-0cc443ed6ee9\")>,\n",
       " <selenium.webdriver.remote.webelement.WebElement (session=\"c668107bcf0caaa6cda627fd48c041fb\", element=\"5146cd13-f72c-408c-9828-6c3d25a923a1\")>,\n",
       " <selenium.webdriver.remote.webelement.WebElement (session=\"c668107bcf0caaa6cda627fd48c041fb\", element=\"39025c1b-1ca9-4b44-8751-c68df785a80f\")>]"
      ]
     },
     "execution_count": 17,
     "metadata": {},
     "output_type": "execute_result"
    }
   ],
   "source": [
    "title = driver.find_elements(By.CSS_SELECTOR, 'h4.h.fz_03')\n",
    "title"
   ]
  },
  {
   "cell_type": "code",
   "execution_count": 18,
   "id": "dc3383fa",
   "metadata": {},
   "outputs": [
    {
     "name": "stdout",
     "output_type": "stream",
     "text": [
      "송정식 떡갈비 도시락\n",
      "카츠카츠 도시락\n",
      "아보카도 훈제 닭가슴살 명란 비빔밥\n",
      "아보카도 소불고기 명란 비빔밥\n",
      "새후마요\n",
      "숯불직화구이 두부강된장\n",
      "해바라기\n",
      "매화\n",
      "진달래\n",
      "개나리\n"
     ]
    }
   ],
   "source": [
    "for i in title:\n",
    "    print(i.text)"
   ]
  },
  {
   "cell_type": "code",
   "execution_count": 19,
   "id": "d248f94a",
   "metadata": {},
   "outputs": [
    {
     "data": {
      "text/plain": [
       "[<selenium.webdriver.remote.webelement.WebElement (session=\"c668107bcf0caaa6cda627fd48c041fb\", element=\"c5ef86c9-0dfa-4ae2-98dd-019777490192\")>,\n",
       " <selenium.webdriver.remote.webelement.WebElement (session=\"c668107bcf0caaa6cda627fd48c041fb\", element=\"6cfc89a5-b09c-48a3-ad94-1988eb39ca71\")>,\n",
       " <selenium.webdriver.remote.webelement.WebElement (session=\"c668107bcf0caaa6cda627fd48c041fb\", element=\"ab3c19ae-9431-4a18-b50b-f084c4986e22\")>,\n",
       " <selenium.webdriver.remote.webelement.WebElement (session=\"c668107bcf0caaa6cda627fd48c041fb\", element=\"6a60006b-b360-479f-bcde-e660affc6119\")>,\n",
       " <selenium.webdriver.remote.webelement.WebElement (session=\"c668107bcf0caaa6cda627fd48c041fb\", element=\"e30e73f5-f772-4897-94e3-ec28227f532a\")>,\n",
       " <selenium.webdriver.remote.webelement.WebElement (session=\"c668107bcf0caaa6cda627fd48c041fb\", element=\"0dc47402-7d0c-427c-bb48-c7b2a19beab8\")>,\n",
       " <selenium.webdriver.remote.webelement.WebElement (session=\"c668107bcf0caaa6cda627fd48c041fb\", element=\"43faca29-cf09-4c48-a0b8-ffe75ac83e3c\")>,\n",
       " <selenium.webdriver.remote.webelement.WebElement (session=\"c668107bcf0caaa6cda627fd48c041fb\", element=\"ce6390b7-0a12-4676-9ad6-053b36d702b4\")>,\n",
       " <selenium.webdriver.remote.webelement.WebElement (session=\"c668107bcf0caaa6cda627fd48c041fb\", element=\"233a8692-a34a-4bb2-a3ae-0521f9c25f20\")>,\n",
       " <selenium.webdriver.remote.webelement.WebElement (session=\"c668107bcf0caaa6cda627fd48c041fb\", element=\"8fa94244-4f52-4c22-bea1-913fc4504aaa\")>]"
      ]
     },
     "execution_count": 19,
     "metadata": {},
     "output_type": "execute_result"
    }
   ],
   "source": [
    "price = driver.find_elements(By.CSS_SELECTOR, 'div.item-price>strong')\n",
    "price"
   ]
  },
  {
   "cell_type": "code",
   "execution_count": 20,
   "id": "d84f538c",
   "metadata": {},
   "outputs": [
    {
     "name": "stdout",
     "output_type": "stream",
     "text": [
      "6,900\n",
      "4,800\n",
      "6,500\n",
      "6,500\n",
      "4,500\n",
      "8,200\n",
      "10,000\n",
      "10,500\n",
      "7,800\n",
      "8,500\n"
     ]
    }
   ],
   "source": [
    "for i in price:\n",
    "    print(i.text)"
   ]
  },
  {
   "cell_type": "code",
   "execution_count": 21,
   "id": "17c6f8a7",
   "metadata": {},
   "outputs": [
    {
     "name": "stdout",
     "output_type": "stream",
     "text": [
      "더보기 클릭 완료, 계속 진행합니다.\n"
     ]
    },
    {
     "name": "stderr",
     "output_type": "stream",
     "text": [
      "100%|██████████████████████████████████████████████████████████████████████████████████| 95/95 [00:01<00:00, 55.13it/s]\n"
     ]
    },
    {
     "name": "stdout",
     "output_type": "stream",
     "text": [
      "크롤링 완료 수고하셨습니다.\n"
     ]
    }
   ],
   "source": [
    "title_list = []\n",
    "price_list= []\n",
    "\n",
    "try:\n",
    "    while True:\n",
    "#         더보기 버튼 선언\n",
    "        btn = driver.find_element(By.XPATH, '//*[@id=\"btn_more\"]/span/a')\n",
    "        btn.click()\n",
    "        time.sleep(2)\n",
    "        \n",
    "except:\n",
    "#     예외의 경우\n",
    "    print('더보기 클릭 완료, 계속 진행합니다.')\n",
    "\n",
    "title = driver.find_elements(By.CSS_SELECTOR, 'h4.h.fz_03')\n",
    "price = driver.find_elements(By.CSS_SELECTOR, 'div.item-price>strong')\n",
    "\n",
    "for i in tqdm(range(len(title))):\n",
    "    title_list.append(title[i].text)\n",
    "    price_list.append(price[i].text)\n",
    "driver.quit()\n",
    "print('크롤링 완료 수고하셨습니다.')"
   ]
  },
  {
   "cell_type": "markdown",
   "id": "5fe40d84",
   "metadata": {},
   "source": [
    "### DataFrame 담기"
   ]
  },
  {
   "cell_type": "code",
   "execution_count": 22,
   "id": "afe6ae8e",
   "metadata": {},
   "outputs": [
    {
     "data": {
      "text/plain": [
       "(95, 95)"
      ]
     },
     "execution_count": 22,
     "metadata": {},
     "output_type": "execute_result"
    }
   ],
   "source": [
    "len(title), len(price)"
   ]
  },
  {
   "cell_type": "code",
   "execution_count": 23,
   "id": "0a1530b9",
   "metadata": {},
   "outputs": [],
   "source": [
    "hansot = {'메뉴명' : title_list,\n",
    "         '가격' : price_list}"
   ]
  },
  {
   "cell_type": "code",
   "execution_count": 24,
   "id": "1d5c665b",
   "metadata": {},
   "outputs": [
    {
     "data": {
      "text/plain": [
       "{'메뉴명': ['송정식 떡갈비 도시락',\n",
       "  '카츠카츠 도시락',\n",
       "  '아보카도 훈제 닭가슴살 명란 비빔밥',\n",
       "  '아보카도 소불고기 명란 비빔밥',\n",
       "  '새후마요',\n",
       "  '숯불직화구이 두부강된장',\n",
       "  '해바라기',\n",
       "  '매화',\n",
       "  '진달래',\n",
       "  '개나리',\n",
       "  '돈까스도련님고기고기',\n",
       "  '탕수육도련님고기고기',\n",
       "  '새치 고기고기',\n",
       "  '돈치 고기고기',\n",
       "  '숯불직화구이',\n",
       "  '소불고기',\n",
       "  '메가치킨제육',\n",
       "  '칠리 찹쌀탕수육도련님',\n",
       "  '동백',\n",
       "  '치킨제육',\n",
       "  '돈까스도련님',\n",
       "  '제육볶음',\n",
       "  '돈치스팸 도시락',\n",
       "  '제육 김치찌개 정식',\n",
       "  '제육 김치 부대찌개 정식',\n",
       "  '돈치스팸 김치 부대찌개 정식',\n",
       "  '빅치킨마요 김치 부대찌개 정식',\n",
       "  '치킨마요 김치 부대찌개 정식',\n",
       "  '빅치킨마요 김치찌개 정식',\n",
       "  '치킨마요 김치찌개 정식',\n",
       "  '메가스팸마요',\n",
       "  '스팸마요',\n",
       "  '메가치킨마요',\n",
       "  '왕치킨마요',\n",
       "  '빅치킨마요',\n",
       "  '치킨마요',\n",
       "  '참치마요',\n",
       "  '돈치마요',\n",
       "  '돈까스 카레',\n",
       "  '스팸 김치볶음밥',\n",
       "  '김치볶음밥',\n",
       "  '스팸철판볶음밥',\n",
       "  '소불고기 철판볶음밥',\n",
       "  '나시고랭',\n",
       "  '묵은지 김치찌개',\n",
       "  '김치 부대찌개',\n",
       "  '숯불직화구이 덮밥',\n",
       "  '마파두부 덮밥',\n",
       "  '왕카레돈까스덮밥',\n",
       "  '새우돈까스 덮밥',\n",
       "  '돈까스 덮밥',\n",
       "  '소불고기 감초고추장 비빔밥',\n",
       "  '시골제육 두부강된장 비빔밥',\n",
       "  '참치야채 감초고추장',\n",
       "  '튼튼도시락',\n",
       "  '토네이도 소세지 파스타',\n",
       "  '트리플 치즈 파스타',\n",
       "  '토마토 미트 파스타',\n",
       "  '반찬 묵은지김치찌개',\n",
       "  '반찬 카레',\n",
       "  '반찬 순살 고등어 간장구이',\n",
       "  '반찬 김치 부대찌개',\n",
       "  '반찬 치킨',\n",
       "  '반찬 고기고기',\n",
       "  '반찬 돈까스 도련님',\n",
       "  '반찬 제육볶음',\n",
       "  '반찬 토네이도 소세지',\n",
       "  '반찬 반달돈까스',\n",
       "  '치즈버터 해시 포테이토 스틱',\n",
       "  '허니버터 해시 포테이토 스틱',\n",
       "  '해시 포테이토 스틱',\n",
       "  '뉴 감자고로케',\n",
       "  '미니 찹쌀핫도그',\n",
       "  '미니 찹쌀탕수육',\n",
       "  '케이준후라이',\n",
       "  '통현미 닭강정(소)',\n",
       "  '통현미 닭강정(중)',\n",
       "  '후라이드 순살(중)',\n",
       "  '후라이드 순살(소)_양념치킨소스',\n",
       "  '후라이드 순살(소)_케이준소스',\n",
       "  '오리지널 닭강정(중)',\n",
       "  '오리지널 닭강정(소)',\n",
       "  '반찬 무생채',\n",
       "  '3종 미니반찬B',\n",
       "  '3종 미니반찬A',\n",
       "  '오징어젓갈',\n",
       "  '한솥 두부강된장소스',\n",
       "  '한솥 감초볶음고추장소스',\n",
       "  '볶음김치',\n",
       "  '김치',\n",
       "  '무말랭이 무침',\n",
       "  '한솥밥',\n",
       "  '현미밥',\n",
       "  '리얼 티라미수 찰떡',\n",
       "  '리얼꿀 미니호떡'],\n",
       " '가격': ['6,900',\n",
       "  '4,800',\n",
       "  '6,500',\n",
       "  '6,500',\n",
       "  '4,500',\n",
       "  '8,200',\n",
       "  '10,000',\n",
       "  '10,500',\n",
       "  '7,800',\n",
       "  '8,500',\n",
       "  '6,300',\n",
       "  '6,000',\n",
       "  '7,000',\n",
       "  '6,000',\n",
       "  '6,600',\n",
       "  '5,500',\n",
       "  '7,500',\n",
       "  '4,400',\n",
       "  '6,000',\n",
       "  '4,900',\n",
       "  '4,800',\n",
       "  '4,500',\n",
       "  '5,000',\n",
       "  '8,600',\n",
       "  '9,000',\n",
       "  '9,000',\n",
       "  '8,000',\n",
       "  '7,400',\n",
       "  '7,500',\n",
       "  '6,900',\n",
       "  '5,800',\n",
       "  '3,900',\n",
       "  '6,000',\n",
       "  '5,000',\n",
       "  '4,300',\n",
       "  '3,700',\n",
       "  '3,500',\n",
       "  '4,000',\n",
       "  '4,700',\n",
       "  '4,700',\n",
       "  '3,900',\n",
       "  '4,700',\n",
       "  '4,900',\n",
       "  '6,200',\n",
       "  '4,900',\n",
       "  '6,000',\n",
       "  '6,000',\n",
       "  '5,000',\n",
       "  '6,000',\n",
       "  '4,200',\n",
       "  '4,100',\n",
       "  '5,400',\n",
       "  '5,200',\n",
       "  '3,500',\n",
       "  '5,000',\n",
       "  '5,800',\n",
       "  '5,900',\n",
       "  '4,800',\n",
       "  '4,400',\n",
       "  '2,900',\n",
       "  '3,900',\n",
       "  '4,900',\n",
       "  '3,800',\n",
       "  '3,600',\n",
       "  '4,100',\n",
       "  '3,500',\n",
       "  '2,800',\n",
       "  '2,900',\n",
       "  '2,200',\n",
       "  '2,200',\n",
       "  '2,000',\n",
       "  '2,700',\n",
       "  '2,500',\n",
       "  '2,200',\n",
       "  '1,900',\n",
       "  '3,500',\n",
       "  '8,500',\n",
       "  '7,500',\n",
       "  '4,000',\n",
       "  '4,000',\n",
       "  '8,500',\n",
       "  '3,500',\n",
       "  '400',\n",
       "  '1,300',\n",
       "  '1,300',\n",
       "  '600',\n",
       "  '1,800',\n",
       "  '500',\n",
       "  '500',\n",
       "  '400',\n",
       "  '500',\n",
       "  '1,000',\n",
       "  '1,700',\n",
       "  '1,700',\n",
       "  '2,200']}"
      ]
     },
     "execution_count": 24,
     "metadata": {},
     "output_type": "execute_result"
    }
   ],
   "source": [
    "hansot"
   ]
  },
  {
   "cell_type": "code",
   "execution_count": 25,
   "id": "f5068790",
   "metadata": {},
   "outputs": [
    {
     "data": {
      "text/html": [
       "<div>\n",
       "<style scoped>\n",
       "    .dataframe tbody tr th:only-of-type {\n",
       "        vertical-align: middle;\n",
       "    }\n",
       "\n",
       "    .dataframe tbody tr th {\n",
       "        vertical-align: top;\n",
       "    }\n",
       "\n",
       "    .dataframe thead th {\n",
       "        text-align: right;\n",
       "    }\n",
       "</style>\n",
       "<table border=\"1\" class=\"dataframe\">\n",
       "  <thead>\n",
       "    <tr style=\"text-align: right;\">\n",
       "      <th></th>\n",
       "      <th>메뉴명</th>\n",
       "      <th>가격</th>\n",
       "    </tr>\n",
       "  </thead>\n",
       "  <tbody>\n",
       "    <tr>\n",
       "      <th>0</th>\n",
       "      <td>송정식 떡갈비 도시락</td>\n",
       "      <td>6,900</td>\n",
       "    </tr>\n",
       "    <tr>\n",
       "      <th>1</th>\n",
       "      <td>카츠카츠 도시락</td>\n",
       "      <td>4,800</td>\n",
       "    </tr>\n",
       "    <tr>\n",
       "      <th>2</th>\n",
       "      <td>아보카도 훈제 닭가슴살 명란 비빔밥</td>\n",
       "      <td>6,500</td>\n",
       "    </tr>\n",
       "    <tr>\n",
       "      <th>3</th>\n",
       "      <td>아보카도 소불고기 명란 비빔밥</td>\n",
       "      <td>6,500</td>\n",
       "    </tr>\n",
       "    <tr>\n",
       "      <th>4</th>\n",
       "      <td>새후마요</td>\n",
       "      <td>4,500</td>\n",
       "    </tr>\n",
       "    <tr>\n",
       "      <th>...</th>\n",
       "      <td>...</td>\n",
       "      <td>...</td>\n",
       "    </tr>\n",
       "    <tr>\n",
       "      <th>90</th>\n",
       "      <td>무말랭이 무침</td>\n",
       "      <td>500</td>\n",
       "    </tr>\n",
       "    <tr>\n",
       "      <th>91</th>\n",
       "      <td>한솥밥</td>\n",
       "      <td>1,000</td>\n",
       "    </tr>\n",
       "    <tr>\n",
       "      <th>92</th>\n",
       "      <td>현미밥</td>\n",
       "      <td>1,700</td>\n",
       "    </tr>\n",
       "    <tr>\n",
       "      <th>93</th>\n",
       "      <td>리얼 티라미수 찰떡</td>\n",
       "      <td>1,700</td>\n",
       "    </tr>\n",
       "    <tr>\n",
       "      <th>94</th>\n",
       "      <td>리얼꿀 미니호떡</td>\n",
       "      <td>2,200</td>\n",
       "    </tr>\n",
       "  </tbody>\n",
       "</table>\n",
       "<p>95 rows × 2 columns</p>\n",
       "</div>"
      ],
      "text/plain": [
       "                    메뉴명     가격\n",
       "0           송정식 떡갈비 도시락  6,900\n",
       "1              카츠카츠 도시락  4,800\n",
       "2   아보카도 훈제 닭가슴살 명란 비빔밥  6,500\n",
       "3      아보카도 소불고기 명란 비빔밥  6,500\n",
       "4                  새후마요  4,500\n",
       "..                  ...    ...\n",
       "90              무말랭이 무침    500\n",
       "91                  한솥밥  1,000\n",
       "92                  현미밥  1,700\n",
       "93           리얼 티라미수 찰떡  1,700\n",
       "94             리얼꿀 미니호떡  2,200\n",
       "\n",
       "[95 rows x 2 columns]"
      ]
     },
     "execution_count": 25,
     "metadata": {},
     "output_type": "execute_result"
    }
   ],
   "source": [
    "hansot_df = pd.DataFrame(hansot)\n",
    "hansot_df.drop_duplicates()\n",
    "hansot_df"
   ]
  },
  {
   "cell_type": "code",
   "execution_count": 26,
   "id": "76dcf5ea",
   "metadata": {},
   "outputs": [
    {
     "name": "stderr",
     "output_type": "stream",
     "text": [
      "C:\\Users\\user04\\anaconda3\\lib\\site-packages\\pandas\\util\\_decorators.py:211: FutureWarning: the 'encoding' keyword is deprecated and will be removed in a future version. Please take steps to stop the use of 'encoding'\n",
      "  return func(*args, **kwargs)\n"
     ]
    }
   ],
   "source": [
    "hansot_df.to_excel('data/hansot.xlsx', encoding='euc-kr')"
   ]
  },
  {
   "cell_type": "code",
   "execution_count": null,
   "id": "3dd476ab",
   "metadata": {},
   "outputs": [],
   "source": []
  }
 ],
 "metadata": {
  "kernelspec": {
   "display_name": "Python 3 (ipykernel)",
   "language": "python",
   "name": "python3"
  },
  "language_info": {
   "codemirror_mode": {
    "name": "ipython",
    "version": 3
   },
   "file_extension": ".py",
   "mimetype": "text/x-python",
   "name": "python",
   "nbconvert_exporter": "python",
   "pygments_lexer": "ipython3",
   "version": "3.10.9"
  }
 },
 "nbformat": 4,
 "nbformat_minor": 5
}
