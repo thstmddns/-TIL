{
 "cells": [
  {
   "cell_type": "markdown",
   "id": "84810b73",
   "metadata": {},
   "source": [
    "### Kakaomap을 이용한 이수 맛집 싸그리 검색"
   ]
  },
  {
   "cell_type": "code",
   "execution_count": null,
   "id": "2cb0cf6c",
   "metadata": {},
   "outputs": [],
   "source": [
    "# BeautifulSoup + Selenium을 같이 조화롭게 코드를 작성\n",
    "from selenium import webdriver as wb\n",
    "from bs4 import BeautifulSoup as bs\n",
    "from selenium.webdriver.common.keys import Keys\n",
    "from selenium.webdriver.common.by import By\n",
    "import time\n",
    "from tqdm import tqdm"
   ]
  },
  {
   "cell_type": "code",
   "execution_count": null,
   "id": "8a6c586b",
   "metadata": {},
   "outputs": [],
   "source": [
    "driver = wb.Chrome()\n",
    "driver.get('https://map.kakao.com/')\n",
    "driver.maximize_window()"
   ]
  },
  {
   "cell_type": "code",
   "execution_count": null,
   "id": "25fe1173",
   "metadata": {},
   "outputs": [],
   "source": [
    "click_blue_popup = driver.find_element(By.CSS_SELECTOR,'body > div.coach_layer.coach_layer_type1 > div > div > div > span')\n",
    "\n",
    "click_blue_popup.click()"
   ]
  },
  {
   "cell_type": "code",
   "execution_count": null,
   "id": "755f7d09",
   "metadata": {},
   "outputs": [],
   "source": [
    "search = driver.find_element(By.CSS_SELECTOR, '#search\\.keyword\\.query')\n",
    "search.send_keys('이수역 맛집')\n",
    "\n",
    "search.send_keys(Keys.ENTER)\n",
    "time.sleep(3)"
   ]
  },
  {
   "cell_type": "markdown",
   "id": "50b17cba",
   "metadata": {},
   "source": [
    "### BeautifulSoup객체화"
   ]
  },
  {
   "cell_type": "code",
   "execution_count": null,
   "id": "935ebbc5",
   "metadata": {},
   "outputs": [],
   "source": [
    "soup = bs(driver.page_source, 'lxml')\n",
    "# 식당이름(titles)\n",
    "titles = soup.select('a.link_name')\n",
    "\n",
    "for i in titles:\n",
    "    print(i.text)"
   ]
  },
  {
   "cell_type": "code",
   "execution_count": null,
   "id": "129db9c7",
   "metadata": {},
   "outputs": [],
   "source": [
    "addresses = soup.select('div.addr > p:nth-child(1)')"
   ]
  },
  {
   "cell_type": "code",
   "execution_count": null,
   "id": "778af9f9",
   "metadata": {},
   "outputs": [],
   "source": [
    "for i in addresses:\n",
    "    print(i.text)"
   ]
  },
  {
   "cell_type": "code",
   "execution_count": null,
   "id": "cad433f8",
   "metadata": {},
   "outputs": [],
   "source": [
    "click_more_location = driver.find_element(By.XPATH, '//*[@id=\"info.search.place.more\"]')\n",
    "click_more_location.click()\n",
    "time.sleep(2)"
   ]
  },
  {
   "cell_type": "code",
   "execution_count": null,
   "id": "2a2dbd6a",
   "metadata": {},
   "outputs": [],
   "source": [
    "page = driver.find_elements(By.CSS_SELECTOR, '#info\\.search\\.page > div > a')"
   ]
  },
  {
   "cell_type": "markdown",
   "id": "265530eb",
   "metadata": {},
   "source": [
    "### 크롤러 조각하기"
   ]
  },
  {
   "cell_type": "code",
   "execution_count": null,
   "id": "bfe26213",
   "metadata": {},
   "outputs": [],
   "source": [
    "# # 이제 본격적으로 크롤러를 작성\n",
    "# # 레고블럭 조립하듯 번튼, 요소 추출 등 필요한 코드를 미리 작성 -> test\n",
    "# # 반복문으로 만들 때, 이러한 코드들을 조각조각 붙여넣어보자\n",
    "\n",
    "# titles_list= []\n",
    "# addresses_list = []\n",
    "\n",
    "# try:\n",
    "#     while True:\n",
    "#         for i in tqdm(range(6)):\n",
    "#             # 만약 순차가 5 미만일 경우\n",
    "#             if (i < 5):\n",
    "#                 page[i].click()\n",
    "#                 soup = bs(driver.page_source, 'lxml')\n",
    "#                 titles = soup.select('a.link_name')\n",
    "#                 for i in titles:\n",
    "#                     titles_list.append(i.text)\n",
    "#                 address = soup.select('div.addr > p:nth-child(1)')\n",
    "#                 for i in addresses:\n",
    "#                     addresses_list.append(i.text)    \n",
    "#             else:\n",
    "#                 click_next = driver.find_element(By.XPATH, '//*[@id=\"info.search.page.next\"]')\n",
    "#                 click_next.click()\n",
    "#                 time.sleep(3)\n",
    "                \n",
    "# except:\n",
    "#     print('수집이 완료되었습니다.')\n",
    "    \n",
    "# driver.quit()"
   ]
  },
  {
   "cell_type": "code",
   "execution_count": null,
   "id": "19cdc1f6",
   "metadata": {},
   "outputs": [],
   "source": [
    "# 빈 리스트 2개를 생성\n",
    "\n",
    "titles_list = []\n",
    "addresses_list = []\n",
    "\n",
    "try: # 시도해봐 아래 실행 코드들을\n",
    "    while True: # 조건이 참일 경우를\n",
    "        for i in tqdm(range(6)):\n",
    "            \n",
    "            # 만약 순차가 5 미만일 경우\n",
    "            if (i < 5):\n",
    "                page[i].click()\n",
    "\n",
    "                \n",
    "                soup = bs(driver.page_source,'lxml')\n",
    "                \n",
    "              \n",
    "                #식당 이름\n",
    "                titles = soup.select(\"a.link_name\")\n",
    "                # beautifoulsoup 객체화\n",
    "                # for문을 돌면서 titles에서 순차적으로\n",
    "                for i in titles:\n",
    "                    # titles_list에 순차적으로 뽑은 요소의 텍스트만 넣어줘\n",
    "                    titles_list.append(i.text)\n",
    "                # 식당 주소\n",
    "                addresses = soup.select('div.addr > p:nth-child(1)')\n",
    "                \n",
    "                #for 문을 돌면서 addresses에서 순차적으로\n",
    "                for i in addresses:\n",
    "                    # addresses_list에 순차적으로 뽑은 요소의 텍스트만 넣어줘\n",
    "                    addresses_list.append(i.text)\n",
    "            else:\n",
    "                # 그렇지 않은 경우는,\n",
    "                # i가 5보다 큰 경우\n",
    "                # 5번 버튼까지 다 돌고, 다음버튼을 눌러야하는 경우\n",
    "                \n",
    "                click_next = driver.find_element(By.XPATH,'//*[@id=\"info.search.page.next\"]')\n",
    "                click_next.click()\n",
    "                time.sleep(3)\n",
    "except:\n",
    "    print(\"수집이 완료되었습니다.\")\n",
    "    \n",
    "driver.quit()"
   ]
  },
  {
   "cell_type": "code",
   "execution_count": 16,
   "id": "1da16573",
   "metadata": {},
   "outputs": [
    {
     "data": {
      "text/plain": [
       "(510, 510)"
      ]
     },
     "execution_count": 16,
     "metadata": {},
     "output_type": "execute_result"
    }
   ],
   "source": [
    "len(titles_list), len(addresses_list)"
   ]
  },
  {
   "cell_type": "code",
   "execution_count": null,
   "id": "b1088e37",
   "metadata": {},
   "outputs": [],
   "source": [
    "# kakao_data = {'식당이름' : titles_list,\n",
    "#              '식당 주소' : addresses_list}"
   ]
  },
  {
   "cell_type": "code",
   "execution_count": null,
   "id": "55ccef1b",
   "metadata": {},
   "outputs": [],
   "source": [
    "# import pandas as pd\n",
    "# kakao_matzip = pd.DataFrame(kakao_data)\n",
    "# kakao_matzip"
   ]
  },
  {
   "cell_type": "code",
   "execution_count": null,
   "id": "72411730",
   "metadata": {},
   "outputs": [],
   "source": [
    "# kakao_matzip.to_excel('data/isu.xlsx', encoding='euc-kr')"
   ]
  }
 ],
 "metadata": {
  "kernelspec": {
   "display_name": "Python 3 (ipykernel)",
   "language": "python",
   "name": "python3"
  },
  "language_info": {
   "codemirror_mode": {
    "name": "ipython",
    "version": 3
   },
   "file_extension": ".py",
   "mimetype": "text/x-python",
   "name": "python",
   "nbconvert_exporter": "python",
   "pygments_lexer": "ipython3",
   "version": "3.10.9"
  }
 },
 "nbformat": 4,
 "nbformat_minor": 5
}
