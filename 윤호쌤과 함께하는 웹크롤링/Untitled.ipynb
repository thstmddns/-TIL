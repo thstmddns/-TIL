{
 "cells": [
  {
   "cell_type": "markdown",
   "id": "6554b4eb",
   "metadata": {},
   "source": [
    "### Selenium 설치"
   ]
  },
  {
   "cell_type": "code",
   "execution_count": 1,
   "id": "d7595aa8",
   "metadata": {},
   "outputs": [],
   "source": [
    "# !pip install selenium"
   ]
  },
  {
   "cell_type": "code",
   "execution_count": 42,
   "id": "63dd8f2b",
   "metadata": {},
   "outputs": [],
   "source": [
    "# 컴퓨터용 브라우저 할당\n",
    "from selenium import webdriver as wb"
   ]
  },
  {
   "cell_type": "code",
   "execution_count": 44,
   "id": "e9151975",
   "metadata": {},
   "outputs": [],
   "source": [
    "# 컴퓨터용 키보드 할당\n",
    "\n",
    "\n",
    "from selenium.webdriver.common.keys import Keys\n",
    "    # 컴퓨터에게 물리적인 키보드가 주어지지 않는다.\n",
    "#     그래서 우리는 컴퓨터에게 키 입력이 가능한 키보드를 선사한다.\n",
    "\n",
    "# 구분자 역할을 한다.(B는 대문자)\n",
    "from selenium.webdriver.common.by import By"
   ]
  },
  {
   "cell_type": "code",
   "execution_count": 4,
   "id": "bc3bcf7d",
   "metadata": {},
   "outputs": [
    {
     "data": {
      "text/plain": [
       "<selenium.webdriver.chrome.webdriver.WebDriver (session=\"37c4a446cbdc7b1129be1ccd2d2c1eba\")>"
      ]
     },
     "execution_count": 4,
     "metadata": {},
     "output_type": "execute_result"
    }
   ],
   "source": [
    "# 사용자는 항상 크롬창을 연다\n",
    "driver = wb.Chrome()\n",
    "driver\n",
    "# 자동화 된 창이 하나 팝업\n",
    "# 항상 크롬이 자동화된 테스트 소프트웨어에 제어되고 있습니다 이 탭이 보여져야합니다.\n",
    "# 크롤링을 할 때, 꼭 이 탭이 팝업되어 있는지 꼭꼭꼭 확인!!"
   ]
  },
  {
   "cell_type": "code",
   "execution_count": 5,
   "id": "1c2df402",
   "metadata": {},
   "outputs": [],
   "source": [
    "driver.get('https://www.naver.com')"
   ]
  },
  {
   "cell_type": "code",
   "execution_count": 6,
   "id": "b1aec4c6",
   "metadata": {},
   "outputs": [],
   "source": [
    "# Requests라이브러리에서 get을 통해 불러왔었죠.\n",
    "search = driver.find_element(By.XPATH, '//*[@id=\"query\"]')"
   ]
  },
  {
   "cell_type": "code",
   "execution_count": 7,
   "id": "e6720e55",
   "metadata": {},
   "outputs": [],
   "source": [
    "search.send_keys('로스쿨')"
   ]
  },
  {
   "cell_type": "code",
   "execution_count": 8,
   "id": "88ca5dd6",
   "metadata": {},
   "outputs": [],
   "source": [
    "search.send_keys(Keys.ENTER)"
   ]
  },
  {
   "cell_type": "code",
   "execution_count": 9,
   "id": "4c544916",
   "metadata": {},
   "outputs": [],
   "source": [
    "# 자동 브라우저에서 이전 페이지로 이동하는 method\n",
    "# 뒤로가기\n",
    "driver.back()"
   ]
  },
  {
   "cell_type": "markdown",
   "id": "9858c580",
   "metadata": {},
   "source": [
    "### Naver에서 검색버튼을 클릭해보자"
   ]
  },
  {
   "cell_type": "code",
   "execution_count": 15,
   "id": "3a0a287a",
   "metadata": {},
   "outputs": [],
   "source": [
    "driver = wb.Chrome()\n",
    "driver.get('https://www.naver.com')"
   ]
  },
  {
   "cell_type": "code",
   "execution_count": 16,
   "id": "f65b5ccc",
   "metadata": {
    "scrolled": true
   },
   "outputs": [],
   "source": [
    "search = driver.find_element(By.XPATH, '//*[@id=\"query\"]')\n",
    "\n",
    "search.send_keys('아이유')\n"
   ]
  },
  {
   "cell_type": "code",
   "execution_count": 17,
   "id": "1b06ffd6",
   "metadata": {},
   "outputs": [],
   "source": [
    "btn = driver.find_element(By.XPATH, '//*[@id=\"search_btn\"]')\n",
    "btn.click()"
   ]
  },
  {
   "cell_type": "markdown",
   "id": "d5da9e05",
   "metadata": {},
   "source": [
    "#### 끝까지 스크롤 해보기"
   ]
  },
  {
   "cell_type": "code",
   "execution_count": 19,
   "id": "03b63401",
   "metadata": {},
   "outputs": [],
   "source": [
    "# 우선 body 태그를 body 변수에 지정을 하자\n",
    "\n",
    "body = driver.find_element(By.TAG_NAME, 'body')\n",
    "# 왜 body를 지정해가면서 해야할까?\n",
    "# 앞으로 크롤링할 수 있는 데이터들이 대부분 body tag내에 위치\n",
    "# 스크롤링을 수행하기 위해 \n",
    "\n",
    "body.send_keys(Keys.END)"
   ]
  },
  {
   "cell_type": "markdown",
   "id": "723ae7f0",
   "metadata": {},
   "source": [
    "#### 크롬브라우저 종료"
   ]
  },
  {
   "cell_type": "code",
   "execution_count": null,
   "id": "a2d3efe2",
   "metadata": {},
   "outputs": [],
   "source": [
    "# 사용자는 크롬에서 볼일 다 봤으면,\n",
    "# 크롬창을 닫습니다 -> '닫기버튼'\n",
    "# 닫기 버튼은 브라우저에서 제공하는 기능\n",
    "\n",
    "# 첫번째\n",
    "driver.close()\n",
    "\n",
    "driver.quit()\n",
    "# 모든 webDriver인스턴스와 관련된 모든 창, 탭 프로세스 그리고 메모리를 종료"
   ]
  },
  {
   "cell_type": "code",
   "execution_count": 45,
   "id": "ac34150c",
   "metadata": {},
   "outputs": [],
   "source": [
    "driver = wb.Chrome()"
   ]
  },
  {
   "cell_type": "code",
   "execution_count": 46,
   "id": "34566dd2",
   "metadata": {},
   "outputs": [],
   "source": [
    "driver.get('https://www.naver.com')"
   ]
  },
  {
   "cell_type": "code",
   "execution_count": 48,
   "id": "30f46212",
   "metadata": {},
   "outputs": [],
   "source": [
    "search = driver.find_element(By.CSS_SELECTOR, '#query')\n",
    "search.send_keys('벚꽃')"
   ]
  },
  {
   "cell_type": "code",
   "execution_count": 38,
   "id": "77f968e8",
   "metadata": {},
   "outputs": [],
   "source": [
    "btn = driver.find_element(By.XPATH, '//*[@id=\"search_btn\"]')\n",
    "btn.click()"
   ]
  },
  {
   "cell_type": "code",
   "execution_count": 52,
   "id": "5ce9fbb9",
   "metadata": {},
   "outputs": [],
   "source": [
    "body = driver.find_element(By.TAG_NAME, 'body')\n",
    "body.send_keys(Keys.END)"
   ]
  },
  {
   "cell_type": "code",
   "execution_count": 39,
   "id": "4d8bbce1",
   "metadata": {},
   "outputs": [],
   "source": [
    "driver.back()"
   ]
  },
  {
   "cell_type": "code",
   "execution_count": 40,
   "id": "4def0efe",
   "metadata": {},
   "outputs": [],
   "source": [
    "driver.quit()"
   ]
  },
  {
   "cell_type": "markdown",
   "id": "4d8cb133",
   "metadata": {},
   "source": [
    "-----------"
   ]
  },
  {
   "cell_type": "code",
   "execution_count": 97,
   "id": "22db1d15",
   "metadata": {},
   "outputs": [],
   "source": [
    "import time"
   ]
  },
  {
   "cell_type": "code",
   "execution_count": 98,
   "id": "3df27492",
   "metadata": {},
   "outputs": [],
   "source": [
    "driver = wb.Chrome()"
   ]
  },
  {
   "cell_type": "code",
   "execution_count": 99,
   "id": "93af325e",
   "metadata": {},
   "outputs": [],
   "source": [
    "driver.get('https://www.naver.com')"
   ]
  },
  {
   "cell_type": "code",
   "execution_count": 100,
   "id": "ae457347",
   "metadata": {},
   "outputs": [],
   "source": [
    "search = driver.find_element(By.CSS_SELECTOR, '#query')\n",
    "search.send_keys('아이유')"
   ]
  },
  {
   "cell_type": "code",
   "execution_count": 101,
   "id": "ec68a17e",
   "metadata": {},
   "outputs": [],
   "source": [
    "taptap = driver.find_element(By.XPATH, '//*[@id=\"search_btn\"]')\n",
    "taptap.click()"
   ]
  },
  {
   "cell_type": "code",
   "execution_count": 102,
   "id": "c09ecb38",
   "metadata": {},
   "outputs": [],
   "source": [
    "imagetap = driver.find_element(By.XPATH, '//*[@id=\"lnb\"]/div[1]/div/ul/li[2]/a')\n",
    "imagetap.click()\n",
    "# time.sleep(2)"
   ]
  },
  {
   "cell_type": "code",
   "execution_count": 103,
   "id": "a55d2c4c",
   "metadata": {},
   "outputs": [],
   "source": [
    "driver.back()\n",
    "driver.back()"
   ]
  },
  {
   "cell_type": "code",
   "execution_count": 104,
   "id": "c257c2e6",
   "metadata": {},
   "outputs": [],
   "source": [
    "news = driver.find_element(By.XPATH, '//*[@id=\"NM_FAVORITE\"]/div[1]/ul[2]/li[2]/a')\n",
    "news.click()"
   ]
  },
  {
   "cell_type": "code",
   "execution_count": 105,
   "id": "4901476a",
   "metadata": {},
   "outputs": [],
   "source": [
    "driver.back()"
   ]
  },
  {
   "cell_type": "code",
   "execution_count": 106,
   "id": "01aa3ab7",
   "metadata": {},
   "outputs": [],
   "source": [
    "driver.quit()"
   ]
  },
  {
   "cell_type": "code",
   "execution_count": null,
   "id": "cbe877cc",
   "metadata": {},
   "outputs": [],
   "source": []
  }
 ],
 "metadata": {
  "kernelspec": {
   "display_name": "Python 3 (ipykernel)",
   "language": "python",
   "name": "python3"
  },
  "language_info": {
   "codemirror_mode": {
    "name": "ipython",
    "version": 3
   },
   "file_extension": ".py",
   "mimetype": "text/x-python",
   "name": "python",
   "nbconvert_exporter": "python",
   "pygments_lexer": "ipython3",
   "version": "3.10.9"
  }
 },
 "nbformat": 4,
 "nbformat_minor": 5
}
