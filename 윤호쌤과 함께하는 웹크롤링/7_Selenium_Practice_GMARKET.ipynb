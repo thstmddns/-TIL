{
 "cells": [
  {
   "cell_type": "markdown",
   "id": "b14c772f",
   "metadata": {},
   "source": [
    "### 지마켓 실습(상품명|상품 가격)"
   ]
  },
  {
   "cell_type": "code",
   "execution_count": 1,
   "id": "1fa3b152",
   "metadata": {},
   "outputs": [],
   "source": [
    "from selenium import webdriver as wb"
   ]
  },
  {
   "cell_type": "code",
   "execution_count": 2,
   "id": "5a4e29c9",
   "metadata": {},
   "outputs": [],
   "source": [
    "from selenium.webdriver.common.by import By\n",
    "from selenium.webdriver.common.keys import Keys\n",
    "from tqdm import tqdm\n",
    "import time"
   ]
  },
  {
   "cell_type": "code",
   "execution_count": 3,
   "id": "f5599041",
   "metadata": {},
   "outputs": [],
   "source": [
    "driver = wb.Chrome()"
   ]
  },
  {
   "cell_type": "code",
   "execution_count": 4,
   "id": "3214bba6",
   "metadata": {},
   "outputs": [],
   "source": [
    "driver.get('https://corners.gmarket.co.kr/bestsellers')"
   ]
  },
  {
   "cell_type": "code",
   "execution_count": 5,
   "id": "043e16f5",
   "metadata": {},
   "outputs": [],
   "source": [
    "driver.maximize_window()"
   ]
  },
  {
   "cell_type": "code",
   "execution_count": 6,
   "id": "45e2de92",
   "metadata": {},
   "outputs": [
    {
     "data": {
      "text/plain": [
       "20"
      ]
     },
     "execution_count": 6,
     "metadata": {},
     "output_type": "execute_result"
    }
   ],
   "source": [
    "#body = driver.find_element(By.TAG_NAME, 'body')\n",
    "#body.send_keys(Keys.END)\n",
    "\n",
    "imgs = driver.find_elements(By.CLASS_NAME, 'image__lazy.image__load')\n",
    "\n",
    "#이미지 클릭\n",
    "imgs[0].click()\n",
    "\n",
    "\n",
    "len(imgs)\n"
   ]
  },
  {
   "cell_type": "code",
   "execution_count": 7,
   "id": "6255bf22",
   "metadata": {},
   "outputs": [
    {
     "name": "stdout",
     "output_type": "stream",
     "text": [
      "하남쭈꾸미쭈꾸미볶음 500g 3팩\n"
     ]
    }
   ],
   "source": [
    "title_test = driver.find_elements(By.CLASS_NAME, 'itemtit')\n",
    "for i in title_test:\n",
    "    print(i.text)"
   ]
  },
  {
   "cell_type": "code",
   "execution_count": 8,
   "id": "60cdfbbb",
   "metadata": {},
   "outputs": [
    {
     "data": {
      "text/plain": [
       "'하남쭈꾸미쭈꾸미볶음 500g 3팩'"
      ]
     },
     "execution_count": 8,
     "metadata": {},
     "output_type": "execute_result"
    }
   ],
   "source": [
    "title = driver.find_element(By.CLASS_NAME, 'itemtit')\n",
    "title.text"
   ]
  },
  {
   "cell_type": "code",
   "execution_count": 9,
   "id": "1bbf8bfb",
   "metadata": {},
   "outputs": [
    {
     "name": "stdout",
     "output_type": "stream",
     "text": [
      "33,900원\n",
      "28,820원\n"
     ]
    }
   ],
   "source": [
    "price_test = driver.find_elements(By.CLASS_NAME, 'price_real')\n",
    "\n",
    "for i in price_test:\n",
    "    print(i.text)"
   ]
  },
  {
   "cell_type": "code",
   "execution_count": 10,
   "id": "1f7d7427",
   "metadata": {},
   "outputs": [
    {
     "data": {
      "text/plain": [
       "'33,900원'"
      ]
     },
     "execution_count": 10,
     "metadata": {},
     "output_type": "execute_result"
    }
   ],
   "source": [
    "price = driver.find_element(By.CLASS_NAME, 'price_real')\n",
    "\n",
    "price.text"
   ]
  },
  {
   "cell_type": "code",
   "execution_count": 11,
   "id": "6a56a5d7",
   "metadata": {},
   "outputs": [],
   "source": [
    "driver.back()"
   ]
  },
  {
   "cell_type": "markdown",
   "id": "cbf21854",
   "metadata": {},
   "source": [
    "### 이제 대망의 for loop으로 추출을 해보자"
   ]
  },
  {
   "cell_type": "code",
   "execution_count": 12,
   "id": "994b2ee3",
   "metadata": {},
   "outputs": [
    {
     "name": "stderr",
     "output_type": "stream",
     "text": [
      "100%|██████████████████████████████████████████████████████████████████████████████████| 11/11 [01:28<00:00,  8.09s/it]\n"
     ]
    }
   ],
   "source": [
    "title_list = []\n",
    "price_list = []\n",
    "for i in tqdm(range(11)):\n",
    "    imgs = driver.find_elements(By.CLASS_NAME, 'image__lazy.image__load')\n",
    "    imgs[i].click()\n",
    "    \n",
    "    time.sleep(2)\n",
    "    title = driver.find_element(By.CLASS_NAME, 'itemtit')\n",
    "    title_list.append(title.text)\n",
    "    price = driver.find_element(By.CLASS_NAME, 'price_real')\n",
    "    price_list.append(price.text)\n",
    "    \n",
    "    driver.back()\n",
    "    time.sleep(1)"
   ]
  },
  {
   "cell_type": "code",
   "execution_count": 13,
   "id": "52734592",
   "metadata": {},
   "outputs": [
    {
     "data": {
      "text/plain": [
       "(11, 11)"
      ]
     },
     "execution_count": 13,
     "metadata": {},
     "output_type": "execute_result"
    }
   ],
   "source": [
    "len(title_list), len(price_list)"
   ]
  },
  {
   "cell_type": "code",
   "execution_count": 14,
   "id": "3406d32d",
   "metadata": {},
   "outputs": [
    {
     "name": "stdout",
     "output_type": "stream",
     "text": [
      "['하남쭈꾸미쭈꾸미볶음 500g 3팩', '국내산 재료로 담근 총각김치 알타리 3kg /HACCP인증/당일제조', '(쿠폰적용필수)(첫구매/웰컴백 고객 대상) (CGV) 가디언즈 오브 갤럭시 전용 예매권', '초특가 비비고 한섬만두 320g8팩', '탱글탱글 생 새우살 200g x 3봉 / 쿠폰가 12400 (5/3하루특가)', '항공직송 남독마이 햇 생망고 4kg내외(8-12과)', '펩시콜라 제로 210ml x 30캔/탄산음료/제로콜라/음료수/펩시제로', '스윗마토 스테비아 방울 토마토 /망고향 달콤 토마토 500g X 4팩', '(스마일클럽)일반예매권2D-주중/주말', '목우촌주부9단 로스구이 500g+130g x 3개', '라인바싸 탄산수 500ml 2박스 ( 20입+20입 )']\n",
      "['33,900원', '17,500원', '15,000원', '25,000원', '15,500원', '40,890원', '17,900원', '21,900원', '8,900원', '25,700원', '17,800원']\n"
     ]
    }
   ],
   "source": [
    "print(title_list)\n",
    "print(price_list)"
   ]
  },
  {
   "cell_type": "code",
   "execution_count": 16,
   "id": "322f610e",
   "metadata": {},
   "outputs": [],
   "source": [
    "import pandas as pd"
   ]
  },
  {
   "cell_type": "markdown",
   "id": "0c9052d3",
   "metadata": {},
   "source": [
    "### DataFrame"
   ]
  },
  {
   "cell_type": "code",
   "execution_count": 17,
   "id": "f880ec1f",
   "metadata": {},
   "outputs": [
    {
     "data": {
      "text/html": [
       "<div>\n",
       "<style scoped>\n",
       "    .dataframe tbody tr th:only-of-type {\n",
       "        vertical-align: middle;\n",
       "    }\n",
       "\n",
       "    .dataframe tbody tr th {\n",
       "        vertical-align: top;\n",
       "    }\n",
       "\n",
       "    .dataframe thead th {\n",
       "        text-align: right;\n",
       "    }\n",
       "</style>\n",
       "<table border=\"1\" class=\"dataframe\">\n",
       "  <thead>\n",
       "    <tr style=\"text-align: right;\">\n",
       "      <th></th>\n",
       "      <th>상품명</th>\n",
       "      <th>가격</th>\n",
       "    </tr>\n",
       "  </thead>\n",
       "  <tbody>\n",
       "    <tr>\n",
       "      <th>0</th>\n",
       "      <td>하남쭈꾸미쭈꾸미볶음 500g 3팩</td>\n",
       "      <td>33,900원</td>\n",
       "    </tr>\n",
       "    <tr>\n",
       "      <th>1</th>\n",
       "      <td>국내산 재료로 담근 총각김치 알타리 3kg /HACCP인증/당일제조</td>\n",
       "      <td>17,500원</td>\n",
       "    </tr>\n",
       "    <tr>\n",
       "      <th>2</th>\n",
       "      <td>(쿠폰적용필수)(첫구매/웰컴백 고객 대상) (CGV) 가디언즈 오브 갤럭시 전용 예매권</td>\n",
       "      <td>15,000원</td>\n",
       "    </tr>\n",
       "    <tr>\n",
       "      <th>3</th>\n",
       "      <td>초특가 비비고 한섬만두 320g8팩</td>\n",
       "      <td>25,000원</td>\n",
       "    </tr>\n",
       "    <tr>\n",
       "      <th>4</th>\n",
       "      <td>탱글탱글 생 새우살 200g x 3봉 / 쿠폰가 12400 (5/3하루특가)</td>\n",
       "      <td>15,500원</td>\n",
       "    </tr>\n",
       "    <tr>\n",
       "      <th>5</th>\n",
       "      <td>항공직송 남독마이 햇 생망고 4kg내외(8-12과)</td>\n",
       "      <td>40,890원</td>\n",
       "    </tr>\n",
       "    <tr>\n",
       "      <th>6</th>\n",
       "      <td>펩시콜라 제로 210ml x 30캔/탄산음료/제로콜라/음료수/펩시제로</td>\n",
       "      <td>17,900원</td>\n",
       "    </tr>\n",
       "    <tr>\n",
       "      <th>7</th>\n",
       "      <td>스윗마토 스테비아 방울 토마토 /망고향 달콤 토마토 500g X 4팩</td>\n",
       "      <td>21,900원</td>\n",
       "    </tr>\n",
       "    <tr>\n",
       "      <th>8</th>\n",
       "      <td>(스마일클럽)일반예매권2D-주중/주말</td>\n",
       "      <td>8,900원</td>\n",
       "    </tr>\n",
       "    <tr>\n",
       "      <th>9</th>\n",
       "      <td>목우촌주부9단 로스구이 500g+130g x 3개</td>\n",
       "      <td>25,700원</td>\n",
       "    </tr>\n",
       "    <tr>\n",
       "      <th>10</th>\n",
       "      <td>라인바싸 탄산수 500ml 2박스 ( 20입+20입 )</td>\n",
       "      <td>17,800원</td>\n",
       "    </tr>\n",
       "  </tbody>\n",
       "</table>\n",
       "</div>"
      ],
      "text/plain": [
       "                                                 상품명       가격\n",
       "0                                 하남쭈꾸미쭈꾸미볶음 500g 3팩  33,900원\n",
       "1              국내산 재료로 담근 총각김치 알타리 3kg /HACCP인증/당일제조  17,500원\n",
       "2   (쿠폰적용필수)(첫구매/웰컴백 고객 대상) (CGV) 가디언즈 오브 갤럭시 전용 예매권  15,000원\n",
       "3                                초특가 비비고 한섬만두 320g8팩  25,000원\n",
       "4         탱글탱글 생 새우살 200g x 3봉 / 쿠폰가 12400 (5/3하루특가)  15,500원\n",
       "5                       항공직송 남독마이 햇 생망고 4kg내외(8-12과)  40,890원\n",
       "6             펩시콜라 제로 210ml x 30캔/탄산음료/제로콜라/음료수/펩시제로  17,900원\n",
       "7             스윗마토 스테비아 방울 토마토 /망고향 달콤 토마토 500g X 4팩  21,900원\n",
       "8                               (스마일클럽)일반예매권2D-주중/주말   8,900원\n",
       "9                        목우촌주부9단 로스구이 500g+130g x 3개  25,700원\n",
       "10                    라인바싸 탄산수 500ml 2박스 ( 20입+20입 )  17,800원"
      ]
     },
     "execution_count": 17,
     "metadata": {},
     "output_type": "execute_result"
    }
   ],
   "source": [
    "gmarket = {'상품명' : title_list,\n",
    "          '가격' : price_list}\n",
    "\n",
    "gmarket_info = pd.DataFrame(gmarket)\n",
    "gmarket_info"
   ]
  },
  {
   "cell_type": "markdown",
   "id": "27195599",
   "metadata": {},
   "source": [
    "### 파일로 내보내기"
   ]
  },
  {
   "cell_type": "code",
   "execution_count": 20,
   "id": "bdcbf5a8",
   "metadata": {},
   "outputs": [],
   "source": [
    "# csv로 내보내기\n",
    "gmarket_info.to_csv('data/selenium.csv', encoding = 'euc-kr')"
   ]
  },
  {
   "cell_type": "code",
   "execution_count": null,
   "id": "1e3e1edc",
   "metadata": {},
   "outputs": [],
   "source": []
  },
  {
   "cell_type": "code",
   "execution_count": null,
   "id": "22f29923",
   "metadata": {},
   "outputs": [],
   "source": []
  },
  {
   "cell_type": "code",
   "execution_count": null,
   "id": "5dee24e6",
   "metadata": {},
   "outputs": [],
   "source": []
  }
 ],
 "metadata": {
  "kernelspec": {
   "display_name": "Python 3 (ipykernel)",
   "language": "python",
   "name": "python3"
  },
  "language_info": {
   "codemirror_mode": {
    "name": "ipython",
    "version": 3
   },
   "file_extension": ".py",
   "mimetype": "text/x-python",
   "name": "python",
   "nbconvert_exporter": "python",
   "pygments_lexer": "ipython3",
   "version": "3.10.9"
  }
 },
 "nbformat": 4,
 "nbformat_minor": 5
}
