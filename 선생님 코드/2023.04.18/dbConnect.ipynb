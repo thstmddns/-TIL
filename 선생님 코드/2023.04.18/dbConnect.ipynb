{
 "cells": [
  {
   "cell_type": "code",
   "execution_count": 1,
   "id": "4960bd00",
   "metadata": {},
   "outputs": [
    {
     "name": "stdout",
     "output_type": "stream",
     "text": [
      "Defaulting to user installation because normal site-packages is not writeable\n",
      "Collecting oracledb\n",
      "  Downloading oracledb-1.3.0-cp310-cp310-win_amd64.whl (1.2 MB)\n",
      "     ---------------------------------------- 1.2/1.2 MB 4.9 MB/s eta 0:00:00\n",
      "Requirement already satisfied: cryptography>=3.2.1 in c:\\programdata\\anaconda3\\lib\\site-packages (from oracledb) (39.0.1)\n",
      "Requirement already satisfied: cffi>=1.12 in c:\\users\\smhrd\\appdata\\roaming\\python\\python310\\site-packages (from cryptography>=3.2.1->oracledb) (1.15.1)\n",
      "Requirement already satisfied: pycparser in c:\\users\\smhrd\\appdata\\roaming\\python\\python310\\site-packages (from cffi>=1.12->cryptography>=3.2.1->oracledb) (2.21)\n",
      "Installing collected packages: oracledb\n",
      "Successfully installed oracledb-1.3.0\n"
     ]
    }
   ],
   "source": [
    "!pip install oracledb "
   ]
  },
  {
   "cell_type": "code",
   "execution_count": 12,
   "id": "3cc749dd",
   "metadata": {
    "scrolled": true
   },
   "outputs": [
    {
     "name": "stdout",
     "output_type": "stream",
     "text": [
      "데이터베이스 연결 성공~!!!\n",
      "(7839, 'KING', 'PRESIDENT', None, datetime.datetime(1996, 11, 17, 0, 0), 5000.0, None, 10)\n",
      "(7698, 'BLAKE', 'MANAGER', 7839, datetime.datetime(1991, 1, 5, 0, 0), 2850.0, None, 30)\n",
      "(7782, 'CLARK', 'MANAGER', 7839, datetime.datetime(1999, 9, 6, 0, 0), 2450.0, None, 10)\n",
      "(7566, 'JONES', 'MANAGER', 7839, datetime.datetime(2001, 2, 4, 0, 0), 2975.0, None, 20)\n",
      "(7788, 'SCOTT', 'ANALYST', 7566, datetime.datetime(2003, 6, 17, 0, 0), 3000.0, None, 20)\n",
      "(7902, 'FORD', 'ANALYST', 7566, datetime.datetime(1981, 3, 12, 0, 0), 3000.0, None, 20)\n",
      "(7369, 'SMITH', 'CLERK', 7902, datetime.datetime(2007, 12, 1, 0, 0), 800.0, None, 20)\n",
      "(7499, 'ALLEN', 'SALESMAN', 7698, datetime.datetime(1981, 2, 20, 0, 0), 1600.0, 300.0, 30)\n",
      "(7521, 'WARD', 'SALESMAN', 7698, datetime.datetime(1981, 2, 22, 0, 0), 1250.0, 500.0, 30)\n",
      "(7654, 'MARTIN', 'SALESMAN', 7698, datetime.datetime(1981, 9, 28, 0, 0), 1250.0, 1400.0, 30)\n",
      "(7844, 'TURNER', 'SALESMAN', 7698, datetime.datetime(1981, 8, 9, 0, 0), 1500.0, 0.0, 30)\n",
      "(7876, 'ADAMS', 'CLERK', 7788, datetime.datetime(2087, 5, 23, 0, 0), 1100.0, None, 20)\n",
      "(7900, 'JAMES', 'CLERK', 7698, datetime.datetime(1981, 3, 12, 0, 0), 950.0, None, 30)\n",
      "(7934, 'MILLER', 'CLERK', 7782, datetime.datetime(2003, 1, 23, 0, 0), 1300.0, None, 10)\n",
      "inner join을 수행한 결과 출력\n",
      "(7839, 'KING', None, 10, 'ACCOUNTING')\n",
      "(7698, 'BLAKE', 7839, 30, 'SALES')\n",
      "(7782, 'CLARK', 7839, 10, 'ACCOUNTING')\n",
      "(7566, 'JONES', 7839, 20, 'RESEARCH')\n",
      "(7788, 'SCOTT', 7566, 20, 'RESEARCH')\n",
      "(7902, 'FORD', 7566, 20, 'RESEARCH')\n",
      "(7369, 'SMITH', 7902, 20, 'RESEARCH')\n",
      "(7499, 'ALLEN', 7698, 30, 'SALES')\n",
      "(7521, 'WARD', 7698, 30, 'SALES')\n",
      "(7654, 'MARTIN', 7698, 30, 'SALES')\n",
      "(7844, 'TURNER', 7698, 30, 'SALES')\n",
      "(7876, 'ADAMS', 7788, 20, 'RESEARCH')\n",
      "(7900, 'JAMES', 7698, 30, 'SALES')\n",
      "(7934, 'MILLER', 7782, 10, 'ACCOUNTING')\n",
      "\n",
      "(10, 'ACCOUNTING', 'NEW YORK')\n",
      "(20, 'RESEARCH', 'DALLAS')\n",
      "(30, 'SALES', 'CHICAGO')\n",
      "(40, 'OPERATIONS', 'BOSTON')\n",
      "(50, 'Developer', 'LA')\n",
      "(60, 'Developer', 'ATL')\n"
     ]
    }
   ],
   "source": [
    "import oracledb\n",
    "\n",
    "#DB연결\n",
    "con = oracledb.connect(user=\"system\", password=\"oracle\", dsn=\"localhost:1521/XEPDB1\")\n",
    "#연결된 DB 지시자 생성\n",
    "cursor = con.cursor()\n",
    "\n",
    "print(\"데이터베이스 연결 성공~!!!\")\n",
    "\n",
    "# 1. emp 테이블의 내용을 cursor가 임시 보관\n",
    "cursor.execute(\"select * from emp\")\n",
    "\n",
    "# 2. cursor의 내용을 out_data에 저장\n",
    "out_data = cursor.fetchall()\n",
    "\n",
    "# 3. out_data의 내용을 화면출력\n",
    "for record in out_data :\n",
    "    print(record)\n",
    "    \n",
    "# 4. 2개의 record를 dept 테이블에 삽입 후 승인\n",
    "# cursor.execute(\"insert into dept values(50, 'Developer', 'LA')\")   \n",
    "# cursor.execute(\"insert into dept values(60, 'Developer', 'ATL')\")\n",
    "# cursor.execute(\"commit\")\n",
    "\n",
    "# 5. emp테이블의 deptno와  dept의 deptno가 동일한 레코드 들에 대해\n",
    "# inner Join(등가조인)을 통해 empno, ename, mgr, deptno, dname을 출력.\n",
    "# 단, deptno는 dept 테이블의 필드를 가져오기.\n",
    "\n",
    "print(\"inner join을 수행한 결과 출력\")\n",
    "cursor.execute(\"select e.empno, e.ename, e.mgr, d.deptno, d.dname from emp e, dept d where e.deptno = d.deptno\")\n",
    "out_data = cursor.fetchall()\n",
    "\n",
    "for record in out_data :\n",
    "    print(record)\n",
    "\n",
    "print()\n",
    "\n",
    "# 6. dept 테이블 내용을 cursor에 가져와서 출력\n",
    "cursor.execute(\"select * from dept\")\n",
    "out_data = cursor.fetchall()\n",
    "for record in out_data :\n",
    "    print(record)  \n",
    "    \n",
    "# 7. dept 테이블에서 DNAME = Developer 인 데이터를 삭제한 후 화면에 출력하는 명령    \n",
    "# cursor.execute(\"DELETE FROM dept where dname = 'Developer'\")  \n",
    "# cursor.execute(\"commit\")\n",
    "# cursor.execute(\"select * from dept\")\n",
    "# out_data = cursor.fetchall()\n",
    "# for record in out_data :\n",
    "# print(record) \n",
    "    \n",
    "\n"
   ]
  },
  {
   "cell_type": "code",
   "execution_count": 15,
   "id": "e8143e27",
   "metadata": {},
   "outputs": [
    {
     "name": "stdout",
     "output_type": "stream",
     "text": [
      "(10, 'ACCOUNTING', 'NEW YORK')\n",
      "(20, 'RESEARCH', 'DALLAS')\n",
      "(30, 'SALES', 'CHICAGO')\n",
      "(40, 'OPERATIONS', 'BOSTON')\n",
      "(50, 'Developer', 'LA')\n",
      "(60, 'Developer', 'ATL')\n"
     ]
    }
   ],
   "source": [
    "#cursor.execute(\"create table dept_ddl as select * from dept\")\n",
    "#cursor.execute(\"commit\")  \n",
    "cursor.execute(\"select * from dept_ddl\")  \n",
    "out_data = cursor.fetchall()\n",
    "for record in out_data : \n",
    "    print(record)\n",
    "\n",
    "con.close()"
   ]
  }
 ],
 "metadata": {
  "kernelspec": {
   "display_name": "Python 3 (ipykernel)",
   "language": "python",
   "name": "python3"
  },
  "language_info": {
   "codemirror_mode": {
    "name": "ipython",
    "version": 3
   },
   "file_extension": ".py",
   "mimetype": "text/x-python",
   "name": "python",
   "nbconvert_exporter": "python",
   "pygments_lexer": "ipython3",
   "version": "3.10.9"
  }
 },
 "nbformat": 4,
 "nbformat_minor": 5
}
