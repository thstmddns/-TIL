{
 "cells": [
  {
   "cell_type": "markdown",
   "id": "7c665ecc",
   "metadata": {},
   "source": [
    "### 1. 목표설정\n",
    "- 보스턴 집값 데이터를 이용해서 회귀분석을 진행해보자.\n",
    "- 특성 곱을 이용해서 새로운 특성을 만들어보자.\n",
    "- 규제 모델을 이용해서 모델의 복잡도를 제어해보자."
   ]
  },
  {
   "cell_type": "markdown",
   "id": "f4029132",
   "metadata": {},
   "source": [
    "### 2. 데이터 수집\n",
    "- csv 파일 불러오기(보스턴 주택 데이터)"
   ]
  },
  {
   "cell_type": "code",
   "execution_count": 1,
   "id": "5f09f182",
   "metadata": {},
   "outputs": [],
   "source": [
    "# 필요한 라이브러리 import\n",
    "import pandas as pd\n",
    "import numpy as np\n",
    "from matplotlib import pyplot as plt\n",
    "import seaborn as sns"
   ]
  },
  {
   "cell_type": "code",
   "execution_count": 2,
   "id": "81903e77",
   "metadata": {},
   "outputs": [],
   "source": [
    "# 데이터 불러오기\n",
    "boston = pd.read_csv('./data/boston_housing.csv')"
   ]
  },
  {
   "cell_type": "code",
   "execution_count": 3,
   "id": "28677a25",
   "metadata": {},
   "outputs": [
    {
     "data": {
      "text/html": [
       "<div>\n",
       "<style scoped>\n",
       "    .dataframe tbody tr th:only-of-type {\n",
       "        vertical-align: middle;\n",
       "    }\n",
       "\n",
       "    .dataframe tbody tr th {\n",
       "        vertical-align: top;\n",
       "    }\n",
       "\n",
       "    .dataframe thead th {\n",
       "        text-align: right;\n",
       "    }\n",
       "</style>\n",
       "<table border=\"1\" class=\"dataframe\">\n",
       "  <thead>\n",
       "    <tr style=\"text-align: right;\">\n",
       "      <th></th>\n",
       "      <th>Unnamed: 0</th>\n",
       "      <th>CRIM</th>\n",
       "      <th>ZN</th>\n",
       "      <th>INDUS</th>\n",
       "      <th>CHAS</th>\n",
       "      <th>NOX</th>\n",
       "      <th>RM</th>\n",
       "      <th>AGE</th>\n",
       "      <th>DIS</th>\n",
       "      <th>RAD</th>\n",
       "      <th>TAX</th>\n",
       "      <th>PTRATIO</th>\n",
       "      <th>B</th>\n",
       "      <th>LSTAT</th>\n",
       "      <th>MEDV</th>\n",
       "    </tr>\n",
       "  </thead>\n",
       "  <tbody>\n",
       "    <tr>\n",
       "      <th>0</th>\n",
       "      <td>0</td>\n",
       "      <td>0.00632</td>\n",
       "      <td>18.0</td>\n",
       "      <td>2.31</td>\n",
       "      <td>0.0</td>\n",
       "      <td>0.538</td>\n",
       "      <td>6.575</td>\n",
       "      <td>65.2</td>\n",
       "      <td>4.0900</td>\n",
       "      <td>1.0</td>\n",
       "      <td>296.0</td>\n",
       "      <td>15.3</td>\n",
       "      <td>396.90</td>\n",
       "      <td>4.98</td>\n",
       "      <td>24.0</td>\n",
       "    </tr>\n",
       "    <tr>\n",
       "      <th>1</th>\n",
       "      <td>1</td>\n",
       "      <td>0.02731</td>\n",
       "      <td>0.0</td>\n",
       "      <td>7.07</td>\n",
       "      <td>0.0</td>\n",
       "      <td>0.469</td>\n",
       "      <td>6.421</td>\n",
       "      <td>78.9</td>\n",
       "      <td>4.9671</td>\n",
       "      <td>2.0</td>\n",
       "      <td>242.0</td>\n",
       "      <td>17.8</td>\n",
       "      <td>396.90</td>\n",
       "      <td>9.14</td>\n",
       "      <td>21.6</td>\n",
       "    </tr>\n",
       "    <tr>\n",
       "      <th>2</th>\n",
       "      <td>2</td>\n",
       "      <td>0.02729</td>\n",
       "      <td>0.0</td>\n",
       "      <td>7.07</td>\n",
       "      <td>0.0</td>\n",
       "      <td>0.469</td>\n",
       "      <td>7.185</td>\n",
       "      <td>61.1</td>\n",
       "      <td>4.9671</td>\n",
       "      <td>2.0</td>\n",
       "      <td>242.0</td>\n",
       "      <td>17.8</td>\n",
       "      <td>392.83</td>\n",
       "      <td>4.03</td>\n",
       "      <td>34.7</td>\n",
       "    </tr>\n",
       "    <tr>\n",
       "      <th>3</th>\n",
       "      <td>3</td>\n",
       "      <td>0.03237</td>\n",
       "      <td>0.0</td>\n",
       "      <td>2.18</td>\n",
       "      <td>0.0</td>\n",
       "      <td>0.458</td>\n",
       "      <td>6.998</td>\n",
       "      <td>45.8</td>\n",
       "      <td>6.0622</td>\n",
       "      <td>3.0</td>\n",
       "      <td>222.0</td>\n",
       "      <td>18.7</td>\n",
       "      <td>394.63</td>\n",
       "      <td>2.94</td>\n",
       "      <td>33.4</td>\n",
       "    </tr>\n",
       "    <tr>\n",
       "      <th>4</th>\n",
       "      <td>4</td>\n",
       "      <td>0.06905</td>\n",
       "      <td>0.0</td>\n",
       "      <td>2.18</td>\n",
       "      <td>0.0</td>\n",
       "      <td>0.458</td>\n",
       "      <td>7.147</td>\n",
       "      <td>54.2</td>\n",
       "      <td>6.0622</td>\n",
       "      <td>3.0</td>\n",
       "      <td>222.0</td>\n",
       "      <td>18.7</td>\n",
       "      <td>396.90</td>\n",
       "      <td>5.33</td>\n",
       "      <td>36.2</td>\n",
       "    </tr>\n",
       "  </tbody>\n",
       "</table>\n",
       "</div>"
      ],
      "text/plain": [
       "   Unnamed: 0     CRIM    ZN  INDUS  CHAS    NOX     RM   AGE     DIS  RAD  \\\n",
       "0           0  0.00632  18.0   2.31   0.0  0.538  6.575  65.2  4.0900  1.0   \n",
       "1           1  0.02731   0.0   7.07   0.0  0.469  6.421  78.9  4.9671  2.0   \n",
       "2           2  0.02729   0.0   7.07   0.0  0.469  7.185  61.1  4.9671  2.0   \n",
       "3           3  0.03237   0.0   2.18   0.0  0.458  6.998  45.8  6.0622  3.0   \n",
       "4           4  0.06905   0.0   2.18   0.0  0.458  7.147  54.2  6.0622  3.0   \n",
       "\n",
       "     TAX  PTRATIO       B  LSTAT  MEDV  \n",
       "0  296.0     15.3  396.90   4.98  24.0  \n",
       "1  242.0     17.8  396.90   9.14  21.6  \n",
       "2  242.0     17.8  392.83   4.03  34.7  \n",
       "3  222.0     18.7  394.63   2.94  33.4  \n",
       "4  222.0     18.7  396.90   5.33  36.2  "
      ]
     },
     "execution_count": 3,
     "metadata": {},
     "output_type": "execute_result"
    }
   ],
   "source": [
    "boston.head()"
   ]
  },
  {
   "cell_type": "code",
   "execution_count": 4,
   "id": "25e7e4a8",
   "metadata": {},
   "outputs": [],
   "source": [
    "# 필요없는 Unnamed 컬럼 삭제\n",
    "boston.drop('Unnamed: 0' , axis = 1, inplace = True)"
   ]
  },
  {
   "cell_type": "code",
   "execution_count": 5,
   "id": "cf0e904b",
   "metadata": {},
   "outputs": [
    {
     "name": "stdout",
     "output_type": "stream",
     "text": [
      "<class 'pandas.core.frame.DataFrame'>\n",
      "RangeIndex: 506 entries, 0 to 505\n",
      "Data columns (total 14 columns):\n",
      " #   Column   Non-Null Count  Dtype  \n",
      "---  ------   --------------  -----  \n",
      " 0   CRIM     506 non-null    float64\n",
      " 1   ZN       506 non-null    float64\n",
      " 2   INDUS    506 non-null    float64\n",
      " 3   CHAS     506 non-null    float64\n",
      " 4   NOX      506 non-null    float64\n",
      " 5   RM       506 non-null    float64\n",
      " 6   AGE      506 non-null    float64\n",
      " 7   DIS      506 non-null    float64\n",
      " 8   RAD      506 non-null    float64\n",
      " 9   TAX      506 non-null    float64\n",
      " 10  PTRATIO  506 non-null    float64\n",
      " 11  B        506 non-null    float64\n",
      " 12  LSTAT    506 non-null    float64\n",
      " 13  MEDV     506 non-null    float64\n",
      "dtypes: float64(14)\n",
      "memory usage: 55.5 KB\n"
     ]
    }
   ],
   "source": [
    "boston.info()"
   ]
  },
  {
   "cell_type": "markdown",
   "id": "465602d8",
   "metadata": {},
   "source": [
    "**결측치 없음!**"
   ]
  },
  {
   "cell_type": "markdown",
   "id": "c2ef1a8e",
   "metadata": {},
   "source": [
    "**특성정보 확인**\n",
    "- CRIM : 범죄율\n",
    "- INDUS : 도매상업지역에서의 면적\n",
    "- NOX : 대기 중 일산화질소의 농도\n",
    "- RM : 주택 당 방의 갯수\n",
    "- LSTAT : 인구 중 하위 계층의 비율\n",
    "- B : 인구 중 흑인 비율\n",
    "- PITRATIO : 학생 / 교사 비율\n",
    "- ZN : 25,000평방 피트를 초과한 거주지역의 비율\n",
    "- CHAS : 찰스 강의 경계에 위치한 경우는 1, 아닌 경우는 0\n",
    "- AGE : 1940년 이전에 지어진 주택의 비율\n",
    "- DIS : 직업 센터의 거리\n",
    "- TAX : 재산세율\n",
    "\n",
    "**종속변수 확인**\n",
    "- MEDV : 집값, 주택가격"
   ]
  },
  {
   "cell_type": "markdown",
   "id": "055c4b1e",
   "metadata": {},
   "source": [
    "### 3. 데이터 전처리\n",
    "- 결측치 없었다!\n",
    "- 보스턴 주택 데이터는 학습용으로 제공된 데이터라 전처리가 필요없다(데이터가 깔끔함)"
   ]
  },
  {
   "cell_type": "markdown",
   "id": "985600af",
   "metadata": {},
   "source": [
    "### 4. 탐색적 데이터 분석\n",
    "- 생략"
   ]
  },
  {
   "cell_type": "markdown",
   "id": "8817cc28",
   "metadata": {},
   "source": [
    "### 5. 모델링\n",
    "- 데이터 분리(X_train, X_test, y_train, y_test)\n",
    "- 모델 선정 및 학습/평가/예측"
   ]
  },
  {
   "cell_type": "code",
   "execution_count": 6,
   "id": "198132d4",
   "metadata": {},
   "outputs": [
    {
     "data": {
      "text/plain": [
       "((349, 13), (157, 13), (349,), (157,))"
      ]
     },
     "execution_count": 6,
     "metadata": {},
     "output_type": "execute_result"
    }
   ],
   "source": [
    "# 데이터의 분리\n",
    "# step1 : 데이터를 분리하기 위한 모듈 불러오기\n",
    "from sklearn.model_selection import train_test_split\n",
    "X = boston.drop('MEDV', axis = 1)\n",
    "y = boston['MEDV']\n",
    "# step2 : 데이터 분리하기\n",
    "X_train, X_test, y_train, y_test = train_test_split(X, y,\n",
    "                                                   test_size = 0.31,\n",
    "                                                   random_state=8)\n",
    "# step3 : 데이터 분할 확인하기\n",
    "X_train.shape, X_test.shape, y_train.shape, y_test.shape"
   ]
  },
  {
   "cell_type": "code",
   "execution_count": 7,
   "id": "eaecd36b",
   "metadata": {},
   "outputs": [
    {
     "data": {
      "text/html": [
       "<div>\n",
       "<style scoped>\n",
       "    .dataframe tbody tr th:only-of-type {\n",
       "        vertical-align: middle;\n",
       "    }\n",
       "\n",
       "    .dataframe tbody tr th {\n",
       "        vertical-align: top;\n",
       "    }\n",
       "\n",
       "    .dataframe thead th {\n",
       "        text-align: right;\n",
       "    }\n",
       "</style>\n",
       "<table border=\"1\" class=\"dataframe\">\n",
       "  <thead>\n",
       "    <tr style=\"text-align: right;\">\n",
       "      <th></th>\n",
       "      <th>CRIM</th>\n",
       "      <th>ZN</th>\n",
       "      <th>INDUS</th>\n",
       "      <th>CHAS</th>\n",
       "      <th>NOX</th>\n",
       "      <th>RM</th>\n",
       "      <th>AGE</th>\n",
       "      <th>DIS</th>\n",
       "      <th>RAD</th>\n",
       "      <th>TAX</th>\n",
       "      <th>PTRATIO</th>\n",
       "      <th>B</th>\n",
       "      <th>LSTAT</th>\n",
       "    </tr>\n",
       "  </thead>\n",
       "  <tbody>\n",
       "    <tr>\n",
       "      <th>CRIM</th>\n",
       "      <td>1.000000</td>\n",
       "      <td>-0.184817</td>\n",
       "      <td>0.378316</td>\n",
       "      <td>-0.061804</td>\n",
       "      <td>0.403027</td>\n",
       "      <td>-0.174240</td>\n",
       "      <td>0.341431</td>\n",
       "      <td>-0.363133</td>\n",
       "      <td>0.594872</td>\n",
       "      <td>0.545241</td>\n",
       "      <td>0.269811</td>\n",
       "      <td>-0.347409</td>\n",
       "      <td>0.422540</td>\n",
       "    </tr>\n",
       "    <tr>\n",
       "      <th>ZN</th>\n",
       "      <td>-0.184817</td>\n",
       "      <td>1.000000</td>\n",
       "      <td>-0.524860</td>\n",
       "      <td>-0.030235</td>\n",
       "      <td>-0.514637</td>\n",
       "      <td>0.354517</td>\n",
       "      <td>-0.561653</td>\n",
       "      <td>0.639337</td>\n",
       "      <td>-0.305356</td>\n",
       "      <td>-0.316457</td>\n",
       "      <td>-0.382791</td>\n",
       "      <td>0.182498</td>\n",
       "      <td>-0.435246</td>\n",
       "    </tr>\n",
       "    <tr>\n",
       "      <th>INDUS</th>\n",
       "      <td>0.378316</td>\n",
       "      <td>-0.524860</td>\n",
       "      <td>1.000000</td>\n",
       "      <td>0.037579</td>\n",
       "      <td>0.770848</td>\n",
       "      <td>-0.396145</td>\n",
       "      <td>0.643074</td>\n",
       "      <td>-0.711269</td>\n",
       "      <td>0.582916</td>\n",
       "      <td>0.727380</td>\n",
       "      <td>0.384198</td>\n",
       "      <td>-0.360666</td>\n",
       "      <td>0.616574</td>\n",
       "    </tr>\n",
       "    <tr>\n",
       "      <th>CHAS</th>\n",
       "      <td>-0.061804</td>\n",
       "      <td>-0.030235</td>\n",
       "      <td>0.037579</td>\n",
       "      <td>1.000000</td>\n",
       "      <td>0.089458</td>\n",
       "      <td>0.052451</td>\n",
       "      <td>0.072935</td>\n",
       "      <td>-0.091399</td>\n",
       "      <td>-0.020382</td>\n",
       "      <td>-0.061107</td>\n",
       "      <td>-0.174097</td>\n",
       "      <td>0.047781</td>\n",
       "      <td>-0.052901</td>\n",
       "    </tr>\n",
       "    <tr>\n",
       "      <th>NOX</th>\n",
       "      <td>0.403027</td>\n",
       "      <td>-0.514637</td>\n",
       "      <td>0.770848</td>\n",
       "      <td>0.089458</td>\n",
       "      <td>1.000000</td>\n",
       "      <td>-0.332745</td>\n",
       "      <td>0.711182</td>\n",
       "      <td>-0.763106</td>\n",
       "      <td>0.624177</td>\n",
       "      <td>0.680614</td>\n",
       "      <td>0.217253</td>\n",
       "      <td>-0.377686</td>\n",
       "      <td>0.624415</td>\n",
       "    </tr>\n",
       "    <tr>\n",
       "      <th>RM</th>\n",
       "      <td>-0.174240</td>\n",
       "      <td>0.354517</td>\n",
       "      <td>-0.396145</td>\n",
       "      <td>0.052451</td>\n",
       "      <td>-0.332745</td>\n",
       "      <td>1.000000</td>\n",
       "      <td>-0.256279</td>\n",
       "      <td>0.219211</td>\n",
       "      <td>-0.187175</td>\n",
       "      <td>-0.278136</td>\n",
       "      <td>-0.344753</td>\n",
       "      <td>0.111318</td>\n",
       "      <td>-0.593509</td>\n",
       "    </tr>\n",
       "    <tr>\n",
       "      <th>AGE</th>\n",
       "      <td>0.341431</td>\n",
       "      <td>-0.561653</td>\n",
       "      <td>0.643074</td>\n",
       "      <td>0.072935</td>\n",
       "      <td>0.711182</td>\n",
       "      <td>-0.256279</td>\n",
       "      <td>1.000000</td>\n",
       "      <td>-0.715271</td>\n",
       "      <td>0.457093</td>\n",
       "      <td>0.507352</td>\n",
       "      <td>0.276290</td>\n",
       "      <td>-0.269051</td>\n",
       "      <td>0.607571</td>\n",
       "    </tr>\n",
       "    <tr>\n",
       "      <th>DIS</th>\n",
       "      <td>-0.363133</td>\n",
       "      <td>0.639337</td>\n",
       "      <td>-0.711269</td>\n",
       "      <td>-0.091399</td>\n",
       "      <td>-0.763106</td>\n",
       "      <td>0.219211</td>\n",
       "      <td>-0.715271</td>\n",
       "      <td>1.000000</td>\n",
       "      <td>-0.491662</td>\n",
       "      <td>-0.541043</td>\n",
       "      <td>-0.240381</td>\n",
       "      <td>0.296180</td>\n",
       "      <td>-0.500062</td>\n",
       "    </tr>\n",
       "    <tr>\n",
       "      <th>RAD</th>\n",
       "      <td>0.594872</td>\n",
       "      <td>-0.305356</td>\n",
       "      <td>0.582916</td>\n",
       "      <td>-0.020382</td>\n",
       "      <td>0.624177</td>\n",
       "      <td>-0.187175</td>\n",
       "      <td>0.457093</td>\n",
       "      <td>-0.491662</td>\n",
       "      <td>1.000000</td>\n",
       "      <td>0.894437</td>\n",
       "      <td>0.456515</td>\n",
       "      <td>-0.461684</td>\n",
       "      <td>0.475693</td>\n",
       "    </tr>\n",
       "    <tr>\n",
       "      <th>TAX</th>\n",
       "      <td>0.545241</td>\n",
       "      <td>-0.316457</td>\n",
       "      <td>0.727380</td>\n",
       "      <td>-0.061107</td>\n",
       "      <td>0.680614</td>\n",
       "      <td>-0.278136</td>\n",
       "      <td>0.507352</td>\n",
       "      <td>-0.541043</td>\n",
       "      <td>0.894437</td>\n",
       "      <td>1.000000</td>\n",
       "      <td>0.461836</td>\n",
       "      <td>-0.452291</td>\n",
       "      <td>0.541115</td>\n",
       "    </tr>\n",
       "    <tr>\n",
       "      <th>PTRATIO</th>\n",
       "      <td>0.269811</td>\n",
       "      <td>-0.382791</td>\n",
       "      <td>0.384198</td>\n",
       "      <td>-0.174097</td>\n",
       "      <td>0.217253</td>\n",
       "      <td>-0.344753</td>\n",
       "      <td>0.276290</td>\n",
       "      <td>-0.240381</td>\n",
       "      <td>0.456515</td>\n",
       "      <td>0.461836</td>\n",
       "      <td>1.000000</td>\n",
       "      <td>-0.190627</td>\n",
       "      <td>0.353558</td>\n",
       "    </tr>\n",
       "    <tr>\n",
       "      <th>B</th>\n",
       "      <td>-0.347409</td>\n",
       "      <td>0.182498</td>\n",
       "      <td>-0.360666</td>\n",
       "      <td>0.047781</td>\n",
       "      <td>-0.377686</td>\n",
       "      <td>0.111318</td>\n",
       "      <td>-0.269051</td>\n",
       "      <td>0.296180</td>\n",
       "      <td>-0.461684</td>\n",
       "      <td>-0.452291</td>\n",
       "      <td>-0.190627</td>\n",
       "      <td>1.000000</td>\n",
       "      <td>-0.363635</td>\n",
       "    </tr>\n",
       "    <tr>\n",
       "      <th>LSTAT</th>\n",
       "      <td>0.422540</td>\n",
       "      <td>-0.435246</td>\n",
       "      <td>0.616574</td>\n",
       "      <td>-0.052901</td>\n",
       "      <td>0.624415</td>\n",
       "      <td>-0.593509</td>\n",
       "      <td>0.607571</td>\n",
       "      <td>-0.500062</td>\n",
       "      <td>0.475693</td>\n",
       "      <td>0.541115</td>\n",
       "      <td>0.353558</td>\n",
       "      <td>-0.363635</td>\n",
       "      <td>1.000000</td>\n",
       "    </tr>\n",
       "  </tbody>\n",
       "</table>\n",
       "</div>"
      ],
      "text/plain": [
       "             CRIM        ZN     INDUS      CHAS       NOX        RM       AGE  \\\n",
       "CRIM     1.000000 -0.184817  0.378316 -0.061804  0.403027 -0.174240  0.341431   \n",
       "ZN      -0.184817  1.000000 -0.524860 -0.030235 -0.514637  0.354517 -0.561653   \n",
       "INDUS    0.378316 -0.524860  1.000000  0.037579  0.770848 -0.396145  0.643074   \n",
       "CHAS    -0.061804 -0.030235  0.037579  1.000000  0.089458  0.052451  0.072935   \n",
       "NOX      0.403027 -0.514637  0.770848  0.089458  1.000000 -0.332745  0.711182   \n",
       "RM      -0.174240  0.354517 -0.396145  0.052451 -0.332745  1.000000 -0.256279   \n",
       "AGE      0.341431 -0.561653  0.643074  0.072935  0.711182 -0.256279  1.000000   \n",
       "DIS     -0.363133  0.639337 -0.711269 -0.091399 -0.763106  0.219211 -0.715271   \n",
       "RAD      0.594872 -0.305356  0.582916 -0.020382  0.624177 -0.187175  0.457093   \n",
       "TAX      0.545241 -0.316457  0.727380 -0.061107  0.680614 -0.278136  0.507352   \n",
       "PTRATIO  0.269811 -0.382791  0.384198 -0.174097  0.217253 -0.344753  0.276290   \n",
       "B       -0.347409  0.182498 -0.360666  0.047781 -0.377686  0.111318 -0.269051   \n",
       "LSTAT    0.422540 -0.435246  0.616574 -0.052901  0.624415 -0.593509  0.607571   \n",
       "\n",
       "              DIS       RAD       TAX   PTRATIO         B     LSTAT  \n",
       "CRIM    -0.363133  0.594872  0.545241  0.269811 -0.347409  0.422540  \n",
       "ZN       0.639337 -0.305356 -0.316457 -0.382791  0.182498 -0.435246  \n",
       "INDUS   -0.711269  0.582916  0.727380  0.384198 -0.360666  0.616574  \n",
       "CHAS    -0.091399 -0.020382 -0.061107 -0.174097  0.047781 -0.052901  \n",
       "NOX     -0.763106  0.624177  0.680614  0.217253 -0.377686  0.624415  \n",
       "RM       0.219211 -0.187175 -0.278136 -0.344753  0.111318 -0.593509  \n",
       "AGE     -0.715271  0.457093  0.507352  0.276290 -0.269051  0.607571  \n",
       "DIS      1.000000 -0.491662 -0.541043 -0.240381  0.296180 -0.500062  \n",
       "RAD     -0.491662  1.000000  0.894437  0.456515 -0.461684  0.475693  \n",
       "TAX     -0.541043  0.894437  1.000000  0.461836 -0.452291  0.541115  \n",
       "PTRATIO -0.240381  0.456515  0.461836  1.000000 -0.190627  0.353558  \n",
       "B        0.296180 -0.461684 -0.452291 -0.190627  1.000000 -0.363635  \n",
       "LSTAT   -0.500062  0.475693  0.541115  0.353558 -0.363635  1.000000  "
      ]
     },
     "execution_count": 7,
     "metadata": {},
     "output_type": "execute_result"
    }
   ],
   "source": [
    "# 분할된 데이터를 가지고 상관계수를 확인하기\n",
    "X_train.corr()"
   ]
  },
  {
   "cell_type": "code",
   "execution_count": 8,
   "id": "d506bdf4",
   "metadata": {},
   "outputs": [
    {
     "data": {
      "text/plain": [
       "<Axes: >"
      ]
     },
     "execution_count": 8,
     "metadata": {},
     "output_type": "execute_result"
    },
    {
     "data": {
      "image/png": "[encoded data removed]",
      "text/plain": [
       "<Figure size 1500x1500 with 2 Axes>"
      ]
     },
     "metadata": {},
     "output_type": "display_data"
    }
   ],
   "source": [
    "# 상관계수를 히트맵으로 출력\n",
    "plt.figure(figsize=(15,15))\n",
    "sns.heatmap(data = X_train.corr(),\n",
    "           annot = True, # 히트맵 내부에 글씨 출력\n",
    "           annot_kws = {'size' : 12}, # 내부 글씨의 옵션(글씨의 크기)\n",
    "           fmt = '.2f',\n",
    "           cmap = 'GnBu'\n",
    "           )"
   ]
  },
  {
   "cell_type": "code",
   "execution_count": 9,
   "id": "b4cb3716",
   "metadata": {},
   "outputs": [],
   "source": [
    "# 선형 회귀 모델 사용하기\n",
    "# Step.1 : 모델 import\n",
    "from sklearn.linear_model import LinearRegression\n",
    "from sklearn.model_selection import cross_val_score"
   ]
  },
  {
   "cell_type": "code",
   "execution_count": 10,
   "id": "8e9c4038",
   "metadata": {},
   "outputs": [],
   "source": [
    "# Step. 2 : 모델 객체 생성\n",
    "linear_model = LinearRegression()"
   ]
  },
  {
   "cell_type": "code",
   "execution_count": 11,
   "id": "f9e40bac",
   "metadata": {},
   "outputs": [
    {
     "data": {
      "text/html": [
       "<style>#sk-container-id-1 {color: black;background-color: white;}#sk-container-id-1 pre{padding: 0;}#sk-container-id-1 div.sk-toggleable {background-color: white;}#sk-container-id-1 label.sk-toggleable__label {cursor: pointer;display: block;width: 100%;margin-bottom: 0;padding: 0.3em;box-sizing: border-box;text-align: center;}#sk-container-id-1 label.sk-toggleable__label-arrow:before {content: \"▸\";float: left;margin-right: 0.25em;color: #696969;}#sk-container-id-1 label.sk-toggleable__label-arrow:hover:before {color: black;}#sk-container-id-1 div.sk-estimator:hover label.sk-toggleable__label-arrow:before {color: black;}#sk-container-id-1 div.sk-toggleable__content {max-height: 0;max-width: 0;overflow: hidden;text-align: left;background-color: #f0f8ff;}#sk-container-id-1 div.sk-toggleable__content pre {margin: 0.2em;color: black;border-radius: 0.25em;background-color: #f0f8ff;}#sk-container-id-1 input.sk-toggleable__control:checked~div.sk-toggleable__content {max-height: 200px;max-width: 100%;overflow: auto;}#sk-container-id-1 input.sk-toggleable__control:checked~label.sk-toggleable__label-arrow:before {content: \"▾\";}#sk-container-id-1 div.sk-estimator input.sk-toggleable__control:checked~label.sk-toggleable__label {background-color: #d4ebff;}#sk-container-id-1 div.sk-label input.sk-toggleable__control:checked~label.sk-toggleable__label {background-color: #d4ebff;}#sk-container-id-1 input.sk-hidden--visually {border: 0;clip: rect(1px 1px 1px 1px);clip: rect(1px, 1px, 1px, 1px);height: 1px;margin: -1px;overflow: hidden;padding: 0;position: absolute;width: 1px;}#sk-container-id-1 div.sk-estimator {font-family: monospace;background-color: #f0f8ff;border: 1px dotted black;border-radius: 0.25em;box-sizing: border-box;margin-bottom: 0.5em;}#sk-container-id-1 div.sk-estimator:hover {background-color: #d4ebff;}#sk-container-id-1 div.sk-parallel-item::after {content: \"\";width: 100%;border-bottom: 1px solid gray;flex-grow: 1;}#sk-container-id-1 div.sk-label:hover label.sk-toggleable__label {background-color: #d4ebff;}#sk-container-id-1 div.sk-serial::before {content: \"\";position: absolute;border-left: 1px solid gray;box-sizing: border-box;top: 0;bottom: 0;left: 50%;z-index: 0;}#sk-container-id-1 div.sk-serial {display: flex;flex-direction: column;align-items: center;background-color: white;padding-right: 0.2em;padding-left: 0.2em;position: relative;}#sk-container-id-1 div.sk-item {position: relative;z-index: 1;}#sk-container-id-1 div.sk-parallel {display: flex;align-items: stretch;justify-content: center;background-color: white;position: relative;}#sk-container-id-1 div.sk-item::before, #sk-container-id-1 div.sk-parallel-item::before {content: \"\";position: absolute;border-left: 1px solid gray;box-sizing: border-box;top: 0;bottom: 0;left: 50%;z-index: -1;}#sk-container-id-1 div.sk-parallel-item {display: flex;flex-direction: column;z-index: 1;position: relative;background-color: white;}#sk-container-id-1 div.sk-parallel-item:first-child::after {align-self: flex-end;width: 50%;}#sk-container-id-1 div.sk-parallel-item:last-child::after {align-self: flex-start;width: 50%;}#sk-container-id-1 div.sk-parallel-item:only-child::after {width: 0;}#sk-container-id-1 div.sk-dashed-wrapped {border: 1px dashed gray;margin: 0 0.4em 0.5em 0.4em;box-sizing: border-box;padding-bottom: 0.4em;background-color: white;}#sk-container-id-1 div.sk-label label {font-family: monospace;font-weight: bold;display: inline-block;line-height: 1.2em;}#sk-container-id-1 div.sk-label-container {text-align: center;}#sk-container-id-1 div.sk-container {/* jupyter's `normalize.less` sets `[hidden] { display: none; }` but bootstrap.min.css set `[hidden] { display: none !important; }` so we also need the `!important` here to be able to override the default hidden behavior on the sphinx rendered scikit-learn.org. See: https://github.com/scikit-learn/scikit-learn/issues/21755 */display: inline-block !important;position: relative;}#sk-container-id-1 div.sk-text-repr-fallback {display: none;}</style><div id=\"sk-container-id-1\" class=\"sk-top-container\"><div class=\"sk-text-repr-fallback\"><pre>LinearRegression()</pre><b>In a Jupyter environment, please rerun this cell to show the HTML representation or trust the notebook. <br />On GitHub, the HTML representation is unable to render, please try loading this page with nbviewer.org.</b></div><div class=\"sk-container\" hidden><div class=\"sk-item\"><div class=\"sk-estimator sk-toggleable\"><input class=\"sk-toggleable__control sk-hidden--visually\" id=\"sk-estimator-id-1\" type=\"checkbox\" checked><label for=\"sk-estimator-id-1\" class=\"sk-toggleable__label sk-toggleable__label-arrow\">LinearRegression</label><div class=\"sk-toggleable__content\"><pre>LinearRegression()</pre></div></div></div></div></div>"
      ],
      "text/plain": [
       "LinearRegression()"
      ]
     },
     "execution_count": 11,
     "metadata": {},
     "output_type": "execute_result"
    }
   ],
   "source": [
    "# Step. 3 : 모델 학습\n",
    "linear_model.fit(X_train, y_train)"
   ]
  },
  {
   "cell_type": "code",
   "execution_count": 12,
   "id": "191dab9f",
   "metadata": {},
   "outputs": [
    {
     "name": "stdout",
     "output_type": "stream",
     "text": [
      "0.7067882464034808\n",
      "3\n",
      "0.7067882464034808\n"
     ]
    }
   ],
   "source": [
    "# Step. 4 : 교차 검증 \n",
    "max_rs = 0\n",
    "max_i = 0\n",
    "for i in range(3, 51, 2):\n",
    "    rs = cross_val_score(linear_model, X_train, y_train, cv = i)\n",
    "    if sum(rs) / i > max_rs:\n",
    "        max_rs = sum(rs) / i\n",
    "        max_i = i\n",
    "print(max_rs)\n",
    "print(max_i)\n",
    "print(max_rs.mean())"
   ]
  },
  {
   "cell_type": "code",
   "execution_count": 13,
   "id": "020b8920",
   "metadata": {},
   "outputs": [
    {
     "data": {
      "text/plain": [
       "array([-1.08457730e-01,  4.99972455e-02,  2.17330703e-02,  2.43217522e+00,\n",
       "       -1.19450485e+01,  3.87798265e+00, -8.12873290e-03, -1.35614446e+00,\n",
       "        2.89676239e-01, -1.12635102e-02, -9.66591078e-01,  1.06027147e-02,\n",
       "       -5.80034262e-01])"
      ]
     },
     "execution_count": 13,
     "metadata": {},
     "output_type": "execute_result"
    }
   ],
   "source": [
    "# 가중치 w 값 확인해보기\n",
    "linear_model.coef_"
   ]
  },
  {
   "cell_type": "code",
   "execution_count": 14,
   "id": "f089edc2",
   "metadata": {},
   "outputs": [
    {
     "data": {
      "text/plain": [
       "33.21001376649663"
      ]
     },
     "execution_count": 14,
     "metadata": {},
     "output_type": "execute_result"
    }
   ],
   "source": [
    "# 편향 b값 확인해보기\n",
    "linear_model.intercept_"
   ]
  },
  {
   "cell_type": "code",
   "execution_count": 15,
   "id": "806bd629",
   "metadata": {},
   "outputs": [
    {
     "data": {
      "text/plain": [
       "array([19.39040546, 10.59968152, 38.49037097, 27.26581118, 41.04993232,\n",
       "       27.44115716, 10.49189064, 36.29245346, 29.20896504, 34.93928463,\n",
       "       12.88753787,  7.43423798, 15.00719896, 24.18790736, 15.81799744,\n",
       "       28.9585664 , 23.31496833, 22.49926256, 21.14612041,  6.93378704,\n",
       "       21.21573138, 25.772686  , 30.64063831, 33.39741899, 28.84922318,\n",
       "       35.44566731,  4.97275369, 14.17356247, 25.45515186, 23.45946365,\n",
       "       34.86001234, 18.67204377, 19.16912818, 22.50379921, 25.89341456,\n",
       "       27.28253062, 32.88330414, 25.63745378, 13.85703805, 14.15266597,\n",
       "       21.33094899, 22.17932619, 36.09406382, 35.4244277 , 23.65810312,\n",
       "       19.67375808, 20.00583118, 21.45005649, 25.81654039, 24.24877486,\n",
       "       20.24463537, 16.55769278, 32.32618697, 16.28602942, 22.09329894,\n",
       "       24.92191   , 20.75436765,  5.00547371, 20.30164768, 28.68866508,\n",
       "       24.76820836, 21.89461393, 20.32983437,  8.54574941, 13.9961636 ,\n",
       "       17.6998372 , 12.63194731, 20.49820569, 35.55247421, 35.71609049,\n",
       "       13.3900138 , 29.24874172, 30.61047915, 32.1842202 , 21.74620652,\n",
       "       28.45334236, 29.93232552, 17.2685363 , 13.63754987, 18.45468179,\n",
       "       13.59843303,  5.76224565, 16.30031889, 22.92958166, 20.21927133,\n",
       "       30.9720047 , 14.40359922, 15.59811423, 26.59703513, 32.06945051,\n",
       "       21.28649101, 21.02348747, 29.62657862, 35.41498966, 19.23319914,\n",
       "       28.24312753, 23.25241456, 24.89562595, 23.03079743, 13.20328661,\n",
       "        2.49872019, 28.15430098, -0.24582571, 41.62123471, 33.22038157,\n",
       "       28.94521355, 16.79081138, 22.97937586, 25.47041478, 31.50514473,\n",
       "       18.69433306, 19.87710792, 39.90829991, 12.77765615, 19.60261137,\n",
       "       20.41704216, 40.22978861, 15.90885288, 25.71339288, 21.72911805,\n",
       "       28.73152779, 28.43615399, 14.5288618 , 25.08293968, 25.40287732,\n",
       "       15.25909847, 24.47918979, 31.18981743, 37.47721583,  6.11337885,\n",
       "       21.68310169, 37.85253018, 28.682932  , 29.3138405 , 21.7074038 ,\n",
       "       12.95578794, 20.00762264, 10.30579569, 25.62882576, 20.90817231,\n",
       "       29.09182001, 31.35424801, 27.46854064, 27.3913534 , 37.0054301 ,\n",
       "       17.95434184, 22.48014023, 22.90303189, 22.82831032, 21.3905427 ,\n",
       "       15.78860038, 28.93142913, 16.65999539, 24.67677137, 19.37127795,\n",
       "        2.74814775, 24.3941101 ])"
      ]
     },
     "execution_count": 15,
     "metadata": {},
     "output_type": "execute_result"
    }
   ],
   "source": [
    "pre = linear_model.predict(X_test)\n",
    "pre"
   ]
  },
  {
   "cell_type": "markdown",
   "id": "b6c32c4b",
   "metadata": {},
   "source": [
    "### 평가지표\n",
    "- 회귀 평가 지표를 이용해서, 모델을 평가해보자\n",
    "- MSE, MAE, RSME, R2 스코어"
   ]
  },
  {
   "cell_type": "code",
   "execution_count": 16,
   "id": "0d19d488",
   "metadata": {},
   "outputs": [],
   "source": [
    "# 평가지표 : import\n",
    "# sklearn.metrics : 평가지표\n",
    "from sklearn.metrics import mean_squared_error\n",
    "from sklearn.metrics import mean_absolute_error\n",
    "from sklearn.metrics import r2_score"
   ]
  },
  {
   "cell_type": "code",
   "execution_count": 17,
   "id": "cc06c974",
   "metadata": {},
   "outputs": [
    {
     "data": {
      "text/plain": [
       "24.35928694101283"
      ]
     },
     "execution_count": 17,
     "metadata": {},
     "output_type": "execute_result"
    }
   ],
   "source": [
    "# MSE 사용하기\n",
    "mean_squared_error(pre, y_test)"
   ]
  },
  {
   "cell_type": "code",
   "execution_count": 18,
   "id": "1cb6666c",
   "metadata": {},
   "outputs": [
    {
     "data": {
      "text/plain": [
       "24.35928694101283"
      ]
     },
     "execution_count": 18,
     "metadata": {},
     "output_type": "execute_result"
    }
   ],
   "source": [
    "# RMSE 사용하기\n",
    "# 사이킷런 내부에서는 RSME를 지원하지 않는다. -> 넘파이에 있는 sqrt 함수를 사용해야 한다.\n",
    "mean_squared_error(pre, y_test)"
   ]
  },
  {
   "cell_type": "code",
   "execution_count": 19,
   "id": "637a6f10",
   "metadata": {},
   "outputs": [
    {
     "data": {
      "text/plain": [
       "3.52811293751381"
      ]
     },
     "execution_count": 19,
     "metadata": {},
     "output_type": "execute_result"
    }
   ],
   "source": [
    "# MAE 사용하기\n",
    "mean_absolute_error(pre, y_test)"
   ]
  },
  {
   "cell_type": "code",
   "execution_count": 20,
   "id": "e57ebcb3",
   "metadata": {},
   "outputs": [
    {
     "data": {
      "text/plain": [
       "0.6581175354481736"
      ]
     },
     "execution_count": 20,
     "metadata": {},
     "output_type": "execute_result"
    }
   ],
   "source": [
    "# r2스코어 사용하기\n",
    "r2_score(pre, y_test)"
   ]
  },
  {
   "cell_type": "code",
   "execution_count": 21,
   "id": "70acb8b6",
   "metadata": {},
   "outputs": [
    {
     "data": {
      "text/plain": [
       "0.6953097656779009"
      ]
     },
     "execution_count": 21,
     "metadata": {},
     "output_type": "execute_result"
    }
   ],
   "source": [
    "# 스코어 함수 사용하기\n",
    "linear_model.score(X_test, y_test)"
   ]
  },
  {
   "cell_type": "markdown",
   "id": "30b12b86",
   "metadata": {},
   "source": [
    "- 현재 회귀 모델은 성능이 그렇게 좋은 편이 아닌 것 같다.\n",
    "- 일반적으로 선형회귀모델은 데이터의 특성이 많을수록 성능이 좋아진다.\n",
    "- 특성이 적은 경우 선형회귀 모델이 간단해진다(단순해진다). -> 성능이 낮아질 수 밖에 없다.\n",
    "- 모델을 제어할 수 있는 하이퍼 파라미터 조정이 불가능하기 때문이다.\n",
    "- 특성 곱을 이용해서 새로운 특성을 만들어보자"
   ]
  },
  {
   "cell_type": "markdown",
   "id": "8a82d513",
   "metadata": {},
   "source": [
    "**원본 데이터 프레임 복사하기**"
   ]
  },
  {
   "cell_type": "code",
   "execution_count": 22,
   "id": "6a8ceafc",
   "metadata": {},
   "outputs": [],
   "source": [
    "# copy() : 데이터 프레임의 현재 상태를 복사 / 복사 당시의 프레임 상태만 복사하는 깊은 복사 \n",
    "X_train_copy = X_train"
   ]
  },
  {
   "cell_type": "code",
   "execution_count": 23,
   "id": "855cb917",
   "metadata": {},
   "outputs": [
    {
     "data": {
      "text/html": [
       "<div>\n",
       "<style scoped>\n",
       "    .dataframe tbody tr th:only-of-type {\n",
       "        vertical-align: middle;\n",
       "    }\n",
       "\n",
       "    .dataframe tbody tr th {\n",
       "        vertical-align: top;\n",
       "    }\n",
       "\n",
       "    .dataframe thead th {\n",
       "        text-align: right;\n",
       "    }\n",
       "</style>\n",
       "<table border=\"1\" class=\"dataframe\">\n",
       "  <thead>\n",
       "    <tr style=\"text-align: right;\">\n",
       "      <th></th>\n",
       "      <th>CRIM</th>\n",
       "      <th>ZN</th>\n",
       "      <th>INDUS</th>\n",
       "      <th>CHAS</th>\n",
       "      <th>NOX</th>\n",
       "      <th>RM</th>\n",
       "      <th>AGE</th>\n",
       "      <th>DIS</th>\n",
       "      <th>RAD</th>\n",
       "      <th>TAX</th>\n",
       "      <th>PTRATIO</th>\n",
       "      <th>B</th>\n",
       "      <th>LSTAT</th>\n",
       "    </tr>\n",
       "  </thead>\n",
       "  <tbody>\n",
       "    <tr>\n",
       "      <th>424</th>\n",
       "      <td>8.79212</td>\n",
       "      <td>0.0</td>\n",
       "      <td>18.10</td>\n",
       "      <td>0.0</td>\n",
       "      <td>0.584</td>\n",
       "      <td>5.565</td>\n",
       "      <td>70.6</td>\n",
       "      <td>2.0635</td>\n",
       "      <td>24.0</td>\n",
       "      <td>666.0</td>\n",
       "      <td>20.2</td>\n",
       "      <td>3.65</td>\n",
       "      <td>17.16</td>\n",
       "    </tr>\n",
       "    <tr>\n",
       "      <th>245</th>\n",
       "      <td>0.19133</td>\n",
       "      <td>22.0</td>\n",
       "      <td>5.86</td>\n",
       "      <td>0.0</td>\n",
       "      <td>0.431</td>\n",
       "      <td>5.605</td>\n",
       "      <td>70.2</td>\n",
       "      <td>7.9549</td>\n",
       "      <td>7.0</td>\n",
       "      <td>330.0</td>\n",
       "      <td>19.1</td>\n",
       "      <td>389.13</td>\n",
       "      <td>18.46</td>\n",
       "    </tr>\n",
       "    <tr>\n",
       "      <th>426</th>\n",
       "      <td>12.24720</td>\n",
       "      <td>0.0</td>\n",
       "      <td>18.10</td>\n",
       "      <td>0.0</td>\n",
       "      <td>0.584</td>\n",
       "      <td>5.837</td>\n",
       "      <td>59.7</td>\n",
       "      <td>1.9976</td>\n",
       "      <td>24.0</td>\n",
       "      <td>666.0</td>\n",
       "      <td>20.2</td>\n",
       "      <td>24.65</td>\n",
       "      <td>15.69</td>\n",
       "    </tr>\n",
       "    <tr>\n",
       "      <th>234</th>\n",
       "      <td>0.44791</td>\n",
       "      <td>0.0</td>\n",
       "      <td>6.20</td>\n",
       "      <td>1.0</td>\n",
       "      <td>0.507</td>\n",
       "      <td>6.726</td>\n",
       "      <td>66.5</td>\n",
       "      <td>3.6519</td>\n",
       "      <td>8.0</td>\n",
       "      <td>307.0</td>\n",
       "      <td>17.4</td>\n",
       "      <td>360.20</td>\n",
       "      <td>8.05</td>\n",
       "    </tr>\n",
       "    <tr>\n",
       "      <th>438</th>\n",
       "      <td>13.67810</td>\n",
       "      <td>0.0</td>\n",
       "      <td>18.10</td>\n",
       "      <td>0.0</td>\n",
       "      <td>0.740</td>\n",
       "      <td>5.935</td>\n",
       "      <td>87.9</td>\n",
       "      <td>1.8206</td>\n",
       "      <td>24.0</td>\n",
       "      <td>666.0</td>\n",
       "      <td>20.2</td>\n",
       "      <td>68.95</td>\n",
       "      <td>34.02</td>\n",
       "    </tr>\n",
       "    <tr>\n",
       "      <th>...</th>\n",
       "      <td>...</td>\n",
       "      <td>...</td>\n",
       "      <td>...</td>\n",
       "      <td>...</td>\n",
       "      <td>...</td>\n",
       "      <td>...</td>\n",
       "      <td>...</td>\n",
       "      <td>...</td>\n",
       "      <td>...</td>\n",
       "      <td>...</td>\n",
       "      <td>...</td>\n",
       "      <td>...</td>\n",
       "      <td>...</td>\n",
       "    </tr>\n",
       "    <tr>\n",
       "      <th>133</th>\n",
       "      <td>0.32982</td>\n",
       "      <td>0.0</td>\n",
       "      <td>21.89</td>\n",
       "      <td>0.0</td>\n",
       "      <td>0.624</td>\n",
       "      <td>5.822</td>\n",
       "      <td>95.4</td>\n",
       "      <td>2.4699</td>\n",
       "      <td>4.0</td>\n",
       "      <td>437.0</td>\n",
       "      <td>21.2</td>\n",
       "      <td>388.69</td>\n",
       "      <td>15.03</td>\n",
       "    </tr>\n",
       "    <tr>\n",
       "      <th>361</th>\n",
       "      <td>3.83684</td>\n",
       "      <td>0.0</td>\n",
       "      <td>18.10</td>\n",
       "      <td>0.0</td>\n",
       "      <td>0.770</td>\n",
       "      <td>6.251</td>\n",
       "      <td>91.1</td>\n",
       "      <td>2.2955</td>\n",
       "      <td>24.0</td>\n",
       "      <td>666.0</td>\n",
       "      <td>20.2</td>\n",
       "      <td>350.65</td>\n",
       "      <td>14.19</td>\n",
       "    </tr>\n",
       "    <tr>\n",
       "      <th>497</th>\n",
       "      <td>0.26838</td>\n",
       "      <td>0.0</td>\n",
       "      <td>9.69</td>\n",
       "      <td>0.0</td>\n",
       "      <td>0.585</td>\n",
       "      <td>5.794</td>\n",
       "      <td>70.6</td>\n",
       "      <td>2.8927</td>\n",
       "      <td>6.0</td>\n",
       "      <td>391.0</td>\n",
       "      <td>19.2</td>\n",
       "      <td>396.90</td>\n",
       "      <td>14.10</td>\n",
       "    </tr>\n",
       "    <tr>\n",
       "      <th>340</th>\n",
       "      <td>0.06151</td>\n",
       "      <td>0.0</td>\n",
       "      <td>5.19</td>\n",
       "      <td>0.0</td>\n",
       "      <td>0.515</td>\n",
       "      <td>5.968</td>\n",
       "      <td>58.5</td>\n",
       "      <td>4.8122</td>\n",
       "      <td>5.0</td>\n",
       "      <td>224.0</td>\n",
       "      <td>20.2</td>\n",
       "      <td>396.90</td>\n",
       "      <td>9.29</td>\n",
       "    </tr>\n",
       "    <tr>\n",
       "      <th>451</th>\n",
       "      <td>5.44114</td>\n",
       "      <td>0.0</td>\n",
       "      <td>18.10</td>\n",
       "      <td>0.0</td>\n",
       "      <td>0.713</td>\n",
       "      <td>6.655</td>\n",
       "      <td>98.2</td>\n",
       "      <td>2.3552</td>\n",
       "      <td>24.0</td>\n",
       "      <td>666.0</td>\n",
       "      <td>20.2</td>\n",
       "      <td>355.29</td>\n",
       "      <td>17.73</td>\n",
       "    </tr>\n",
       "  </tbody>\n",
       "</table>\n",
       "<p>349 rows × 13 columns</p>\n",
       "</div>"
      ],
      "text/plain": [
       "         CRIM    ZN  INDUS  CHAS    NOX     RM   AGE     DIS   RAD    TAX  \\\n",
       "424   8.79212   0.0  18.10   0.0  0.584  5.565  70.6  2.0635  24.0  666.0   \n",
       "245   0.19133  22.0   5.86   0.0  0.431  5.605  70.2  7.9549   7.0  330.0   \n",
       "426  12.24720   0.0  18.10   0.0  0.584  5.837  59.7  1.9976  24.0  666.0   \n",
       "234   0.44791   0.0   6.20   1.0  0.507  6.726  66.5  3.6519   8.0  307.0   \n",
       "438  13.67810   0.0  18.10   0.0  0.740  5.935  87.9  1.8206  24.0  666.0   \n",
       "..        ...   ...    ...   ...    ...    ...   ...     ...   ...    ...   \n",
       "133   0.32982   0.0  21.89   0.0  0.624  5.822  95.4  2.4699   4.0  437.0   \n",
       "361   3.83684   0.0  18.10   0.0  0.770  6.251  91.1  2.2955  24.0  666.0   \n",
       "497   0.26838   0.0   9.69   0.0  0.585  5.794  70.6  2.8927   6.0  391.0   \n",
       "340   0.06151   0.0   5.19   0.0  0.515  5.968  58.5  4.8122   5.0  224.0   \n",
       "451   5.44114   0.0  18.10   0.0  0.713  6.655  98.2  2.3552  24.0  666.0   \n",
       "\n",
       "     PTRATIO       B  LSTAT  \n",
       "424     20.2    3.65  17.16  \n",
       "245     19.1  389.13  18.46  \n",
       "426     20.2   24.65  15.69  \n",
       "234     17.4  360.20   8.05  \n",
       "438     20.2   68.95  34.02  \n",
       "..       ...     ...    ...  \n",
       "133     21.2  388.69  15.03  \n",
       "361     20.2  350.65  14.19  \n",
       "497     19.2  396.90  14.10  \n",
       "340     20.2  396.90   9.29  \n",
       "451     20.2  355.29  17.73  \n",
       "\n",
       "[349 rows x 13 columns]"
      ]
     },
     "execution_count": 23,
     "metadata": {},
     "output_type": "execute_result"
    }
   ],
   "source": [
    "X_train_copy"
   ]
  },
  {
   "cell_type": "code",
   "execution_count": 24,
   "id": "8a9a1540",
   "metadata": {},
   "outputs": [],
   "source": [
    "# 기존의 훈련용 문제 데이터에 훈련용 정답 컬럼을 추가해주자\n",
    "#정답을 포함한 상관관계를 파악하기 뤼해서! 정답 컬럼을 추가!\n",
    "X_train_copy['MEDV'] = y_train"
   ]
  },
  {
   "cell_type": "code",
   "execution_count": 27,
   "id": "f394925a",
   "metadata": {},
   "outputs": [
    {
     "name": "stdout",
     "output_type": "stream",
     "text": [
      "<class 'pandas.core.frame.DataFrame'>\n",
      "Int64Index: 349 entries, 424 to 451\n",
      "Data columns (total 14 columns):\n",
      " #   Column   Non-Null Count  Dtype  \n",
      "---  ------   --------------  -----  \n",
      " 0   CRIM     349 non-null    float64\n",
      " 1   ZN       349 non-null    float64\n",
      " 2   INDUS    349 non-null    float64\n",
      " 3   CHAS     349 non-null    float64\n",
      " 4   NOX      349 non-null    float64\n",
      " 5   RM       349 non-null    float64\n",
      " 6   AGE      349 non-null    float64\n",
      " 7   DIS      349 non-null    float64\n",
      " 8   RAD      349 non-null    float64\n",
      " 9   TAX      349 non-null    float64\n",
      " 10  PTRATIO  349 non-null    float64\n",
      " 11  B        349 non-null    float64\n",
      " 12  LSTAT    349 non-null    float64\n",
      " 13  MEDV     349 non-null    float64\n",
      "dtypes: float64(14)\n",
      "memory usage: 40.9 KB\n"
     ]
    }
   ],
   "source": [
    "# 데이터 프레임 형태 바꼈다. -> shape, info\n",
    "X_train_copy.info()"
   ]
  },
  {
   "cell_type": "code",
   "execution_count": 30,
   "id": "dbd7ef62",
   "metadata": {},
   "outputs": [
    {
     "data": {
      "text/html": [
       "<div>\n",
       "<style scoped>\n",
       "    .dataframe tbody tr th:only-of-type {\n",
       "        vertical-align: middle;\n",
       "    }\n",
       "\n",
       "    .dataframe tbody tr th {\n",
       "        vertical-align: top;\n",
       "    }\n",
       "\n",
       "    .dataframe thead th {\n",
       "        text-align: right;\n",
       "    }\n",
       "</style>\n",
       "<table border=\"1\" class=\"dataframe\">\n",
       "  <thead>\n",
       "    <tr style=\"text-align: right;\">\n",
       "      <th></th>\n",
       "      <th>CRIM</th>\n",
       "      <th>ZN</th>\n",
       "      <th>INDUS</th>\n",
       "      <th>CHAS</th>\n",
       "      <th>NOX</th>\n",
       "      <th>RM</th>\n",
       "      <th>AGE</th>\n",
       "      <th>DIS</th>\n",
       "      <th>RAD</th>\n",
       "      <th>TAX</th>\n",
       "      <th>PTRATIO</th>\n",
       "      <th>B</th>\n",
       "      <th>LSTAT</th>\n",
       "      <th>MEDV</th>\n",
       "    </tr>\n",
       "  </thead>\n",
       "  <tbody>\n",
       "    <tr>\n",
       "      <th>CRIM</th>\n",
       "      <td>1.000000</td>\n",
       "      <td>-0.184817</td>\n",
       "      <td>0.378316</td>\n",
       "      <td>-0.061804</td>\n",
       "      <td>0.403027</td>\n",
       "      <td>-0.174240</td>\n",
       "      <td>0.341431</td>\n",
       "      <td>-0.363133</td>\n",
       "      <td>0.594872</td>\n",
       "      <td>0.545241</td>\n",
       "      <td>0.269811</td>\n",
       "      <td>-0.347409</td>\n",
       "      <td>0.422540</td>\n",
       "      <td>-0.368988</td>\n",
       "    </tr>\n",
       "    <tr>\n",
       "      <th>ZN</th>\n",
       "      <td>-0.184817</td>\n",
       "      <td>1.000000</td>\n",
       "      <td>-0.524860</td>\n",
       "      <td>-0.030235</td>\n",
       "      <td>-0.514637</td>\n",
       "      <td>0.354517</td>\n",
       "      <td>-0.561653</td>\n",
       "      <td>0.639337</td>\n",
       "      <td>-0.305356</td>\n",
       "      <td>-0.316457</td>\n",
       "      <td>-0.382791</td>\n",
       "      <td>0.182498</td>\n",
       "      <td>-0.435246</td>\n",
       "      <td>0.408057</td>\n",
       "    </tr>\n",
       "    <tr>\n",
       "      <th>INDUS</th>\n",
       "      <td>0.378316</td>\n",
       "      <td>-0.524860</td>\n",
       "      <td>1.000000</td>\n",
       "      <td>0.037579</td>\n",
       "      <td>0.770848</td>\n",
       "      <td>-0.396145</td>\n",
       "      <td>0.643074</td>\n",
       "      <td>-0.711269</td>\n",
       "      <td>0.582916</td>\n",
       "      <td>0.727380</td>\n",
       "      <td>0.384198</td>\n",
       "      <td>-0.360666</td>\n",
       "      <td>0.616574</td>\n",
       "      <td>-0.498630</td>\n",
       "    </tr>\n",
       "    <tr>\n",
       "      <th>CHAS</th>\n",
       "      <td>-0.061804</td>\n",
       "      <td>-0.030235</td>\n",
       "      <td>0.037579</td>\n",
       "      <td>1.000000</td>\n",
       "      <td>0.089458</td>\n",
       "      <td>0.052451</td>\n",
       "      <td>0.072935</td>\n",
       "      <td>-0.091399</td>\n",
       "      <td>-0.020382</td>\n",
       "      <td>-0.061107</td>\n",
       "      <td>-0.174097</td>\n",
       "      <td>0.047781</td>\n",
       "      <td>-0.052901</td>\n",
       "      <td>0.171910</td>\n",
       "    </tr>\n",
       "    <tr>\n",
       "      <th>NOX</th>\n",
       "      <td>0.403027</td>\n",
       "      <td>-0.514637</td>\n",
       "      <td>0.770848</td>\n",
       "      <td>0.089458</td>\n",
       "      <td>1.000000</td>\n",
       "      <td>-0.332745</td>\n",
       "      <td>0.711182</td>\n",
       "      <td>-0.763106</td>\n",
       "      <td>0.624177</td>\n",
       "      <td>0.680614</td>\n",
       "      <td>0.217253</td>\n",
       "      <td>-0.377686</td>\n",
       "      <td>0.624415</td>\n",
       "      <td>-0.449706</td>\n",
       "    </tr>\n",
       "    <tr>\n",
       "      <th>RM</th>\n",
       "      <td>-0.174240</td>\n",
       "      <td>0.354517</td>\n",
       "      <td>-0.396145</td>\n",
       "      <td>0.052451</td>\n",
       "      <td>-0.332745</td>\n",
       "      <td>1.000000</td>\n",
       "      <td>-0.256279</td>\n",
       "      <td>0.219211</td>\n",
       "      <td>-0.187175</td>\n",
       "      <td>-0.278136</td>\n",
       "      <td>-0.344753</td>\n",
       "      <td>0.111318</td>\n",
       "      <td>-0.593509</td>\n",
       "      <td>0.684011</td>\n",
       "    </tr>\n",
       "    <tr>\n",
       "      <th>AGE</th>\n",
       "      <td>0.341431</td>\n",
       "      <td>-0.561653</td>\n",
       "      <td>0.643074</td>\n",
       "      <td>0.072935</td>\n",
       "      <td>0.711182</td>\n",
       "      <td>-0.256279</td>\n",
       "      <td>1.000000</td>\n",
       "      <td>-0.715271</td>\n",
       "      <td>0.457093</td>\n",
       "      <td>0.507352</td>\n",
       "      <td>0.276290</td>\n",
       "      <td>-0.269051</td>\n",
       "      <td>0.607571</td>\n",
       "      <td>-0.413605</td>\n",
       "    </tr>\n",
       "    <tr>\n",
       "      <th>DIS</th>\n",
       "      <td>-0.363133</td>\n",
       "      <td>0.639337</td>\n",
       "      <td>-0.711269</td>\n",
       "      <td>-0.091399</td>\n",
       "      <td>-0.763106</td>\n",
       "      <td>0.219211</td>\n",
       "      <td>-0.715271</td>\n",
       "      <td>1.000000</td>\n",
       "      <td>-0.491662</td>\n",
       "      <td>-0.541043</td>\n",
       "      <td>-0.240381</td>\n",
       "      <td>0.296180</td>\n",
       "      <td>-0.500062</td>\n",
       "      <td>0.273782</td>\n",
       "    </tr>\n",
       "    <tr>\n",
       "      <th>RAD</th>\n",
       "      <td>0.594872</td>\n",
       "      <td>-0.305356</td>\n",
       "      <td>0.582916</td>\n",
       "      <td>-0.020382</td>\n",
       "      <td>0.624177</td>\n",
       "      <td>-0.187175</td>\n",
       "      <td>0.457093</td>\n",
       "      <td>-0.491662</td>\n",
       "      <td>1.000000</td>\n",
       "      <td>0.894437</td>\n",
       "      <td>0.456515</td>\n",
       "      <td>-0.461684</td>\n",
       "      <td>0.475693</td>\n",
       "      <td>-0.372625</td>\n",
       "    </tr>\n",
       "    <tr>\n",
       "      <th>TAX</th>\n",
       "      <td>0.545241</td>\n",
       "      <td>-0.316457</td>\n",
       "      <td>0.727380</td>\n",
       "      <td>-0.061107</td>\n",
       "      <td>0.680614</td>\n",
       "      <td>-0.278136</td>\n",
       "      <td>0.507352</td>\n",
       "      <td>-0.541043</td>\n",
       "      <td>0.894437</td>\n",
       "      <td>1.000000</td>\n",
       "      <td>0.461836</td>\n",
       "      <td>-0.452291</td>\n",
       "      <td>0.541115</td>\n",
       "      <td>-0.468262</td>\n",
       "    </tr>\n",
       "    <tr>\n",
       "      <th>PTRATIO</th>\n",
       "      <td>0.269811</td>\n",
       "      <td>-0.382791</td>\n",
       "      <td>0.384198</td>\n",
       "      <td>-0.174097</td>\n",
       "      <td>0.217253</td>\n",
       "      <td>-0.344753</td>\n",
       "      <td>0.276290</td>\n",
       "      <td>-0.240381</td>\n",
       "      <td>0.456515</td>\n",
       "      <td>0.461836</td>\n",
       "      <td>1.000000</td>\n",
       "      <td>-0.190627</td>\n",
       "      <td>0.353558</td>\n",
       "      <td>-0.512201</td>\n",
       "    </tr>\n",
       "    <tr>\n",
       "      <th>B</th>\n",
       "      <td>-0.347409</td>\n",
       "      <td>0.182498</td>\n",
       "      <td>-0.360666</td>\n",
       "      <td>0.047781</td>\n",
       "      <td>-0.377686</td>\n",
       "      <td>0.111318</td>\n",
       "      <td>-0.269051</td>\n",
       "      <td>0.296180</td>\n",
       "      <td>-0.461684</td>\n",
       "      <td>-0.452291</td>\n",
       "      <td>-0.190627</td>\n",
       "      <td>1.000000</td>\n",
       "      <td>-0.363635</td>\n",
       "      <td>0.339353</td>\n",
       "    </tr>\n",
       "    <tr>\n",
       "      <th>LSTAT</th>\n",
       "      <td>0.422540</td>\n",
       "      <td>-0.435246</td>\n",
       "      <td>0.616574</td>\n",
       "      <td>-0.052901</td>\n",
       "      <td>0.624415</td>\n",
       "      <td>-0.593509</td>\n",
       "      <td>0.607571</td>\n",
       "      <td>-0.500062</td>\n",
       "      <td>0.475693</td>\n",
       "      <td>0.541115</td>\n",
       "      <td>0.353558</td>\n",
       "      <td>-0.363635</td>\n",
       "      <td>1.000000</td>\n",
       "      <td>-0.753252</td>\n",
       "    </tr>\n",
       "    <tr>\n",
       "      <th>MEDV</th>\n",
       "      <td>-0.368988</td>\n",
       "      <td>0.408057</td>\n",
       "      <td>-0.498630</td>\n",
       "      <td>0.171910</td>\n",
       "      <td>-0.449706</td>\n",
       "      <td>0.684011</td>\n",
       "      <td>-0.413605</td>\n",
       "      <td>0.273782</td>\n",
       "      <td>-0.372625</td>\n",
       "      <td>-0.468262</td>\n",
       "      <td>-0.512201</td>\n",
       "      <td>0.339353</td>\n",
       "      <td>-0.753252</td>\n",
       "      <td>1.000000</td>\n",
       "    </tr>\n",
       "  </tbody>\n",
       "</table>\n",
       "</div>"
      ],
      "text/plain": [
       "             CRIM        ZN     INDUS      CHAS       NOX        RM       AGE  \\\n",
       "CRIM     1.000000 -0.184817  0.378316 -0.061804  0.403027 -0.174240  0.341431   \n",
       "ZN      -0.184817  1.000000 -0.524860 -0.030235 -0.514637  0.354517 -0.561653   \n",
       "INDUS    0.378316 -0.524860  1.000000  0.037579  0.770848 -0.396145  0.643074   \n",
       "CHAS    -0.061804 -0.030235  0.037579  1.000000  0.089458  0.052451  0.072935   \n",
       "NOX      0.403027 -0.514637  0.770848  0.089458  1.000000 -0.332745  0.711182   \n",
       "RM      -0.174240  0.354517 -0.396145  0.052451 -0.332745  1.000000 -0.256279   \n",
       "AGE      0.341431 -0.561653  0.643074  0.072935  0.711182 -0.256279  1.000000   \n",
       "DIS     -0.363133  0.639337 -0.711269 -0.091399 -0.763106  0.219211 -0.715271   \n",
       "RAD      0.594872 -0.305356  0.582916 -0.020382  0.624177 -0.187175  0.457093   \n",
       "TAX      0.545241 -0.316457  0.727380 -0.061107  0.680614 -0.278136  0.507352   \n",
       "PTRATIO  0.269811 -0.382791  0.384198 -0.174097  0.217253 -0.344753  0.276290   \n",
       "B       -0.347409  0.182498 -0.360666  0.047781 -0.377686  0.111318 -0.269051   \n",
       "LSTAT    0.422540 -0.435246  0.616574 -0.052901  0.624415 -0.593509  0.607571   \n",
       "MEDV    -0.368988  0.408057 -0.498630  0.171910 -0.449706  0.684011 -0.413605   \n",
       "\n",
       "              DIS       RAD       TAX   PTRATIO         B     LSTAT      MEDV  \n",
       "CRIM    -0.363133  0.594872  0.545241  0.269811 -0.347409  0.422540 -0.368988  \n",
       "ZN       0.639337 -0.305356 -0.316457 -0.382791  0.182498 -0.435246  0.408057  \n",
       "INDUS   -0.711269  0.582916  0.727380  0.384198 -0.360666  0.616574 -0.498630  \n",
       "CHAS    -0.091399 -0.020382 -0.061107 -0.174097  0.047781 -0.052901  0.171910  \n",
       "NOX     -0.763106  0.624177  0.680614  0.217253 -0.377686  0.624415 -0.449706  \n",
       "RM       0.219211 -0.187175 -0.278136 -0.344753  0.111318 -0.593509  0.684011  \n",
       "AGE     -0.715271  0.457093  0.507352  0.276290 -0.269051  0.607571 -0.413605  \n",
       "DIS      1.000000 -0.491662 -0.541043 -0.240381  0.296180 -0.500062  0.273782  \n",
       "RAD     -0.491662  1.000000  0.894437  0.456515 -0.461684  0.475693 -0.372625  \n",
       "TAX     -0.541043  0.894437  1.000000  0.461836 -0.452291  0.541115 -0.468262  \n",
       "PTRATIO -0.240381  0.456515  0.461836  1.000000 -0.190627  0.353558 -0.512201  \n",
       "B        0.296180 -0.461684 -0.452291 -0.190627  1.000000 -0.363635  0.339353  \n",
       "LSTAT   -0.500062  0.475693  0.541115  0.353558 -0.363635  1.000000 -0.753252  \n",
       "MEDV     0.273782 -0.372625 -0.468262 -0.512201  0.339353 -0.753252  1.000000  "
      ]
     },
     "execution_count": 30,
     "metadata": {},
     "output_type": "execute_result"
    }
   ],
   "source": [
    "# 훈련용 데이터의 상관관계 확인\n",
    "X_train_copy.corr()"
   ]
  },
  {
   "cell_type": "markdown",
   "id": "05553df6",
   "metadata": {},
   "source": [
    "- 현재 MEDV컬럼의 상관관계가 뒤죽박죽 섞여있다. 정리를 해서 확인해보자"
   ]
  },
  {
   "cell_type": "code",
   "execution_count": 34,
   "id": "60977d0a",
   "metadata": {},
   "outputs": [
    {
     "data": {
      "text/html": [
       "<div>\n",
       "<style scoped>\n",
       "    .dataframe tbody tr th:only-of-type {\n",
       "        vertical-align: middle;\n",
       "    }\n",
       "\n",
       "    .dataframe tbody tr th {\n",
       "        vertical-align: top;\n",
       "    }\n",
       "\n",
       "    .dataframe thead th {\n",
       "        text-align: right;\n",
       "    }\n",
       "</style>\n",
       "<table border=\"1\" class=\"dataframe\">\n",
       "  <thead>\n",
       "    <tr style=\"text-align: right;\">\n",
       "      <th></th>\n",
       "      <th>CRIM</th>\n",
       "      <th>ZN</th>\n",
       "      <th>INDUS</th>\n",
       "      <th>CHAS</th>\n",
       "      <th>NOX</th>\n",
       "      <th>RM</th>\n",
       "      <th>AGE</th>\n",
       "      <th>DIS</th>\n",
       "      <th>RAD</th>\n",
       "      <th>TAX</th>\n",
       "      <th>PTRATIO</th>\n",
       "      <th>B</th>\n",
       "      <th>LSTAT</th>\n",
       "      <th>MEDV</th>\n",
       "    </tr>\n",
       "  </thead>\n",
       "  <tbody>\n",
       "    <tr>\n",
       "      <th>MEDV</th>\n",
       "      <td>0.368988</td>\n",
       "      <td>0.408057</td>\n",
       "      <td>0.498630</td>\n",
       "      <td>0.171910</td>\n",
       "      <td>0.449706</td>\n",
       "      <td>0.684011</td>\n",
       "      <td>0.413605</td>\n",
       "      <td>0.273782</td>\n",
       "      <td>0.372625</td>\n",
       "      <td>0.468262</td>\n",
       "      <td>0.512201</td>\n",
       "      <td>0.339353</td>\n",
       "      <td>0.753252</td>\n",
       "      <td>1.000000</td>\n",
       "    </tr>\n",
       "    <tr>\n",
       "      <th>LSTAT</th>\n",
       "      <td>0.422540</td>\n",
       "      <td>0.435246</td>\n",
       "      <td>0.616574</td>\n",
       "      <td>0.052901</td>\n",
       "      <td>0.624415</td>\n",
       "      <td>0.593509</td>\n",
       "      <td>0.607571</td>\n",
       "      <td>0.500062</td>\n",
       "      <td>0.475693</td>\n",
       "      <td>0.541115</td>\n",
       "      <td>0.353558</td>\n",
       "      <td>0.363635</td>\n",
       "      <td>1.000000</td>\n",
       "      <td>0.753252</td>\n",
       "    </tr>\n",
       "    <tr>\n",
       "      <th>RM</th>\n",
       "      <td>0.174240</td>\n",
       "      <td>0.354517</td>\n",
       "      <td>0.396145</td>\n",
       "      <td>0.052451</td>\n",
       "      <td>0.332745</td>\n",
       "      <td>1.000000</td>\n",
       "      <td>0.256279</td>\n",
       "      <td>0.219211</td>\n",
       "      <td>0.187175</td>\n",
       "      <td>0.278136</td>\n",
       "      <td>0.344753</td>\n",
       "      <td>0.111318</td>\n",
       "      <td>0.593509</td>\n",
       "      <td>0.684011</td>\n",
       "    </tr>\n",
       "    <tr>\n",
       "      <th>PTRATIO</th>\n",
       "      <td>0.269811</td>\n",
       "      <td>0.382791</td>\n",
       "      <td>0.384198</td>\n",
       "      <td>0.174097</td>\n",
       "      <td>0.217253</td>\n",
       "      <td>0.344753</td>\n",
       "      <td>0.276290</td>\n",
       "      <td>0.240381</td>\n",
       "      <td>0.456515</td>\n",
       "      <td>0.461836</td>\n",
       "      <td>1.000000</td>\n",
       "      <td>0.190627</td>\n",
       "      <td>0.353558</td>\n",
       "      <td>0.512201</td>\n",
       "    </tr>\n",
       "    <tr>\n",
       "      <th>INDUS</th>\n",
       "      <td>0.378316</td>\n",
       "      <td>0.524860</td>\n",
       "      <td>1.000000</td>\n",
       "      <td>0.037579</td>\n",
       "      <td>0.770848</td>\n",
       "      <td>0.396145</td>\n",
       "      <td>0.643074</td>\n",
       "      <td>0.711269</td>\n",
       "      <td>0.582916</td>\n",
       "      <td>0.727380</td>\n",
       "      <td>0.384198</td>\n",
       "      <td>0.360666</td>\n",
       "      <td>0.616574</td>\n",
       "      <td>0.498630</td>\n",
       "    </tr>\n",
       "    <tr>\n",
       "      <th>TAX</th>\n",
       "      <td>0.545241</td>\n",
       "      <td>0.316457</td>\n",
       "      <td>0.727380</td>\n",
       "      <td>0.061107</td>\n",
       "      <td>0.680614</td>\n",
       "      <td>0.278136</td>\n",
       "      <td>0.507352</td>\n",
       "      <td>0.541043</td>\n",
       "      <td>0.894437</td>\n",
       "      <td>1.000000</td>\n",
       "      <td>0.461836</td>\n",
       "      <td>0.452291</td>\n",
       "      <td>0.541115</td>\n",
       "      <td>0.468262</td>\n",
       "    </tr>\n",
       "    <tr>\n",
       "      <th>NOX</th>\n",
       "      <td>0.403027</td>\n",
       "      <td>0.514637</td>\n",
       "      <td>0.770848</td>\n",
       "      <td>0.089458</td>\n",
       "      <td>1.000000</td>\n",
       "      <td>0.332745</td>\n",
       "      <td>0.711182</td>\n",
       "      <td>0.763106</td>\n",
       "      <td>0.624177</td>\n",
       "      <td>0.680614</td>\n",
       "      <td>0.217253</td>\n",
       "      <td>0.377686</td>\n",
       "      <td>0.624415</td>\n",
       "      <td>0.449706</td>\n",
       "    </tr>\n",
       "    <tr>\n",
       "      <th>AGE</th>\n",
       "      <td>0.341431</td>\n",
       "      <td>0.561653</td>\n",
       "      <td>0.643074</td>\n",
       "      <td>0.072935</td>\n",
       "      <td>0.711182</td>\n",
       "      <td>0.256279</td>\n",
       "      <td>1.000000</td>\n",
       "      <td>0.715271</td>\n",
       "      <td>0.457093</td>\n",
       "      <td>0.507352</td>\n",
       "      <td>0.276290</td>\n",
       "      <td>0.269051</td>\n",
       "      <td>0.607571</td>\n",
       "      <td>0.413605</td>\n",
       "    </tr>\n",
       "    <tr>\n",
       "      <th>ZN</th>\n",
       "      <td>0.184817</td>\n",
       "      <td>1.000000</td>\n",
       "      <td>0.524860</td>\n",
       "      <td>0.030235</td>\n",
       "      <td>0.514637</td>\n",
       "      <td>0.354517</td>\n",
       "      <td>0.561653</td>\n",
       "      <td>0.639337</td>\n",
       "      <td>0.305356</td>\n",
       "      <td>0.316457</td>\n",
       "      <td>0.382791</td>\n",
       "      <td>0.182498</td>\n",
       "      <td>0.435246</td>\n",
       "      <td>0.408057</td>\n",
       "    </tr>\n",
       "    <tr>\n",
       "      <th>RAD</th>\n",
       "      <td>0.594872</td>\n",
       "      <td>0.305356</td>\n",
       "      <td>0.582916</td>\n",
       "      <td>0.020382</td>\n",
       "      <td>0.624177</td>\n",
       "      <td>0.187175</td>\n",
       "      <td>0.457093</td>\n",
       "      <td>0.491662</td>\n",
       "      <td>1.000000</td>\n",
       "      <td>0.894437</td>\n",
       "      <td>0.456515</td>\n",
       "      <td>0.461684</td>\n",
       "      <td>0.475693</td>\n",
       "      <td>0.372625</td>\n",
       "    </tr>\n",
       "    <tr>\n",
       "      <th>CRIM</th>\n",
       "      <td>1.000000</td>\n",
       "      <td>0.184817</td>\n",
       "      <td>0.378316</td>\n",
       "      <td>0.061804</td>\n",
       "      <td>0.403027</td>\n",
       "      <td>0.174240</td>\n",
       "      <td>0.341431</td>\n",
       "      <td>0.363133</td>\n",
       "      <td>0.594872</td>\n",
       "      <td>0.545241</td>\n",
       "      <td>0.269811</td>\n",
       "      <td>0.347409</td>\n",
       "      <td>0.422540</td>\n",
       "      <td>0.368988</td>\n",
       "    </tr>\n",
       "    <tr>\n",
       "      <th>B</th>\n",
       "      <td>0.347409</td>\n",
       "      <td>0.182498</td>\n",
       "      <td>0.360666</td>\n",
       "      <td>0.047781</td>\n",
       "      <td>0.377686</td>\n",
       "      <td>0.111318</td>\n",
       "      <td>0.269051</td>\n",
       "      <td>0.296180</td>\n",
       "      <td>0.461684</td>\n",
       "      <td>0.452291</td>\n",
       "      <td>0.190627</td>\n",
       "      <td>1.000000</td>\n",
       "      <td>0.363635</td>\n",
       "      <td>0.339353</td>\n",
       "    </tr>\n",
       "    <tr>\n",
       "      <th>DIS</th>\n",
       "      <td>0.363133</td>\n",
       "      <td>0.639337</td>\n",
       "      <td>0.711269</td>\n",
       "      <td>0.091399</td>\n",
       "      <td>0.763106</td>\n",
       "      <td>0.219211</td>\n",
       "      <td>0.715271</td>\n",
       "      <td>1.000000</td>\n",
       "      <td>0.491662</td>\n",
       "      <td>0.541043</td>\n",
       "      <td>0.240381</td>\n",
       "      <td>0.296180</td>\n",
       "      <td>0.500062</td>\n",
       "      <td>0.273782</td>\n",
       "    </tr>\n",
       "    <tr>\n",
       "      <th>CHAS</th>\n",
       "      <td>0.061804</td>\n",
       "      <td>0.030235</td>\n",
       "      <td>0.037579</td>\n",
       "      <td>1.000000</td>\n",
       "      <td>0.089458</td>\n",
       "      <td>0.052451</td>\n",
       "      <td>0.072935</td>\n",
       "      <td>0.091399</td>\n",
       "      <td>0.020382</td>\n",
       "      <td>0.061107</td>\n",
       "      <td>0.174097</td>\n",
       "      <td>0.047781</td>\n",
       "      <td>0.052901</td>\n",
       "      <td>0.171910</td>\n",
       "    </tr>\n",
       "  </tbody>\n",
       "</table>\n",
       "</div>"
      ],
      "text/plain": [
       "             CRIM        ZN     INDUS      CHAS       NOX        RM       AGE  \\\n",
       "MEDV     0.368988  0.408057  0.498630  0.171910  0.449706  0.684011  0.413605   \n",
       "LSTAT    0.422540  0.435246  0.616574  0.052901  0.624415  0.593509  0.607571   \n",
       "RM       0.174240  0.354517  0.396145  0.052451  0.332745  1.000000  0.256279   \n",
       "PTRATIO  0.269811  0.382791  0.384198  0.174097  0.217253  0.344753  0.276290   \n",
       "INDUS    0.378316  0.524860  1.000000  0.037579  0.770848  0.396145  0.643074   \n",
       "TAX      0.545241  0.316457  0.727380  0.061107  0.680614  0.278136  0.507352   \n",
       "NOX      0.403027  0.514637  0.770848  0.089458  1.000000  0.332745  0.711182   \n",
       "AGE      0.341431  0.561653  0.643074  0.072935  0.711182  0.256279  1.000000   \n",
       "ZN       0.184817  1.000000  0.524860  0.030235  0.514637  0.354517  0.561653   \n",
       "RAD      0.594872  0.305356  0.582916  0.020382  0.624177  0.187175  0.457093   \n",
       "CRIM     1.000000  0.184817  0.378316  0.061804  0.403027  0.174240  0.341431   \n",
       "B        0.347409  0.182498  0.360666  0.047781  0.377686  0.111318  0.269051   \n",
       "DIS      0.363133  0.639337  0.711269  0.091399  0.763106  0.219211  0.715271   \n",
       "CHAS     0.061804  0.030235  0.037579  1.000000  0.089458  0.052451  0.072935   \n",
       "\n",
       "              DIS       RAD       TAX   PTRATIO         B     LSTAT      MEDV  \n",
       "MEDV     0.273782  0.372625  0.468262  0.512201  0.339353  0.753252  1.000000  \n",
       "LSTAT    0.500062  0.475693  0.541115  0.353558  0.363635  1.000000  0.753252  \n",
       "RM       0.219211  0.187175  0.278136  0.344753  0.111318  0.593509  0.684011  \n",
       "PTRATIO  0.240381  0.456515  0.461836  1.000000  0.190627  0.353558  0.512201  \n",
       "INDUS    0.711269  0.582916  0.727380  0.384198  0.360666  0.616574  0.498630  \n",
       "TAX      0.541043  0.894437  1.000000  0.461836  0.452291  0.541115  0.468262  \n",
       "NOX      0.763106  0.624177  0.680614  0.217253  0.377686  0.624415  0.449706  \n",
       "AGE      0.715271  0.457093  0.507352  0.276290  0.269051  0.607571  0.413605  \n",
       "ZN       0.639337  0.305356  0.316457  0.382791  0.182498  0.435246  0.408057  \n",
       "RAD      0.491662  1.000000  0.894437  0.456515  0.461684  0.475693  0.372625  \n",
       "CRIM     0.363133  0.594872  0.545241  0.269811  0.347409  0.422540  0.368988  \n",
       "B        0.296180  0.461684  0.452291  0.190627  1.000000  0.363635  0.339353  \n",
       "DIS      1.000000  0.491662  0.541043  0.240381  0.296180  0.500062  0.273782  \n",
       "CHAS     0.091399  0.020382  0.061107  0.174097  0.047781  0.052901  0.171910  "
      ]
     },
     "execution_count": 34,
     "metadata": {},
     "output_type": "execute_result"
    }
   ],
   "source": [
    "# 내부와 상관 계수 값을 절대 값으로 변경\n",
    "X_train_abs = X_train_copy.corr().abs()\n",
    "# 절대 값으로 변경은 상관 계수를 내림차순으로 정렬해보자(기준은 MEDV)\n",
    "X_train_abs.sort_values(by = 'MEDV', ascending = False)"
   ]
  },
  {
   "cell_type": "markdown",
   "id": "35219c9d",
   "metadata": {},
   "source": [
    "- 상관관계의 범위는 -1 ~ 1\n",
    "- 현재 절대 값으로 변경된 상관관계수를 확인 ->같은 컬럼을 제외한 상관계수가 높은 컬럼 2개를 찾아보자\n",
    "- LSTAT과 RM이라는 컬럼이 상관관계가 높았다. -> 이 두가지의 컬럼을 가지고 특성 곱이라는 확장을 진행해보자"
   ]
  },
  {
   "cell_type": "code",
   "execution_count": 35,
   "id": "669464d0",
   "metadata": {},
   "outputs": [
    {
     "data": {
      "image/png": "[encoded data removed]",
      "text/plain": [
       "<Figure size 640x480 with 1 Axes>"
      ]
     },
     "metadata": {},
     "output_type": "display_data"
    }
   ],
   "source": [
    "# 상관관계가 높은 데이터를 가지고 특성 확장래보기\n",
    "#확장전) 먼저 LSTAT 특성만 가지고 학습시킨 후 예측을 어떻게 하는지 시각화\n",
    "#모델 학습-> LSTAT만 가지고 학습\n",
    "model = LinearRegression()\n",
    "model.fit(X_train[['LSTAT']], y_train)\n",
    "pre = model.predict(X_train[['LSTAT']])\n",
    "\n",
    "# 차트 그려보기 -> 스캐터 차트 두개 그려보기(실제 데이터, 예측 데이터)\n",
    "plt.scatter(X_train['LSTAT'], y_train) # -> tlfwp epdlxj tmzoxj ckxm\n",
    "plt.scatter(X_train['LSTAT'], pre, color='red')\n",
    "plt.show()"
   ]
  },
  {
   "cell_type": "markdown",
   "id": "70cf25f3",
   "metadata": {},
   "source": [
    "- LSTAT으로만 예측한 데이터는 직선의 형태를 뛰고 있다.\n",
    "- 확장 후의 데이터를 확인해보자."
   ]
  },
  {
   "cell_type": "code",
   "execution_count": 36,
   "id": "5f9d61e1",
   "metadata": {},
   "outputs": [],
   "source": [
    "# 특성확장 후 : 본래 LSTAT 특성과 확장 LSTAT 특성을 가지고 학습시킨 후 예측을 어떻게 하는지 보자\n",
    "X_train['LSTAT x LSTAT'] = X_train['LSTAT'] * X_train['LSTAT']\n"
   ]
  },
  {
   "cell_type": "code",
   "execution_count": 38,
   "id": "8f6bc5cf",
   "metadata": {},
   "outputs": [
    {
     "data": {
      "image/png": "[encoded data removed]",
      "text/plain": [
       "<Figure size 640x480 with 1 Axes>"
      ]
     },
     "metadata": {},
     "output_type": "display_data"
    }
   ],
   "source": [
    "# 모델 학습 \n",
    "model2 = LinearRegression()\n",
    "model2.fit(X_train[['LSTAT', 'LSTAT x LSTAT']], y_train)\n",
    "pre = model2.predict(X_train[['LSTAT', 'LSTAT x LSTAT']])\n",
    "\n",
    "# 차트 그려보기\n",
    "plt.scatter(X_train['LSTAT'], y_train) # ->실제 데이터 스캐터 차트\n",
    "plt.scatter(X_train['LSTAT'], pre, color='red') # -> 예측 데이터 스캐터 차트\n",
    "plt.show()"
   ]
  },
  {
   "cell_type": "markdown",
   "id": "b34b6233",
   "metadata": {},
   "source": [
    "- 직선의 형태가 아니네? ->곡선이면 비선형인가?\n",
    "- 다항 회귀의 이해가 필요하다\n",
    "- 다항 회귀 : 독립변수의단항식이 아닌(독립변수 x가 1개가 아닌) 2차, 3차 방정식과 같은 다항식으로 표현된 것이 다항 회귀라고 한다!\n",
    "\n",
    "<font color = 'red'>주의)<br>\n",
    "1. 다항 회귀를 선형이 아닌 비선형으로 혼동할 수 있다. -> 선형회귀라는 것을 기억하자<br>\n",
    "2. 선형/비선형 회귀를 나누는 기준? -> 가중치(회귀 계수, W)가 선형 / 비선형인지를 확인해보자<br>\n",
    "3. 독립변수(문제 데이터, 특성, x)가 선형/ 비선형인지를 따르지 않는다.\n",
    "</font>"
   ]
  },
  {
   "cell_type": "code",
   "execution_count": 39,
   "id": "86aaeaba",
   "metadata": {
    "scrolled": true
   },
   "outputs": [
    {
     "name": "stdout",
     "output_type": "stream",
     "text": [
      "<class 'pandas.core.frame.DataFrame'>\n",
      "Int64Index: 349 entries, 424 to 451\n",
      "Data columns (total 15 columns):\n",
      " #   Column         Non-Null Count  Dtype  \n",
      "---  ------         --------------  -----  \n",
      " 0   CRIM           349 non-null    float64\n",
      " 1   ZN             349 non-null    float64\n",
      " 2   INDUS          349 non-null    float64\n",
      " 3   CHAS           349 non-null    float64\n",
      " 4   NOX            349 non-null    float64\n",
      " 5   RM             349 non-null    float64\n",
      " 6   AGE            349 non-null    float64\n",
      " 7   DIS            349 non-null    float64\n",
      " 8   RAD            349 non-null    float64\n",
      " 9   TAX            349 non-null    float64\n",
      " 10  PTRATIO        349 non-null    float64\n",
      " 11  B              349 non-null    float64\n",
      " 12  LSTAT          349 non-null    float64\n",
      " 13  MEDV           349 non-null    float64\n",
      " 14  LSTAT x LSTAT  349 non-null    float64\n",
      "dtypes: float64(15)\n",
      "memory usage: 43.6 KB\n"
     ]
    }
   ],
   "source": [
    "X_train.info()"
   ]
  },
  {
   "cell_type": "code",
   "execution_count": 48,
   "id": "ca4e03a7",
   "metadata": {},
   "outputs": [],
   "source": [
    "X_train.drop('MEDV', axis=1, inplace = True)"
   ]
  },
  {
   "cell_type": "code",
   "execution_count": 49,
   "id": "2b54283d",
   "metadata": {},
   "outputs": [
    {
     "name": "stdout",
     "output_type": "stream",
     "text": [
      "<class 'pandas.core.frame.DataFrame'>\n",
      "Int64Index: 157 entries, 337 to 294\n",
      "Data columns (total 14 columns):\n",
      " #   Column         Non-Null Count  Dtype  \n",
      "---  ------         --------------  -----  \n",
      " 0   CRIM           157 non-null    float64\n",
      " 1   ZN             157 non-null    float64\n",
      " 2   INDUS          157 non-null    float64\n",
      " 3   CHAS           157 non-null    float64\n",
      " 4   NOX            157 non-null    float64\n",
      " 5   RM             157 non-null    float64\n",
      " 6   AGE            157 non-null    float64\n",
      " 7   DIS            157 non-null    float64\n",
      " 8   RAD            157 non-null    float64\n",
      " 9   TAX            157 non-null    float64\n",
      " 10  PTRATIO        157 non-null    float64\n",
      " 11  B              157 non-null    float64\n",
      " 12  LSTAT          157 non-null    float64\n",
      " 13  LSTAT x LSTAT  157 non-null    float64\n",
      "dtypes: float64(14)\n",
      "memory usage: 18.4 KB\n"
     ]
    }
   ],
   "source": [
    "X_test.info()"
   ]
  },
  {
   "cell_type": "code",
   "execution_count": 50,
   "id": "df3d89fd",
   "metadata": {},
   "outputs": [],
   "source": [
    "# X_test에도 확장 LSTAT을 추가 시켜보자\n",
    "X_test['LSTAT x LSTAT'] = X_test['LSTAT'] * X_test['LSTAT']"
   ]
  },
  {
   "cell_type": "code",
   "execution_count": 51,
   "id": "69c38481",
   "metadata": {},
   "outputs": [],
   "source": [
    "# 모델 객체 생성\n",
    "model = LinearRegression()"
   ]
  },
  {
   "cell_type": "code",
   "execution_count": 52,
   "id": "bd4e5a3e",
   "metadata": {},
   "outputs": [
    {
     "data": {
      "text/html": [
       "<style>#sk-container-id-3 {color: black;background-color: white;}#sk-container-id-3 pre{padding: 0;}#sk-container-id-3 div.sk-toggleable {background-color: white;}#sk-container-id-3 label.sk-toggleable__label {cursor: pointer;display: block;width: 100%;margin-bottom: 0;padding: 0.3em;box-sizing: border-box;text-align: center;}#sk-container-id-3 label.sk-toggleable__label-arrow:before {content: \"▸\";float: left;margin-right: 0.25em;color: #696969;}#sk-container-id-3 label.sk-toggleable__label-arrow:hover:before {color: black;}#sk-container-id-3 div.sk-estimator:hover label.sk-toggleable__label-arrow:before {color: black;}#sk-container-id-3 div.sk-toggleable__content {max-height: 0;max-width: 0;overflow: hidden;text-align: left;background-color: #f0f8ff;}#sk-container-id-3 div.sk-toggleable__content pre {margin: 0.2em;color: black;border-radius: 0.25em;background-color: #f0f8ff;}#sk-container-id-3 input.sk-toggleable__control:checked~div.sk-toggleable__content {max-height: 200px;max-width: 100%;overflow: auto;}#sk-container-id-3 input.sk-toggleable__control:checked~label.sk-toggleable__label-arrow:before {content: \"▾\";}#sk-container-id-3 div.sk-estimator input.sk-toggleable__control:checked~label.sk-toggleable__label {background-color: #d4ebff;}#sk-container-id-3 div.sk-label input.sk-toggleable__control:checked~label.sk-toggleable__label {background-color: #d4ebff;}#sk-container-id-3 input.sk-hidden--visually {border: 0;clip: rect(1px 1px 1px 1px);clip: rect(1px, 1px, 1px, 1px);height: 1px;margin: -1px;overflow: hidden;padding: 0;position: absolute;width: 1px;}#sk-container-id-3 div.sk-estimator {font-family: monospace;background-color: #f0f8ff;border: 1px dotted black;border-radius: 0.25em;box-sizing: border-box;margin-bottom: 0.5em;}#sk-container-id-3 div.sk-estimator:hover {background-color: #d4ebff;}#sk-container-id-3 div.sk-parallel-item::after {content: \"\";width: 100%;border-bottom: 1px solid gray;flex-grow: 1;}#sk-container-id-3 div.sk-label:hover label.sk-toggleable__label {background-color: #d4ebff;}#sk-container-id-3 div.sk-serial::before {content: \"\";position: absolute;border-left: 1px solid gray;box-sizing: border-box;top: 0;bottom: 0;left: 50%;z-index: 0;}#sk-container-id-3 div.sk-serial {display: flex;flex-direction: column;align-items: center;background-color: white;padding-right: 0.2em;padding-left: 0.2em;position: relative;}#sk-container-id-3 div.sk-item {position: relative;z-index: 1;}#sk-container-id-3 div.sk-parallel {display: flex;align-items: stretch;justify-content: center;background-color: white;position: relative;}#sk-container-id-3 div.sk-item::before, #sk-container-id-3 div.sk-parallel-item::before {content: \"\";position: absolute;border-left: 1px solid gray;box-sizing: border-box;top: 0;bottom: 0;left: 50%;z-index: -1;}#sk-container-id-3 div.sk-parallel-item {display: flex;flex-direction: column;z-index: 1;position: relative;background-color: white;}#sk-container-id-3 div.sk-parallel-item:first-child::after {align-self: flex-end;width: 50%;}#sk-container-id-3 div.sk-parallel-item:last-child::after {align-self: flex-start;width: 50%;}#sk-container-id-3 div.sk-parallel-item:only-child::after {width: 0;}#sk-container-id-3 div.sk-dashed-wrapped {border: 1px dashed gray;margin: 0 0.4em 0.5em 0.4em;box-sizing: border-box;padding-bottom: 0.4em;background-color: white;}#sk-container-id-3 div.sk-label label {font-family: monospace;font-weight: bold;display: inline-block;line-height: 1.2em;}#sk-container-id-3 div.sk-label-container {text-align: center;}#sk-container-id-3 div.sk-container {/* jupyter's `normalize.less` sets `[hidden] { display: none; }` but bootstrap.min.css set `[hidden] { display: none !important; }` so we also need the `!important` here to be able to override the default hidden behavior on the sphinx rendered scikit-learn.org. See: https://github.com/scikit-learn/scikit-learn/issues/21755 */display: inline-block !important;position: relative;}#sk-container-id-3 div.sk-text-repr-fallback {display: none;}</style><div id=\"sk-container-id-3\" class=\"sk-top-container\"><div class=\"sk-text-repr-fallback\"><pre>LinearRegression()</pre><b>In a Jupyter environment, please rerun this cell to show the HTML representation or trust the notebook. <br />On GitHub, the HTML representation is unable to render, please try loading this page with nbviewer.org.</b></div><div class=\"sk-container\" hidden><div class=\"sk-item\"><div class=\"sk-estimator sk-toggleable\"><input class=\"sk-toggleable__control sk-hidden--visually\" id=\"sk-estimator-id-3\" type=\"checkbox\" checked><label for=\"sk-estimator-id-3\" class=\"sk-toggleable__label sk-toggleable__label-arrow\">LinearRegression</label><div class=\"sk-toggleable__content\"><pre>LinearRegression()</pre></div></div></div></div></div>"
      ],
      "text/plain": [
       "LinearRegression()"
      ]
     },
     "execution_count": 52,
     "metadata": {},
     "output_type": "execute_result"
    }
   ],
   "source": [
    "# 모델 학습\n",
    "model.fit(X_train, y_train) # 이때 X_train에는 확장된 LSTAT 컬럼 추가"
   ]
  },
  {
   "cell_type": "code",
   "execution_count": 53,
   "id": "036dcc8f",
   "metadata": {},
   "outputs": [
    {
     "data": {
      "text/plain": [
       "0.7589772228178321"
      ]
     },
     "execution_count": 53,
     "metadata": {},
     "output_type": "execute_result"
    }
   ],
   "source": [
    "# 모델 평가\n",
    "model.score(X_test, y_test)"
   ]
  },
  {
   "cell_type": "code",
   "execution_count": 59,
   "id": "28a08c0e",
   "metadata": {
    "scrolled": true
   },
   "outputs": [
    {
     "data": {
      "image/png": "[encoded data removed]",
      "text/plain": [
       "<Figure size 640x480 with 1 Axes>"
      ]
     },
     "metadata": {},
     "output_type": "display_data"
    }
   ],
   "source": [
    "# 특성 확장 하나 더 추가해봅시다.\n",
    "# 상관관계가 높았던 RM이라는 컬럼도 특성 확장을 추가\n",
    "#상관관계가 높은 데이터를 가지고 특성 확장 해보기\n",
    "#확장전) 먼저 RM 특성만 가지고 학습 시킨 후 예측을 어떻게 하는지 시각화\n",
    "# 모델 학습 \n",
    "model2 = LinearRegression()\n",
    "model2.fit(X_train[['RM']], y_train)\n",
    "pre = model2.predict(X_train[['RM']])\n",
    "\n",
    "# 차트 그려보기\n",
    "plt.scatter(X_train['RM'], y_train) # ->실제 데이터 스캐터 차트\n",
    "plt.scatter(X_train['RM'], pre, color='red') # -> 예측 데이터 스캐터 차트\n",
    "plt.show()"
   ]
  },
  {
   "cell_type": "code",
   "execution_count": 67,
   "id": "56b3eef2",
   "metadata": {},
   "outputs": [
    {
     "data": {
      "image/png": "[encoded data removed]",
      "text/plain": [
       "<Figure size 640x480 with 1 Axes>"
      ]
     },
     "metadata": {},
     "output_type": "display_data"
    }
   ],
   "source": [
    "# 특성 확장 후 : 본래 RM 특성과 확장 RM 특성을 가지고 학습 시킨 후 예측을 어떻게 하는지 보자 \n",
    "X_train['RM x RM'] = X_train['RM'] * X_train['RM'] # 특성 추가 확장\n",
    "# 모델 학습 \n",
    "model2 = LinearRegression()\n",
    "model2.fit(X_train[['RM', 'RM x RM']], y_train)\n",
    "pre = model2.predict(X_train[['RM', 'RM x RM']])\n",
    "\n",
    "# 차트 그려보기 -> 스캐터 차트 두개 그려보기 (실제 데이터, 예측 데이터)\n",
    "plt.scatter(X_train['RM'], y_train) # -> 실제 데이터 스캐터 차트\n",
    "plt.scatter(X_train['RM'], pre, color='red') # -> 예측 데이터 스캐터 차트\n",
    "plt.show()"
   ]
  },
  {
   "cell_type": "code",
   "execution_count": 68,
   "id": "1ca3e14a",
   "metadata": {},
   "outputs": [
    {
     "name": "stdout",
     "output_type": "stream",
     "text": [
      "<class 'pandas.core.frame.DataFrame'>\n",
      "Int64Index: 349 entries, 424 to 451\n",
      "Data columns (total 15 columns):\n",
      " #   Column         Non-Null Count  Dtype  \n",
      "---  ------         --------------  -----  \n",
      " 0   CRIM           349 non-null    float64\n",
      " 1   ZN             349 non-null    float64\n",
      " 2   INDUS          349 non-null    float64\n",
      " 3   CHAS           349 non-null    float64\n",
      " 4   NOX            349 non-null    float64\n",
      " 5   RM             349 non-null    float64\n",
      " 6   AGE            349 non-null    float64\n",
      " 7   DIS            349 non-null    float64\n",
      " 8   RAD            349 non-null    float64\n",
      " 9   TAX            349 non-null    float64\n",
      " 10  PTRATIO        349 non-null    float64\n",
      " 11  B              349 non-null    float64\n",
      " 12  LSTAT          349 non-null    float64\n",
      " 13  LSTAT x LSTAT  349 non-null    float64\n",
      " 14  RM x RM        349 non-null    float64\n",
      "dtypes: float64(15)\n",
      "memory usage: 51.7 KB\n"
     ]
    }
   ],
   "source": [
    "# RM특성 확장해서 실제 평가까지 진행\n",
    "X_train.info()"
   ]
  },
  {
   "cell_type": "code",
   "execution_count": 69,
   "id": "ab359916",
   "metadata": {},
   "outputs": [
    {
     "name": "stdout",
     "output_type": "stream",
     "text": [
      "<class 'pandas.core.frame.DataFrame'>\n",
      "Int64Index: 157 entries, 337 to 294\n",
      "Data columns (total 15 columns):\n",
      " #   Column         Non-Null Count  Dtype  \n",
      "---  ------         --------------  -----  \n",
      " 0   CRIM           157 non-null    float64\n",
      " 1   ZN             157 non-null    float64\n",
      " 2   INDUS          157 non-null    float64\n",
      " 3   CHAS           157 non-null    float64\n",
      " 4   NOX            157 non-null    float64\n",
      " 5   RM             157 non-null    float64\n",
      " 6   AGE            157 non-null    float64\n",
      " 7   DIS            157 non-null    float64\n",
      " 8   RAD            157 non-null    float64\n",
      " 9   TAX            157 non-null    float64\n",
      " 10  PTRATIO        157 non-null    float64\n",
      " 11  B              157 non-null    float64\n",
      " 12  LSTAT          157 non-null    float64\n",
      " 13  LSTAT x LSTAT  157 non-null    float64\n",
      " 14  RM x RM        157 non-null    float64\n",
      "dtypes: float64(15)\n",
      "memory usage: 19.6 KB\n"
     ]
    }
   ],
   "source": [
    "X_test.info()"
   ]
  },
  {
   "cell_type": "code",
   "execution_count": 70,
   "id": "bd156137",
   "metadata": {},
   "outputs": [],
   "source": [
    "# test에도 확장 RM 컬럼 추가\n",
    "X_test['RM x RM'] = X_test['RM'] * X_test['RM']"
   ]
  },
  {
   "cell_type": "code",
   "execution_count": 71,
   "id": "e7a2a158",
   "metadata": {},
   "outputs": [
    {
     "name": "stdout",
     "output_type": "stream",
     "text": [
      "<class 'pandas.core.frame.DataFrame'>\n",
      "Int64Index: 157 entries, 337 to 294\n",
      "Data columns (total 15 columns):\n",
      " #   Column         Non-Null Count  Dtype  \n",
      "---  ------         --------------  -----  \n",
      " 0   CRIM           157 non-null    float64\n",
      " 1   ZN             157 non-null    float64\n",
      " 2   INDUS          157 non-null    float64\n",
      " 3   CHAS           157 non-null    float64\n",
      " 4   NOX            157 non-null    float64\n",
      " 5   RM             157 non-null    float64\n",
      " 6   AGE            157 non-null    float64\n",
      " 7   DIS            157 non-null    float64\n",
      " 8   RAD            157 non-null    float64\n",
      " 9   TAX            157 non-null    float64\n",
      " 10  PTRATIO        157 non-null    float64\n",
      " 11  B              157 non-null    float64\n",
      " 12  LSTAT          157 non-null    float64\n",
      " 13  LSTAT x LSTAT  157 non-null    float64\n",
      " 14  RM x RM        157 non-null    float64\n",
      "dtypes: float64(15)\n",
      "memory usage: 19.6 KB\n"
     ]
    }
   ],
   "source": [
    "X_test.info()"
   ]
  },
  {
   "cell_type": "code",
   "execution_count": 72,
   "id": "307ff797",
   "metadata": {},
   "outputs": [],
   "source": [
    "# 모델 객체 생성\n",
    "model = LinearRegression()"
   ]
  },
  {
   "cell_type": "code",
   "execution_count": 73,
   "id": "59c783b3",
   "metadata": {},
   "outputs": [
    {
     "data": {
      "text/html": [
       "<style>#sk-container-id-5 {color: black;background-color: white;}#sk-container-id-5 pre{padding: 0;}#sk-container-id-5 div.sk-toggleable {background-color: white;}#sk-container-id-5 label.sk-toggleable__label {cursor: pointer;display: block;width: 100%;margin-bottom: 0;padding: 0.3em;box-sizing: border-box;text-align: center;}#sk-container-id-5 label.sk-toggleable__label-arrow:before {content: \"▸\";float: left;margin-right: 0.25em;color: #696969;}#sk-container-id-5 label.sk-toggleable__label-arrow:hover:before {color: black;}#sk-container-id-5 div.sk-estimator:hover label.sk-toggleable__label-arrow:before {color: black;}#sk-container-id-5 div.sk-toggleable__content {max-height: 0;max-width: 0;overflow: hidden;text-align: left;background-color: #f0f8ff;}#sk-container-id-5 div.sk-toggleable__content pre {margin: 0.2em;color: black;border-radius: 0.25em;background-color: #f0f8ff;}#sk-container-id-5 input.sk-toggleable__control:checked~div.sk-toggleable__content {max-height: 200px;max-width: 100%;overflow: auto;}#sk-container-id-5 input.sk-toggleable__control:checked~label.sk-toggleable__label-arrow:before {content: \"▾\";}#sk-container-id-5 div.sk-estimator input.sk-toggleable__control:checked~label.sk-toggleable__label {background-color: #d4ebff;}#sk-container-id-5 div.sk-label input.sk-toggleable__control:checked~label.sk-toggleable__label {background-color: #d4ebff;}#sk-container-id-5 input.sk-hidden--visually {border: 0;clip: rect(1px 1px 1px 1px);clip: rect(1px, 1px, 1px, 1px);height: 1px;margin: -1px;overflow: hidden;padding: 0;position: absolute;width: 1px;}#sk-container-id-5 div.sk-estimator {font-family: monospace;background-color: #f0f8ff;border: 1px dotted black;border-radius: 0.25em;box-sizing: border-box;margin-bottom: 0.5em;}#sk-container-id-5 div.sk-estimator:hover {background-color: #d4ebff;}#sk-container-id-5 div.sk-parallel-item::after {content: \"\";width: 100%;border-bottom: 1px solid gray;flex-grow: 1;}#sk-container-id-5 div.sk-label:hover label.sk-toggleable__label {background-color: #d4ebff;}#sk-container-id-5 div.sk-serial::before {content: \"\";position: absolute;border-left: 1px solid gray;box-sizing: border-box;top: 0;bottom: 0;left: 50%;z-index: 0;}#sk-container-id-5 div.sk-serial {display: flex;flex-direction: column;align-items: center;background-color: white;padding-right: 0.2em;padding-left: 0.2em;position: relative;}#sk-container-id-5 div.sk-item {position: relative;z-index: 1;}#sk-container-id-5 div.sk-parallel {display: flex;align-items: stretch;justify-content: center;background-color: white;position: relative;}#sk-container-id-5 div.sk-item::before, #sk-container-id-5 div.sk-parallel-item::before {content: \"\";position: absolute;border-left: 1px solid gray;box-sizing: border-box;top: 0;bottom: 0;left: 50%;z-index: -1;}#sk-container-id-5 div.sk-parallel-item {display: flex;flex-direction: column;z-index: 1;position: relative;background-color: white;}#sk-container-id-5 div.sk-parallel-item:first-child::after {align-self: flex-end;width: 50%;}#sk-container-id-5 div.sk-parallel-item:last-child::after {align-self: flex-start;width: 50%;}#sk-container-id-5 div.sk-parallel-item:only-child::after {width: 0;}#sk-container-id-5 div.sk-dashed-wrapped {border: 1px dashed gray;margin: 0 0.4em 0.5em 0.4em;box-sizing: border-box;padding-bottom: 0.4em;background-color: white;}#sk-container-id-5 div.sk-label label {font-family: monospace;font-weight: bold;display: inline-block;line-height: 1.2em;}#sk-container-id-5 div.sk-label-container {text-align: center;}#sk-container-id-5 div.sk-container {/* jupyter's `normalize.less` sets `[hidden] { display: none; }` but bootstrap.min.css set `[hidden] { display: none !important; }` so we also need the `!important` here to be able to override the default hidden behavior on the sphinx rendered scikit-learn.org. See: https://github.com/scikit-learn/scikit-learn/issues/21755 */display: inline-block !important;position: relative;}#sk-container-id-5 div.sk-text-repr-fallback {display: none;}</style><div id=\"sk-container-id-5\" class=\"sk-top-container\"><div class=\"sk-text-repr-fallback\"><pre>LinearRegression()</pre><b>In a Jupyter environment, please rerun this cell to show the HTML representation or trust the notebook. <br />On GitHub, the HTML representation is unable to render, please try loading this page with nbviewer.org.</b></div><div class=\"sk-container\" hidden><div class=\"sk-item\"><div class=\"sk-estimator sk-toggleable\"><input class=\"sk-toggleable__control sk-hidden--visually\" id=\"sk-estimator-id-5\" type=\"checkbox\" checked><label for=\"sk-estimator-id-5\" class=\"sk-toggleable__label sk-toggleable__label-arrow\">LinearRegression</label><div class=\"sk-toggleable__content\"><pre>LinearRegression()</pre></div></div></div></div></div>"
      ],
      "text/plain": [
       "LinearRegression()"
      ]
     },
     "execution_count": 73,
     "metadata": {},
     "output_type": "execute_result"
    }
   ],
   "source": [
    "# 모델학습\n",
    "model.fit(X_train, y_train) # 추가된 컬럼은 확장 LSTAT, 확장 RM"
   ]
  },
  {
   "cell_type": "code",
   "execution_count": 74,
   "id": "03647c36",
   "metadata": {},
   "outputs": [
    {
     "data": {
      "text/plain": [
       "0.7776908089186515"
      ]
     },
     "execution_count": 74,
     "metadata": {},
     "output_type": "execute_result"
    }
   ],
   "source": [
    "model.score(X_test, y_test)"
   ]
  },
  {
   "cell_type": "markdown",
   "id": "46da0768",
   "metadata": {},
   "source": [
    "- 정리\n",
    "    - 특성확장을 진행해서 선형회귀 모델의 성능이 개선된 것을 확인했다.\n",
    "    - 기존에는 LSTAT과 RM이라는 컬럼만 특성확장을 진행\n",
    "    - 전체 컬럼을 가지고 특성 확장을 진행하면 성능이 좋아지지 않을까?(가설)"
   ]
  },
  {
   "cell_type": "code",
   "execution_count": 78,
   "id": "7463e6db",
   "metadata": {},
   "outputs": [],
   "source": [
    "# 전체 컬럼을 가지고 특성 확장 진행해보기\n",
    "# 1. 기존에 특성이 확장된 컬럼을 삭제\n",
    "X_train.drop(['LSTAT x LSTAT', 'RM x RM'], axis=1, inplace = True)\n",
    "X_test.drop(['LSTAT x LSTAT', 'RM x RM'], axis=1, inplace = True)"
   ]
  },
  {
   "cell_type": "code",
   "execution_count": 79,
   "id": "0bc643c7",
   "metadata": {},
   "outputs": [
    {
     "name": "stdout",
     "output_type": "stream",
     "text": [
      "<class 'pandas.core.frame.DataFrame'>\n",
      "Int64Index: 349 entries, 424 to 451\n",
      "Data columns (total 13 columns):\n",
      " #   Column   Non-Null Count  Dtype  \n",
      "---  ------   --------------  -----  \n",
      " 0   CRIM     349 non-null    float64\n",
      " 1   ZN       349 non-null    float64\n",
      " 2   INDUS    349 non-null    float64\n",
      " 3   CHAS     349 non-null    float64\n",
      " 4   NOX      349 non-null    float64\n",
      " 5   RM       349 non-null    float64\n",
      " 6   AGE      349 non-null    float64\n",
      " 7   DIS      349 non-null    float64\n",
      " 8   RAD      349 non-null    float64\n",
      " 9   TAX      349 non-null    float64\n",
      " 10  PTRATIO  349 non-null    float64\n",
      " 11  B        349 non-null    float64\n",
      " 12  LSTAT    349 non-null    float64\n",
      "dtypes: float64(13)\n",
      "memory usage: 46.3 KB\n"
     ]
    }
   ],
   "source": [
    "X_train.info()"
   ]
  },
  {
   "cell_type": "code",
   "execution_count": 81,
   "id": "cb3eb891",
   "metadata": {},
   "outputs": [
    {
     "name": "stdout",
     "output_type": "stream",
     "text": [
      "<class 'pandas.core.frame.DataFrame'>\n",
      "Int64Index: 157 entries, 337 to 294\n",
      "Data columns (total 13 columns):\n",
      " #   Column   Non-Null Count  Dtype  \n",
      "---  ------   --------------  -----  \n",
      " 0   CRIM     157 non-null    float64\n",
      " 1   ZN       157 non-null    float64\n",
      " 2   INDUS    157 non-null    float64\n",
      " 3   CHAS     157 non-null    float64\n",
      " 4   NOX      157 non-null    float64\n",
      " 5   RM       157 non-null    float64\n",
      " 6   AGE      157 non-null    float64\n",
      " 7   DIS      157 non-null    float64\n",
      " 8   RAD      157 non-null    float64\n",
      " 9   TAX      157 non-null    float64\n",
      " 10  PTRATIO  157 non-null    float64\n",
      " 11  B        157 non-null    float64\n",
      " 12  LSTAT    157 non-null    float64\n",
      "dtypes: float64(13)\n",
      "memory usage: 17.2 KB\n"
     ]
    }
   ],
   "source": [
    "X_test.info()"
   ]
  },
  {
   "cell_type": "code",
   "execution_count": 82,
   "id": "25ffd460",
   "metadata": {},
   "outputs": [],
   "source": [
    "# X_train의 컬럼은 13개 -> 모든 컬럼을 확장\n",
    "# 원본 확보\n",
    "X_train_copy2 = X_train.copy()"
   ]
  },
  {
   "cell_type": "code",
   "execution_count": 85,
   "id": "b85d4462",
   "metadata": {},
   "outputs": [],
   "source": [
    "import warnings\n",
    "warnings.filterwarnings('ignore')"
   ]
  },
  {
   "cell_type": "code",
   "execution_count": 100,
   "id": "6e405bb5",
   "metadata": {},
   "outputs": [],
   "source": [
    "for col1 in X_train.columns: # 13번 반복 - > 컬럼의 갯수만큼\n",
    "    for col2 in X_train.columns:  #13번 반복 -> 컬럼의 갯수만큼\n",
    "        X_train_copy2[col1+'x'+col2] = X_train[col1] * X_train[col2]"
   ]
  },
  {
   "cell_type": "code",
   "execution_count": 101,
   "id": "d98e88b2",
   "metadata": {},
   "outputs": [
    {
     "name": "stdout",
     "output_type": "stream",
     "text": [
      "<class 'pandas.core.frame.DataFrame'>\n",
      "Int64Index: 349 entries, 424 to 451\n",
      "Columns: 182 entries, CRIM to LSTATxLSTAT\n",
      "dtypes: float64(182)\n",
      "memory usage: 507.1 KB\n"
     ]
    }
   ],
   "source": [
    "X_train_copy2.info()"
   ]
  },
  {
   "cell_type": "code",
   "execution_count": 99,
   "id": "347b0821",
   "metadata": {},
   "outputs": [
    {
     "data": {
      "text/html": [
       "<div>\n",
       "<style scoped>\n",
       "    .dataframe tbody tr th:only-of-type {\n",
       "        vertical-align: middle;\n",
       "    }\n",
       "\n",
       "    .dataframe tbody tr th {\n",
       "        vertical-align: top;\n",
       "    }\n",
       "\n",
       "    .dataframe thead th {\n",
       "        text-align: right;\n",
       "    }\n",
       "</style>\n",
       "<table border=\"1\" class=\"dataframe\">\n",
       "  <thead>\n",
       "    <tr style=\"text-align: right;\">\n",
       "      <th></th>\n",
       "      <th>424</th>\n",
       "      <th>245</th>\n",
       "      <th>426</th>\n",
       "      <th>234</th>\n",
       "      <th>438</th>\n",
       "      <th>79</th>\n",
       "      <th>24</th>\n",
       "      <th>65</th>\n",
       "      <th>114</th>\n",
       "      <th>227</th>\n",
       "      <th>...</th>\n",
       "      <th>191</th>\n",
       "      <th>360</th>\n",
       "      <th>339</th>\n",
       "      <th>136</th>\n",
       "      <th>474</th>\n",
       "      <th>133</th>\n",
       "      <th>361</th>\n",
       "      <th>497</th>\n",
       "      <th>340</th>\n",
       "      <th>451</th>\n",
       "    </tr>\n",
       "  </thead>\n",
       "  <tbody>\n",
       "    <tr>\n",
       "      <th>CRIM</th>\n",
       "      <td>8.79212</td>\n",
       "      <td>0.19133</td>\n",
       "      <td>12.2472</td>\n",
       "      <td>0.44791</td>\n",
       "      <td>13.6781</td>\n",
       "      <td>0.08387</td>\n",
       "      <td>0.75026</td>\n",
       "      <td>0.03584</td>\n",
       "      <td>0.14231</td>\n",
       "      <td>0.41238</td>\n",
       "      <td>...</td>\n",
       "      <td>0.06911</td>\n",
       "      <td>4.54192</td>\n",
       "      <td>0.05497</td>\n",
       "      <td>0.32264</td>\n",
       "      <td>8.05579</td>\n",
       "      <td>0.32982</td>\n",
       "      <td>3.83684</td>\n",
       "      <td>0.26838</td>\n",
       "      <td>0.06151</td>\n",
       "      <td>5.44114</td>\n",
       "    </tr>\n",
       "    <tr>\n",
       "      <th>ZN</th>\n",
       "      <td>0.00000</td>\n",
       "      <td>22.00000</td>\n",
       "      <td>0.0000</td>\n",
       "      <td>0.00000</td>\n",
       "      <td>0.0000</td>\n",
       "      <td>0.00000</td>\n",
       "      <td>0.00000</td>\n",
       "      <td>80.00000</td>\n",
       "      <td>0.00000</td>\n",
       "      <td>0.00000</td>\n",
       "      <td>...</td>\n",
       "      <td>45.00000</td>\n",
       "      <td>0.00000</td>\n",
       "      <td>0.00000</td>\n",
       "      <td>0.00000</td>\n",
       "      <td>0.00000</td>\n",
       "      <td>0.00000</td>\n",
       "      <td>0.00000</td>\n",
       "      <td>0.00000</td>\n",
       "      <td>0.00000</td>\n",
       "      <td>0.00000</td>\n",
       "    </tr>\n",
       "    <tr>\n",
       "      <th>INDUS</th>\n",
       "      <td>18.10000</td>\n",
       "      <td>5.86000</td>\n",
       "      <td>18.1000</td>\n",
       "      <td>6.20000</td>\n",
       "      <td>18.1000</td>\n",
       "      <td>12.83000</td>\n",
       "      <td>8.14000</td>\n",
       "      <td>3.37000</td>\n",
       "      <td>10.01000</td>\n",
       "      <td>6.20000</td>\n",
       "      <td>...</td>\n",
       "      <td>3.44000</td>\n",
       "      <td>18.10000</td>\n",
       "      <td>5.19000</td>\n",
       "      <td>21.89000</td>\n",
       "      <td>18.10000</td>\n",
       "      <td>21.89000</td>\n",
       "      <td>18.10000</td>\n",
       "      <td>9.69000</td>\n",
       "      <td>5.19000</td>\n",
       "      <td>18.10000</td>\n",
       "    </tr>\n",
       "    <tr>\n",
       "      <th>CHAS</th>\n",
       "      <td>0.00000</td>\n",
       "      <td>0.00000</td>\n",
       "      <td>0.0000</td>\n",
       "      <td>1.00000</td>\n",
       "      <td>0.0000</td>\n",
       "      <td>0.00000</td>\n",
       "      <td>0.00000</td>\n",
       "      <td>0.00000</td>\n",
       "      <td>0.00000</td>\n",
       "      <td>0.00000</td>\n",
       "      <td>...</td>\n",
       "      <td>0.00000</td>\n",
       "      <td>0.00000</td>\n",
       "      <td>0.00000</td>\n",
       "      <td>0.00000</td>\n",
       "      <td>0.00000</td>\n",
       "      <td>0.00000</td>\n",
       "      <td>0.00000</td>\n",
       "      <td>0.00000</td>\n",
       "      <td>0.00000</td>\n",
       "      <td>0.00000</td>\n",
       "    </tr>\n",
       "    <tr>\n",
       "      <th>NOX</th>\n",
       "      <td>0.58400</td>\n",
       "      <td>0.43100</td>\n",
       "      <td>0.5840</td>\n",
       "      <td>0.50700</td>\n",
       "      <td>0.7400</td>\n",
       "      <td>0.43700</td>\n",
       "      <td>0.53800</td>\n",
       "      <td>0.39800</td>\n",
       "      <td>0.54700</td>\n",
       "      <td>0.50400</td>\n",
       "      <td>...</td>\n",
       "      <td>0.43700</td>\n",
       "      <td>0.77000</td>\n",
       "      <td>0.51500</td>\n",
       "      <td>0.62400</td>\n",
       "      <td>0.58400</td>\n",
       "      <td>0.62400</td>\n",
       "      <td>0.77000</td>\n",
       "      <td>0.58500</td>\n",
       "      <td>0.51500</td>\n",
       "      <td>0.71300</td>\n",
       "    </tr>\n",
       "    <tr>\n",
       "      <th>RM</th>\n",
       "      <td>5.56500</td>\n",
       "      <td>5.60500</td>\n",
       "      <td>5.8370</td>\n",
       "      <td>6.72600</td>\n",
       "      <td>5.9350</td>\n",
       "      <td>5.87400</td>\n",
       "      <td>5.92400</td>\n",
       "      <td>6.29000</td>\n",
       "      <td>6.25400</td>\n",
       "      <td>7.16300</td>\n",
       "      <td>...</td>\n",
       "      <td>6.73900</td>\n",
       "      <td>6.39800</td>\n",
       "      <td>5.98500</td>\n",
       "      <td>5.94200</td>\n",
       "      <td>5.42700</td>\n",
       "      <td>5.82200</td>\n",
       "      <td>6.25100</td>\n",
       "      <td>5.79400</td>\n",
       "      <td>5.96800</td>\n",
       "      <td>6.65500</td>\n",
       "    </tr>\n",
       "    <tr>\n",
       "      <th>AGE</th>\n",
       "      <td>70.60000</td>\n",
       "      <td>70.20000</td>\n",
       "      <td>59.7000</td>\n",
       "      <td>66.50000</td>\n",
       "      <td>87.9000</td>\n",
       "      <td>36.60000</td>\n",
       "      <td>94.10000</td>\n",
       "      <td>17.80000</td>\n",
       "      <td>84.20000</td>\n",
       "      <td>79.90000</td>\n",
       "      <td>...</td>\n",
       "      <td>30.80000</td>\n",
       "      <td>88.00000</td>\n",
       "      <td>45.40000</td>\n",
       "      <td>93.50000</td>\n",
       "      <td>95.40000</td>\n",
       "      <td>95.40000</td>\n",
       "      <td>91.10000</td>\n",
       "      <td>70.60000</td>\n",
       "      <td>58.50000</td>\n",
       "      <td>98.20000</td>\n",
       "    </tr>\n",
       "    <tr>\n",
       "      <th>DIS</th>\n",
       "      <td>2.06350</td>\n",
       "      <td>7.95490</td>\n",
       "      <td>1.9976</td>\n",
       "      <td>3.65190</td>\n",
       "      <td>1.8206</td>\n",
       "      <td>4.50260</td>\n",
       "      <td>4.39960</td>\n",
       "      <td>6.61150</td>\n",
       "      <td>2.25650</td>\n",
       "      <td>3.21570</td>\n",
       "      <td>...</td>\n",
       "      <td>6.47980</td>\n",
       "      <td>2.51820</td>\n",
       "      <td>4.81220</td>\n",
       "      <td>1.96690</td>\n",
       "      <td>2.42980</td>\n",
       "      <td>2.46990</td>\n",
       "      <td>2.29550</td>\n",
       "      <td>2.89270</td>\n",
       "      <td>4.81220</td>\n",
       "      <td>2.35520</td>\n",
       "    </tr>\n",
       "    <tr>\n",
       "      <th>RAD</th>\n",
       "      <td>24.00000</td>\n",
       "      <td>7.00000</td>\n",
       "      <td>24.0000</td>\n",
       "      <td>8.00000</td>\n",
       "      <td>24.0000</td>\n",
       "      <td>5.00000</td>\n",
       "      <td>4.00000</td>\n",
       "      <td>4.00000</td>\n",
       "      <td>6.00000</td>\n",
       "      <td>8.00000</td>\n",
       "      <td>...</td>\n",
       "      <td>5.00000</td>\n",
       "      <td>24.00000</td>\n",
       "      <td>5.00000</td>\n",
       "      <td>4.00000</td>\n",
       "      <td>24.00000</td>\n",
       "      <td>4.00000</td>\n",
       "      <td>24.00000</td>\n",
       "      <td>6.00000</td>\n",
       "      <td>5.00000</td>\n",
       "      <td>24.00000</td>\n",
       "    </tr>\n",
       "    <tr>\n",
       "      <th>TAX</th>\n",
       "      <td>666.00000</td>\n",
       "      <td>330.00000</td>\n",
       "      <td>666.0000</td>\n",
       "      <td>307.00000</td>\n",
       "      <td>666.0000</td>\n",
       "      <td>398.00000</td>\n",
       "      <td>307.00000</td>\n",
       "      <td>337.00000</td>\n",
       "      <td>432.00000</td>\n",
       "      <td>307.00000</td>\n",
       "      <td>...</td>\n",
       "      <td>398.00000</td>\n",
       "      <td>666.00000</td>\n",
       "      <td>224.00000</td>\n",
       "      <td>437.00000</td>\n",
       "      <td>666.00000</td>\n",
       "      <td>437.00000</td>\n",
       "      <td>666.00000</td>\n",
       "      <td>391.00000</td>\n",
       "      <td>224.00000</td>\n",
       "      <td>666.00000</td>\n",
       "    </tr>\n",
       "    <tr>\n",
       "      <th>PTRATIO</th>\n",
       "      <td>20.20000</td>\n",
       "      <td>19.10000</td>\n",
       "      <td>20.2000</td>\n",
       "      <td>17.40000</td>\n",
       "      <td>20.2000</td>\n",
       "      <td>18.70000</td>\n",
       "      <td>21.00000</td>\n",
       "      <td>16.10000</td>\n",
       "      <td>17.80000</td>\n",
       "      <td>17.40000</td>\n",
       "      <td>...</td>\n",
       "      <td>15.20000</td>\n",
       "      <td>20.20000</td>\n",
       "      <td>20.20000</td>\n",
       "      <td>21.20000</td>\n",
       "      <td>20.20000</td>\n",
       "      <td>21.20000</td>\n",
       "      <td>20.20000</td>\n",
       "      <td>19.20000</td>\n",
       "      <td>20.20000</td>\n",
       "      <td>20.20000</td>\n",
       "    </tr>\n",
       "    <tr>\n",
       "      <th>B</th>\n",
       "      <td>3.65000</td>\n",
       "      <td>389.13000</td>\n",
       "      <td>24.6500</td>\n",
       "      <td>360.20000</td>\n",
       "      <td>68.9500</td>\n",
       "      <td>396.06000</td>\n",
       "      <td>394.33000</td>\n",
       "      <td>396.90000</td>\n",
       "      <td>388.74000</td>\n",
       "      <td>372.08000</td>\n",
       "      <td>...</td>\n",
       "      <td>389.71000</td>\n",
       "      <td>374.56000</td>\n",
       "      <td>396.90000</td>\n",
       "      <td>378.25000</td>\n",
       "      <td>352.58000</td>\n",
       "      <td>388.69000</td>\n",
       "      <td>350.65000</td>\n",
       "      <td>396.90000</td>\n",
       "      <td>396.90000</td>\n",
       "      <td>355.29000</td>\n",
       "    </tr>\n",
       "    <tr>\n",
       "      <th>LSTAT</th>\n",
       "      <td>17.16000</td>\n",
       "      <td>18.46000</td>\n",
       "      <td>15.6900</td>\n",
       "      <td>8.05000</td>\n",
       "      <td>34.0200</td>\n",
       "      <td>9.10000</td>\n",
       "      <td>16.30000</td>\n",
       "      <td>4.67000</td>\n",
       "      <td>10.45000</td>\n",
       "      <td>6.36000</td>\n",
       "      <td>...</td>\n",
       "      <td>4.69000</td>\n",
       "      <td>7.79000</td>\n",
       "      <td>9.74000</td>\n",
       "      <td>16.90000</td>\n",
       "      <td>18.14000</td>\n",
       "      <td>15.03000</td>\n",
       "      <td>14.19000</td>\n",
       "      <td>14.10000</td>\n",
       "      <td>9.29000</td>\n",
       "      <td>17.73000</td>\n",
       "    </tr>\n",
       "  </tbody>\n",
       "</table>\n",
       "<p>13 rows × 349 columns</p>\n",
       "</div>"
      ],
      "text/plain": [
       "               424        245       426        234       438        79   \\\n",
       "CRIM       8.79212    0.19133   12.2472    0.44791   13.6781    0.08387   \n",
       "ZN         0.00000   22.00000    0.0000    0.00000    0.0000    0.00000   \n",
       "INDUS     18.10000    5.86000   18.1000    6.20000   18.1000   12.83000   \n",
       "CHAS       0.00000    0.00000    0.0000    1.00000    0.0000    0.00000   \n",
       "NOX        0.58400    0.43100    0.5840    0.50700    0.7400    0.43700   \n",
       "RM         5.56500    5.60500    5.8370    6.72600    5.9350    5.87400   \n",
       "AGE       70.60000   70.20000   59.7000   66.50000   87.9000   36.60000   \n",
       "DIS        2.06350    7.95490    1.9976    3.65190    1.8206    4.50260   \n",
       "RAD       24.00000    7.00000   24.0000    8.00000   24.0000    5.00000   \n",
       "TAX      666.00000  330.00000  666.0000  307.00000  666.0000  398.00000   \n",
       "PTRATIO   20.20000   19.10000   20.2000   17.40000   20.2000   18.70000   \n",
       "B          3.65000  389.13000   24.6500  360.20000   68.9500  396.06000   \n",
       "LSTAT     17.16000   18.46000   15.6900    8.05000   34.0200    9.10000   \n",
       "\n",
       "               24         65         114        227  ...        191  \\\n",
       "CRIM       0.75026    0.03584    0.14231    0.41238  ...    0.06911   \n",
       "ZN         0.00000   80.00000    0.00000    0.00000  ...   45.00000   \n",
       "INDUS      8.14000    3.37000   10.01000    6.20000  ...    3.44000   \n",
       "CHAS       0.00000    0.00000    0.00000    0.00000  ...    0.00000   \n",
       "NOX        0.53800    0.39800    0.54700    0.50400  ...    0.43700   \n",
       "RM         5.92400    6.29000    6.25400    7.16300  ...    6.73900   \n",
       "AGE       94.10000   17.80000   84.20000   79.90000  ...   30.80000   \n",
       "DIS        4.39960    6.61150    2.25650    3.21570  ...    6.47980   \n",
       "RAD        4.00000    4.00000    6.00000    8.00000  ...    5.00000   \n",
       "TAX      307.00000  337.00000  432.00000  307.00000  ...  398.00000   \n",
       "PTRATIO   21.00000   16.10000   17.80000   17.40000  ...   15.20000   \n",
       "B        394.33000  396.90000  388.74000  372.08000  ...  389.71000   \n",
       "LSTAT     16.30000    4.67000   10.45000    6.36000  ...    4.69000   \n",
       "\n",
       "               360        339        136        474        133        361  \\\n",
       "CRIM       4.54192    0.05497    0.32264    8.05579    0.32982    3.83684   \n",
       "ZN         0.00000    0.00000    0.00000    0.00000    0.00000    0.00000   \n",
       "INDUS     18.10000    5.19000   21.89000   18.10000   21.89000   18.10000   \n",
       "CHAS       0.00000    0.00000    0.00000    0.00000    0.00000    0.00000   \n",
       "NOX        0.77000    0.51500    0.62400    0.58400    0.62400    0.77000   \n",
       "RM         6.39800    5.98500    5.94200    5.42700    5.82200    6.25100   \n",
       "AGE       88.00000   45.40000   93.50000   95.40000   95.40000   91.10000   \n",
       "DIS        2.51820    4.81220    1.96690    2.42980    2.46990    2.29550   \n",
       "RAD       24.00000    5.00000    4.00000   24.00000    4.00000   24.00000   \n",
       "TAX      666.00000  224.00000  437.00000  666.00000  437.00000  666.00000   \n",
       "PTRATIO   20.20000   20.20000   21.20000   20.20000   21.20000   20.20000   \n",
       "B        374.56000  396.90000  378.25000  352.58000  388.69000  350.65000   \n",
       "LSTAT      7.79000    9.74000   16.90000   18.14000   15.03000   14.19000   \n",
       "\n",
       "               497        340        451  \n",
       "CRIM       0.26838    0.06151    5.44114  \n",
       "ZN         0.00000    0.00000    0.00000  \n",
       "INDUS      9.69000    5.19000   18.10000  \n",
       "CHAS       0.00000    0.00000    0.00000  \n",
       "NOX        0.58500    0.51500    0.71300  \n",
       "RM         5.79400    5.96800    6.65500  \n",
       "AGE       70.60000   58.50000   98.20000  \n",
       "DIS        2.89270    4.81220    2.35520  \n",
       "RAD        6.00000    5.00000   24.00000  \n",
       "TAX      391.00000  224.00000  666.00000  \n",
       "PTRATIO   19.20000   20.20000   20.20000  \n",
       "B        396.90000  396.90000  355.29000  \n",
       "LSTAT     14.10000    9.29000   17.73000  \n",
       "\n",
       "[13 rows x 349 columns]"
      ]
     },
     "execution_count": 99,
     "metadata": {},
     "output_type": "execute_result"
    }
   ],
   "source": [
    "X_train.T"
   ]
  },
  {
   "cell_type": "code",
   "execution_count": 102,
   "id": "c7f2ba53",
   "metadata": {},
   "outputs": [],
   "source": [
    "# test에서 진행된 전처리 / epdxj qusrud -> test에서도 진행한다\n",
    "# 원본확보\n",
    "X_test_copy2 = X_test.copy()\n",
    "# 반복문 작성\n",
    "for col1 in X_test.columns: # 13번 반복 - > 컬럼의 갯수만큼\n",
    "    for col2 in X_test.columns:  #13번 반복 -> 컬럼의 갯수만큼\n",
    "        X_test_copy2[col1+'x'+col2] = X_test[col1] * X_test[col2]"
   ]
  },
  {
   "cell_type": "code",
   "execution_count": 103,
   "id": "44700fed",
   "metadata": {},
   "outputs": [
    {
     "name": "stdout",
     "output_type": "stream",
     "text": [
      "<class 'pandas.core.frame.DataFrame'>\n",
      "Int64Index: 157 entries, 337 to 294\n",
      "Columns: 182 entries, CRIM to LSTATxLSTAT\n",
      "dtypes: float64(182)\n",
      "memory usage: 228.5 KB\n"
     ]
    }
   ],
   "source": [
    "X_test_copy2.info()"
   ]
  },
  {
   "cell_type": "code",
   "execution_count": 104,
   "id": "e217d565",
   "metadata": {},
   "outputs": [],
   "source": [
    "# 모델객체 생성\n",
    "model = LinearRegression()"
   ]
  },
  {
   "cell_type": "code",
   "execution_count": 105,
   "id": "0f8ebd27",
   "metadata": {},
   "outputs": [
    {
     "data": {
      "text/html": [
       "<style>#sk-container-id-7 {color: black;background-color: white;}#sk-container-id-7 pre{padding: 0;}#sk-container-id-7 div.sk-toggleable {background-color: white;}#sk-container-id-7 label.sk-toggleable__label {cursor: pointer;display: block;width: 100%;margin-bottom: 0;padding: 0.3em;box-sizing: border-box;text-align: center;}#sk-container-id-7 label.sk-toggleable__label-arrow:before {content: \"▸\";float: left;margin-right: 0.25em;color: #696969;}#sk-container-id-7 label.sk-toggleable__label-arrow:hover:before {color: black;}#sk-container-id-7 div.sk-estimator:hover label.sk-toggleable__label-arrow:before {color: black;}#sk-container-id-7 div.sk-toggleable__content {max-height: 0;max-width: 0;overflow: hidden;text-align: left;background-color: #f0f8ff;}#sk-container-id-7 div.sk-toggleable__content pre {margin: 0.2em;color: black;border-radius: 0.25em;background-color: #f0f8ff;}#sk-container-id-7 input.sk-toggleable__control:checked~div.sk-toggleable__content {max-height: 200px;max-width: 100%;overflow: auto;}#sk-container-id-7 input.sk-toggleable__control:checked~label.sk-toggleable__label-arrow:before {content: \"▾\";}#sk-container-id-7 div.sk-estimator input.sk-toggleable__control:checked~label.sk-toggleable__label {background-color: #d4ebff;}#sk-container-id-7 div.sk-label input.sk-toggleable__control:checked~label.sk-toggleable__label {background-color: #d4ebff;}#sk-container-id-7 input.sk-hidden--visually {border: 0;clip: rect(1px 1px 1px 1px);clip: rect(1px, 1px, 1px, 1px);height: 1px;margin: -1px;overflow: hidden;padding: 0;position: absolute;width: 1px;}#sk-container-id-7 div.sk-estimator {font-family: monospace;background-color: #f0f8ff;border: 1px dotted black;border-radius: 0.25em;box-sizing: border-box;margin-bottom: 0.5em;}#sk-container-id-7 div.sk-estimator:hover {background-color: #d4ebff;}#sk-container-id-7 div.sk-parallel-item::after {content: \"\";width: 100%;border-bottom: 1px solid gray;flex-grow: 1;}#sk-container-id-7 div.sk-label:hover label.sk-toggleable__label {background-color: #d4ebff;}#sk-container-id-7 div.sk-serial::before {content: \"\";position: absolute;border-left: 1px solid gray;box-sizing: border-box;top: 0;bottom: 0;left: 50%;z-index: 0;}#sk-container-id-7 div.sk-serial {display: flex;flex-direction: column;align-items: center;background-color: white;padding-right: 0.2em;padding-left: 0.2em;position: relative;}#sk-container-id-7 div.sk-item {position: relative;z-index: 1;}#sk-container-id-7 div.sk-parallel {display: flex;align-items: stretch;justify-content: center;background-color: white;position: relative;}#sk-container-id-7 div.sk-item::before, #sk-container-id-7 div.sk-parallel-item::before {content: \"\";position: absolute;border-left: 1px solid gray;box-sizing: border-box;top: 0;bottom: 0;left: 50%;z-index: -1;}#sk-container-id-7 div.sk-parallel-item {display: flex;flex-direction: column;z-index: 1;position: relative;background-color: white;}#sk-container-id-7 div.sk-parallel-item:first-child::after {align-self: flex-end;width: 50%;}#sk-container-id-7 div.sk-parallel-item:last-child::after {align-self: flex-start;width: 50%;}#sk-container-id-7 div.sk-parallel-item:only-child::after {width: 0;}#sk-container-id-7 div.sk-dashed-wrapped {border: 1px dashed gray;margin: 0 0.4em 0.5em 0.4em;box-sizing: border-box;padding-bottom: 0.4em;background-color: white;}#sk-container-id-7 div.sk-label label {font-family: monospace;font-weight: bold;display: inline-block;line-height: 1.2em;}#sk-container-id-7 div.sk-label-container {text-align: center;}#sk-container-id-7 div.sk-container {/* jupyter's `normalize.less` sets `[hidden] { display: none; }` but bootstrap.min.css set `[hidden] { display: none !important; }` so we also need the `!important` here to be able to override the default hidden behavior on the sphinx rendered scikit-learn.org. See: https://github.com/scikit-learn/scikit-learn/issues/21755 */display: inline-block !important;position: relative;}#sk-container-id-7 div.sk-text-repr-fallback {display: none;}</style><div id=\"sk-container-id-7\" class=\"sk-top-container\"><div class=\"sk-text-repr-fallback\"><pre>LinearRegression()</pre><b>In a Jupyter environment, please rerun this cell to show the HTML representation or trust the notebook. <br />On GitHub, the HTML representation is unable to render, please try loading this page with nbviewer.org.</b></div><div class=\"sk-container\" hidden><div class=\"sk-item\"><div class=\"sk-estimator sk-toggleable\"><input class=\"sk-toggleable__control sk-hidden--visually\" id=\"sk-estimator-id-7\" type=\"checkbox\" checked><label for=\"sk-estimator-id-7\" class=\"sk-toggleable__label sk-toggleable__label-arrow\">LinearRegression</label><div class=\"sk-toggleable__content\"><pre>LinearRegression()</pre></div></div></div></div></div>"
      ],
      "text/plain": [
       "LinearRegression()"
      ]
     },
     "execution_count": 105,
     "metadata": {},
     "output_type": "execute_result"
    }
   ],
   "source": [
    "# 모델 학습 \n",
    "model.fit(X_train_copy2, y_train)"
   ]
  },
  {
   "cell_type": "code",
   "execution_count": 106,
   "id": "0ed04027",
   "metadata": {},
   "outputs": [
    {
     "data": {
      "text/plain": [
       "0.8325008691222162"
      ]
     },
     "execution_count": 106,
     "metadata": {},
     "output_type": "execute_result"
    }
   ],
   "source": [
    "# 모델 평가\n",
    "model.score(X_test_copy2, y_test)"
   ]
  },
  {
   "cell_type": "code",
   "execution_count": 107,
   "id": "7309b592",
   "metadata": {},
   "outputs": [
    {
     "data": {
      "text/plain": [
       "0.937744364477584"
      ]
     },
     "execution_count": 107,
     "metadata": {},
     "output_type": "execute_result"
    }
   ],
   "source": [
    "# 과대 적합인지 확인을 해보자.\n",
    "model.score(X_train_copy2, y_train)"
   ]
  },
  {
   "cell_type": "markdown",
   "id": "4272f5a1",
   "metadata": {},
   "source": [
    "- 특성 확장을 진행을 해봤더니 성능 자체는 올라간 것처럼 보인다.\n",
    "- 하지만 모델 자체가 복잡해져서 과대적합의 모습을 보이고 있다.\n",
    "- 일반화에는 크게 도움이 된 것 같지 않다."
   ]
  },
  {
   "cell_type": "markdown",
   "id": "ec0aaf68",
   "metadata": {},
   "source": [
    "### 규제\n",
    "- 선형회귀에서 모델의 일반화를 위해 과적합 상태를 어떻게 제어할 것인가?"
   ]
  },
  {
   "cell_type": "markdown",
   "id": "1b32e3df",
   "metadata": {},
   "source": [
    "- L1 Lasso 규제 : 가중치에 똑같은 힘으로 규제를 적용하는 방법.자동으로 특성선택이 일어남\n",
    "- L2 Ridge 규제 : 모든 가중치에 같은 비율로 규제를 적용하는 방법. 0이 되는 가중치가 없다. -> 비율이라는 방법으로 규제를 적용하기 때문 "
   ]
  },
  {
   "cell_type": "markdown",
   "id": "cdeb694c",
   "metadata": {},
   "source": [
    "**Ridge**"
   ]
  },
  {
   "cell_type": "code",
   "execution_count": 109,
   "id": "a62ab552",
   "metadata": {},
   "outputs": [],
   "source": [
    "# 모델 import\n",
    "from sklearn.linear_model import Ridge"
   ]
  },
  {
   "cell_type": "code",
   "execution_count": 120,
   "id": "f2f78bb2",
   "metadata": {},
   "outputs": [],
   "source": [
    "# 모델 객체 생성\n",
    "# alpha : 규제의 강도를 정해주는 파라미터\n",
    "#alpha가 높아지면 규제 강도가 강해지고, 낮아지면 규제강도가 약화된다.\n",
    "ridge_model = Ridge(alpha=10000)# 기본 값은 1.0"
   ]
  },
  {
   "cell_type": "code",
   "execution_count": 121,
   "id": "a5fde27b",
   "metadata": {},
   "outputs": [
    {
     "data": {
      "text/html": [
       "<style>#sk-container-id-10 {color: black;background-color: white;}#sk-container-id-10 pre{padding: 0;}#sk-container-id-10 div.sk-toggleable {background-color: white;}#sk-container-id-10 label.sk-toggleable__label {cursor: pointer;display: block;width: 100%;margin-bottom: 0;padding: 0.3em;box-sizing: border-box;text-align: center;}#sk-container-id-10 label.sk-toggleable__label-arrow:before {content: \"▸\";float: left;margin-right: 0.25em;color: #696969;}#sk-container-id-10 label.sk-toggleable__label-arrow:hover:before {color: black;}#sk-container-id-10 div.sk-estimator:hover label.sk-toggleable__label-arrow:before {color: black;}#sk-container-id-10 div.sk-toggleable__content {max-height: 0;max-width: 0;overflow: hidden;text-align: left;background-color: #f0f8ff;}#sk-container-id-10 div.sk-toggleable__content pre {margin: 0.2em;color: black;border-radius: 0.25em;background-color: #f0f8ff;}#sk-container-id-10 input.sk-toggleable__control:checked~div.sk-toggleable__content {max-height: 200px;max-width: 100%;overflow: auto;}#sk-container-id-10 input.sk-toggleable__control:checked~label.sk-toggleable__label-arrow:before {content: \"▾\";}#sk-container-id-10 div.sk-estimator input.sk-toggleable__control:checked~label.sk-toggleable__label {background-color: #d4ebff;}#sk-container-id-10 div.sk-label input.sk-toggleable__control:checked~label.sk-toggleable__label {background-color: #d4ebff;}#sk-container-id-10 input.sk-hidden--visually {border: 0;clip: rect(1px 1px 1px 1px);clip: rect(1px, 1px, 1px, 1px);height: 1px;margin: -1px;overflow: hidden;padding: 0;position: absolute;width: 1px;}#sk-container-id-10 div.sk-estimator {font-family: monospace;background-color: #f0f8ff;border: 1px dotted black;border-radius: 0.25em;box-sizing: border-box;margin-bottom: 0.5em;}#sk-container-id-10 div.sk-estimator:hover {background-color: #d4ebff;}#sk-container-id-10 div.sk-parallel-item::after {content: \"\";width: 100%;border-bottom: 1px solid gray;flex-grow: 1;}#sk-container-id-10 div.sk-label:hover label.sk-toggleable__label {background-color: #d4ebff;}#sk-container-id-10 div.sk-serial::before {content: \"\";position: absolute;border-left: 1px solid gray;box-sizing: border-box;top: 0;bottom: 0;left: 50%;z-index: 0;}#sk-container-id-10 div.sk-serial {display: flex;flex-direction: column;align-items: center;background-color: white;padding-right: 0.2em;padding-left: 0.2em;position: relative;}#sk-container-id-10 div.sk-item {position: relative;z-index: 1;}#sk-container-id-10 div.sk-parallel {display: flex;align-items: stretch;justify-content: center;background-color: white;position: relative;}#sk-container-id-10 div.sk-item::before, #sk-container-id-10 div.sk-parallel-item::before {content: \"\";position: absolute;border-left: 1px solid gray;box-sizing: border-box;top: 0;bottom: 0;left: 50%;z-index: -1;}#sk-container-id-10 div.sk-parallel-item {display: flex;flex-direction: column;z-index: 1;position: relative;background-color: white;}#sk-container-id-10 div.sk-parallel-item:first-child::after {align-self: flex-end;width: 50%;}#sk-container-id-10 div.sk-parallel-item:last-child::after {align-self: flex-start;width: 50%;}#sk-container-id-10 div.sk-parallel-item:only-child::after {width: 0;}#sk-container-id-10 div.sk-dashed-wrapped {border: 1px dashed gray;margin: 0 0.4em 0.5em 0.4em;box-sizing: border-box;padding-bottom: 0.4em;background-color: white;}#sk-container-id-10 div.sk-label label {font-family: monospace;font-weight: bold;display: inline-block;line-height: 1.2em;}#sk-container-id-10 div.sk-label-container {text-align: center;}#sk-container-id-10 div.sk-container {/* jupyter's `normalize.less` sets `[hidden] { display: none; }` but bootstrap.min.css set `[hidden] { display: none !important; }` so we also need the `!important` here to be able to override the default hidden behavior on the sphinx rendered scikit-learn.org. See: https://github.com/scikit-learn/scikit-learn/issues/21755 */display: inline-block !important;position: relative;}#sk-container-id-10 div.sk-text-repr-fallback {display: none;}</style><div id=\"sk-container-id-10\" class=\"sk-top-container\"><div class=\"sk-text-repr-fallback\"><pre>Ridge(alpha=10000)</pre><b>In a Jupyter environment, please rerun this cell to show the HTML representation or trust the notebook. <br />On GitHub, the HTML representation is unable to render, please try loading this page with nbviewer.org.</b></div><div class=\"sk-container\" hidden><div class=\"sk-item\"><div class=\"sk-estimator sk-toggleable\"><input class=\"sk-toggleable__control sk-hidden--visually\" id=\"sk-estimator-id-10\" type=\"checkbox\" checked><label for=\"sk-estimator-id-10\" class=\"sk-toggleable__label sk-toggleable__label-arrow\">Ridge</label><div class=\"sk-toggleable__content\"><pre>Ridge(alpha=10000)</pre></div></div></div></div></div>"
      ],
      "text/plain": [
       "Ridge(alpha=10000)"
      ]
     },
     "execution_count": 121,
     "metadata": {},
     "output_type": "execute_result"
    }
   ],
   "source": [
    "ridge_model.fit(X_train_copy2, y_train)"
   ]
  },
  {
   "cell_type": "code",
   "execution_count": 122,
   "id": "25fb9a4f",
   "metadata": {},
   "outputs": [
    {
     "data": {
      "text/plain": [
       "0.8160885540503798"
      ]
     },
     "execution_count": 122,
     "metadata": {},
     "output_type": "execute_result"
    }
   ],
   "source": [
    "# 모델 평가\n",
    "ridge_model.score(X_test_copy2, y_test)"
   ]
  },
  {
   "cell_type": "code",
   "execution_count": 123,
   "id": "ba08113f",
   "metadata": {},
   "outputs": [
    {
     "data": {
      "text/plain": [
       "0.8927555026181971"
      ]
     },
     "execution_count": 123,
     "metadata": {},
     "output_type": "execute_result"
    }
   ],
   "source": [
    "ridge_model.score(X_train_copy2, y_train)"
   ]
  },
  {
   "cell_type": "markdown",
   "id": "0bfc36a2",
   "metadata": {},
   "source": [
    "### Lasso 모델"
   ]
  },
  {
   "cell_type": "code",
   "execution_count": 124,
   "id": "eab908f7",
   "metadata": {},
   "outputs": [],
   "source": [
    "from sklearn.linear_model import Lasso"
   ]
  },
  {
   "cell_type": "code",
   "execution_count": 133,
   "id": "1aeec9a7",
   "metadata": {},
   "outputs": [],
   "source": [
    "# 모델 객체 생성\n",
    "lasso_model = Lasso(alpha = 10)"
   ]
  },
  {
   "cell_type": "code",
   "execution_count": 134,
   "id": "ef59c633",
   "metadata": {},
   "outputs": [
    {
     "data": {
      "text/html": [
       "<style>#sk-container-id-13 {color: black;background-color: white;}#sk-container-id-13 pre{padding: 0;}#sk-container-id-13 div.sk-toggleable {background-color: white;}#sk-container-id-13 label.sk-toggleable__label {cursor: pointer;display: block;width: 100%;margin-bottom: 0;padding: 0.3em;box-sizing: border-box;text-align: center;}#sk-container-id-13 label.sk-toggleable__label-arrow:before {content: \"▸\";float: left;margin-right: 0.25em;color: #696969;}#sk-container-id-13 label.sk-toggleable__label-arrow:hover:before {color: black;}#sk-container-id-13 div.sk-estimator:hover label.sk-toggleable__label-arrow:before {color: black;}#sk-container-id-13 div.sk-toggleable__content {max-height: 0;max-width: 0;overflow: hidden;text-align: left;background-color: #f0f8ff;}#sk-container-id-13 div.sk-toggleable__content pre {margin: 0.2em;color: black;border-radius: 0.25em;background-color: #f0f8ff;}#sk-container-id-13 input.sk-toggleable__control:checked~div.sk-toggleable__content {max-height: 200px;max-width: 100%;overflow: auto;}#sk-container-id-13 input.sk-toggleable__control:checked~label.sk-toggleable__label-arrow:before {content: \"▾\";}#sk-container-id-13 div.sk-estimator input.sk-toggleable__control:checked~label.sk-toggleable__label {background-color: #d4ebff;}#sk-container-id-13 div.sk-label input.sk-toggleable__control:checked~label.sk-toggleable__label {background-color: #d4ebff;}#sk-container-id-13 input.sk-hidden--visually {border: 0;clip: rect(1px 1px 1px 1px);clip: rect(1px, 1px, 1px, 1px);height: 1px;margin: -1px;overflow: hidden;padding: 0;position: absolute;width: 1px;}#sk-container-id-13 div.sk-estimator {font-family: monospace;background-color: #f0f8ff;border: 1px dotted black;border-radius: 0.25em;box-sizing: border-box;margin-bottom: 0.5em;}#sk-container-id-13 div.sk-estimator:hover {background-color: #d4ebff;}#sk-container-id-13 div.sk-parallel-item::after {content: \"\";width: 100%;border-bottom: 1px solid gray;flex-grow: 1;}#sk-container-id-13 div.sk-label:hover label.sk-toggleable__label {background-color: #d4ebff;}#sk-container-id-13 div.sk-serial::before {content: \"\";position: absolute;border-left: 1px solid gray;box-sizing: border-box;top: 0;bottom: 0;left: 50%;z-index: 0;}#sk-container-id-13 div.sk-serial {display: flex;flex-direction: column;align-items: center;background-color: white;padding-right: 0.2em;padding-left: 0.2em;position: relative;}#sk-container-id-13 div.sk-item {position: relative;z-index: 1;}#sk-container-id-13 div.sk-parallel {display: flex;align-items: stretch;justify-content: center;background-color: white;position: relative;}#sk-container-id-13 div.sk-item::before, #sk-container-id-13 div.sk-parallel-item::before {content: \"\";position: absolute;border-left: 1px solid gray;box-sizing: border-box;top: 0;bottom: 0;left: 50%;z-index: -1;}#sk-container-id-13 div.sk-parallel-item {display: flex;flex-direction: column;z-index: 1;position: relative;background-color: white;}#sk-container-id-13 div.sk-parallel-item:first-child::after {align-self: flex-end;width: 50%;}#sk-container-id-13 div.sk-parallel-item:last-child::after {align-self: flex-start;width: 50%;}#sk-container-id-13 div.sk-parallel-item:only-child::after {width: 0;}#sk-container-id-13 div.sk-dashed-wrapped {border: 1px dashed gray;margin: 0 0.4em 0.5em 0.4em;box-sizing: border-box;padding-bottom: 0.4em;background-color: white;}#sk-container-id-13 div.sk-label label {font-family: monospace;font-weight: bold;display: inline-block;line-height: 1.2em;}#sk-container-id-13 div.sk-label-container {text-align: center;}#sk-container-id-13 div.sk-container {/* jupyter's `normalize.less` sets `[hidden] { display: none; }` but bootstrap.min.css set `[hidden] { display: none !important; }` so we also need the `!important` here to be able to override the default hidden behavior on the sphinx rendered scikit-learn.org. See: https://github.com/scikit-learn/scikit-learn/issues/21755 */display: inline-block !important;position: relative;}#sk-container-id-13 div.sk-text-repr-fallback {display: none;}</style><div id=\"sk-container-id-13\" class=\"sk-top-container\"><div class=\"sk-text-repr-fallback\"><pre>Lasso(alpha=10)</pre><b>In a Jupyter environment, please rerun this cell to show the HTML representation or trust the notebook. <br />On GitHub, the HTML representation is unable to render, please try loading this page with nbviewer.org.</b></div><div class=\"sk-container\" hidden><div class=\"sk-item\"><div class=\"sk-estimator sk-toggleable\"><input class=\"sk-toggleable__control sk-hidden--visually\" id=\"sk-estimator-id-13\" type=\"checkbox\" checked><label for=\"sk-estimator-id-13\" class=\"sk-toggleable__label sk-toggleable__label-arrow\">Lasso</label><div class=\"sk-toggleable__content\"><pre>Lasso(alpha=10)</pre></div></div></div></div></div>"
      ],
      "text/plain": [
       "Lasso(alpha=10)"
      ]
     },
     "execution_count": 134,
     "metadata": {},
     "output_type": "execute_result"
    }
   ],
   "source": [
    "# 모델 학습\n",
    "lasso_model.fit(X_train_copy2, y_train)"
   ]
  },
  {
   "cell_type": "code",
   "execution_count": 135,
   "id": "1e2570d8",
   "metadata": {},
   "outputs": [
    {
     "data": {
      "text/plain": [
       "0.8094860680713185"
      ]
     },
     "execution_count": 135,
     "metadata": {},
     "output_type": "execute_result"
    }
   ],
   "source": [
    "# 모델 평가\n",
    "lasso_model.score(X_test_copy2, y_test)"
   ]
  },
  {
   "cell_type": "code",
   "execution_count": 136,
   "id": "5da6e0a0",
   "metadata": {},
   "outputs": [
    {
     "data": {
      "text/plain": [
       "0.8608443707509562"
      ]
     },
     "execution_count": 136,
     "metadata": {},
     "output_type": "execute_result"
    }
   ],
   "source": [
    "lasso_model.score(X_train_copy2, y_train)"
   ]
  },
  {
   "cell_type": "code",
   "execution_count": 146,
   "id": "286a16bd",
   "metadata": {},
   "outputs": [],
   "source": [
    "# 반복문을 이용해서 Ridge와 Lasso alpha 값을 조절해보고 모델을 비교해보자\n",
    "# 1. 알파값(규제강도) 리스트 만들어주기\n",
    "alpha_list = [0.001, 0.01, 0.1, 10, 100, 1000]\n",
    "# 2. ridge 모델과 lasso 모델 성능을 기록할 리스트 만들어주기.\n",
    "ridge_coef_list = []\n",
    "lasso_coef_list = []\n",
    "# 3. 반복문 만들기 - 모델 제작/학습/리스트에 기록\n",
    "for i in alpha_list:\n",
    "    r_model = Ridge(alpha = i)\n",
    "    l_model = Lasso(alpha = i)\n",
    "    # 모델학습\n",
    "    r_model.fit(X_train, y_train)\n",
    "    l_model.fit(X_train, y_train)\n",
    "    # 가중치 확인 후 리스트에 넣기\n",
    "    ridge_coef_list.append(r_model.coef_)\n",
    "    lasso_coef_list.append(l_model.coef_)"
   ]
  },
  {
   "cell_type": "code",
   "execution_count": 147,
   "id": "15a4664e",
   "metadata": {},
   "outputs": [
    {
     "data": {
      "text/plain": [
       "[array([-1.08260987e-01,  5.00357514e-02,  2.02697563e-02,  2.41256773e+00,\n",
       "        -1.15907308e+01,  3.87824178e+00, -8.32818183e-03, -1.35038135e+00,\n",
       "         2.88740551e-01, -1.12877990e-02, -9.63331196e-01,  1.06104401e-02,\n",
       "        -5.80910077e-01]),\n",
       " array([-1.06495583e-01,  5.03833684e-02,  7.08982778e-03,  2.23611560e+00,\n",
       "        -8.40312578e+00,  3.88054809e+00, -1.01232416e-02, -1.29856553e+00,\n",
       "         2.80331294e-01, -1.15063389e-02, -9.34000493e-01,  1.06799279e-02,\n",
       "        -5.88785354e-01]),\n",
       " array([-0.10116379,  0.05209172, -0.01060803,  0.70687943, -0.        ,\n",
       "         3.65731815, -0.01165781, -1.12738865,  0.26932297, -0.01292026,\n",
       "        -0.87955435,  0.01081754, -0.62890653]),\n",
       " array([-0.        ,  0.04256516, -0.        ,  0.        ,  0.        ,\n",
       "         0.        ,  0.        , -0.        ,  0.        , -0.00846227,\n",
       "        -0.        ,  0.00763883, -0.5855792 ]),\n",
       " array([-0.        ,  0.        , -0.        ,  0.        , -0.        ,\n",
       "         0.        , -0.        ,  0.        , -0.        , -0.02092181,\n",
       "        -0.        ,  0.00536067, -0.        ]),\n",
       " array([-0.,  0., -0.,  0., -0.,  0., -0.,  0., -0., -0., -0.,  0., -0.])]"
      ]
     },
     "execution_count": 147,
     "metadata": {},
     "output_type": "execute_result"
    }
   ],
   "source": [
    "ridge_coef_list\n",
    "lasso_coef_list"
   ]
  },
  {
   "cell_type": "code",
   "execution_count": 148,
   "id": "7e8e2510",
   "metadata": {},
   "outputs": [
    {
     "data": {
      "text/html": [
       "<div>\n",
       "<style scoped>\n",
       "    .dataframe tbody tr th:only-of-type {\n",
       "        vertical-align: middle;\n",
       "    }\n",
       "\n",
       "    .dataframe tbody tr th {\n",
       "        vertical-align: top;\n",
       "    }\n",
       "\n",
       "    .dataframe thead th {\n",
       "        text-align: right;\n",
       "    }\n",
       "</style>\n",
       "<table border=\"1\" class=\"dataframe\">\n",
       "  <thead>\n",
       "    <tr style=\"text-align: right;\">\n",
       "      <th></th>\n",
       "      <th>0.001</th>\n",
       "      <th>0.010</th>\n",
       "      <th>0.100</th>\n",
       "      <th>10.000</th>\n",
       "      <th>100.000</th>\n",
       "      <th>1000.000</th>\n",
       "    </tr>\n",
       "  </thead>\n",
       "  <tbody>\n",
       "    <tr>\n",
       "      <th>0</th>\n",
       "      <td>-0.108261</td>\n",
       "      <td>-0.106496</td>\n",
       "      <td>-0.101164</td>\n",
       "      <td>-0.000000</td>\n",
       "      <td>-0.000000</td>\n",
       "      <td>-0.0</td>\n",
       "    </tr>\n",
       "    <tr>\n",
       "      <th>1</th>\n",
       "      <td>0.050036</td>\n",
       "      <td>0.050383</td>\n",
       "      <td>0.052092</td>\n",
       "      <td>0.042565</td>\n",
       "      <td>0.000000</td>\n",
       "      <td>0.0</td>\n",
       "    </tr>\n",
       "    <tr>\n",
       "      <th>2</th>\n",
       "      <td>0.020270</td>\n",
       "      <td>0.007090</td>\n",
       "      <td>-0.010608</td>\n",
       "      <td>-0.000000</td>\n",
       "      <td>-0.000000</td>\n",
       "      <td>-0.0</td>\n",
       "    </tr>\n",
       "    <tr>\n",
       "      <th>3</th>\n",
       "      <td>2.412568</td>\n",
       "      <td>2.236116</td>\n",
       "      <td>0.706879</td>\n",
       "      <td>0.000000</td>\n",
       "      <td>0.000000</td>\n",
       "      <td>0.0</td>\n",
       "    </tr>\n",
       "    <tr>\n",
       "      <th>4</th>\n",
       "      <td>-11.590731</td>\n",
       "      <td>-8.403126</td>\n",
       "      <td>-0.000000</td>\n",
       "      <td>0.000000</td>\n",
       "      <td>-0.000000</td>\n",
       "      <td>-0.0</td>\n",
       "    </tr>\n",
       "    <tr>\n",
       "      <th>5</th>\n",
       "      <td>3.878242</td>\n",
       "      <td>3.880548</td>\n",
       "      <td>3.657318</td>\n",
       "      <td>0.000000</td>\n",
       "      <td>0.000000</td>\n",
       "      <td>0.0</td>\n",
       "    </tr>\n",
       "    <tr>\n",
       "      <th>6</th>\n",
       "      <td>-0.008328</td>\n",
       "      <td>-0.010123</td>\n",
       "      <td>-0.011658</td>\n",
       "      <td>0.000000</td>\n",
       "      <td>-0.000000</td>\n",
       "      <td>-0.0</td>\n",
       "    </tr>\n",
       "    <tr>\n",
       "      <th>7</th>\n",
       "      <td>-1.350381</td>\n",
       "      <td>-1.298566</td>\n",
       "      <td>-1.127389</td>\n",
       "      <td>-0.000000</td>\n",
       "      <td>0.000000</td>\n",
       "      <td>0.0</td>\n",
       "    </tr>\n",
       "    <tr>\n",
       "      <th>8</th>\n",
       "      <td>0.288741</td>\n",
       "      <td>0.280331</td>\n",
       "      <td>0.269323</td>\n",
       "      <td>0.000000</td>\n",
       "      <td>-0.000000</td>\n",
       "      <td>-0.0</td>\n",
       "    </tr>\n",
       "    <tr>\n",
       "      <th>9</th>\n",
       "      <td>-0.011288</td>\n",
       "      <td>-0.011506</td>\n",
       "      <td>-0.012920</td>\n",
       "      <td>-0.008462</td>\n",
       "      <td>-0.020922</td>\n",
       "      <td>-0.0</td>\n",
       "    </tr>\n",
       "    <tr>\n",
       "      <th>10</th>\n",
       "      <td>-0.963331</td>\n",
       "      <td>-0.934000</td>\n",
       "      <td>-0.879554</td>\n",
       "      <td>-0.000000</td>\n",
       "      <td>-0.000000</td>\n",
       "      <td>-0.0</td>\n",
       "    </tr>\n",
       "    <tr>\n",
       "      <th>11</th>\n",
       "      <td>0.010610</td>\n",
       "      <td>0.010680</td>\n",
       "      <td>0.010818</td>\n",
       "      <td>0.007639</td>\n",
       "      <td>0.005361</td>\n",
       "      <td>0.0</td>\n",
       "    </tr>\n",
       "    <tr>\n",
       "      <th>12</th>\n",
       "      <td>-0.580910</td>\n",
       "      <td>-0.588785</td>\n",
       "      <td>-0.628907</td>\n",
       "      <td>-0.585579</td>\n",
       "      <td>-0.000000</td>\n",
       "      <td>-0.0</td>\n",
       "    </tr>\n",
       "  </tbody>\n",
       "</table>\n",
       "</div>"
      ],
      "text/plain": [
       "     0.001     0.010     0.100     10.000    100.000   1000.000\n",
       "0   -0.108261 -0.106496 -0.101164 -0.000000 -0.000000      -0.0\n",
       "1    0.050036  0.050383  0.052092  0.042565  0.000000       0.0\n",
       "2    0.020270  0.007090 -0.010608 -0.000000 -0.000000      -0.0\n",
       "3    2.412568  2.236116  0.706879  0.000000  0.000000       0.0\n",
       "4  -11.590731 -8.403126 -0.000000  0.000000 -0.000000      -0.0\n",
       "5    3.878242  3.880548  3.657318  0.000000  0.000000       0.0\n",
       "6   -0.008328 -0.010123 -0.011658  0.000000 -0.000000      -0.0\n",
       "7   -1.350381 -1.298566 -1.127389 -0.000000  0.000000       0.0\n",
       "8    0.288741  0.280331  0.269323  0.000000 -0.000000      -0.0\n",
       "9   -0.011288 -0.011506 -0.012920 -0.008462 -0.020922      -0.0\n",
       "10  -0.963331 -0.934000 -0.879554 -0.000000 -0.000000      -0.0\n",
       "11   0.010610  0.010680  0.010818  0.007639  0.005361       0.0\n",
       "12  -0.580910 -0.588785 -0.628907 -0.585579 -0.000000      -0.0"
      ]
     },
     "execution_count": 148,
     "metadata": {},
     "output_type": "execute_result"
    }
   ],
   "source": [
    "# lasso 정규화 w값 확인해보기\n",
    "lasso_df = pd.DataFrame(np.array(lasso_coef_list).T,\n",
    "                       columns=alpha_list)\n",
    "lasso_df"
   ]
  },
  {
   "cell_type": "code",
   "execution_count": 149,
   "id": "d69555b6",
   "metadata": {},
   "outputs": [
    {
     "data": {
      "text/html": [
       "<div>\n",
       "<style scoped>\n",
       "    .dataframe tbody tr th:only-of-type {\n",
       "        vertical-align: middle;\n",
       "    }\n",
       "\n",
       "    .dataframe tbody tr th {\n",
       "        vertical-align: top;\n",
       "    }\n",
       "\n",
       "    .dataframe thead th {\n",
       "        text-align: right;\n",
       "    }\n",
       "</style>\n",
       "<table border=\"1\" class=\"dataframe\">\n",
       "  <thead>\n",
       "    <tr style=\"text-align: right;\">\n",
       "      <th></th>\n",
       "      <th>0.001</th>\n",
       "      <th>0.010</th>\n",
       "      <th>0.100</th>\n",
       "      <th>10.000</th>\n",
       "      <th>100.000</th>\n",
       "      <th>1000.000</th>\n",
       "    </tr>\n",
       "  </thead>\n",
       "  <tbody>\n",
       "    <tr>\n",
       "      <th>0</th>\n",
       "      <td>-0.108451</td>\n",
       "      <td>-0.108396</td>\n",
       "      <td>-0.107890</td>\n",
       "      <td>-0.103524</td>\n",
       "      <td>-0.101532</td>\n",
       "      <td>-0.088175</td>\n",
       "    </tr>\n",
       "    <tr>\n",
       "      <th>1</th>\n",
       "      <td>0.049999</td>\n",
       "      <td>0.050010</td>\n",
       "      <td>0.050117</td>\n",
       "      <td>0.053043</td>\n",
       "      <td>0.060036</td>\n",
       "      <td>0.063003</td>\n",
       "    </tr>\n",
       "    <tr>\n",
       "      <th>2</th>\n",
       "      <td>0.021685</td>\n",
       "      <td>0.021252</td>\n",
       "      <td>0.017311</td>\n",
       "      <td>-0.022582</td>\n",
       "      <td>-0.029133</td>\n",
       "      <td>-0.010264</td>\n",
       "    </tr>\n",
       "    <tr>\n",
       "      <th>3</th>\n",
       "      <td>2.431931</td>\n",
       "      <td>2.429742</td>\n",
       "      <td>2.408971</td>\n",
       "      <td>1.568146</td>\n",
       "      <td>0.412807</td>\n",
       "      <td>0.068273</td>\n",
       "    </tr>\n",
       "    <tr>\n",
       "      <th>4</th>\n",
       "      <td>-11.933281</td>\n",
       "      <td>-11.828406</td>\n",
       "      <td>-10.872803</td>\n",
       "      <td>-1.096695</td>\n",
       "      <td>-0.110920</td>\n",
       "      <td>-0.002271</td>\n",
       "    </tr>\n",
       "    <tr>\n",
       "      <th>5</th>\n",
       "      <td>3.878068</td>\n",
       "      <td>3.878820</td>\n",
       "      <td>3.885309</td>\n",
       "      <td>3.585338</td>\n",
       "      <td>1.917469</td>\n",
       "      <td>0.412961</td>\n",
       "    </tr>\n",
       "    <tr>\n",
       "      <th>6</th>\n",
       "      <td>-0.008137</td>\n",
       "      <td>-0.008208</td>\n",
       "      <td>-0.008853</td>\n",
       "      <td>-0.012516</td>\n",
       "      <td>0.001045</td>\n",
       "      <td>0.024261</td>\n",
       "    </tr>\n",
       "    <tr>\n",
       "      <th>7</th>\n",
       "      <td>-1.355963</td>\n",
       "      <td>-1.354342</td>\n",
       "      <td>-1.339585</td>\n",
       "      <td>-1.192491</td>\n",
       "      <td>-1.090382</td>\n",
       "      <td>-0.506477</td>\n",
       "    </tr>\n",
       "    <tr>\n",
       "      <th>8</th>\n",
       "      <td>0.289644</td>\n",
       "      <td>0.289353</td>\n",
       "      <td>0.286723</td>\n",
       "      <td>0.272322</td>\n",
       "      <td>0.306547</td>\n",
       "      <td>0.277634</td>\n",
       "    </tr>\n",
       "    <tr>\n",
       "      <th>9</th>\n",
       "      <td>-0.011264</td>\n",
       "      <td>-0.011271</td>\n",
       "      <td>-0.011329</td>\n",
       "      <td>-0.012479</td>\n",
       "      <td>-0.014072</td>\n",
       "      <td>-0.014432</td>\n",
       "    </tr>\n",
       "    <tr>\n",
       "      <th>10</th>\n",
       "      <td>-0.966477</td>\n",
       "      <td>-0.965457</td>\n",
       "      <td>-0.956195</td>\n",
       "      <td>-0.889048</td>\n",
       "      <td>-0.931915</td>\n",
       "      <td>-0.626677</td>\n",
       "    </tr>\n",
       "    <tr>\n",
       "      <th>11</th>\n",
       "      <td>0.010603</td>\n",
       "      <td>0.010605</td>\n",
       "      <td>0.010628</td>\n",
       "      <td>0.010699</td>\n",
       "      <td>0.009705</td>\n",
       "      <td>0.008375</td>\n",
       "    </tr>\n",
       "    <tr>\n",
       "      <th>12</th>\n",
       "      <td>-0.580058</td>\n",
       "      <td>-0.580267</td>\n",
       "      <td>-0.582196</td>\n",
       "      <td>-0.626581</td>\n",
       "      <td>-0.734479</td>\n",
       "      <td>-0.783034</td>\n",
       "    </tr>\n",
       "  </tbody>\n",
       "</table>\n",
       "</div>"
      ],
      "text/plain": [
       "     0.001      0.010      0.100     10.000    100.000   1000.000\n",
       "0   -0.108451  -0.108396  -0.107890 -0.103524 -0.101532 -0.088175\n",
       "1    0.049999   0.050010   0.050117  0.053043  0.060036  0.063003\n",
       "2    0.021685   0.021252   0.017311 -0.022582 -0.029133 -0.010264\n",
       "3    2.431931   2.429742   2.408971  1.568146  0.412807  0.068273\n",
       "4  -11.933281 -11.828406 -10.872803 -1.096695 -0.110920 -0.002271\n",
       "5    3.878068   3.878820   3.885309  3.585338  1.917469  0.412961\n",
       "6   -0.008137  -0.008208  -0.008853 -0.012516  0.001045  0.024261\n",
       "7   -1.355963  -1.354342  -1.339585 -1.192491 -1.090382 -0.506477\n",
       "8    0.289644   0.289353   0.286723  0.272322  0.306547  0.277634\n",
       "9   -0.011264  -0.011271  -0.011329 -0.012479 -0.014072 -0.014432\n",
       "10  -0.966477  -0.965457  -0.956195 -0.889048 -0.931915 -0.626677\n",
       "11   0.010603   0.010605   0.010628  0.010699  0.009705  0.008375\n",
       "12  -0.580058  -0.580267  -0.582196 -0.626581 -0.734479 -0.783034"
      ]
     },
     "execution_count": 149,
     "metadata": {},
     "output_type": "execute_result"
    }
   ],
   "source": [
    "# ridge 정규화 w값 확인해보기\n",
    "ridge_df = pd.DataFrame(np.array(ridge_coef_list).T,\n",
    "                       columns=alpha_list)\n",
    "ridge_df"
   ]
  },
  {
   "cell_type": "markdown",
   "id": "fbafa72c",
   "metadata": {},
   "source": [
    "### 최종정리\n",
    "- 현재 보스턴 주택데이터를 선형 회귀분석을 했을 때, 규제항을 적용할 시 라쏘(L1 규제)가 조금 더 유리한 모습을 보이고 있다."
   ]
  },
  {
   "cell_type": "code",
   "execution_count": null,
   "id": "fc9abdbd",
   "metadata": {},
   "outputs": [],
   "source": []
  },
  {
   "cell_type": "code",
   "execution_count": null,
   "id": "9b66deaa",
   "metadata": {},
   "outputs": [],
   "source": []
  },
  {
   "cell_type": "code",
   "execution_count": null,
   "id": "fb1f02de",
   "metadata": {},
   "outputs": [],
   "source": []
  },
  {
   "cell_type": "code",
   "execution_count": null,
   "id": "ac0c94fa",
   "metadata": {},
   "outputs": [],
   "source": []
  },
  {
   "cell_type": "code",
   "execution_count": null,
   "id": "8a43a2f3",
   "metadata": {},
   "outputs": [],
   "source": []
  },
  {
   "cell_type": "code",
   "execution_count": null,
   "id": "983bb1ae",
   "metadata": {},
   "outputs": [],
   "source": []
  },
  {
   "cell_type": "code",
   "execution_count": null,
   "id": "b742bb52",
   "metadata": {},
   "outputs": [],
   "source": []
  },
  {
   "cell_type": "code",
   "execution_count": null,
   "id": "310b6151",
   "metadata": {},
   "outputs": [],
   "source": []
  },
  {
   "cell_type": "code",
   "execution_count": null,
   "id": "6875faa0",
   "metadata": {},
   "outputs": [],
   "source": []
  },
  {
   "cell_type": "code",
   "execution_count": null,
   "id": "25300183",
   "metadata": {},
   "outputs": [],
   "source": []
  },
  {
   "cell_type": "code",
   "execution_count": null,
   "id": "dbe66bab",
   "metadata": {},
   "outputs": [],
   "source": []
  },
  {
   "cell_type": "code",
   "execution_count": null,
   "id": "715a9655",
   "metadata": {},
   "outputs": [],
   "source": []
  },
  {
   "cell_type": "code",
   "execution_count": null,
   "id": "cdd8d4ea",
   "metadata": {},
   "outputs": [],
   "source": []
  }
 ],
 "metadata": {
  "kernelspec": {
   "display_name": "Python 3 (ipykernel)",
   "language": "python",
   "name": "python3"
  },
  "language_info": {
   "codemirror_mode": {
    "name": "ipython",
    "version": 3
   },
   "file_extension": ".py",
   "mimetype": "text/x-python",
   "name": "python",
   "nbconvert_exporter": "python",
   "pygments_lexer": "ipython3",
   "version": "3.10.9"
  }
 },
 "nbformat": 4,
 "nbformat_minor": 5
}
