{
 "cells": [
  {
   "cell_type": "markdown",
   "id": "2819b248",
   "metadata": {},
   "source": [
    "### 환경설정"
   ]
  },
  {
   "cell_type": "code",
   "execution_count": 2,
   "id": "84b2a79d",
   "metadata": {},
   "outputs": [
    {
     "name": "stdout",
     "output_type": "stream",
     "text": [
      "True\n"
     ]
    }
   ],
   "source": [
    "# 1. java 설치(version 1.7 이상)\n",
    "# cmd 창에서 java --version으로 확인\n",
    "# 2. 환경 변수 설정\n",
    "# 제어판 > 시스템 > 고급 시스템 설정 > 고급 > 환경변수\n",
    "# 제어판을 들어가지 않고 환경 변수를 확안하는 방법\n",
    "import os\n",
    "print('JAVA_HOME' in os.environ)\n",
    "# True가 나온다면 자바 환경 변수까지 설정이 완료가 된 것!\n",
    "# 만약 false뜬다면 별도의 환경변수 설정이 필요하다.\n",
    "# -> jvm.dll이 있는 폴더를 시스템 변수에 JAVA_HOME으로 추가를 해주면 된다.\n",
    "os.environ['JAVA_HOME'] = r'C:\\Program Files\\Java\\jdk-11\\bin\\server'"
   ]
  },
  {
   "cell_type": "code",
   "execution_count": 3,
   "id": "fa1babd9",
   "metadata": {},
   "outputs": [
    {
     "name": "stdout",
     "output_type": "stream",
     "text": [
      "True\n"
     ]
    }
   ],
   "source": [
    "print('JAVA_HOME' in os.environ)"
   ]
  },
  {
   "cell_type": "code",
   "execution_count": 4,
   "id": "90cde4de",
   "metadata": {},
   "outputs": [
    {
     "name": "stdout",
     "output_type": "stream",
     "text": [
      "Collecting jpype1\n",
      "  Downloading JPype1-1.4.1-cp310-cp310-win_amd64.whl (345 kB)\n",
      "     ------------------------------------ 345.1/345.1 kB 437.7 kB/s eta 0:00:00\n",
      "Requirement already satisfied: packaging in c:\\users\\user04\\anaconda3\\lib\\site-packages (from jpype1) (22.0)\n",
      "Installing collected packages: jpype1\n",
      "Successfully installed jpype1-1.4.1\n"
     ]
    }
   ],
   "source": [
    "# 환경 변수 설정 완료 후 Jpype1 설치\n",
    "!pip install jpype1"
   ]
  },
  {
   "cell_type": "code",
   "execution_count": 7,
   "id": "0d90b048",
   "metadata": {
    "scrolled": true
   },
   "outputs": [
    {
     "name": "stdout",
     "output_type": "stream",
     "text": [
      "Collecting konlpy\n",
      "  Downloading konlpy-0.6.0-py2.py3-none-any.whl (19.4 MB)\n",
      "     --------------------------------------- 19.4/19.4 MB 12.6 MB/s eta 0:00:00\n",
      "Requirement already satisfied: lxml>=4.1.0 in c:\\users\\user04\\anaconda3\\lib\\site-packages (from konlpy) (4.9.1)\n",
      "Requirement already satisfied: numpy>=1.6 in c:\\users\\user04\\anaconda3\\lib\\site-packages (from konlpy) (1.23.5)\n",
      "Requirement already satisfied: JPype1>=0.7.0 in c:\\users\\user04\\anaconda3\\lib\\site-packages (from konlpy) (1.4.1)\n",
      "Requirement already satisfied: packaging in c:\\users\\user04\\anaconda3\\lib\\site-packages (from JPype1>=0.7.0->konlpy) (22.0)\n",
      "Installing collected packages: konlpy\n",
      "Successfully installed konlpy-0.6.0\n"
     ]
    }
   ],
   "source": [
    "# jpype1 설치 완료 후 한국어 형태소 분석기인 konlpy 설치하기\n",
    "!pip install konlpy"
   ]
  },
  {
   "cell_type": "code",
   "execution_count": 8,
   "id": "1c6122f0",
   "metadata": {},
   "outputs": [],
   "source": [
    "#라이브러리 불러와보기\n",
    "from konlpy.tag import Kkma"
   ]
  },
  {
   "cell_type": "code",
   "execution_count": 9,
   "id": "af9056f7",
   "metadata": {},
   "outputs": [],
   "source": [
    "kkma = Kkma()"
   ]
  },
  {
   "cell_type": "markdown",
   "id": "642cd1bb",
   "metadata": {},
   "source": [
    "### 목표설정\n",
    "- 네이버 영화리뷰 데이터 셋을 이용해서 긍정/부정 분류기를 만들어보자.\n",
    "- TF-IDF 토큰화 방법을 사용해보자\n",
    "- konlpy한국어 형태소 분석기를 사용해보자(글자 및)\n",
    "- 단어별 긍/부정 정보를 시각화해서 확인해보자"
   ]
  },
  {
   "cell_type": "code",
   "execution_count": 12,
   "id": "c443d4cd",
   "metadata": {},
   "outputs": [],
   "source": [
    "#필요한 라이브러리 불러오기 \n",
    "import pandas as pd\n",
    "import numpy as np\n",
    "import matplotlib.pyplot as plt"
   ]
  },
  {
   "cell_type": "code",
   "execution_count": 14,
   "id": "78c8672e",
   "metadata": {},
   "outputs": [],
   "source": [
    "df_train = pd.read_csv('./data/ratings_train.csv')\n",
    "df_test = pd.read_csv('./data/ratings_test.csv')"
   ]
  },
  {
   "cell_type": "code",
   "execution_count": 16,
   "id": "4f419421",
   "metadata": {},
   "outputs": [],
   "source": [
    "pd.set_option('display.max_colwidth', None) # 컬럼에 폭 제한을 없애버리겠다!\n",
    "pd.set_option('display.max_rows', None) # 전체 행을 보여줘라!"
   ]
  },
  {
   "cell_type": "code",
   "execution_count": 18,
   "id": "552de958",
   "metadata": {},
   "outputs": [
    {
     "data": {
      "text/html": [
       "<div>\n",
       "<style scoped>\n",
       "    .dataframe tbody tr th:only-of-type {\n",
       "        vertical-align: middle;\n",
       "    }\n",
       "\n",
       "    .dataframe tbody tr th {\n",
       "        vertical-align: top;\n",
       "    }\n",
       "\n",
       "    .dataframe thead th {\n",
       "        text-align: right;\n",
       "    }\n",
       "</style>\n",
       "<table border=\"1\" class=\"dataframe\">\n",
       "  <thead>\n",
       "    <tr style=\"text-align: right;\">\n",
       "      <th></th>\n",
       "      <th>id</th>\n",
       "      <th>document</th>\n",
       "      <th>label</th>\n",
       "    </tr>\n",
       "  </thead>\n",
       "  <tbody>\n",
       "    <tr>\n",
       "      <th>0</th>\n",
       "      <td>9976970</td>\n",
       "      <td>아 더빙.. 진짜 짜증나네요 목소리</td>\n",
       "      <td>0</td>\n",
       "    </tr>\n",
       "    <tr>\n",
       "      <th>1</th>\n",
       "      <td>3819312</td>\n",
       "      <td>흠...포스터보고 초딩영화줄....오버연기조차 가볍지 않구나</td>\n",
       "      <td>1</td>\n",
       "    </tr>\n",
       "    <tr>\n",
       "      <th>2</th>\n",
       "      <td>10265843</td>\n",
       "      <td>너무재밓었다그래서보는것을추천한다</td>\n",
       "      <td>0</td>\n",
       "    </tr>\n",
       "    <tr>\n",
       "      <th>3</th>\n",
       "      <td>9045019</td>\n",
       "      <td>교도소 이야기구먼 ..솔직히 재미는 없다..평점 조정</td>\n",
       "      <td>0</td>\n",
       "    </tr>\n",
       "    <tr>\n",
       "      <th>4</th>\n",
       "      <td>6483659</td>\n",
       "      <td>사이몬페그의 익살스런 연기가 돋보였던 영화!스파이더맨에서 늙어보이기만 했던 커스틴 던스트가 너무나도 이뻐보였다</td>\n",
       "      <td>1</td>\n",
       "    </tr>\n",
       "  </tbody>\n",
       "</table>\n",
       "</div>"
      ],
      "text/plain": [
       "         id                                                       document  \\\n",
       "0   9976970                                            아 더빙.. 진짜 짜증나네요 목소리   \n",
       "1   3819312                              흠...포스터보고 초딩영화줄....오버연기조차 가볍지 않구나   \n",
       "2  10265843                                              너무재밓었다그래서보는것을추천한다   \n",
       "3   9045019                                  교도소 이야기구먼 ..솔직히 재미는 없다..평점 조정   \n",
       "4   6483659  사이몬페그의 익살스런 연기가 돋보였던 영화!스파이더맨에서 늙어보이기만 했던 커스틴 던스트가 너무나도 이뻐보였다   \n",
       "\n",
       "   label  \n",
       "0      0  \n",
       "1      1  \n",
       "2      0  \n",
       "3      0  \n",
       "4      1  "
      ]
     },
     "execution_count": 18,
     "metadata": {},
     "output_type": "execute_result"
    }
   ],
   "source": [
    "df_train.head()"
   ]
  },
  {
   "cell_type": "markdown",
   "id": "dd1f40fe",
   "metadata": {},
   "source": [
    "**컬럼 정리**\n",
    "- id : 사용자 고유 식별 번호\n",
    "- document : 실제 리뷰 내용\n",
    "- label : 긍정/부정 -> 0: 부정리뷰, 1 : 긍정리뷰"
   ]
  },
  {
   "cell_type": "code",
   "execution_count": 21,
   "id": "107f19b9",
   "metadata": {},
   "outputs": [
    {
     "name": "stdout",
     "output_type": "stream",
     "text": [
      "<class 'pandas.core.frame.DataFrame'>\n",
      "RangeIndex: 150000 entries, 0 to 149999\n",
      "Data columns (total 3 columns):\n",
      " #   Column    Non-Null Count   Dtype \n",
      "---  ------    --------------   ----- \n",
      " 0   id        150000 non-null  int64 \n",
      " 1   document  149995 non-null  object\n",
      " 2   label     150000 non-null  int64 \n",
      "dtypes: int64(2), object(1)\n",
      "memory usage: 3.4+ MB\n"
     ]
    }
   ],
   "source": [
    "#데이터 프레임 확인 - info()\n",
    "# train의 정보 확인\n",
    "df_train.info()"
   ]
  },
  {
   "cell_type": "code",
   "execution_count": 22,
   "id": "e9350e05",
   "metadata": {},
   "outputs": [
    {
     "name": "stdout",
     "output_type": "stream",
     "text": [
      "<class 'pandas.core.frame.DataFrame'>\n",
      "RangeIndex: 50000 entries, 0 to 49999\n",
      "Data columns (total 3 columns):\n",
      " #   Column    Non-Null Count  Dtype \n",
      "---  ------    --------------  ----- \n",
      " 0   id        50000 non-null  int64 \n",
      " 1   document  49997 non-null  object\n",
      " 2   label     50000 non-null  int64 \n",
      "dtypes: int64(2), object(1)\n",
      "memory usage: 1.1+ MB\n"
     ]
    }
   ],
   "source": [
    "# test의 정보 확인\n",
    "df_test.info()"
   ]
  },
  {
   "cell_type": "code",
   "execution_count": null,
   "id": "58cc2562",
   "metadata": {},
   "outputs": [],
   "source": []
  }
 ],
 "metadata": {
  "kernelspec": {
   "display_name": "Python 3 (ipykernel)",
   "language": "python",
   "name": "python3"
  },
  "language_info": {
   "codemirror_mode": {
    "name": "ipython",
    "version": 3
   },
   "file_extension": ".py",
   "mimetype": "text/x-python",
   "name": "python",
   "nbconvert_exporter": "python",
   "pygments_lexer": "ipython3",
   "version": "3.10.9"
  }
 },
 "nbformat": 4,
 "nbformat_minor": 5
}
