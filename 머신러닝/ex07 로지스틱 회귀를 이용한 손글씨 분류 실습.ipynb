{
 "cells": [
  {
   "cell_type": "markdown",
   "id": "f561a975",
   "metadata": {},
   "source": [
    "### 목표 설정\n",
    "- 손 글씨 숫자(0~9)를 분류하는 모델을 만들어보자\n",
    "- 선형 분류 모델의 불확실성에 대해 알아보자(다른 분류도 살펴보자.)\n",
    "- 이미지 데이터에 대한 형태를 이해해보자."
   ]
  },
  {
   "cell_type": "code",
   "execution_count": 1,
   "id": "8a96ba7a",
   "metadata": {},
   "outputs": [],
   "source": [
    "# 필요한 라이브러리 import\n",
    "import pandas as pd\n",
    "import numpy as np\n",
    "from matplotlib import pyplot as plt"
   ]
  },
  {
   "cell_type": "markdown",
   "id": "936b8456",
   "metadata": {},
   "source": [
    "### 데이터 확보\n",
    "- digit_train 데이터 불러오기"
   ]
  },
  {
   "cell_type": "code",
   "execution_count": 2,
   "id": "b9b933bf",
   "metadata": {},
   "outputs": [],
   "source": [
    "digit = pd.read_csv('./data/digit_train.csv')"
   ]
  },
  {
   "cell_type": "code",
   "execution_count": 3,
   "id": "d3dea7f1",
   "metadata": {},
   "outputs": [
    {
     "data": {
      "text/html": [
       "<div>\n",
       "<style scoped>\n",
       "    .dataframe tbody tr th:only-of-type {\n",
       "        vertical-align: middle;\n",
       "    }\n",
       "\n",
       "    .dataframe tbody tr th {\n",
       "        vertical-align: top;\n",
       "    }\n",
       "\n",
       "    .dataframe thead th {\n",
       "        text-align: right;\n",
       "    }\n",
       "</style>\n",
       "<table border=\"1\" class=\"dataframe\">\n",
       "  <thead>\n",
       "    <tr style=\"text-align: right;\">\n",
       "      <th></th>\n",
       "      <th>label</th>\n",
       "      <th>pixel0</th>\n",
       "      <th>pixel1</th>\n",
       "      <th>pixel2</th>\n",
       "      <th>pixel3</th>\n",
       "      <th>pixel4</th>\n",
       "      <th>pixel5</th>\n",
       "      <th>pixel6</th>\n",
       "      <th>pixel7</th>\n",
       "      <th>pixel8</th>\n",
       "      <th>...</th>\n",
       "      <th>pixel774</th>\n",
       "      <th>pixel775</th>\n",
       "      <th>pixel776</th>\n",
       "      <th>pixel777</th>\n",
       "      <th>pixel778</th>\n",
       "      <th>pixel779</th>\n",
       "      <th>pixel780</th>\n",
       "      <th>pixel781</th>\n",
       "      <th>pixel782</th>\n",
       "      <th>pixel783</th>\n",
       "    </tr>\n",
       "  </thead>\n",
       "  <tbody>\n",
       "    <tr>\n",
       "      <th>0</th>\n",
       "      <td>1</td>\n",
       "      <td>0</td>\n",
       "      <td>0</td>\n",
       "      <td>0</td>\n",
       "      <td>0</td>\n",
       "      <td>0</td>\n",
       "      <td>0</td>\n",
       "      <td>0</td>\n",
       "      <td>0</td>\n",
       "      <td>0</td>\n",
       "      <td>...</td>\n",
       "      <td>0</td>\n",
       "      <td>0</td>\n",
       "      <td>0</td>\n",
       "      <td>0</td>\n",
       "      <td>0</td>\n",
       "      <td>0</td>\n",
       "      <td>0</td>\n",
       "      <td>0</td>\n",
       "      <td>0</td>\n",
       "      <td>0</td>\n",
       "    </tr>\n",
       "    <tr>\n",
       "      <th>1</th>\n",
       "      <td>0</td>\n",
       "      <td>0</td>\n",
       "      <td>0</td>\n",
       "      <td>0</td>\n",
       "      <td>0</td>\n",
       "      <td>0</td>\n",
       "      <td>0</td>\n",
       "      <td>0</td>\n",
       "      <td>0</td>\n",
       "      <td>0</td>\n",
       "      <td>...</td>\n",
       "      <td>0</td>\n",
       "      <td>0</td>\n",
       "      <td>0</td>\n",
       "      <td>0</td>\n",
       "      <td>0</td>\n",
       "      <td>0</td>\n",
       "      <td>0</td>\n",
       "      <td>0</td>\n",
       "      <td>0</td>\n",
       "      <td>0</td>\n",
       "    </tr>\n",
       "    <tr>\n",
       "      <th>2</th>\n",
       "      <td>1</td>\n",
       "      <td>0</td>\n",
       "      <td>0</td>\n",
       "      <td>0</td>\n",
       "      <td>0</td>\n",
       "      <td>0</td>\n",
       "      <td>0</td>\n",
       "      <td>0</td>\n",
       "      <td>0</td>\n",
       "      <td>0</td>\n",
       "      <td>...</td>\n",
       "      <td>0</td>\n",
       "      <td>0</td>\n",
       "      <td>0</td>\n",
       "      <td>0</td>\n",
       "      <td>0</td>\n",
       "      <td>0</td>\n",
       "      <td>0</td>\n",
       "      <td>0</td>\n",
       "      <td>0</td>\n",
       "      <td>0</td>\n",
       "    </tr>\n",
       "    <tr>\n",
       "      <th>3</th>\n",
       "      <td>4</td>\n",
       "      <td>0</td>\n",
       "      <td>0</td>\n",
       "      <td>0</td>\n",
       "      <td>0</td>\n",
       "      <td>0</td>\n",
       "      <td>0</td>\n",
       "      <td>0</td>\n",
       "      <td>0</td>\n",
       "      <td>0</td>\n",
       "      <td>...</td>\n",
       "      <td>0</td>\n",
       "      <td>0</td>\n",
       "      <td>0</td>\n",
       "      <td>0</td>\n",
       "      <td>0</td>\n",
       "      <td>0</td>\n",
       "      <td>0</td>\n",
       "      <td>0</td>\n",
       "      <td>0</td>\n",
       "      <td>0</td>\n",
       "    </tr>\n",
       "    <tr>\n",
       "      <th>4</th>\n",
       "      <td>0</td>\n",
       "      <td>0</td>\n",
       "      <td>0</td>\n",
       "      <td>0</td>\n",
       "      <td>0</td>\n",
       "      <td>0</td>\n",
       "      <td>0</td>\n",
       "      <td>0</td>\n",
       "      <td>0</td>\n",
       "      <td>0</td>\n",
       "      <td>...</td>\n",
       "      <td>0</td>\n",
       "      <td>0</td>\n",
       "      <td>0</td>\n",
       "      <td>0</td>\n",
       "      <td>0</td>\n",
       "      <td>0</td>\n",
       "      <td>0</td>\n",
       "      <td>0</td>\n",
       "      <td>0</td>\n",
       "      <td>0</td>\n",
       "    </tr>\n",
       "  </tbody>\n",
       "</table>\n",
       "<p>5 rows × 785 columns</p>\n",
       "</div>"
      ],
      "text/plain": [
       "   label  pixel0  pixel1  pixel2  pixel3  pixel4  pixel5  pixel6  pixel7  \\\n",
       "0      1       0       0       0       0       0       0       0       0   \n",
       "1      0       0       0       0       0       0       0       0       0   \n",
       "2      1       0       0       0       0       0       0       0       0   \n",
       "3      4       0       0       0       0       0       0       0       0   \n",
       "4      0       0       0       0       0       0       0       0       0   \n",
       "\n",
       "   pixel8  ...  pixel774  pixel775  pixel776  pixel777  pixel778  pixel779  \\\n",
       "0       0  ...         0         0         0         0         0         0   \n",
       "1       0  ...         0         0         0         0         0         0   \n",
       "2       0  ...         0         0         0         0         0         0   \n",
       "3       0  ...         0         0         0         0         0         0   \n",
       "4       0  ...         0         0         0         0         0         0   \n",
       "\n",
       "   pixel780  pixel781  pixel782  pixel783  \n",
       "0         0         0         0         0  \n",
       "1         0         0         0         0  \n",
       "2         0         0         0         0  \n",
       "3         0         0         0         0  \n",
       "4         0         0         0         0  \n",
       "\n",
       "[5 rows x 785 columns]"
      ]
     },
     "execution_count": 3,
     "metadata": {},
     "output_type": "execute_result"
    }
   ],
   "source": [
    "#데이터 확인\n",
    "# 주의점 : 데이터가 너무 크다. 그대로 불러오면 메모리가 버티지 못한다\n",
    "# head() 함수를 이용해서 데이터의 형태를 알아보자\n",
    "digit.head()"
   ]
  },
  {
   "cell_type": "code",
   "execution_count": 4,
   "id": "2a58508b",
   "metadata": {},
   "outputs": [
    {
     "data": {
      "text/plain": [
       "(42000, 785)"
      ]
     },
     "execution_count": 4,
     "metadata": {},
     "output_type": "execute_result"
    }
   ],
   "source": [
    "digit.shape"
   ]
  },
  {
   "cell_type": "markdown",
   "id": "e43b1d6b",
   "metadata": {},
   "source": [
    "### EDA"
   ]
  },
  {
   "cell_type": "code",
   "execution_count": 5,
   "id": "f6d8431d",
   "metadata": {},
   "outputs": [],
   "source": [
    "# 하나의 데이터를 뽑아와서 데이터의 구조를 살펴보자\n",
    "img0 = digit.iloc[0, 1:]\n"
   ]
  },
  {
   "cell_type": "code",
   "execution_count": 6,
   "id": "a2fc7350",
   "metadata": {},
   "outputs": [
    {
     "name": "stdout",
     "output_type": "stream",
     "text": [
      "255\n",
      "0\n"
     ]
    }
   ],
   "source": [
    "# 뽑아온 데이터의 최대 값과 최소 값을 알아보자\n",
    "print(img0.max())\n",
    "print(img0.min())"
   ]
  },
  {
   "cell_type": "code",
   "execution_count": 7,
   "id": "dac951b3",
   "metadata": {},
   "outputs": [
    {
     "data": {
      "image/png": "[encoded data removed]",
      "text/plain": [
       "<Figure size 640x480 with 1 Axes>"
      ]
     },
     "metadata": {},
     "output_type": "display_data"
    }
   ],
   "source": [
    "# 데이터의 분포를 알아보기 위해 히스토그램을 그려보자\n",
    "plt.hist(img0, bins=255)\n",
    "plt.show()"
   ]
  },
  {
   "cell_type": "code",
   "execution_count": 8,
   "id": "e473e7b2",
   "metadata": {},
   "outputs": [
    {
     "data": {
      "image/png": "[encoded data removed]",
      "text/plain": [
       "<Figure size 640x480 with 1 Axes>"
      ]
     },
     "metadata": {},
     "output_type": "display_data"
    }
   ],
   "source": [
    "# 실제 데이터 출력해보기\n",
    "plt.imshow(img0.values.reshape(28, 28), cmap = 'gray')\n",
    "plt.show()\n",
    "# 검정색은 0이었다.흰색은 255였다.\n",
    "# 히스토그램에서 중간 부분의 작은 데이터들은 경계선을 표시하는 것 같다."
   ]
  },
  {
   "cell_type": "code",
   "execution_count": 9,
   "id": "edfe75c5",
   "metadata": {},
   "outputs": [
    {
     "data": {
      "image/png": "[encoded data removed]",
      "text/plain": [
       "<Figure size 640x480 with 1 Axes>"
      ]
     },
     "metadata": {},
     "output_type": "display_data"
    }
   ],
   "source": [
    "# 하나의 데이터를 뽑아와서 데이터의 구조를 살펴보자\n",
    "img0 = digit.iloc[35000, 1:]\n",
    "# 실제 데이터 출력해보기\n",
    "plt.imshow(img0.values.reshape(28, 28), cmap = 'gray')\n",
    "plt.show()"
   ]
  },
  {
   "cell_type": "markdown",
   "id": "c58d257c",
   "metadata": {},
   "source": [
    "### 데이터 추출\n",
    "- 현재 데이터는 양이 너무 많다.\n",
    "- 실습의 편의성을 위해서 우리가 5000개의 데이터를 뽑아보자"
   ]
  },
  {
   "cell_type": "code",
   "execution_count": 10,
   "id": "62cf76e7",
   "metadata": {},
   "outputs": [
    {
     "name": "stdout",
     "output_type": "stream",
     "text": [
      "(5000, 784)\n",
      "(5000,)\n"
     ]
    }
   ],
   "source": [
    "X = digit.iloc[0:5000, 1:]\n",
    "y = digit.iloc[0 : 5000, 0]\n",
    "print(X.shape)\n",
    "print(y.shape)"
   ]
  },
  {
   "cell_type": "code",
   "execution_count": 11,
   "id": "acd2c258",
   "metadata": {},
   "outputs": [],
   "source": [
    "# 데이터 분할 작업 필요\n",
    "# train_test_split을 이용해서 데이터를 분할해주자\n",
    "# 1. 모듈 불러오기\n",
    "from sklearn.model_selection import train_test_split"
   ]
  },
  {
   "cell_type": "code",
   "execution_count": 12,
   "id": "5c7a6e80",
   "metadata": {},
   "outputs": [],
   "source": [
    "# 2. 모듈 사용해서 4등분 해주기(테스트 사이즈 30개, 랜덤 시드 값 9)\n",
    "X_train, X_test, y_train, y_test = train_test_split(X, y,\n",
    "                                                   test_size=0.3,\n",
    "                                                   random_state=9)"
   ]
  },
  {
   "cell_type": "code",
   "execution_count": 13,
   "id": "df36b51e",
   "metadata": {},
   "outputs": [
    {
     "data": {
      "text/plain": [
       "((3500, 784), (1500, 784), (3500,), (1500,))"
      ]
     },
     "execution_count": 13,
     "metadata": {},
     "output_type": "execute_result"
    }
   ],
   "source": [
    "# 3. 데이터 분할 확인하기\n",
    "X_train.shape, X_test.shape, y_train.shape, y_test.shape"
   ]
  },
  {
   "cell_type": "code",
   "execution_count": 14,
   "id": "5fb37c4a",
   "metadata": {},
   "outputs": [],
   "source": [
    "# 모델 import\n",
    "from sklearn.linear_model import LogisticRegression"
   ]
  },
  {
   "cell_type": "code",
   "execution_count": 15,
   "id": "4d371a6f",
   "metadata": {},
   "outputs": [],
   "source": [
    "# 모델 객체 생성\n",
    "logi = LogisticRegression() # 기본 모델 이용"
   ]
  },
  {
   "cell_type": "code",
   "execution_count": 16,
   "id": "3a36daac",
   "metadata": {},
   "outputs": [
    {
     "name": "stderr",
     "output_type": "stream",
     "text": [
      "C:\\Users\\user04\\anaconda3\\lib\\site-packages\\sklearn\\linear_model\\_logistic.py:458: ConvergenceWarning: lbfgs failed to converge (status=1):\n",
      "STOP: TOTAL NO. of ITERATIONS REACHED LIMIT.\n",
      "\n",
      "Increase the number of iterations (max_iter) or scale the data as shown in:\n",
      "    https://scikit-learn.org/stable/modules/preprocessing.html\n",
      "Please also refer to the documentation for alternative solver options:\n",
      "    https://scikit-learn.org/stable/modules/linear_model.html#logistic-regression\n",
      "  n_iter_i = _check_optimize_result(\n"
     ]
    },
    {
     "data": {
      "text/html": [
       "<style>#sk-container-id-1 {color: black;background-color: white;}#sk-container-id-1 pre{padding: 0;}#sk-container-id-1 div.sk-toggleable {background-color: white;}#sk-container-id-1 label.sk-toggleable__label {cursor: pointer;display: block;width: 100%;margin-bottom: 0;padding: 0.3em;box-sizing: border-box;text-align: center;}#sk-container-id-1 label.sk-toggleable__label-arrow:before {content: \"▸\";float: left;margin-right: 0.25em;color: #696969;}#sk-container-id-1 label.sk-toggleable__label-arrow:hover:before {color: black;}#sk-container-id-1 div.sk-estimator:hover label.sk-toggleable__label-arrow:before {color: black;}#sk-container-id-1 div.sk-toggleable__content {max-height: 0;max-width: 0;overflow: hidden;text-align: left;background-color: #f0f8ff;}#sk-container-id-1 div.sk-toggleable__content pre {margin: 0.2em;color: black;border-radius: 0.25em;background-color: #f0f8ff;}#sk-container-id-1 input.sk-toggleable__control:checked~div.sk-toggleable__content {max-height: 200px;max-width: 100%;overflow: auto;}#sk-container-id-1 input.sk-toggleable__control:checked~label.sk-toggleable__label-arrow:before {content: \"▾\";}#sk-container-id-1 div.sk-estimator input.sk-toggleable__control:checked~label.sk-toggleable__label {background-color: #d4ebff;}#sk-container-id-1 div.sk-label input.sk-toggleable__control:checked~label.sk-toggleable__label {background-color: #d4ebff;}#sk-container-id-1 input.sk-hidden--visually {border: 0;clip: rect(1px 1px 1px 1px);clip: rect(1px, 1px, 1px, 1px);height: 1px;margin: -1px;overflow: hidden;padding: 0;position: absolute;width: 1px;}#sk-container-id-1 div.sk-estimator {font-family: monospace;background-color: #f0f8ff;border: 1px dotted black;border-radius: 0.25em;box-sizing: border-box;margin-bottom: 0.5em;}#sk-container-id-1 div.sk-estimator:hover {background-color: #d4ebff;}#sk-container-id-1 div.sk-parallel-item::after {content: \"\";width: 100%;border-bottom: 1px solid gray;flex-grow: 1;}#sk-container-id-1 div.sk-label:hover label.sk-toggleable__label {background-color: #d4ebff;}#sk-container-id-1 div.sk-serial::before {content: \"\";position: absolute;border-left: 1px solid gray;box-sizing: border-box;top: 0;bottom: 0;left: 50%;z-index: 0;}#sk-container-id-1 div.sk-serial {display: flex;flex-direction: column;align-items: center;background-color: white;padding-right: 0.2em;padding-left: 0.2em;position: relative;}#sk-container-id-1 div.sk-item {position: relative;z-index: 1;}#sk-container-id-1 div.sk-parallel {display: flex;align-items: stretch;justify-content: center;background-color: white;position: relative;}#sk-container-id-1 div.sk-item::before, #sk-container-id-1 div.sk-parallel-item::before {content: \"\";position: absolute;border-left: 1px solid gray;box-sizing: border-box;top: 0;bottom: 0;left: 50%;z-index: -1;}#sk-container-id-1 div.sk-parallel-item {display: flex;flex-direction: column;z-index: 1;position: relative;background-color: white;}#sk-container-id-1 div.sk-parallel-item:first-child::after {align-self: flex-end;width: 50%;}#sk-container-id-1 div.sk-parallel-item:last-child::after {align-self: flex-start;width: 50%;}#sk-container-id-1 div.sk-parallel-item:only-child::after {width: 0;}#sk-container-id-1 div.sk-dashed-wrapped {border: 1px dashed gray;margin: 0 0.4em 0.5em 0.4em;box-sizing: border-box;padding-bottom: 0.4em;background-color: white;}#sk-container-id-1 div.sk-label label {font-family: monospace;font-weight: bold;display: inline-block;line-height: 1.2em;}#sk-container-id-1 div.sk-label-container {text-align: center;}#sk-container-id-1 div.sk-container {/* jupyter's `normalize.less` sets `[hidden] { display: none; }` but bootstrap.min.css set `[hidden] { display: none !important; }` so we also need the `!important` here to be able to override the default hidden behavior on the sphinx rendered scikit-learn.org. See: https://github.com/scikit-learn/scikit-learn/issues/21755 */display: inline-block !important;position: relative;}#sk-container-id-1 div.sk-text-repr-fallback {display: none;}</style><div id=\"sk-container-id-1\" class=\"sk-top-container\"><div class=\"sk-text-repr-fallback\"><pre>LogisticRegression()</pre><b>In a Jupyter environment, please rerun this cell to show the HTML representation or trust the notebook. <br />On GitHub, the HTML representation is unable to render, please try loading this page with nbviewer.org.</b></div><div class=\"sk-container\" hidden><div class=\"sk-item\"><div class=\"sk-estimator sk-toggleable\"><input class=\"sk-toggleable__control sk-hidden--visually\" id=\"sk-estimator-id-1\" type=\"checkbox\" checked><label for=\"sk-estimator-id-1\" class=\"sk-toggleable__label sk-toggleable__label-arrow\">LogisticRegression</label><div class=\"sk-toggleable__content\"><pre>LogisticRegression()</pre></div></div></div></div></div>"
      ],
      "text/plain": [
       "LogisticRegression()"
      ]
     },
     "execution_count": 16,
     "metadata": {},
     "output_type": "execute_result"
    }
   ],
   "source": [
    "# 모델 학습\n",
    "logi.fit(X_train, y_train)"
   ]
  },
  {
   "cell_type": "code",
   "execution_count": 17,
   "id": "13e77ad9",
   "metadata": {},
   "outputs": [
    {
     "data": {
      "text/plain": [
       "array([8, 5, 9, ..., 5, 7, 6], dtype=int64)"
      ]
     },
     "execution_count": 17,
     "metadata": {},
     "output_type": "execute_result"
    }
   ],
   "source": [
    "# 모델 예측\n",
    "pre = logi.predict(X_test)\n",
    "pre"
   ]
  },
  {
   "cell_type": "code",
   "execution_count": 18,
   "id": "eee280e1",
   "metadata": {},
   "outputs": [],
   "source": [
    "import warnings\n",
    "warnings.filterwarnings('ignore')"
   ]
  },
  {
   "cell_type": "code",
   "execution_count": 19,
   "id": "f5275568",
   "metadata": {},
   "outputs": [
    {
     "name": "stdout",
     "output_type": "stream",
     "text": [
      "[0.87142857 0.89714286 0.87714286 0.87285714 0.87714286]\n",
      "0.8791428571428572\n"
     ]
    }
   ],
   "source": [
    "# 교차검증 모듈 불러오기\n",
    "from sklearn.model_selection import cross_val_score\n",
    "# 교차 검증\n",
    "result = cross_val_score(logi, X_train, y_train, cv = 5)\n",
    "print(result)\n",
    "print(result.mean())"
   ]
  },
  {
   "cell_type": "code",
   "execution_count": 20,
   "id": "41c7f106",
   "metadata": {},
   "outputs": [
    {
     "data": {
      "text/plain": [
       "0.878"
      ]
     },
     "execution_count": 20,
     "metadata": {},
     "output_type": "execute_result"
    }
   ],
   "source": [
    "# 모델평가\n",
    "logi.score(X_test, y_test)"
   ]
  },
  {
   "cell_type": "markdown",
   "id": "36c5a592",
   "metadata": {},
   "source": [
    "### 데이터 스케일링\n",
    "- 모델의 안정성과 성능을 끌어올리기 위해서 데이터 스케일링 진행!\n",
    "- 분류모델이기 때문에 상대적으로 더 어울리는 스탠다드 스케일링 작업을 진행"
   ]
  },
  {
   "cell_type": "code",
   "execution_count": 21,
   "id": "64cf3351",
   "metadata": {},
   "outputs": [],
   "source": [
    "# 스케일링 모듈 불러오기\n",
    "# 1. standard scaler\n",
    "from sklearn.preprocessing import StandardScaler\n",
    "#2. MinMaxScaler\n",
    "from sklearn.preprocessing import MinMaxScaler"
   ]
  },
  {
   "cell_type": "code",
   "execution_count": 22,
   "id": "3d007461",
   "metadata": {},
   "outputs": [],
   "source": [
    "# 모듈이 같은 위치에 존재할 때는 콤마를 통해 여러 모듈을 불러올 수 있다.\n",
    "from sklearn.preprocessing import StandardScaler, MinMaxScaler"
   ]
  },
  {
   "cell_type": "code",
   "execution_count": 23,
   "id": "6ef63e65",
   "metadata": {},
   "outputs": [],
   "source": [
    "#스켕일러 객체 생성\n",
    "ss_scale = StandardScaler()\n",
    "mm_scale = MinMaxScaler()"
   ]
  },
  {
   "cell_type": "code",
   "execution_count": 24,
   "id": "034a01e6",
   "metadata": {},
   "outputs": [
    {
     "data": {
      "text/html": [
       "<style>#sk-container-id-2 {color: black;background-color: white;}#sk-container-id-2 pre{padding: 0;}#sk-container-id-2 div.sk-toggleable {background-color: white;}#sk-container-id-2 label.sk-toggleable__label {cursor: pointer;display: block;width: 100%;margin-bottom: 0;padding: 0.3em;box-sizing: border-box;text-align: center;}#sk-container-id-2 label.sk-toggleable__label-arrow:before {content: \"▸\";float: left;margin-right: 0.25em;color: #696969;}#sk-container-id-2 label.sk-toggleable__label-arrow:hover:before {color: black;}#sk-container-id-2 div.sk-estimator:hover label.sk-toggleable__label-arrow:before {color: black;}#sk-container-id-2 div.sk-toggleable__content {max-height: 0;max-width: 0;overflow: hidden;text-align: left;background-color: #f0f8ff;}#sk-container-id-2 div.sk-toggleable__content pre {margin: 0.2em;color: black;border-radius: 0.25em;background-color: #f0f8ff;}#sk-container-id-2 input.sk-toggleable__control:checked~div.sk-toggleable__content {max-height: 200px;max-width: 100%;overflow: auto;}#sk-container-id-2 input.sk-toggleable__control:checked~label.sk-toggleable__label-arrow:before {content: \"▾\";}#sk-container-id-2 div.sk-estimator input.sk-toggleable__control:checked~label.sk-toggleable__label {background-color: #d4ebff;}#sk-container-id-2 div.sk-label input.sk-toggleable__control:checked~label.sk-toggleable__label {background-color: #d4ebff;}#sk-container-id-2 input.sk-hidden--visually {border: 0;clip: rect(1px 1px 1px 1px);clip: rect(1px, 1px, 1px, 1px);height: 1px;margin: -1px;overflow: hidden;padding: 0;position: absolute;width: 1px;}#sk-container-id-2 div.sk-estimator {font-family: monospace;background-color: #f0f8ff;border: 1px dotted black;border-radius: 0.25em;box-sizing: border-box;margin-bottom: 0.5em;}#sk-container-id-2 div.sk-estimator:hover {background-color: #d4ebff;}#sk-container-id-2 div.sk-parallel-item::after {content: \"\";width: 100%;border-bottom: 1px solid gray;flex-grow: 1;}#sk-container-id-2 div.sk-label:hover label.sk-toggleable__label {background-color: #d4ebff;}#sk-container-id-2 div.sk-serial::before {content: \"\";position: absolute;border-left: 1px solid gray;box-sizing: border-box;top: 0;bottom: 0;left: 50%;z-index: 0;}#sk-container-id-2 div.sk-serial {display: flex;flex-direction: column;align-items: center;background-color: white;padding-right: 0.2em;padding-left: 0.2em;position: relative;}#sk-container-id-2 div.sk-item {position: relative;z-index: 1;}#sk-container-id-2 div.sk-parallel {display: flex;align-items: stretch;justify-content: center;background-color: white;position: relative;}#sk-container-id-2 div.sk-item::before, #sk-container-id-2 div.sk-parallel-item::before {content: \"\";position: absolute;border-left: 1px solid gray;box-sizing: border-box;top: 0;bottom: 0;left: 50%;z-index: -1;}#sk-container-id-2 div.sk-parallel-item {display: flex;flex-direction: column;z-index: 1;position: relative;background-color: white;}#sk-container-id-2 div.sk-parallel-item:first-child::after {align-self: flex-end;width: 50%;}#sk-container-id-2 div.sk-parallel-item:last-child::after {align-self: flex-start;width: 50%;}#sk-container-id-2 div.sk-parallel-item:only-child::after {width: 0;}#sk-container-id-2 div.sk-dashed-wrapped {border: 1px dashed gray;margin: 0 0.4em 0.5em 0.4em;box-sizing: border-box;padding-bottom: 0.4em;background-color: white;}#sk-container-id-2 div.sk-label label {font-family: monospace;font-weight: bold;display: inline-block;line-height: 1.2em;}#sk-container-id-2 div.sk-label-container {text-align: center;}#sk-container-id-2 div.sk-container {/* jupyter's `normalize.less` sets `[hidden] { display: none; }` but bootstrap.min.css set `[hidden] { display: none !important; }` so we also need the `!important` here to be able to override the default hidden behavior on the sphinx rendered scikit-learn.org. See: https://github.com/scikit-learn/scikit-learn/issues/21755 */display: inline-block !important;position: relative;}#sk-container-id-2 div.sk-text-repr-fallback {display: none;}</style><div id=\"sk-container-id-2\" class=\"sk-top-container\"><div class=\"sk-text-repr-fallback\"><pre>MinMaxScaler()</pre><b>In a Jupyter environment, please rerun this cell to show the HTML representation or trust the notebook. <br />On GitHub, the HTML representation is unable to render, please try loading this page with nbviewer.org.</b></div><div class=\"sk-container\" hidden><div class=\"sk-item\"><div class=\"sk-estimator sk-toggleable\"><input class=\"sk-toggleable__control sk-hidden--visually\" id=\"sk-estimator-id-2\" type=\"checkbox\" checked><label for=\"sk-estimator-id-2\" class=\"sk-toggleable__label sk-toggleable__label-arrow\">MinMaxScaler</label><div class=\"sk-toggleable__content\"><pre>MinMaxScaler()</pre></div></div></div></div></div>"
      ],
      "text/plain": [
       "MinMaxScaler()"
      ]
     },
     "execution_count": 24,
     "metadata": {},
     "output_type": "execute_result"
    }
   ],
   "source": [
    "# 스케일러 학습\n",
    "# 1. 스탠다드 스케일러 학습\n",
    "ss_scale.fit(X_train)\n",
    "# 2. MinMax스켕이러 학습\n",
    "mm_scale.fit(X_train)"
   ]
  },
  {
   "cell_type": "code",
   "execution_count": 25,
   "id": "13b43c3f",
   "metadata": {},
   "outputs": [],
   "source": [
    "# 1. 스탠다드 스켕일러를 통한 변환 진행하기\n",
    "X_train_ss = ss_scale.transform(X_train)\n",
    "X_test_ss = ss_scale.transform(X_test)"
   ]
  },
  {
   "cell_type": "code",
   "execution_count": 26,
   "id": "10308210",
   "metadata": {},
   "outputs": [
    {
     "data": {
      "text/plain": [
       "(array([114., 516.,  15., 112.,  20.,   2.,   3.,   1.,   0.,   1.]),\n",
       " array([-1.14479403, -0.44818888,  0.24841628,  0.94502143,  1.64162658,\n",
       "         2.33823173,  3.03483688,  3.73144203,  4.42804718,  5.12465233,\n",
       "         5.82125749]),\n",
       " <BarContainer object of 10 artists>)"
      ]
     },
     "execution_count": 26,
     "metadata": {},
     "output_type": "execute_result"
    },
    {
     "data": {
      "image/png": "[encoded data removed]",
      "text/plain": [
       "<Figure size 640x480 with 1 Axes>"
      ]
     },
     "metadata": {},
     "output_type": "display_data"
    }
   ],
   "source": [
    "# 히스토그램\n",
    "plt.hist(X_train_ss[0])"
   ]
  },
  {
   "cell_type": "code",
   "execution_count": 27,
   "id": "a1f6dc73",
   "metadata": {},
   "outputs": [],
   "source": [
    "# 1. MinMaxScaler를 통한 데이터 스케일링 변환\n",
    "X_train_mm = mm_scale.transform(X_train)\n",
    "X_test_mm = mm_scale.transform(X_test)"
   ]
  },
  {
   "cell_type": "code",
   "execution_count": 28,
   "id": "e07965e0",
   "metadata": {},
   "outputs": [
    {
     "data": {
      "text/plain": [
       "(array([616.,   5.,   4.,   2.,   6.,   9.,   6.,   2.,  16., 118.]),\n",
       " array([0. , 0.1, 0.2, 0.3, 0.4, 0.5, 0.6, 0.7, 0.8, 0.9, 1. ]),\n",
       " <BarContainer object of 10 artists>)"
      ]
     },
     "execution_count": 28,
     "metadata": {},
     "output_type": "execute_result"
    },
    {
     "data": {
      "image/png": "[encoded data removed]",
      "text/plain": [
       "<Figure size 640x480 with 1 Axes>"
      ]
     },
     "metadata": {},
     "output_type": "display_data"
    }
   ],
   "source": [
    "# 히스토그램\n",
    "plt.hist(X_train_mm[0])"
   ]
  },
  {
   "cell_type": "code",
   "execution_count": 32,
   "id": "f29b30f9",
   "metadata": {},
   "outputs": [],
   "source": [
    "from sklearn.model_selection import cross_val_score\n",
    "# 스켕일링이 진행된 데이터를 가지고 모델을 학습\n",
    "# 모델 객체 생성\n",
    "logi_ss = LogisticRegression()\n",
    "logi_mm = LogisticRegression()"
   ]
  },
  {
   "cell_type": "code",
   "execution_count": 33,
   "id": "96c8fb27",
   "metadata": {},
   "outputs": [
    {
     "data": {
      "text/html": [
       "<style>#sk-container-id-4 {color: black;background-color: white;}#sk-container-id-4 pre{padding: 0;}#sk-container-id-4 div.sk-toggleable {background-color: white;}#sk-container-id-4 label.sk-toggleable__label {cursor: pointer;display: block;width: 100%;margin-bottom: 0;padding: 0.3em;box-sizing: border-box;text-align: center;}#sk-container-id-4 label.sk-toggleable__label-arrow:before {content: \"▸\";float: left;margin-right: 0.25em;color: #696969;}#sk-container-id-4 label.sk-toggleable__label-arrow:hover:before {color: black;}#sk-container-id-4 div.sk-estimator:hover label.sk-toggleable__label-arrow:before {color: black;}#sk-container-id-4 div.sk-toggleable__content {max-height: 0;max-width: 0;overflow: hidden;text-align: left;background-color: #f0f8ff;}#sk-container-id-4 div.sk-toggleable__content pre {margin: 0.2em;color: black;border-radius: 0.25em;background-color: #f0f8ff;}#sk-container-id-4 input.sk-toggleable__control:checked~div.sk-toggleable__content {max-height: 200px;max-width: 100%;overflow: auto;}#sk-container-id-4 input.sk-toggleable__control:checked~label.sk-toggleable__label-arrow:before {content: \"▾\";}#sk-container-id-4 div.sk-estimator input.sk-toggleable__control:checked~label.sk-toggleable__label {background-color: #d4ebff;}#sk-container-id-4 div.sk-label input.sk-toggleable__control:checked~label.sk-toggleable__label {background-color: #d4ebff;}#sk-container-id-4 input.sk-hidden--visually {border: 0;clip: rect(1px 1px 1px 1px);clip: rect(1px, 1px, 1px, 1px);height: 1px;margin: -1px;overflow: hidden;padding: 0;position: absolute;width: 1px;}#sk-container-id-4 div.sk-estimator {font-family: monospace;background-color: #f0f8ff;border: 1px dotted black;border-radius: 0.25em;box-sizing: border-box;margin-bottom: 0.5em;}#sk-container-id-4 div.sk-estimator:hover {background-color: #d4ebff;}#sk-container-id-4 div.sk-parallel-item::after {content: \"\";width: 100%;border-bottom: 1px solid gray;flex-grow: 1;}#sk-container-id-4 div.sk-label:hover label.sk-toggleable__label {background-color: #d4ebff;}#sk-container-id-4 div.sk-serial::before {content: \"\";position: absolute;border-left: 1px solid gray;box-sizing: border-box;top: 0;bottom: 0;left: 50%;z-index: 0;}#sk-container-id-4 div.sk-serial {display: flex;flex-direction: column;align-items: center;background-color: white;padding-right: 0.2em;padding-left: 0.2em;position: relative;}#sk-container-id-4 div.sk-item {position: relative;z-index: 1;}#sk-container-id-4 div.sk-parallel {display: flex;align-items: stretch;justify-content: center;background-color: white;position: relative;}#sk-container-id-4 div.sk-item::before, #sk-container-id-4 div.sk-parallel-item::before {content: \"\";position: absolute;border-left: 1px solid gray;box-sizing: border-box;top: 0;bottom: 0;left: 50%;z-index: -1;}#sk-container-id-4 div.sk-parallel-item {display: flex;flex-direction: column;z-index: 1;position: relative;background-color: white;}#sk-container-id-4 div.sk-parallel-item:first-child::after {align-self: flex-end;width: 50%;}#sk-container-id-4 div.sk-parallel-item:last-child::after {align-self: flex-start;width: 50%;}#sk-container-id-4 div.sk-parallel-item:only-child::after {width: 0;}#sk-container-id-4 div.sk-dashed-wrapped {border: 1px dashed gray;margin: 0 0.4em 0.5em 0.4em;box-sizing: border-box;padding-bottom: 0.4em;background-color: white;}#sk-container-id-4 div.sk-label label {font-family: monospace;font-weight: bold;display: inline-block;line-height: 1.2em;}#sk-container-id-4 div.sk-label-container {text-align: center;}#sk-container-id-4 div.sk-container {/* jupyter's `normalize.less` sets `[hidden] { display: none; }` but bootstrap.min.css set `[hidden] { display: none !important; }` so we also need the `!important` here to be able to override the default hidden behavior on the sphinx rendered scikit-learn.org. See: https://github.com/scikit-learn/scikit-learn/issues/21755 */display: inline-block !important;position: relative;}#sk-container-id-4 div.sk-text-repr-fallback {display: none;}</style><div id=\"sk-container-id-4\" class=\"sk-top-container\"><div class=\"sk-text-repr-fallback\"><pre>LogisticRegression()</pre><b>In a Jupyter environment, please rerun this cell to show the HTML representation or trust the notebook. <br />On GitHub, the HTML representation is unable to render, please try loading this page with nbviewer.org.</b></div><div class=\"sk-container\" hidden><div class=\"sk-item\"><div class=\"sk-estimator sk-toggleable\"><input class=\"sk-toggleable__control sk-hidden--visually\" id=\"sk-estimator-id-4\" type=\"checkbox\" checked><label for=\"sk-estimator-id-4\" class=\"sk-toggleable__label sk-toggleable__label-arrow\">LogisticRegression</label><div class=\"sk-toggleable__content\"><pre>LogisticRegression()</pre></div></div></div></div></div>"
      ],
      "text/plain": [
       "LogisticRegression()"
      ]
     },
     "execution_count": 33,
     "metadata": {},
     "output_type": "execute_result"
    }
   ],
   "source": [
    "# 스탠다드 스케일링 데이터 학습\n",
    "logi_ss.fit(X_train_ss, y_train)"
   ]
  },
  {
   "cell_type": "code",
   "execution_count": 34,
   "id": "d9afad7a",
   "metadata": {},
   "outputs": [
    {
     "name": "stdout",
     "output_type": "stream",
     "text": [
      "[0.86857143 0.89714286 0.88571429 0.88428571 0.89285714]\n",
      "0.8857142857142858\n"
     ]
    }
   ],
   "source": [
    "# 스탠다드 스케일링 데이터 교차검증\n",
    "res = cross_val_score(logi_ss, X_train_ss, y_train, cv = 5)\n",
    "print(res)\n",
    "print(res.mean())"
   ]
  },
  {
   "cell_type": "code",
   "execution_count": 36,
   "id": "36b82073",
   "metadata": {},
   "outputs": [
    {
     "data": {
      "text/plain": [
       "0.8873333333333333"
      ]
     },
     "execution_count": 36,
     "metadata": {},
     "output_type": "execute_result"
    }
   ],
   "source": [
    "# 스탠다드 스케일링 데이터 모델 평가\n",
    "logi_ss.score(X_test_ss, y_test)"
   ]
  },
  {
   "cell_type": "code",
   "execution_count": 38,
   "id": "90af87ab",
   "metadata": {},
   "outputs": [
    {
     "data": {
      "text/html": [
       "<style>#sk-container-id-5 {color: black;background-color: white;}#sk-container-id-5 pre{padding: 0;}#sk-container-id-5 div.sk-toggleable {background-color: white;}#sk-container-id-5 label.sk-toggleable__label {cursor: pointer;display: block;width: 100%;margin-bottom: 0;padding: 0.3em;box-sizing: border-box;text-align: center;}#sk-container-id-5 label.sk-toggleable__label-arrow:before {content: \"▸\";float: left;margin-right: 0.25em;color: #696969;}#sk-container-id-5 label.sk-toggleable__label-arrow:hover:before {color: black;}#sk-container-id-5 div.sk-estimator:hover label.sk-toggleable__label-arrow:before {color: black;}#sk-container-id-5 div.sk-toggleable__content {max-height: 0;max-width: 0;overflow: hidden;text-align: left;background-color: #f0f8ff;}#sk-container-id-5 div.sk-toggleable__content pre {margin: 0.2em;color: black;border-radius: 0.25em;background-color: #f0f8ff;}#sk-container-id-5 input.sk-toggleable__control:checked~div.sk-toggleable__content {max-height: 200px;max-width: 100%;overflow: auto;}#sk-container-id-5 input.sk-toggleable__control:checked~label.sk-toggleable__label-arrow:before {content: \"▾\";}#sk-container-id-5 div.sk-estimator input.sk-toggleable__control:checked~label.sk-toggleable__label {background-color: #d4ebff;}#sk-container-id-5 div.sk-label input.sk-toggleable__control:checked~label.sk-toggleable__label {background-color: #d4ebff;}#sk-container-id-5 input.sk-hidden--visually {border: 0;clip: rect(1px 1px 1px 1px);clip: rect(1px, 1px, 1px, 1px);height: 1px;margin: -1px;overflow: hidden;padding: 0;position: absolute;width: 1px;}#sk-container-id-5 div.sk-estimator {font-family: monospace;background-color: #f0f8ff;border: 1px dotted black;border-radius: 0.25em;box-sizing: border-box;margin-bottom: 0.5em;}#sk-container-id-5 div.sk-estimator:hover {background-color: #d4ebff;}#sk-container-id-5 div.sk-parallel-item::after {content: \"\";width: 100%;border-bottom: 1px solid gray;flex-grow: 1;}#sk-container-id-5 div.sk-label:hover label.sk-toggleable__label {background-color: #d4ebff;}#sk-container-id-5 div.sk-serial::before {content: \"\";position: absolute;border-left: 1px solid gray;box-sizing: border-box;top: 0;bottom: 0;left: 50%;z-index: 0;}#sk-container-id-5 div.sk-serial {display: flex;flex-direction: column;align-items: center;background-color: white;padding-right: 0.2em;padding-left: 0.2em;position: relative;}#sk-container-id-5 div.sk-item {position: relative;z-index: 1;}#sk-container-id-5 div.sk-parallel {display: flex;align-items: stretch;justify-content: center;background-color: white;position: relative;}#sk-container-id-5 div.sk-item::before, #sk-container-id-5 div.sk-parallel-item::before {content: \"\";position: absolute;border-left: 1px solid gray;box-sizing: border-box;top: 0;bottom: 0;left: 50%;z-index: -1;}#sk-container-id-5 div.sk-parallel-item {display: flex;flex-direction: column;z-index: 1;position: relative;background-color: white;}#sk-container-id-5 div.sk-parallel-item:first-child::after {align-self: flex-end;width: 50%;}#sk-container-id-5 div.sk-parallel-item:last-child::after {align-self: flex-start;width: 50%;}#sk-container-id-5 div.sk-parallel-item:only-child::after {width: 0;}#sk-container-id-5 div.sk-dashed-wrapped {border: 1px dashed gray;margin: 0 0.4em 0.5em 0.4em;box-sizing: border-box;padding-bottom: 0.4em;background-color: white;}#sk-container-id-5 div.sk-label label {font-family: monospace;font-weight: bold;display: inline-block;line-height: 1.2em;}#sk-container-id-5 div.sk-label-container {text-align: center;}#sk-container-id-5 div.sk-container {/* jupyter's `normalize.less` sets `[hidden] { display: none; }` but bootstrap.min.css set `[hidden] { display: none !important; }` so we also need the `!important` here to be able to override the default hidden behavior on the sphinx rendered scikit-learn.org. See: https://github.com/scikit-learn/scikit-learn/issues/21755 */display: inline-block !important;position: relative;}#sk-container-id-5 div.sk-text-repr-fallback {display: none;}</style><div id=\"sk-container-id-5\" class=\"sk-top-container\"><div class=\"sk-text-repr-fallback\"><pre>LogisticRegression()</pre><b>In a Jupyter environment, please rerun this cell to show the HTML representation or trust the notebook. <br />On GitHub, the HTML representation is unable to render, please try loading this page with nbviewer.org.</b></div><div class=\"sk-container\" hidden><div class=\"sk-item\"><div class=\"sk-estimator sk-toggleable\"><input class=\"sk-toggleable__control sk-hidden--visually\" id=\"sk-estimator-id-5\" type=\"checkbox\" checked><label for=\"sk-estimator-id-5\" class=\"sk-toggleable__label sk-toggleable__label-arrow\">LogisticRegression</label><div class=\"sk-toggleable__content\"><pre>LogisticRegression()</pre></div></div></div></div></div>"
      ],
      "text/plain": [
       "LogisticRegression()"
      ]
     },
     "execution_count": 38,
     "metadata": {},
     "output_type": "execute_result"
    }
   ],
   "source": [
    "# MinMax 스케일링 데이터 학습\n",
    "logi_mm.fit(X_train_mm, y_train)"
   ]
  },
  {
   "cell_type": "code",
   "execution_count": 39,
   "id": "cf06ed93",
   "metadata": {},
   "outputs": [
    {
     "name": "stdout",
     "output_type": "stream",
     "text": [
      "[0.88714286 0.91       0.89714286 0.87714286 0.89142857]\n",
      "0.8925714285714286\n"
     ]
    }
   ],
   "source": [
    "# MinMax 스케일링 데이터 교차검증\n",
    "res = cross_val_score(logi_mm, X_train_mm, y_train, cv = 5)\n",
    "print(res)\n",
    "print(res.mean())"
   ]
  },
  {
   "cell_type": "code",
   "execution_count": 40,
   "id": "0e7115b0",
   "metadata": {},
   "outputs": [
    {
     "data": {
      "text/plain": [
       "0.8953333333333333"
      ]
     },
     "execution_count": 40,
     "metadata": {},
     "output_type": "execute_result"
    }
   ],
   "source": [
    "# MinMax 스케일링 데이터 모델평가\n",
    "logi_mm.score(X_test_mm, y_test)"
   ]
  },
  {
   "cell_type": "code",
   "execution_count": null,
   "id": "f7398745",
   "metadata": {},
   "outputs": [],
   "source": [
    "    () ()\n",
    "   (^ㅅ^)\n",
    "ㅇ-(    )-ㅇ\n",
    "    ()()\n",
    "    -  -\n",
    "    -루팡다녀감-"
   ]
  },
  {
   "cell_type": "markdown",
   "id": "64435400",
   "metadata": {},
   "source": [
    "### knn, tree 모델 사용해보기"
   ]
  },
  {
   "cell_type": "code",
   "execution_count": 41,
   "id": "e622b9c6",
   "metadata": {},
   "outputs": [],
   "source": [
    "# 모델 import\n",
    "from sklearn.neighbors import KNeighborsClassifier #knn 모델\n",
    "from sklearn.tree import DecisionTreeClassifier"
   ]
  },
  {
   "cell_type": "code",
   "execution_count": 42,
   "id": "2a1cf102",
   "metadata": {},
   "outputs": [],
   "source": [
    "# 모델 객체 생성\n",
    "knn_model = KNeighborsClassifier()\n",
    "tree_model = DecisionTreeClassifier()"
   ]
  },
  {
   "cell_type": "code",
   "execution_count": 45,
   "id": "decf889a",
   "metadata": {},
   "outputs": [
    {
     "data": {
      "text/html": [
       "<style>#sk-container-id-8 {color: black;background-color: white;}#sk-container-id-8 pre{padding: 0;}#sk-container-id-8 div.sk-toggleable {background-color: white;}#sk-container-id-8 label.sk-toggleable__label {cursor: pointer;display: block;width: 100%;margin-bottom: 0;padding: 0.3em;box-sizing: border-box;text-align: center;}#sk-container-id-8 label.sk-toggleable__label-arrow:before {content: \"▸\";float: left;margin-right: 0.25em;color: #696969;}#sk-container-id-8 label.sk-toggleable__label-arrow:hover:before {color: black;}#sk-container-id-8 div.sk-estimator:hover label.sk-toggleable__label-arrow:before {color: black;}#sk-container-id-8 div.sk-toggleable__content {max-height: 0;max-width: 0;overflow: hidden;text-align: left;background-color: #f0f8ff;}#sk-container-id-8 div.sk-toggleable__content pre {margin: 0.2em;color: black;border-radius: 0.25em;background-color: #f0f8ff;}#sk-container-id-8 input.sk-toggleable__control:checked~div.sk-toggleable__content {max-height: 200px;max-width: 100%;overflow: auto;}#sk-container-id-8 input.sk-toggleable__control:checked~label.sk-toggleable__label-arrow:before {content: \"▾\";}#sk-container-id-8 div.sk-estimator input.sk-toggleable__control:checked~label.sk-toggleable__label {background-color: #d4ebff;}#sk-container-id-8 div.sk-label input.sk-toggleable__control:checked~label.sk-toggleable__label {background-color: #d4ebff;}#sk-container-id-8 input.sk-hidden--visually {border: 0;clip: rect(1px 1px 1px 1px);clip: rect(1px, 1px, 1px, 1px);height: 1px;margin: -1px;overflow: hidden;padding: 0;position: absolute;width: 1px;}#sk-container-id-8 div.sk-estimator {font-family: monospace;background-color: #f0f8ff;border: 1px dotted black;border-radius: 0.25em;box-sizing: border-box;margin-bottom: 0.5em;}#sk-container-id-8 div.sk-estimator:hover {background-color: #d4ebff;}#sk-container-id-8 div.sk-parallel-item::after {content: \"\";width: 100%;border-bottom: 1px solid gray;flex-grow: 1;}#sk-container-id-8 div.sk-label:hover label.sk-toggleable__label {background-color: #d4ebff;}#sk-container-id-8 div.sk-serial::before {content: \"\";position: absolute;border-left: 1px solid gray;box-sizing: border-box;top: 0;bottom: 0;left: 50%;z-index: 0;}#sk-container-id-8 div.sk-serial {display: flex;flex-direction: column;align-items: center;background-color: white;padding-right: 0.2em;padding-left: 0.2em;position: relative;}#sk-container-id-8 div.sk-item {position: relative;z-index: 1;}#sk-container-id-8 div.sk-parallel {display: flex;align-items: stretch;justify-content: center;background-color: white;position: relative;}#sk-container-id-8 div.sk-item::before, #sk-container-id-8 div.sk-parallel-item::before {content: \"\";position: absolute;border-left: 1px solid gray;box-sizing: border-box;top: 0;bottom: 0;left: 50%;z-index: -1;}#sk-container-id-8 div.sk-parallel-item {display: flex;flex-direction: column;z-index: 1;position: relative;background-color: white;}#sk-container-id-8 div.sk-parallel-item:first-child::after {align-self: flex-end;width: 50%;}#sk-container-id-8 div.sk-parallel-item:last-child::after {align-self: flex-start;width: 50%;}#sk-container-id-8 div.sk-parallel-item:only-child::after {width: 0;}#sk-container-id-8 div.sk-dashed-wrapped {border: 1px dashed gray;margin: 0 0.4em 0.5em 0.4em;box-sizing: border-box;padding-bottom: 0.4em;background-color: white;}#sk-container-id-8 div.sk-label label {font-family: monospace;font-weight: bold;display: inline-block;line-height: 1.2em;}#sk-container-id-8 div.sk-label-container {text-align: center;}#sk-container-id-8 div.sk-container {/* jupyter's `normalize.less` sets `[hidden] { display: none; }` but bootstrap.min.css set `[hidden] { display: none !important; }` so we also need the `!important` here to be able to override the default hidden behavior on the sphinx rendered scikit-learn.org. See: https://github.com/scikit-learn/scikit-learn/issues/21755 */display: inline-block !important;position: relative;}#sk-container-id-8 div.sk-text-repr-fallback {display: none;}</style><div id=\"sk-container-id-8\" class=\"sk-top-container\"><div class=\"sk-text-repr-fallback\"><pre>DecisionTreeClassifier()</pre><b>In a Jupyter environment, please rerun this cell to show the HTML representation or trust the notebook. <br />On GitHub, the HTML representation is unable to render, please try loading this page with nbviewer.org.</b></div><div class=\"sk-container\" hidden><div class=\"sk-item\"><div class=\"sk-estimator sk-toggleable\"><input class=\"sk-toggleable__control sk-hidden--visually\" id=\"sk-estimator-id-8\" type=\"checkbox\" checked><label for=\"sk-estimator-id-8\" class=\"sk-toggleable__label sk-toggleable__label-arrow\">DecisionTreeClassifier</label><div class=\"sk-toggleable__content\"><pre>DecisionTreeClassifier()</pre></div></div></div></div></div>"
      ],
      "text/plain": [
       "DecisionTreeClassifier()"
      ]
     },
     "execution_count": 45,
     "metadata": {},
     "output_type": "execute_result"
    }
   ],
   "source": [
    "# 모델 학습\n",
    "knn_model.fit(X_train, y_train)\n",
    "tree_model.fit(X_train, y_train)"
   ]
  },
  {
   "cell_type": "code",
   "execution_count": 46,
   "id": "5ab02dcb",
   "metadata": {},
   "outputs": [
    {
     "data": {
      "text/plain": [
       "0.922"
      ]
     },
     "execution_count": 46,
     "metadata": {},
     "output_type": "execute_result"
    }
   ],
   "source": [
    "# 모델 평가\n",
    "knn_model.score(X_test,y_test)"
   ]
  },
  {
   "cell_type": "code",
   "execution_count": 47,
   "id": "54de8097",
   "metadata": {},
   "outputs": [
    {
     "data": {
      "text/plain": [
       "0.7493333333333333"
      ]
     },
     "execution_count": 47,
     "metadata": {},
     "output_type": "execute_result"
    }
   ],
   "source": [
    "tree_model.score(X_test, y_test)"
   ]
  },
  {
   "cell_type": "markdown",
   "id": "212d7fa8",
   "metadata": {},
   "source": [
    "### 분류의 불확실성\n",
    "- 분류가 진행되고 있다. 어떤 방법으로 분류를 해내는 걸까?"
   ]
  },
  {
   "cell_type": "code",
   "execution_count": 48,
   "id": "32394b31",
   "metadata": {},
   "outputs": [
    {
     "data": {
      "text/plain": [
       "array([[1. , 0. , 0. , 0. , 0. , 0. , 0. , 0. , 0. , 0. ],\n",
       "       [0. , 0. , 0. , 0. , 0. , 0. , 0. , 1. , 0. , 0. ],\n",
       "       [0. , 1. , 0. , 0. , 0. , 0. , 0. , 0. , 0. , 0. ],\n",
       "       [0. , 0. , 0. , 0. , 0. , 0. , 1. , 0. , 0. , 0. ],\n",
       "       [0. , 0. , 0. , 1. , 0. , 0. , 0. , 0. , 0. , 0. ],\n",
       "       [0. , 0. , 0. , 0. , 0. , 0. , 0. , 1. , 0. , 0. ],\n",
       "       [0. , 0. , 0. , 0. , 0. , 0. , 0. , 1. , 0. , 0. ],\n",
       "       [0.2, 0. , 0. , 0.4, 0. , 0.4, 0. , 0. , 0. , 0. ],\n",
       "       [0. , 0. , 1. , 0. , 0. , 0. , 0. , 0. , 0. , 0. ],\n",
       "       [0. , 1. , 0. , 0. , 0. , 0. , 0. , 0. , 0. , 0. ],\n",
       "       [1. , 0. , 0. , 0. , 0. , 0. , 0. , 0. , 0. , 0. ],\n",
       "       [0. , 0. , 0. , 0. , 1. , 0. , 0. , 0. , 0. , 0. ],\n",
       "       [0. , 0. , 0. , 1. , 0. , 0. , 0. , 0. , 0. , 0. ],\n",
       "       [0. , 0. , 0.4, 0.4, 0. , 0. , 0. , 0.2, 0. , 0. ],\n",
       "       [0. , 0. , 0.2, 0. , 0. , 0.2, 0. , 0. , 0.6, 0. ],\n",
       "       [0. , 0. , 0. , 0. , 0. , 0. , 0. , 1. , 0. , 0. ],\n",
       "       [0.8, 0. , 0. , 0. , 0. , 0. , 0. , 0. , 0.2, 0. ],\n",
       "       [0. , 0. , 0. , 0. , 0. , 1. , 0. , 0. , 0. , 0. ],\n",
       "       [0. , 0. , 0. , 0. , 0.2, 0. , 0. , 0. , 0. , 0.8],\n",
       "       [0. , 0. , 0. , 0. , 0. , 0. , 1. , 0. , 0. , 0. ],\n",
       "       [0. , 0. , 1. , 0. , 0. , 0. , 0. , 0. , 0. , 0. ],\n",
       "       [0. , 0. , 0. , 0. , 0. , 0. , 0. , 0. , 1. , 0. ],\n",
       "       [0. , 0. , 0. , 0. , 0.2, 0. , 0. , 0. , 0.6, 0.2],\n",
       "       [0. , 0. , 0. , 0. , 0. , 0. , 0. , 1. , 0. , 0. ],\n",
       "       [0. , 0. , 0. , 0.8, 0. , 0.2, 0. , 0. , 0. , 0. ],\n",
       "       [0. , 0. , 0. , 0. , 0. , 0. , 1. , 0. , 0. , 0. ],\n",
       "       [0. , 0.2, 0. , 0. , 0. , 0. , 0. , 0.4, 0.2, 0.2],\n",
       "       [1. , 0. , 0. , 0. , 0. , 0. , 0. , 0. , 0. , 0. ],\n",
       "       [0. , 1. , 0. , 0. , 0. , 0. , 0. , 0. , 0. , 0. ],\n",
       "       [0. , 0. , 0. , 0. , 0.6, 0. , 0. , 0. , 0. , 0.4],\n",
       "       [0. , 0. , 0. , 0. , 0. , 0. , 0. , 1. , 0. , 0. ],\n",
       "       [0. , 0. , 0. , 0. , 0. , 0.6, 0.4, 0. , 0. , 0. ],\n",
       "       [0. , 0. , 0. , 0. , 0.8, 0. , 0.2, 0. , 0. , 0. ],\n",
       "       [0. , 0. , 0. , 0. , 0. , 0. , 0. , 0. , 0. , 1. ],\n",
       "       [0. , 0. , 0. , 0. , 0. , 0.2, 0. , 0. , 0.8, 0. ],\n",
       "       [0. , 0. , 0. , 0. , 0. , 0. , 0. , 0. , 1. , 0. ],\n",
       "       [0. , 1. , 0. , 0. , 0. , 0. , 0. , 0. , 0. , 0. ],\n",
       "       [0. , 0. , 0. , 0. , 0. , 0. , 0. , 1. , 0. , 0. ],\n",
       "       [0. , 0. , 0. , 0. , 0. , 0. , 1. , 0. , 0. , 0. ],\n",
       "       [0. , 0. , 0. , 0. , 0. , 0. , 0. , 1. , 0. , 0. ],\n",
       "       [0. , 0. , 0. , 0. , 0. , 0.2, 0. , 0. , 0.8, 0. ],\n",
       "       [0. , 0. , 0. , 0. , 0.2, 0. , 0. , 0.2, 0. , 0.6],\n",
       "       [0. , 0. , 0. , 1. , 0. , 0. , 0. , 0. , 0. , 0. ],\n",
       "       [0. , 1. , 0. , 0. , 0. , 0. , 0. , 0. , 0. , 0. ],\n",
       "       [0. , 0. , 0. , 0. , 0.2, 0. , 0. , 0.2, 0. , 0.6],\n",
       "       [0. , 0. , 0.2, 0. , 0. , 0. , 0. , 0. , 0.2, 0.6],\n",
       "       [0. , 0. , 0. , 0. , 0. , 0. , 0. , 1. , 0. , 0. ],\n",
       "       [0.2, 0. , 0. , 0.8, 0. , 0. , 0. , 0. , 0. , 0. ],\n",
       "       [0. , 0. , 0. , 0. , 0.2, 0. , 0. , 0. , 0.8, 0. ],\n",
       "       [0. , 0. , 0. , 0. , 0. , 0. , 0. , 0. , 0. , 1. ],\n",
       "       [1. , 0. , 0. , 0. , 0. , 0. , 0. , 0. , 0. , 0. ],\n",
       "       [0. , 0. , 0. , 0. , 0. , 0. , 0. , 1. , 0. , 0. ],\n",
       "       [0. , 1. , 0. , 0. , 0. , 0. , 0. , 0. , 0. , 0. ],\n",
       "       [0.2, 0. , 0. , 0. , 0. , 0. , 0.8, 0. , 0. , 0. ],\n",
       "       [0. , 0. , 1. , 0. , 0. , 0. , 0. , 0. , 0. , 0. ],\n",
       "       [0. , 0. , 0. , 0. , 0. , 0. , 0. , 0. , 1. , 0. ],\n",
       "       [0. , 0. , 0. , 0. , 0. , 1. , 0. , 0. , 0. , 0. ],\n",
       "       [0. , 0. , 0. , 0. , 0. , 0. , 0. , 1. , 0. , 0. ],\n",
       "       [0. , 1. , 0. , 0. , 0. , 0. , 0. , 0. , 0. , 0. ],\n",
       "       [0. , 0. , 0. , 0. , 0.2, 0. , 0. , 0. , 0. , 0.8],\n",
       "       [0. , 0.4, 0. , 0. , 0. , 0. , 0. , 0.4, 0. , 0.2],\n",
       "       [0.4, 0. , 0. , 0. , 0. , 0. , 0.6, 0. , 0. , 0. ],\n",
       "       [0. , 0. , 0. , 0. , 0. , 0. , 0. , 1. , 0. , 0. ],\n",
       "       [0. , 0.2, 0. , 0. , 0. , 0. , 0. , 0.8, 0. , 0. ],\n",
       "       [1. , 0. , 0. , 0. , 0. , 0. , 0. , 0. , 0. , 0. ],\n",
       "       [1. , 0. , 0. , 0. , 0. , 0. , 0. , 0. , 0. , 0. ],\n",
       "       [0. , 1. , 0. , 0. , 0. , 0. , 0. , 0. , 0. , 0. ],\n",
       "       [0. , 0. , 0. , 0. , 0. , 1. , 0. , 0. , 0. , 0. ],\n",
       "       [0. , 0. , 0. , 0. , 1. , 0. , 0. , 0. , 0. , 0. ],\n",
       "       [0. , 0. , 0. , 0. , 0. , 0. , 0. , 0. , 0. , 1. ],\n",
       "       [0. , 0. , 0. , 0. , 0. , 0. , 0. , 0. , 0. , 1. ],\n",
       "       [0. , 0. , 0. , 0. , 0. , 0. , 1. , 0. , 0. , 0. ],\n",
       "       [0. , 0. , 0. , 0. , 0. , 0. , 0. , 0. , 1. , 0. ],\n",
       "       [0. , 0. , 0. , 0. , 0. , 1. , 0. , 0. , 0. , 0. ],\n",
       "       [0. , 0. , 0. , 0. , 0. , 1. , 0. , 0. , 0. , 0. ],\n",
       "       [0. , 0. , 0. , 0. , 1. , 0. , 0. , 0. , 0. , 0. ],\n",
       "       [1. , 0. , 0. , 0. , 0. , 0. , 0. , 0. , 0. , 0. ],\n",
       "       [0. , 0. , 0. , 0. , 0.4, 0.2, 0.2, 0.2, 0. , 0. ],\n",
       "       [0. , 0. , 0. , 0. , 0. , 0. , 0. , 1. , 0. , 0. ],\n",
       "       [0. , 0. , 1. , 0. , 0. , 0. , 0. , 0. , 0. , 0. ],\n",
       "       [0. , 0. , 0. , 0. , 0. , 0. , 0. , 0. , 1. , 0. ],\n",
       "       [0.6, 0. , 0. , 0. , 0. , 0. , 0.4, 0. , 0. , 0. ],\n",
       "       [1. , 0. , 0. , 0. , 0. , 0. , 0. , 0. , 0. , 0. ],\n",
       "       [0. , 0. , 1. , 0. , 0. , 0. , 0. , 0. , 0. , 0. ],\n",
       "       [0. , 0. , 0. , 0. , 0. , 0. , 1. , 0. , 0. , 0. ],\n",
       "       [0. , 1. , 0. , 0. , 0. , 0. , 0. , 0. , 0. , 0. ],\n",
       "       [0. , 0. , 0. , 1. , 0. , 0. , 0. , 0. , 0. , 0. ],\n",
       "       [0. , 0. , 0. , 0. , 0.6, 0. , 0. , 0. , 0. , 0.4],\n",
       "       [0. , 1. , 0. , 0. , 0. , 0. , 0. , 0. , 0. , 0. ],\n",
       "       [1. , 0. , 0. , 0. , 0. , 0. , 0. , 0. , 0. , 0. ],\n",
       "       [0. , 0. , 0. , 0. , 1. , 0. , 0. , 0. , 0. , 0. ],\n",
       "       [0. , 1. , 0. , 0. , 0. , 0. , 0. , 0. , 0. , 0. ],\n",
       "       [0. , 0. , 0. , 1. , 0. , 0. , 0. , 0. , 0. , 0. ],\n",
       "       [0. , 0. , 1. , 0. , 0. , 0. , 0. , 0. , 0. , 0. ],\n",
       "       [0. , 1. , 0. , 0. , 0. , 0. , 0. , 0. , 0. , 0. ],\n",
       "       [1. , 0. , 0. , 0. , 0. , 0. , 0. , 0. , 0. , 0. ],\n",
       "       [0. , 0. , 0. , 1. , 0. , 0. , 0. , 0. , 0. , 0. ],\n",
       "       [0. , 0. , 0. , 0. , 0. , 0. , 0. , 1. , 0. , 0. ],\n",
       "       [0. , 0. , 0. , 0. , 0. , 0. , 1. , 0. , 0. , 0. ],\n",
       "       [0. , 0. , 0. , 0. , 0. , 0.2, 0.8, 0. , 0. , 0. ]])"
      ]
     },
     "execution_count": 48,
     "metadata": {},
     "output_type": "execute_result"
    }
   ],
   "source": [
    "# predict_proba() : 분류를 진행할 때 각 정답별 확률 정보를 표시해주는 함수\n",
    "# 각각의 값은 0~1 사이의 정수 값으로 표시, 전체 합은 1을 넘지 않음 -> 1\n",
    "knn_model.predict_proba(X_test[100:200])"
   ]
  },
  {
   "cell_type": "code",
   "execution_count": 49,
   "id": "845e5cce",
   "metadata": {},
   "outputs": [
    {
     "data": {
      "text/plain": [
       "0.7493333333333333"
      ]
     },
     "execution_count": 49,
     "metadata": {},
     "output_type": "execute_result"
    }
   ],
   "source": [
    "tree_model.score(X_test, y_test)"
   ]
  },
  {
   "cell_type": "code",
   "execution_count": 50,
   "id": "1e3fb6d3",
   "metadata": {},
   "outputs": [
    {
     "data": {
      "text/plain": [
       "0.922"
      ]
     },
     "execution_count": 50,
     "metadata": {},
     "output_type": "execute_result"
    }
   ],
   "source": [
    "knn_model.score(X_test,y_test)"
   ]
  },
  {
   "cell_type": "code",
   "execution_count": 51,
   "id": "77f90dfd",
   "metadata": {},
   "outputs": [
    {
     "data": {
      "text/plain": [
       "array([[1.00000000e+000, 5.27109809e-089, 1.24959978e-050,\n",
       "        3.44237787e-054, 9.09199287e-085, 1.47039773e-045,\n",
       "        1.70757363e-074, 1.69438062e-077, 8.27063020e-048,\n",
       "        7.81248702e-073],\n",
       "       [1.04691014e-044, 3.59242053e-048, 1.54165130e-056,\n",
       "        5.32115193e-046, 2.59820458e-040, 2.18439331e-039,\n",
       "        2.82477279e-072, 9.99999997e-001, 4.37862730e-029,\n",
       "        3.16902382e-009],\n",
       "       [3.22545599e-047, 9.99999999e-001, 5.43824016e-010,\n",
       "        4.26730646e-013, 4.54786396e-032, 8.22168594e-036,\n",
       "        1.41550681e-040, 9.21194335e-020, 8.37325847e-012,\n",
       "        3.68321292e-021],\n",
       "       [8.15647760e-062, 1.85247900e-059, 1.83167087e-037,\n",
       "        5.44030474e-070, 6.79896695e-016, 5.71214458e-033,\n",
       "        1.00000000e+000, 1.32858366e-048, 3.04505241e-040,\n",
       "        6.33793566e-038],\n",
       "       [1.26524299e-049, 2.80421758e-022, 4.00962636e-014,\n",
       "        9.99999995e-001, 1.02924795e-028, 4.60568015e-014,\n",
       "        1.15809197e-036, 1.95410634e-052, 4.56228575e-009,\n",
       "        1.38397807e-019],\n",
       "       [5.97122340e-085, 2.34499315e-078, 2.01269279e-065,\n",
       "        2.21544927e-058, 4.09355799e-065, 8.23406634e-058,\n",
       "        2.92042846e-087, 1.00000000e+000, 1.43942978e-050,\n",
       "        1.07981268e-025],\n",
       "       [3.91316143e-055, 1.55878306e-038, 1.36858599e-024,\n",
       "        1.47834009e-023, 4.42749267e-040, 1.13126801e-050,\n",
       "        1.71842294e-051, 1.00000000e+000, 5.29029883e-043,\n",
       "        1.03443268e-017],\n",
       "       [9.05443768e-013, 1.22920703e-022, 6.41399159e-005,\n",
       "        9.99935860e-001, 1.84188741e-021, 1.57416169e-040,\n",
       "        7.38890615e-043, 4.32189524e-028, 3.92409598e-016,\n",
       "        4.45521603e-011],\n",
       "       [1.68477049e-042, 3.23460249e-067, 1.00000000e+000,\n",
       "        3.08753470e-042, 4.28583041e-062, 4.02872362e-062,\n",
       "        3.44066489e-053, 1.26448457e-054, 2.53137439e-047,\n",
       "        4.22228996e-058],\n",
       "       [8.21413018e-049, 1.00000000e+000, 2.68143703e-013,\n",
       "        8.27917822e-022, 1.47467458e-052, 1.95516160e-037,\n",
       "        1.48497168e-050, 1.90822409e-051, 4.94984956e-014,\n",
       "        1.32944380e-039],\n",
       "       [9.99646794e-001, 2.49501992e-068, 6.42441963e-040,\n",
       "        2.27101764e-060, 5.53947765e-101, 3.53205973e-004,\n",
       "        6.27639487e-055, 1.37557541e-081, 8.16520424e-032,\n",
       "        2.34059369e-085],\n",
       "       [2.65940869e-078, 1.83053877e-069, 1.00600687e-066,\n",
       "        9.23904613e-058, 1.00000000e+000, 1.98640319e-023,\n",
       "        3.18639036e-029, 4.07205270e-045, 9.00961007e-024,\n",
       "        2.37434140e-022],\n",
       "       [1.91866569e-072, 2.67113682e-061, 1.56584491e-038,\n",
       "        1.00000000e+000, 8.38678938e-059, 1.01417816e-030,\n",
       "        1.03194376e-079, 1.87740236e-017, 4.35280972e-027,\n",
       "        7.65669415e-019],\n",
       "       [1.01392522e-046, 1.54984086e-061, 2.12378154e-033,\n",
       "        1.00000000e+000, 2.26208793e-054, 6.31842184e-021,\n",
       "        1.06654410e-042, 9.62516129e-051, 2.14010941e-036,\n",
       "        4.79788912e-042],\n",
       "       [7.03241808e-075, 4.10675863e-065, 4.89819522e-028,\n",
       "        3.05282816e-079, 1.80733358e-050, 1.40294931e-027,\n",
       "        1.76546034e-053, 7.12904995e-110, 1.00000000e+000,\n",
       "        1.76056215e-079],\n",
       "       [1.14901030e-042, 2.15944350e-066, 2.64737255e-033,\n",
       "        2.29832571e-032, 5.97008948e-053, 2.75041544e-044,\n",
       "        1.31711393e-055, 1.00000000e+000, 2.89135940e-047,\n",
       "        1.78623595e-018],\n",
       "       [1.29070927e-016, 5.22392292e-029, 3.65449915e-008,\n",
       "        5.17493667e-005, 3.04126239e-023, 7.66160153e-011,\n",
       "        1.53478091e-015, 1.01977346e-069, 9.99948214e-001,\n",
       "        2.68012788e-032],\n",
       "       [1.44505303e-035, 3.78891615e-010, 3.87914107e-004,\n",
       "        6.07857284e-012, 5.03202276e-020, 4.41634598e-001,\n",
       "        4.42046989e-018, 1.19970655e-034, 5.57977488e-001,\n",
       "        5.01859071e-023],\n",
       "       [9.90033362e-053, 1.36594049e-016, 1.67345521e-003,\n",
       "        3.21429075e-009, 9.88042524e-007, 7.11369872e-023,\n",
       "        4.05354950e-029, 4.29243343e-018, 2.73148175e-011,\n",
       "        9.98325554e-001],\n",
       "       [1.81351251e-041, 2.81153221e-012, 8.46459021e-013,\n",
       "        2.17325225e-019, 4.76238935e-028, 1.74450806e-002,\n",
       "        9.82554919e-001, 2.61466002e-065, 7.39139592e-013,\n",
       "        5.05938373e-044],\n",
       "       [1.29845693e-068, 1.55261416e-033, 1.00000000e+000,\n",
       "        6.29027770e-029, 1.80253563e-050, 2.14918305e-056,\n",
       "        1.57687679e-021, 1.76749835e-025, 3.29790187e-040,\n",
       "        6.99634315e-024],\n",
       "       [1.00968421e-043, 9.98124937e-001, 3.67255445e-013,\n",
       "        1.87490719e-003, 7.87882397e-031, 9.09966868e-011,\n",
       "        4.44786319e-041, 4.67436895e-041, 1.55930259e-007,\n",
       "        6.50049621e-015],\n",
       "       [2.11127912e-066, 1.91423064e-048, 1.27236747e-046,\n",
       "        1.48529374e-064, 9.22008309e-026, 6.22846876e-033,\n",
       "        3.41540883e-033, 2.16360895e-042, 1.00000000e+000,\n",
       "        2.14484455e-032],\n",
       "       [1.08567482e-033, 1.37232867e-081, 5.02643716e-058,\n",
       "        4.69335885e-043, 4.63593862e-025, 2.01744231e-050,\n",
       "        2.06159004e-055, 9.99759998e-001, 2.11713034e-059,\n",
       "        2.40001563e-004],\n",
       "       [1.84211822e-019, 1.46739879e-032, 2.43308104e-019,\n",
       "        9.99871886e-001, 1.23707791e-049, 1.28113525e-004,\n",
       "        3.23925781e-026, 1.54689532e-031, 5.74845722e-013,\n",
       "        1.84850551e-016],\n",
       "       [5.19481310e-040, 1.95064457e-034, 1.29362690e-029,\n",
       "        1.18337962e-054, 1.03458082e-044, 1.15324752e-035,\n",
       "        1.00000000e+000, 1.49064983e-052, 1.70407842e-030,\n",
       "        3.50258512e-053],\n",
       "       [4.00111125e-026, 7.63317023e-011, 1.52339900e-006,\n",
       "        2.54783969e-007, 7.08510129e-029, 2.63845095e-007,\n",
       "        9.38091644e-029, 6.40023235e-016, 9.99996519e-001,\n",
       "        1.43858130e-006],\n",
       "       [1.00000000e+000, 4.91243118e-113, 1.99677847e-059,\n",
       "        6.75640103e-057, 6.47168348e-097, 2.01273500e-046,\n",
       "        1.99469792e-075, 5.95936099e-103, 3.02020797e-073,\n",
       "        3.50872521e-083],\n",
       "       [6.03245679e-054, 1.00000000e+000, 6.43185014e-011,\n",
       "        9.02141666e-018, 4.84965333e-056, 1.10389431e-016,\n",
       "        3.36312951e-020, 6.23006506e-031, 3.01805319e-013,\n",
       "        1.87762057e-026],\n",
       "       [1.01371076e-066, 2.69716828e-039, 3.44586919e-031,\n",
       "        1.02387347e-029, 1.00000000e+000, 3.76435189e-031,\n",
       "        4.33960759e-031, 5.18828409e-029, 7.14638885e-016,\n",
       "        1.18851689e-016],\n",
       "       [3.86411524e-081, 3.73301336e-056, 3.70913591e-053,\n",
       "        1.65528183e-058, 2.90030185e-041, 3.49973739e-033,\n",
       "        1.96409965e-060, 1.00000000e+000, 1.35018879e-020,\n",
       "        7.15620801e-032],\n",
       "       [2.11246558e-052, 2.48488338e-070, 2.41887010e-037,\n",
       "        8.46095886e-057, 2.11590676e-054, 7.74932259e-019,\n",
       "        1.00000000e+000, 1.31905623e-097, 7.66043722e-025,\n",
       "        1.61761530e-081],\n",
       "       [1.88560858e-044, 9.49656266e-069, 4.84591584e-025,\n",
       "        1.52532565e-049, 1.00000000e+000, 4.78645549e-075,\n",
       "        6.17260175e-012, 5.62192691e-039, 1.40285707e-034,\n",
       "        2.47370053e-027],\n",
       "       [4.82400688e-046, 1.55640174e-018, 8.96198404e-014,\n",
       "        1.39004943e-007, 9.99824172e-001, 4.63688371e-009,\n",
       "        8.01367467e-022, 2.15550700e-031, 2.81694975e-017,\n",
       "        1.75684719e-004],\n",
       "       [1.71593784e-054, 3.30206930e-048, 5.59204072e-012,\n",
       "        1.51134604e-026, 1.02074419e-048, 8.36711902e-030,\n",
       "        8.92840083e-032, 4.04897324e-085, 1.00000000e+000,\n",
       "        4.55048720e-046],\n",
       "       [1.53848745e-053, 1.06043852e-022, 2.44014020e-014,\n",
       "        4.94941765e-014, 6.97757570e-072, 6.91607403e-020,\n",
       "        1.15785236e-076, 2.77999091e-085, 1.00000000e+000,\n",
       "        1.94807477e-029],\n",
       "       [2.64495565e-065, 1.00000000e+000, 2.44385517e-021,\n",
       "        2.55505720e-022, 2.67780599e-040, 8.10427388e-032,\n",
       "        2.37688205e-031, 3.94228144e-019, 3.76224184e-015,\n",
       "        1.23022287e-024],\n",
       "       [5.04648172e-027, 1.82249285e-042, 8.14729488e-025,\n",
       "        2.78403338e-026, 1.14967315e-035, 6.00073841e-039,\n",
       "        3.65866699e-052, 9.99999878e-001, 2.13788378e-022,\n",
       "        1.21632089e-007],\n",
       "       [1.76403544e-029, 1.15953343e-065, 4.41547756e-032,\n",
       "        5.93070434e-055, 7.37753000e-046, 1.39791823e-030,\n",
       "        1.00000000e+000, 4.88843952e-058, 8.62706075e-023,\n",
       "        5.41025616e-040],\n",
       "       [9.99730833e-036, 9.14532106e-047, 3.95437390e-064,\n",
       "        4.55717451e-046, 4.78296041e-024, 1.09608701e-043,\n",
       "        1.60390364e-049, 9.99999999e-001, 1.11875608e-035,\n",
       "        1.27276212e-009],\n",
       "       [3.01640273e-030, 1.87356043e-023, 2.64225386e-017,\n",
       "        3.29219204e-007, 4.35920559e-043, 5.05488510e-027,\n",
       "        1.76538614e-051, 2.71044518e-045, 9.99996652e-001,\n",
       "        3.01911587e-006],\n",
       "       [2.39593280e-041, 5.49225023e-070, 2.42315012e-050,\n",
       "        5.43812669e-039, 6.94542361e-014, 2.63244465e-026,\n",
       "        5.22777647e-030, 3.72628779e-005, 1.76985598e-015,\n",
       "        9.99962737e-001],\n",
       "       [4.14585257e-036, 1.38196272e-035, 9.94402021e-042,\n",
       "        1.00000000e+000, 6.29944349e-064, 1.40403426e-032,\n",
       "        2.10018763e-089, 8.05109547e-019, 2.04173786e-032,\n",
       "        1.86551536e-042],\n",
       "       [4.00589242e-067, 9.99999990e-001, 1.03404166e-014,\n",
       "        1.01842968e-008, 6.96166041e-054, 8.95007465e-021,\n",
       "        1.92268004e-032, 4.66048323e-036, 1.21165614e-019,\n",
       "        8.05912638e-021],\n",
       "       [6.68693927e-019, 2.63874133e-032, 7.03253639e-037,\n",
       "        8.31177644e-017, 7.02750564e-003, 1.30428990e-011,\n",
       "        6.83071393e-025, 3.54727080e-009, 1.85432868e-017,\n",
       "        9.92972491e-001],\n",
       "       [7.73543631e-056, 3.46725997e-049, 9.99991064e-001,\n",
       "        1.54904946e-040, 8.46662385e-047, 8.16969743e-059,\n",
       "        2.98788350e-059, 3.24401754e-060, 8.93567947e-006,\n",
       "        2.37294885e-015],\n",
       "       [2.16760864e-055, 1.03026579e-082, 5.24999304e-072,\n",
       "        2.66309271e-057, 3.54248393e-073, 1.98323668e-039,\n",
       "        2.52215200e-098, 1.00000000e+000, 2.75033117e-047,\n",
       "        2.34289763e-023],\n",
       "       [7.52083495e-034, 1.07395169e-064, 2.13490650e-033,\n",
       "        1.74937112e-003, 4.96931628e-045, 1.31496308e-009,\n",
       "        2.24952200e-063, 5.04851739e-051, 9.98250628e-001,\n",
       "        3.69743883e-019],\n",
       "       [2.10687904e-015, 4.97791695e-017, 2.84266327e-003,\n",
       "        8.78933551e-025, 6.20082016e-002, 9.35094934e-001,\n",
       "        2.87504024e-009, 1.86853069e-026, 5.41982182e-005,\n",
       "        9.53000540e-022],\n",
       "       [3.26737423e-063, 1.59973792e-031, 1.37822157e-041,\n",
       "        1.76312015e-005, 1.64883708e-011, 5.25851069e-023,\n",
       "        8.65563228e-052, 7.84549001e-025, 5.45998012e-019,\n",
       "        9.99982369e-001],\n",
       "       [1.00000000e+000, 8.44951108e-070, 2.38967086e-018,\n",
       "        9.94383744e-034, 2.50481928e-058, 7.98221441e-019,\n",
       "        9.10047684e-036, 1.36254774e-056, 4.27183476e-016,\n",
       "        3.11954336e-035],\n",
       "       [1.08101036e-038, 2.03975082e-053, 2.70558405e-054,\n",
       "        5.57264674e-044, 2.45878850e-038, 1.61232914e-036,\n",
       "        1.07922819e-062, 1.00000000e+000, 2.00251666e-042,\n",
       "        8.45541864e-018],\n",
       "       [1.05088555e-035, 9.99834213e-001, 1.65786209e-004,\n",
       "        2.67825995e-012, 3.11243229e-028, 2.67545347e-023,\n",
       "        1.44570865e-027, 1.04656214e-031, 6.24135217e-010,\n",
       "        2.49442615e-025],\n",
       "       [2.50699330e-001, 8.42845514e-087, 9.33957660e-035,\n",
       "        6.82349591e-044, 1.99014206e-065, 6.05799413e-015,\n",
       "        7.49300670e-001, 6.44113002e-081, 1.36564076e-052,\n",
       "        4.54524478e-051],\n",
       "       [1.74520577e-062, 1.17186515e-013, 1.00000000e+000,\n",
       "        1.04378107e-024, 5.28440354e-040, 3.88618156e-052,\n",
       "        2.39041014e-028, 2.02653738e-052, 4.19643554e-020,\n",
       "        3.56059845e-026],\n",
       "       [2.43524573e-040, 2.19280122e-033, 8.51254329e-039,\n",
       "        1.39554739e-048, 1.00618981e-047, 5.05141903e-013,\n",
       "        2.85712601e-061, 8.81393374e-049, 1.00000000e+000,\n",
       "        2.63717913e-052],\n",
       "       [2.99527920e-032, 1.53626126e-046, 1.75802257e-053,\n",
       "        3.09719592e-014, 2.03681378e-038, 9.99999688e-001,\n",
       "        5.07812810e-045, 7.62356900e-029, 3.12190954e-007,\n",
       "        5.97851821e-022],\n",
       "       [2.14872121e-068, 9.61973497e-066, 1.84221195e-040,\n",
       "        6.68145533e-062, 1.18331487e-070, 2.30678408e-067,\n",
       "        5.36415410e-093, 1.00000000e+000, 8.92716358e-041,\n",
       "        3.35889677e-027],\n",
       "       [4.01915261e-037, 9.99990975e-001, 2.46240467e-011,\n",
       "        9.02485040e-006, 4.72124514e-038, 4.58086142e-013,\n",
       "        7.54255326e-026, 3.67839375e-016, 1.32337801e-011,\n",
       "        2.49909971e-014],\n",
       "       [1.12786200e-042, 4.38746116e-043, 3.57812605e-015,\n",
       "        5.19221551e-016, 7.54569839e-010, 3.46220056e-026,\n",
       "        2.19606159e-046, 5.47261853e-016, 6.96084792e-011,\n",
       "        9.99999999e-001],\n",
       "       [1.43308989e-047, 6.23634535e-015, 1.15307248e-038,\n",
       "        1.74149789e-019, 1.00798932e-013, 3.31966651e-016,\n",
       "        1.16586969e-032, 1.00000000e+000, 1.85922829e-012,\n",
       "        3.96321915e-014],\n",
       "       [1.17012907e-001, 8.56652260e-034, 8.04205840e-035,\n",
       "        1.30756178e-030, 3.68209711e-021, 9.64722787e-020,\n",
       "        8.82987093e-001, 6.99268729e-041, 6.11231677e-027,\n",
       "        1.43429535e-021],\n",
       "       [9.34135508e-049, 7.50495008e-025, 7.24968585e-006,\n",
       "        2.12336507e-042, 1.45685742e-036, 3.94242861e-046,\n",
       "        2.16551904e-058, 9.99992750e-001, 2.18635922e-012,\n",
       "        6.52121907e-010],\n",
       "       [1.24318202e-015, 4.79331609e-016, 9.63195071e-013,\n",
       "        3.11365693e-016, 3.41122670e-031, 2.83382082e-028,\n",
       "        5.26043451e-034, 9.99956842e-001, 1.72488066e-012,\n",
       "        4.31577297e-005],\n",
       "       [1.00000000e+000, 6.03273413e-139, 1.52486572e-084,\n",
       "        2.87351763e-082, 8.46442548e-122, 4.92456509e-061,\n",
       "        9.20278508e-103, 1.80151196e-114, 1.52570215e-075,\n",
       "        1.48745182e-089],\n",
       "       [1.00000000e+000, 2.16563571e-093, 6.20558646e-043,\n",
       "        3.12149276e-071, 2.12245768e-126, 4.00476824e-044,\n",
       "        3.73141651e-082, 2.80834453e-087, 4.86917836e-052,\n",
       "        5.36831786e-081],\n",
       "       [1.22184904e-075, 1.00000000e+000, 4.39561600e-022,\n",
       "        2.21625584e-012, 7.15915564e-038, 1.17251715e-028,\n",
       "        1.69523170e-036, 8.74315163e-014, 8.16096534e-019,\n",
       "        1.17896409e-010],\n",
       "       [1.95397740e-022, 2.69953472e-049, 1.63197032e-064,\n",
       "        7.51042662e-028, 2.41692125e-037, 1.00000000e+000,\n",
       "        5.10805841e-049, 2.04418533e-027, 3.56660347e-014,\n",
       "        2.44224367e-030],\n",
       "       [1.15923826e-022, 2.44280072e-045, 1.98728472e-031,\n",
       "        2.71025284e-043, 9.99999785e-001, 3.71382708e-048,\n",
       "        1.99183328e-013, 6.51915099e-015, 8.79322636e-034,\n",
       "        2.15209652e-007],\n",
       "       [9.20289661e-060, 7.31542465e-068, 2.51663142e-039,\n",
       "        1.21726885e-044, 1.11668002e-016, 1.65969871e-036,\n",
       "        7.64106480e-039, 3.08563211e-018, 2.19203913e-026,\n",
       "        1.00000000e+000],\n",
       "       [5.74827768e-049, 2.18814618e-054, 2.15035713e-047,\n",
       "        9.07636718e-053, 1.01540101e-022, 2.40366120e-062,\n",
       "        1.17973293e-048, 1.49752143e-011, 7.70669724e-026,\n",
       "        1.00000000e+000],\n",
       "       [2.86662891e-042, 2.03436972e-038, 8.08333590e-022,\n",
       "        2.26262305e-048, 9.09325606e-029, 1.75215400e-045,\n",
       "        1.00000000e+000, 4.86071620e-052, 4.33697735e-038,\n",
       "        8.49192353e-031],\n",
       "       [5.12817318e-063, 1.72521980e-055, 1.96605066e-051,\n",
       "        1.20351621e-068, 3.56251597e-051, 5.38272220e-018,\n",
       "        6.71496426e-082, 5.35036614e-066, 1.00000000e+000,\n",
       "        1.18073757e-057],\n",
       "       [1.83378854e-022, 5.37122403e-034, 3.31736173e-015,\n",
       "        3.49924421e-023, 6.48187689e-029, 9.99998516e-001,\n",
       "        5.47405846e-030, 5.55028430e-054, 1.48363389e-006,\n",
       "        6.99824538e-036],\n",
       "       [1.09466647e-036, 5.19384694e-016, 4.88227055e-018,\n",
       "        1.89107184e-013, 9.92565541e-024, 9.99814085e-001,\n",
       "        4.47135786e-029, 2.49362603e-037, 1.85915369e-004,\n",
       "        2.80121540e-030],\n",
       "       [4.00568670e-037, 1.66571490e-055, 1.25835063e-036,\n",
       "        2.49347246e-030, 9.99999998e-001, 6.32992803e-036,\n",
       "        1.67234119e-024, 3.06126263e-039, 1.57771196e-009,\n",
       "        6.40289732e-017],\n",
       "       [9.99873218e-001, 3.79702032e-081, 3.87093117e-064,\n",
       "        9.52091870e-048, 3.07540067e-051, 1.26782159e-004,\n",
       "        1.31046762e-071, 1.77775584e-091, 3.65415470e-023,\n",
       "        1.80952153e-058],\n",
       "       [1.32663519e-030, 6.84760356e-038, 9.88731188e-031,\n",
       "        4.31823468e-056, 1.11741614e-002, 4.69942180e-011,\n",
       "        9.88825839e-001, 1.67793618e-032, 2.25429040e-038,\n",
       "        4.93572166e-019],\n",
       "       [8.46088914e-067, 3.99803323e-040, 3.92957553e-066,\n",
       "        5.36301555e-033, 2.03617901e-017, 2.31529643e-030,\n",
       "        3.22696288e-054, 1.00000000e+000, 2.28324046e-022,\n",
       "        7.20773392e-012],\n",
       "       [4.08565945e-050, 1.49490075e-033, 1.00000000e+000,\n",
       "        8.07085376e-058, 2.22127493e-080, 3.62714006e-049,\n",
       "        2.94658179e-080, 6.62801450e-064, 1.15319784e-018,\n",
       "        2.78390008e-036],\n",
       "       [2.39279054e-031, 8.07186206e-032, 4.44285569e-018,\n",
       "        3.93760375e-041, 1.62631665e-033, 2.43240825e-028,\n",
       "        6.16434143e-055, 1.22346100e-034, 1.00000000e+000,\n",
       "        5.20009791e-022],\n",
       "       [1.00000000e+000, 3.06799017e-057, 6.44526108e-046,\n",
       "        3.69140427e-037, 7.07001160e-046, 1.58748451e-034,\n",
       "        1.08331916e-027, 1.40612462e-062, 3.71427797e-027,\n",
       "        1.37338777e-033],\n",
       "       [1.00000000e+000, 2.81878785e-093, 4.90434811e-054,\n",
       "        2.36260887e-065, 1.33559012e-088, 1.44773012e-026,\n",
       "        8.84828580e-062, 1.22276376e-083, 1.07658722e-038,\n",
       "        2.43002370e-073],\n",
       "       [4.82820081e-080, 1.22231068e-039, 1.00000000e+000,\n",
       "        2.78431275e-035, 1.69659917e-058, 4.80063849e-074,\n",
       "        4.07412686e-050, 3.92563236e-025, 6.57675807e-042,\n",
       "        7.31653347e-033],\n",
       "       [2.68061492e-020, 1.70997724e-017, 2.57982435e-013,\n",
       "        4.51703097e-025, 2.43238939e-028, 6.80886607e-001,\n",
       "        3.19113386e-001, 4.90501581e-043, 6.43880072e-009,\n",
       "        5.24215623e-028],\n",
       "       [2.50482820e-063, 1.00000000e+000, 7.05518935e-015,\n",
       "        6.95709773e-028, 1.31309334e-052, 5.36302676e-047,\n",
       "        5.57363361e-055, 3.68026435e-048, 2.85009926e-015,\n",
       "        1.01165112e-041],\n",
       "       [1.35922753e-051, 1.49140525e-038, 3.61103364e-042,\n",
       "        1.00000000e+000, 9.55512407e-040, 6.08490816e-030,\n",
       "        1.53108784e-074, 3.06929993e-053, 2.31687404e-026,\n",
       "        2.46283559e-030],\n",
       "       [4.99230468e-051, 2.19161906e-046, 7.37720335e-017,\n",
       "        1.56561123e-057, 9.99429742e-001, 1.22028664e-059,\n",
       "        5.70258019e-004, 5.02924206e-014, 1.09127263e-034,\n",
       "        1.18275296e-035],\n",
       "       [1.28610205e-065, 1.00000000e+000, 4.46638884e-014,\n",
       "        4.43734184e-016, 5.19912664e-035, 4.36060950e-025,\n",
       "        2.98872357e-026, 2.64195319e-016, 5.14312060e-017,\n",
       "        2.33575033e-018],\n",
       "       [1.00000000e+000, 1.24763791e-096, 6.07619464e-065,\n",
       "        1.16686594e-054, 3.89688470e-087, 3.15238516e-038,\n",
       "        4.96448386e-063, 1.14623585e-077, 1.05948871e-068,\n",
       "        3.99006749e-078],\n",
       "       [3.03879057e-045, 2.15404931e-066, 1.00340825e-036,\n",
       "        2.71470548e-053, 1.00000000e+000, 3.63143863e-057,\n",
       "        3.18482953e-015, 2.18424338e-055, 8.14437901e-027,\n",
       "        2.06493857e-031],\n",
       "       [7.39474978e-061, 1.00000000e+000, 2.77178548e-011,\n",
       "        1.78620093e-019, 5.62099621e-032, 2.32953443e-039,\n",
       "        4.88614400e-058, 6.23353865e-043, 1.30327047e-011,\n",
       "        9.53708825e-023],\n",
       "       [1.94808881e-032, 1.64445512e-040, 7.71353890e-039,\n",
       "        1.00000000e+000, 4.30677421e-049, 9.85474626e-022,\n",
       "        3.98485119e-038, 5.71771590e-051, 2.69081628e-036,\n",
       "        5.60396413e-052],\n",
       "       [1.44020041e-068, 6.73896212e-053, 1.00000000e+000,\n",
       "        2.24447551e-051, 8.99587876e-057, 1.63278458e-068,\n",
       "        2.68528255e-053, 3.30000956e-092, 2.84079558e-029,\n",
       "        4.83137283e-074],\n",
       "       [7.22303216e-051, 9.99999996e-001, 3.78746179e-009,\n",
       "        5.37419255e-018, 5.13020023e-028, 2.60977044e-039,\n",
       "        1.13082787e-033, 3.40520184e-017, 9.23970493e-017,\n",
       "        8.25982865e-023],\n",
       "       [1.00000000e+000, 3.13048864e-104, 2.10743761e-067,\n",
       "        4.46286008e-057, 2.71458395e-083, 8.53874896e-050,\n",
       "        3.00643504e-057, 3.10487405e-081, 1.45165001e-045,\n",
       "        2.04209857e-043],\n",
       "       [1.62228462e-052, 2.68158968e-038, 4.47468536e-009,\n",
       "        9.99999996e-001, 1.13545735e-063, 1.01032528e-030,\n",
       "        5.84405171e-080, 7.11945511e-064, 1.48028190e-021,\n",
       "        7.35053499e-034],\n",
       "       [2.54334395e-048, 7.02221408e-061, 1.84341490e-051,\n",
       "        1.43001708e-042, 1.85954443e-049, 1.24742217e-042,\n",
       "        1.48291204e-072, 1.00000000e+000, 3.65399652e-032,\n",
       "        4.31655078e-015],\n",
       "       [2.51574061e-034, 6.24780410e-030, 8.74688790e-016,\n",
       "        8.59649510e-041, 3.27842555e-034, 2.97731244e-025,\n",
       "        1.00000000e+000, 1.10196907e-063, 6.77127377e-030,\n",
       "        8.25027466e-032],\n",
       "       [3.87977546e-029, 7.88501757e-029, 4.60966882e-027,\n",
       "        9.93102470e-006, 1.16114435e-038, 9.99342211e-001,\n",
       "        1.29869281e-012, 6.52412624e-049, 6.47857626e-004,\n",
       "        1.44291816e-027]])"
      ]
     },
     "execution_count": 51,
     "metadata": {},
     "output_type": "execute_result"
    }
   ],
   "source": [
    "logi.predict_proba(X_test[100:200])"
   ]
  },
  {
   "cell_type": "code",
   "execution_count": 52,
   "id": "9bf93ea4",
   "metadata": {},
   "outputs": [
    {
     "data": {
      "image/png": "[encoded data removed]",
      "text/plain": [
       "<Figure size 640x480 with 1 Axes>"
      ]
     },
     "metadata": {},
     "output_type": "display_data"
    }
   ],
   "source": [
    "img0 = X_test.iloc[100]\n",
    "plt.imshow(img0.values.reshape(28, 28), cmap = 'gray')\n",
    "plt.show()"
   ]
  },
  {
   "cell_type": "code",
   "execution_count": null,
   "id": "5cd05102",
   "metadata": {},
   "outputs": [],
   "source": []
  }
 ],
 "metadata": {
  "kernelspec": {
   "display_name": "Python 3 (ipykernel)",
   "language": "python",
   "name": "python3"
  },
  "language_info": {
   "codemirror_mode": {
    "name": "ipython",
    "version": 3
   },
   "file_extension": ".py",
   "mimetype": "text/x-python",
   "name": "python",
   "nbconvert_exporter": "python",
   "pygments_lexer": "ipython3",
   "version": "3.10.9"
  }
 },
 "nbformat": 4,
 "nbformat_minor": 5
}
