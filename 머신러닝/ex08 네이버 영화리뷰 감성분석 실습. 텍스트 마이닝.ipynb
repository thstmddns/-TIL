{
 "cells": [
  {
   "cell_type": "markdown",
   "id": "2819b248",
   "metadata": {},
   "source": [
    "### 환경설정"
   ]
  },
  {
   "cell_type": "code",
   "execution_count": 1,
   "id": "84b2a79d",
   "metadata": {},
   "outputs": [
    {
     "name": "stdout",
     "output_type": "stream",
     "text": [
      "True\n"
     ]
    }
   ],
   "source": [
    "# 1. java 설치(version 1.7 이상)\n",
    "# cmd 창에서 java --version으로 확인\n",
    "# 2. 환경 변수 설정\n",
    "# 제어판 > 시스템 > 고급 시스템 설정 > 고급 > 환경변수\n",
    "# 제어판을 들어가지 않고 환경 변수를 확안하는 방법\n",
    "import os\n",
    "print('JAVA_HOME' in os.environ)\n",
    "# True가 나온다면 자바 환경 변수까지 설정이 완료가 된 것!\n",
    "# 만약 false뜬다면 별도의 환경변수 설정이 필요하다.\n",
    "# -> jvm.dll이 있는 폴더를 시스템 변수에 JAVA_HOME으로 추가를 해주면 된다.\n",
    "os.environ['JAVA_HOME'] = r'C:\\Program Files\\Java\\jdk-11\\bin\\server'"
   ]
  },
  {
   "cell_type": "code",
   "execution_count": 2,
   "id": "fa1babd9",
   "metadata": {},
   "outputs": [
    {
     "name": "stdout",
     "output_type": "stream",
     "text": [
      "True\n"
     ]
    }
   ],
   "source": [
    "print('JAVA_HOME' in os.environ)"
   ]
  },
  {
   "cell_type": "code",
   "execution_count": 3,
   "id": "90cde4de",
   "metadata": {},
   "outputs": [
    {
     "name": "stdout",
     "output_type": "stream",
     "text": [
      "Requirement already satisfied: jpype1 in c:\\users\\user04\\anaconda3\\lib\\site-packages (1.4.1)\n",
      "Requirement already satisfied: packaging in c:\\users\\user04\\anaconda3\\lib\\site-packages (from jpype1) (22.0)\n"
     ]
    }
   ],
   "source": [
    "# 환경 변수 설정 완료 후 Jpype1 설치\n",
    "!pip install jpype1"
   ]
  },
  {
   "cell_type": "code",
   "execution_count": 4,
   "id": "0d90b048",
   "metadata": {
    "scrolled": true
   },
   "outputs": [
    {
     "name": "stdout",
     "output_type": "stream",
     "text": [
      "Requirement already satisfied: konlpy in c:\\users\\user04\\anaconda3\\lib\\site-packages (0.6.0)\n",
      "Requirement already satisfied: lxml>=4.1.0 in c:\\users\\user04\\anaconda3\\lib\\site-packages (from konlpy) (4.9.1)\n",
      "Requirement already satisfied: numpy>=1.6 in c:\\users\\user04\\anaconda3\\lib\\site-packages (from konlpy) (1.23.5)\n",
      "Requirement already satisfied: JPype1>=0.7.0 in c:\\users\\user04\\anaconda3\\lib\\site-packages (from konlpy) (1.4.1)\n",
      "Requirement already satisfied: packaging in c:\\users\\user04\\anaconda3\\lib\\site-packages (from JPype1>=0.7.0->konlpy) (22.0)\n"
     ]
    }
   ],
   "source": [
    "# jpype1 설치 완료 후 한국어 형태소 분석기인 konlpy 설치하기\n",
    "!pip install konlpy"
   ]
  },
  {
   "cell_type": "code",
   "execution_count": 5,
   "id": "1c6122f0",
   "metadata": {},
   "outputs": [],
   "source": [
    "#라이브러리 불러와보기\n",
    "from konlpy.tag import Kkma"
   ]
  },
  {
   "cell_type": "code",
   "execution_count": 6,
   "id": "af9056f7",
   "metadata": {},
   "outputs": [],
   "source": [
    "kkma = Kkma()"
   ]
  },
  {
   "cell_type": "markdown",
   "id": "642cd1bb",
   "metadata": {},
   "source": [
    "### 목표설정\n",
    "- 네이버 영화리뷰 데이터 셋을 이용해서 긍정/부정 분류기를 만들어보자.\n",
    "- TF-IDF 토큰화 방법을 사용해보자\n",
    "- konlpy한국어 형태소 분석기를 사용해보자(글자 및)\n",
    "- 단어별 긍/부정 정보를 시각화해서 확인해보자"
   ]
  },
  {
   "cell_type": "code",
   "execution_count": 7,
   "id": "c443d4cd",
   "metadata": {},
   "outputs": [],
   "source": [
    "#필요한 라이브러리 불러오기 \n",
    "import pandas as pd\n",
    "import numpy as np\n",
    "import matplotlib.pyplot as plt"
   ]
  },
  {
   "cell_type": "code",
   "execution_count": 8,
   "id": "78c8672e",
   "metadata": {},
   "outputs": [],
   "source": [
    "df_train = pd.read_csv('./data/ratings_train.csv')\n",
    "df_test = pd.read_csv('./data/ratings_test.csv')"
   ]
  },
  {
   "cell_type": "code",
   "execution_count": 9,
   "id": "4f419421",
   "metadata": {},
   "outputs": [],
   "source": [
    "pd.set_option('display.max_colwidth', None) # 컬럼에 폭 제한을 없애버리겠다!\n",
    "pd.set_option('display.max_rows', None) # 전체 행을 보여줘라!"
   ]
  },
  {
   "cell_type": "code",
   "execution_count": 10,
   "id": "552de958",
   "metadata": {},
   "outputs": [
    {
     "data": {
      "text/html": [
       "<div>\n",
       "<style scoped>\n",
       "    .dataframe tbody tr th:only-of-type {\n",
       "        vertical-align: middle;\n",
       "    }\n",
       "\n",
       "    .dataframe tbody tr th {\n",
       "        vertical-align: top;\n",
       "    }\n",
       "\n",
       "    .dataframe thead th {\n",
       "        text-align: right;\n",
       "    }\n",
       "</style>\n",
       "<table border=\"1\" class=\"dataframe\">\n",
       "  <thead>\n",
       "    <tr style=\"text-align: right;\">\n",
       "      <th></th>\n",
       "      <th>id</th>\n",
       "      <th>document</th>\n",
       "      <th>label</th>\n",
       "    </tr>\n",
       "  </thead>\n",
       "  <tbody>\n",
       "    <tr>\n",
       "      <th>0</th>\n",
       "      <td>9976970</td>\n",
       "      <td>아 더빙.. 진짜 짜증나네요 목소리</td>\n",
       "      <td>0</td>\n",
       "    </tr>\n",
       "    <tr>\n",
       "      <th>1</th>\n",
       "      <td>3819312</td>\n",
       "      <td>흠...포스터보고 초딩영화줄....오버연기조차 가볍지 않구나</td>\n",
       "      <td>1</td>\n",
       "    </tr>\n",
       "    <tr>\n",
       "      <th>2</th>\n",
       "      <td>10265843</td>\n",
       "      <td>너무재밓었다그래서보는것을추천한다</td>\n",
       "      <td>0</td>\n",
       "    </tr>\n",
       "    <tr>\n",
       "      <th>3</th>\n",
       "      <td>9045019</td>\n",
       "      <td>교도소 이야기구먼 ..솔직히 재미는 없다..평점 조정</td>\n",
       "      <td>0</td>\n",
       "    </tr>\n",
       "    <tr>\n",
       "      <th>4</th>\n",
       "      <td>6483659</td>\n",
       "      <td>사이몬페그의 익살스런 연기가 돋보였던 영화!스파이더맨에서 늙어보이기만 했던 커스틴 던스트가 너무나도 이뻐보였다</td>\n",
       "      <td>1</td>\n",
       "    </tr>\n",
       "  </tbody>\n",
       "</table>\n",
       "</div>"
      ],
      "text/plain": [
       "         id                                                       document  \\\n",
       "0   9976970                                            아 더빙.. 진짜 짜증나네요 목소리   \n",
       "1   3819312                              흠...포스터보고 초딩영화줄....오버연기조차 가볍지 않구나   \n",
       "2  10265843                                              너무재밓었다그래서보는것을추천한다   \n",
       "3   9045019                                  교도소 이야기구먼 ..솔직히 재미는 없다..평점 조정   \n",
       "4   6483659  사이몬페그의 익살스런 연기가 돋보였던 영화!스파이더맨에서 늙어보이기만 했던 커스틴 던스트가 너무나도 이뻐보였다   \n",
       "\n",
       "   label  \n",
       "0      0  \n",
       "1      1  \n",
       "2      0  \n",
       "3      0  \n",
       "4      1  "
      ]
     },
     "execution_count": 10,
     "metadata": {},
     "output_type": "execute_result"
    }
   ],
   "source": [
    "df_train.head()"
   ]
  },
  {
   "cell_type": "markdown",
   "id": "d7e44088",
   "metadata": {},
   "source": [
    "**컬럼 정리**\n",
    "- id : 사용자 고유 식별 번호\n",
    "- document : 실제 리뷰 내용\n",
    "- label : 긍정/부정 -> 0: 부정리뷰, 1 : 긍정리뷰"
   ]
  },
  {
   "cell_type": "code",
   "execution_count": 11,
   "id": "42c09536",
   "metadata": {},
   "outputs": [
    {
     "name": "stdout",
     "output_type": "stream",
     "text": [
      "<class 'pandas.core.frame.DataFrame'>\n",
      "RangeIndex: 150000 entries, 0 to 149999\n",
      "Data columns (total 3 columns):\n",
      " #   Column    Non-Null Count   Dtype \n",
      "---  ------    --------------   ----- \n",
      " 0   id        150000 non-null  int64 \n",
      " 1   document  149995 non-null  object\n",
      " 2   label     150000 non-null  int64 \n",
      "dtypes: int64(2), object(1)\n",
      "memory usage: 3.4+ MB\n"
     ]
    }
   ],
   "source": [
    "#데이터 프레임 확인 - info()\n",
    "# train의 정보 확인\n",
    "df_train.info()"
   ]
  },
  {
   "cell_type": "code",
   "execution_count": 12,
   "id": "90db3c8f",
   "metadata": {},
   "outputs": [
    {
     "name": "stdout",
     "output_type": "stream",
     "text": [
      "<class 'pandas.core.frame.DataFrame'>\n",
      "RangeIndex: 50000 entries, 0 to 49999\n",
      "Data columns (total 3 columns):\n",
      " #   Column    Non-Null Count  Dtype \n",
      "---  ------    --------------  ----- \n",
      " 0   id        50000 non-null  int64 \n",
      " 1   document  49997 non-null  object\n",
      " 2   label     50000 non-null  int64 \n",
      "dtypes: int64(2), object(1)\n",
      "memory usage: 1.1+ MB\n"
     ]
    }
   ],
   "source": [
    "# test의 정보 확인\n",
    "df_test.info()"
   ]
  },
  {
   "cell_type": "markdown",
   "id": "8370ec1e",
   "metadata": {},
   "source": [
    "- train 데이터 : 총 데이터 개수 : 15만개 / 결측치 5개\n",
    "- test 데이터 : 총 데이터 개수 : 5만개 / 결측치 3개\n",
    "- 데이터 볼륨에 비해 결측치의 양이 적다.\n",
    "- 실제 리뷰 데이터를 채워주기엔 무리가 있다.\n",
    "- 결측치가 있는 부분을 삭제하도록 하자."
   ]
  },
  {
   "cell_type": "code",
   "execution_count": 13,
   "id": "061b596a",
   "metadata": {},
   "outputs": [],
   "source": [
    "# 결측치 데이터 삭제\n",
    "# dropna -> 결측치가 있는 데이터를 삭제하는 함수\n",
    "df_train.dropna(inplace = True)"
   ]
  },
  {
   "cell_type": "code",
   "execution_count": 14,
   "id": "99e11900",
   "metadata": {},
   "outputs": [],
   "source": [
    "df_test.dropna(inplace = True) "
   ]
  },
  {
   "cell_type": "code",
   "execution_count": 15,
   "id": "52f6cd53",
   "metadata": {},
   "outputs": [
    {
     "name": "stdout",
     "output_type": "stream",
     "text": [
      "<class 'pandas.core.frame.DataFrame'>\n",
      "Int64Index: 149995 entries, 0 to 149999\n",
      "Data columns (total 3 columns):\n",
      " #   Column    Non-Null Count   Dtype \n",
      "---  ------    --------------   ----- \n",
      " 0   id        149995 non-null  int64 \n",
      " 1   document  149995 non-null  object\n",
      " 2   label     149995 non-null  int64 \n",
      "dtypes: int64(2), object(1)\n",
      "memory usage: 4.6+ MB\n",
      "<class 'pandas.core.frame.DataFrame'>\n",
      "Int64Index: 49997 entries, 0 to 49999\n",
      "Data columns (total 3 columns):\n",
      " #   Column    Non-Null Count  Dtype \n",
      "---  ------    --------------  ----- \n",
      " 0   id        49997 non-null  int64 \n",
      " 1   document  49997 non-null  object\n",
      " 2   label     49997 non-null  int64 \n",
      "dtypes: int64(2), object(1)\n",
      "memory usage: 1.5+ MB\n"
     ]
    }
   ],
   "source": [
    "# 데이터 확인\n",
    "df_train.info()\n",
    "df_test.info()"
   ]
  },
  {
   "cell_type": "markdown",
   "id": "02d2ea9b",
   "metadata": {},
   "source": [
    "- 현재 데이터는 train, test로 나눠져있다.\n",
    "- 우리가 머신러닝을 진행하기 위해서는 4가지의 데이터셋으로 나눠줄필요가 있다.\n",
    "- 데이터를 분할해보자"
   ]
  },
  {
   "cell_type": "code",
   "execution_count": 16,
   "id": "ee0b1a37",
   "metadata": {},
   "outputs": [],
   "source": [
    "# hint1. 텍스트 마이닝 실습을 진행하기 위해서는 리뷰 데이터가 필요하다\n",
    "# hint2. 정답은 어떤 컬럼을 써야하는지 알아보자\n",
    "# hint3. id 컬럼은 필요할까? 고민 한번 해보자\n",
    "\n",
    "\n",
    "X_train = df_train['document']\n",
    "y_train = df_train['label']\n",
    "\n",
    "X_test = df_test['document']\n",
    "y_test = df_test['label']\n",
    "# 데이터의 형태를 우선적으로 파악하고, 어떻게 분할해야 할 지 생각해보자."
   ]
  },
  {
   "cell_type": "code",
   "execution_count": 17,
   "id": "4717e5c8",
   "metadata": {},
   "outputs": [
    {
     "data": {
      "text/plain": [
       "((149995,), (49997,), (149995,), (49997,))"
      ]
     },
     "execution_count": 17,
     "metadata": {},
     "output_type": "execute_result"
    }
   ],
   "source": [
    "#데이터 분할 확인\n",
    "X_train.shape, X_test.shape, y_train.shape, y_test.shape"
   ]
  },
  {
   "cell_type": "markdown",
   "id": "8feee5a6",
   "metadata": {},
   "source": [
    "**Vectorizer**"
   ]
  },
  {
   "cell_type": "markdown",
   "id": "32467a32",
   "metadata": {},
   "source": [
    "- Vectorizer는 말 그대로 어떠한 대상을 벡터화 시켜주는 도구다!\n",
    "- (수치 값으로 바꿔주는 도구이다.)\n",
    "- 기계학습 분야에서는 주로 텍스트를 쉽게 분석하기 위해서 벡터로 데이터를 표현할 때 사용\n",
    "- 수치 값(숫자/벡터)으로 입력 값을 넣어주길 바라는 머신러닝 모델을 실행하기 위해서는 텍스트나 또 다른 데이터의 형태를 숫자나 벡터로 나타낼 필요가 있고 실현하기 위해 사용하는 것이 Vectorizer 이다."
   ]
  },
  {
   "cell_type": "markdown",
   "id": "a41944f8",
   "metadata": {},
   "source": [
    "### BOW(Bag Of Word) - 단어가방\n",
    "- 문서를 벡터로 변환하는 가장 기본적인 방법으로 문서 내부에 모든 단어를 모아서 하나의 가방을 만들고, 특정 문서에 어떤 단어가 있는지 리스트의 형태로 순서 - 숫자형태로 나타내는 방법"
   ]
  },
  {
   "cell_type": "code",
   "execution_count": 18,
   "id": "e802e7bb",
   "metadata": {},
   "outputs": [],
   "source": [
    "# TF-IDF Vectorizer import\n",
    "# 사이킷런에 있는 특성추출 도구 중에서 텍스트 추출 도구를 가져올거고\n",
    "# 그중에서 TfidfVectorizerfmf rkwudhk wnj\n",
    "from sklearn.feature_extraction.text import TfidfVectorizer"
   ]
  },
  {
   "cell_type": "code",
   "execution_count": 19,
   "id": "ce259922",
   "metadata": {},
   "outputs": [
    {
     "data": {
      "text/plain": [
       "0                  아 더빙.. 진짜 짜증나네요 목소리\n",
       "1    흠...포스터보고 초딩영화줄....오버연기조차 가볍지 않구나\n",
       "2                    너무재밓었다그래서보는것을추천한다\n",
       "Name: document, dtype: object"
      ]
     },
     "execution_count": 19,
     "metadata": {},
     "output_type": "execute_result"
    }
   ],
   "source": [
    "X_train[:3]"
   ]
  },
  {
   "cell_type": "code",
   "execution_count": 20,
   "id": "29bffaf4",
   "metadata": {},
   "outputs": [
    {
     "data": {
      "text/plain": [
       "dict_keys(['더빙', '진짜', '짜증나네요', '목소리', '포스터보고', '초딩영화줄', '오버연기조차', '가볍지', '않구나', '너무재밓었다그래서보는것을추천한다'])"
      ]
     },
     "execution_count": 20,
     "metadata": {},
     "output_type": "execute_result"
    }
   ],
   "source": [
    "# TF-IDF 객체 생성\n",
    "tf_idf_vect = TfidfVectorizer()\n",
    "# 단어사전(단어 가방) 구축 - fit()\n",
    "tf_idf_vect.fit(X_train[:3])\n",
    "# 분리된 문장으로 만든 단어 사전 출력\n",
    "tf_idf_vect.vocabulary_.keys()"
   ]
  },
  {
   "cell_type": "markdown",
   "id": "dbe47251",
   "metadata": {},
   "source": [
    "- 언어의 특성을 따라 분할이 조금 달라지는 것 같다.\n",
    "- 사이킷런은 외국에서 만들어졌기 때문에 외국의 언어체계를 따르는 것 같다.\n",
    "- 영어나 다른 외국어 같은 경우는 단어 단위/ 띄어쓰기 단위로 분할을 해도 무리가 없다. -> 기본적으로 어절 단위로 끊어주기 때문에 한국어 특성상 파악이 어렵다.\n",
    "- 조금 더 정확하게 벡터화를 진행하기 위해서 가장 작은 단위인 형태소 별로 나눠서 파악을 진행해보자!"
   ]
  },
  {
   "cell_type": "markdown",
   "id": "dda08fa4",
   "metadata": {},
   "source": [
    "### 한국어 형태소 분석기 konlpy 사용해보기"
   ]
  },
  {
   "cell_type": "code",
   "execution_count": 21,
   "id": "f2a03374",
   "metadata": {},
   "outputs": [],
   "source": [
    "# 형태소 분석기 불러오기\n",
    "from konlpy .tag import Kkma\n",
    "# Hannanum, Kkma, komoran, mecab이라는 형태소 분석기가 존재\n",
    "#여기서 mecab은 리눅스 환경에서만 작동하는 라이브러리 "
   ]
  },
  {
   "cell_type": "markdown",
   "id": "31d8377b",
   "metadata": {},
   "source": [
    "**Kkma 라이브러리**\n",
    "- Kkma : 꼬꼬마, 서울대학교 IDS(Intelligent Data System) 연구소 개발\n",
    "- nouns() : 명사 추출\n",
    "- morphs() : 형태소 추출\n",
    "- pos() : 형태소 추출 + 품사 태그 부착"
   ]
  },
  {
   "cell_type": "code",
   "execution_count": 22,
   "id": "42a44dc3",
   "metadata": {},
   "outputs": [],
   "source": [
    "# 한국어 형태소 분석기 객체 생성\n",
    "kkma = Kkma()"
   ]
  },
  {
   "cell_type": "code",
   "execution_count": 23,
   "id": "d6dda8f9",
   "metadata": {},
   "outputs": [
    {
     "data": {
      "text/plain": [
       "'아 더빙.. 진짜 짜증나네요 목소리'"
      ]
     },
     "execution_count": 23,
     "metadata": {},
     "output_type": "execute_result"
    }
   ],
   "source": [
    "# 문장 하나 추출\n",
    "X_train[0]"
   ]
  },
  {
   "cell_type": "code",
   "execution_count": 24,
   "id": "13d40055",
   "metadata": {},
   "outputs": [
    {
     "data": {
      "text/plain": [
       "['더빙', '목소리']"
      ]
     },
     "execution_count": 24,
     "metadata": {},
     "output_type": "execute_result"
    }
   ],
   "source": [
    "# 명사 추출 : nouns()\n",
    "kkma.nouns(X_train[0])"
   ]
  },
  {
   "cell_type": "code",
   "execution_count": 26,
   "id": "2e6c9d78",
   "metadata": {},
   "outputs": [],
   "source": [
    "# 우리가 사용해봤던 TF-IDF와 Kkma를 연결해서 사용해보자.\n",
    "# step1. 함수 제작: 토큰화 작업을 해주는 함수를 제작해보자\n",
    "def myTokenizer(text):\n",
    "    return kkma.nouns(text)"
   ]
  },
  {
   "cell_type": "code",
   "execution_count": 31,
   "id": "8929e55f",
   "metadata": {},
   "outputs": [
    {
     "data": {
      "text/plain": [
       "dict_keys(['더빙', '목소리', '흠', '포스터', '포스터보고', '보고', '초', '초딩영화줄', '딩', '영화', '줄', '오버', '오버연기', '연기', '재', '재밓', '밓', '추천'])"
      ]
     },
     "execution_count": 31,
     "metadata": {},
     "output_type": "execute_result"
    }
   ],
   "source": [
    "# step 2. 기존 tf_ids에 위에서 제작한 함수 설정해주기\n",
    "temp_tf_idf = TfidfVectorizer(tokenizer=myTokenizer)\n",
    "# step 3. 단어사전 구축\n",
    "temp_tf_idf.fit(X_train[0:3])\n",
    "#step 4. 단어사전 확인\n",
    "temp_tf_idf.vocabulary_.keys()"
   ]
  },
  {
   "cell_type": "code",
   "execution_count": 33,
   "id": "d782c2f9",
   "metadata": {},
   "outputs": [
    {
     "data": {
      "text/plain": [
       "{'더빙': 0,\n",
       " '목소리': 2,\n",
       " '흠': 17,\n",
       " '포스터': 15,\n",
       " '포스터보고': 16,\n",
       " '보고': 4,\n",
       " '초': 12,\n",
       " '초딩영화줄': 13,\n",
       " '딩': 1,\n",
       " '영화': 6,\n",
       " '줄': 11,\n",
       " '오버': 7,\n",
       " '오버연기': 8,\n",
       " '연기': 5,\n",
       " '재': 9,\n",
       " '재밓': 10,\n",
       " '밓': 3,\n",
       " '추천': 14}"
      ]
     },
     "execution_count": 33,
     "metadata": {},
     "output_type": "execute_result"
    }
   ],
   "source": [
    "temp_tf_idf.vocabulary_"
   ]
  },
  {
   "cell_type": "markdown",
   "id": "a16cb6ab",
   "metadata": {},
   "source": [
    "### pos tagging 활용\n",
    "- 형태소를 추출해서 품사 태깅까지 부착해주는 기능"
   ]
  },
  {
   "cell_type": "code",
   "execution_count": 34,
   "id": "75826d65",
   "metadata": {},
   "outputs": [
    {
     "data": {
      "text/plain": [
       "{'EC': '연결 어미',\n",
       " 'ECD': '의존적 연결 어미',\n",
       " 'ECE': '대등 연결 어미',\n",
       " 'ECS': '보조적 연결 어미',\n",
       " 'EF': '종결 어미',\n",
       " 'EFA': '청유형 종결 어미',\n",
       " 'EFI': '감탄형 종결 어미',\n",
       " 'EFN': '평서형 종결 어미',\n",
       " 'EFO': '명령형 종결 어미',\n",
       " 'EFQ': '의문형 종결 어미',\n",
       " 'EFR': '존칭형 종결 어미',\n",
       " 'EP': '선어말 어미',\n",
       " 'EPH': '존칭 선어말 어미',\n",
       " 'EPP': '공손 선어말 어미',\n",
       " 'EPT': '시제 선어말 어미',\n",
       " 'ET': '전성 어미',\n",
       " 'ETD': '관형형 전성 어미',\n",
       " 'ETN': '명사형 전성 어미',\n",
       " 'IC': '감탄사',\n",
       " 'JC': '접속 조사',\n",
       " 'JK': '조사',\n",
       " 'JKC': '보격 조사',\n",
       " 'JKG': '관형격 조사',\n",
       " 'JKI': '호격 조사',\n",
       " 'JKM': '부사격 조사',\n",
       " 'JKO': '목적격 조사',\n",
       " 'JKQ': '인용격 조사',\n",
       " 'JKS': '주격 조사',\n",
       " 'JX': '보조사',\n",
       " 'MA': '부사',\n",
       " 'MAC': '접속 부사',\n",
       " 'MAG': '일반 부사',\n",
       " 'MD': '관형사',\n",
       " 'MDN': '수 관형사',\n",
       " 'MDT': '일반 관형사',\n",
       " 'NN': '명사',\n",
       " 'NNB': '일반 의존 명사',\n",
       " 'NNG': '보통명사',\n",
       " 'NNM': '단위 의존 명사',\n",
       " 'NNP': '고유명사',\n",
       " 'NP': '대명사',\n",
       " 'NR': '수사',\n",
       " 'OH': '한자',\n",
       " 'OL': '외국어',\n",
       " 'ON': '숫자',\n",
       " 'SE': '줄임표',\n",
       " 'SF': '마침표, 물음표, 느낌표',\n",
       " 'SO': '붙임표(물결,숨김,빠짐)',\n",
       " 'SP': '쉼표,가운뎃점,콜론,빗금',\n",
       " 'SS': '따옴표,괄호표,줄표',\n",
       " 'SW': '기타기호 (논리수학기호,화폐기호)',\n",
       " 'UN': '명사추정범주',\n",
       " 'VA': '형용사',\n",
       " 'VC': '지정사',\n",
       " 'VCN': \"부정 지정사, 형용사 '아니다'\",\n",
       " 'VCP': \"긍정 지정사, 서술격 조사 '이다'\",\n",
       " 'VV': '동사',\n",
       " 'VX': '보조 용언',\n",
       " 'VXA': '보조 형용사',\n",
       " 'VXV': '보조 동사',\n",
       " 'XP': '접두사',\n",
       " 'XPN': '체언 접두사',\n",
       " 'XPV': '용언 접두사',\n",
       " 'XR': '어근',\n",
       " 'XSA': '형용사 파생 접미사',\n",
       " 'XSN': '명사파생 접미사',\n",
       " 'XSV': '동사 파생 접미사'}"
      ]
     },
     "execution_count": 34,
     "metadata": {},
     "output_type": "execute_result"
    }
   ],
   "source": [
    "# 품사 태그 종류 출력해보기\n",
    "kkma.tagset"
   ]
  },
  {
   "cell_type": "code",
   "execution_count": 35,
   "id": "7a4a7d80",
   "metadata": {},
   "outputs": [
    {
     "data": {
      "text/plain": [
       "['먹',\n",
       " '다',\n",
       " '먹',\n",
       " '는',\n",
       " '다',\n",
       " '먹',\n",
       " '었',\n",
       " '다',\n",
       " '아름답',\n",
       " '다',\n",
       " '멋지',\n",
       " '다',\n",
       " '안경',\n",
       " '마스크',\n",
       " '사진',\n",
       " '모자']"
      ]
     },
     "execution_count": 35,
     "metadata": {},
     "output_type": "execute_result"
    }
   ],
   "source": [
    "# 단순 형태소 추출 - morphs()\n",
    "data = '먹다 먹는다 먹었다 아름답다 멋지다 안경 마스크 사진 모자'\n",
    "kkma.morphs(data)"
   ]
  },
  {
   "cell_type": "code",
   "execution_count": 36,
   "id": "ecdf2b55",
   "metadata": {},
   "outputs": [],
   "source": [
    "# 우리가 원하는 품사만 골라와서 추출해보자\n",
    "d = pd.DataFrame(kkma.pos(data), columns=['morphs', 'tag'])\n",
    "d.set_index('tag', inplace = True)"
   ]
  },
  {
   "cell_type": "code",
   "execution_count": 37,
   "id": "d251487f",
   "metadata": {},
   "outputs": [
    {
     "data": {
      "text/html": [
       "<div>\n",
       "<style scoped>\n",
       "    .dataframe tbody tr th:only-of-type {\n",
       "        vertical-align: middle;\n",
       "    }\n",
       "\n",
       "    .dataframe tbody tr th {\n",
       "        vertical-align: top;\n",
       "    }\n",
       "\n",
       "    .dataframe thead th {\n",
       "        text-align: right;\n",
       "    }\n",
       "</style>\n",
       "<table border=\"1\" class=\"dataframe\">\n",
       "  <thead>\n",
       "    <tr style=\"text-align: right;\">\n",
       "      <th></th>\n",
       "      <th>morphs</th>\n",
       "    </tr>\n",
       "    <tr>\n",
       "      <th>tag</th>\n",
       "      <th></th>\n",
       "    </tr>\n",
       "  </thead>\n",
       "  <tbody>\n",
       "    <tr>\n",
       "      <th>VV</th>\n",
       "      <td>먹</td>\n",
       "    </tr>\n",
       "    <tr>\n",
       "      <th>ECS</th>\n",
       "      <td>다</td>\n",
       "    </tr>\n",
       "    <tr>\n",
       "      <th>VV</th>\n",
       "      <td>먹</td>\n",
       "    </tr>\n",
       "    <tr>\n",
       "      <th>EPT</th>\n",
       "      <td>는</td>\n",
       "    </tr>\n",
       "    <tr>\n",
       "      <th>ECS</th>\n",
       "      <td>다</td>\n",
       "    </tr>\n",
       "    <tr>\n",
       "      <th>VV</th>\n",
       "      <td>먹</td>\n",
       "    </tr>\n",
       "    <tr>\n",
       "      <th>EPT</th>\n",
       "      <td>었</td>\n",
       "    </tr>\n",
       "    <tr>\n",
       "      <th>ECS</th>\n",
       "      <td>다</td>\n",
       "    </tr>\n",
       "    <tr>\n",
       "      <th>VA</th>\n",
       "      <td>아름답</td>\n",
       "    </tr>\n",
       "    <tr>\n",
       "      <th>ECS</th>\n",
       "      <td>다</td>\n",
       "    </tr>\n",
       "    <tr>\n",
       "      <th>VA</th>\n",
       "      <td>멋지</td>\n",
       "    </tr>\n",
       "    <tr>\n",
       "      <th>ECS</th>\n",
       "      <td>다</td>\n",
       "    </tr>\n",
       "    <tr>\n",
       "      <th>NNG</th>\n",
       "      <td>안경</td>\n",
       "    </tr>\n",
       "    <tr>\n",
       "      <th>NNG</th>\n",
       "      <td>마스크</td>\n",
       "    </tr>\n",
       "    <tr>\n",
       "      <th>NNG</th>\n",
       "      <td>사진</td>\n",
       "    </tr>\n",
       "    <tr>\n",
       "      <th>NNG</th>\n",
       "      <td>모자</td>\n",
       "    </tr>\n",
       "  </tbody>\n",
       "</table>\n",
       "</div>"
      ],
      "text/plain": [
       "    morphs\n",
       "tag       \n",
       "VV       먹\n",
       "ECS      다\n",
       "VV       먹\n",
       "EPT      는\n",
       "ECS      다\n",
       "VV       먹\n",
       "EPT      었\n",
       "ECS      다\n",
       "VA     아름답\n",
       "ECS      다\n",
       "VA      멋지\n",
       "ECS      다\n",
       "NNG     안경\n",
       "NNG    마스크\n",
       "NNG     사진\n",
       "NNG     모자"
      ]
     },
     "execution_count": 37,
     "metadata": {},
     "output_type": "execute_result"
    }
   ],
   "source": [
    "d"
   ]
  },
  {
   "cell_type": "code",
   "execution_count": null,
   "id": "c82a00ff",
   "metadata": {},
   "outputs": [],
   "source": [
    "# 명사, 형용사, 동사만 추출해서 데이터 프레임을 만들어보자"
   ]
  }
 ],
 "metadata": {
  "kernelspec": {
   "display_name": "Python 3 (ipykernel)",
   "language": "python",
   "name": "python3"
  },
  "language_info": {
   "codemirror_mode": {
    "name": "ipython",
    "version": 3
   },
   "file_extension": ".py",
   "mimetype": "text/x-python",
   "name": "python",
   "nbconvert_exporter": "python",
   "pygments_lexer": "ipython3",
   "version": "3.10.9"
  }
 },
 "nbformat": 4,
 "nbformat_minor": 5
}
