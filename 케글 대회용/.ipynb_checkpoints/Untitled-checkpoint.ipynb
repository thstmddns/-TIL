{
 "cells": [
  {
   "cell_type": "code",
   "execution_count": 1,
   "id": "ce28779b",
   "metadata": {},
   "outputs": [],
   "source": [
    "import numpy as np\n",
    "import pandas as pd\n",
    "from matplotlib import pyplot as plt"
   ]
  },
  {
   "cell_type": "code",
   "execution_count": 2,
   "id": "6475e40e",
   "metadata": {},
   "outputs": [],
   "source": [
    "# 파일읽기\n",
    "train = pd.read_csv('./data/Train.csv', index_col = 'ID')\n",
    "test = pd.read_csv('./data/test.csv', index_col = 'ID')"
   ]
  },
  {
   "cell_type": "code",
   "execution_count": 3,
   "id": "277081a8",
   "metadata": {},
   "outputs": [
    {
     "name": "stdout",
     "output_type": "stream",
     "text": [
      "<class 'pandas.core.frame.DataFrame'>\n",
      "Int64Index: 6999 entries, 1 to 6999\n",
      "Data columns (total 11 columns):\n",
      " #   Column               Non-Null Count  Dtype  \n",
      "---  ------               --------------  -----  \n",
      " 0   Warehouse_block      6999 non-null   object \n",
      " 1   Mode_of_Shipment     6999 non-null   object \n",
      " 2   Customer_care_calls  5423 non-null   float64\n",
      " 3   Customer_rating      6999 non-null   int64  \n",
      " 4   Cost_of_the_Product  6999 non-null   int64  \n",
      " 5   Prior_purchases      6049 non-null   float64\n",
      " 6   Product_importance   6999 non-null   object \n",
      " 7   Gender               6999 non-null   object \n",
      " 8   Discount_offered     3468 non-null   float64\n",
      " 9   Weight_in_gms        6999 non-null   object \n",
      " 10  Reached.on.Time_Y.N  6999 non-null   int64  \n",
      "dtypes: float64(3), int64(3), object(5)\n",
      "memory usage: 656.2+ KB\n",
      "<class 'pandas.core.frame.DataFrame'>\n",
      "Int64Index: 4000 entries, 7000 to 10999\n",
      "Data columns (total 10 columns):\n",
      " #   Column               Non-Null Count  Dtype  \n",
      "---  ------               --------------  -----  \n",
      " 0   Warehouse_block      4000 non-null   object \n",
      " 1   Mode_of_Shipment     4000 non-null   object \n",
      " 2   Customer_care_calls  3144 non-null   float64\n",
      " 3   Customer_rating      4000 non-null   int64  \n",
      " 4   Cost_of_the_Product  4000 non-null   int64  \n",
      " 5   Prior_purchases      3633 non-null   float64\n",
      " 6   Product_importance   4000 non-null   object \n",
      " 7   Gender               4000 non-null   object \n",
      " 8   Discount_offered     2085 non-null   float64\n",
      " 9   Weight_in_gms        4000 non-null   object \n",
      "dtypes: float64(3), int64(2), object(5)\n",
      "memory usage: 343.8+ KB\n"
     ]
    }
   ],
   "source": [
    "# 데이터 확인하기\n",
    "train.info()\n",
    "test.info()"
   ]
  },
  {
   "cell_type": "markdown",
   "id": "7a33d5c8",
   "metadata": {},
   "source": [
    "- ID\n",
    "- Warehouse_block \n",
    "- Mode_of_Shipment\n",
    "- Customer_care_calls\n",
    "- Customer_rating\n",
    "- Cost_of_the_Product\n",
    "- Prior_purchases\n",
    "- Product_importance\n",
    "- Gender\n",
    "- Discount_offered\n",
    "- Weight_in_gms\n",
    "- Reached.on.Time_Y.N"
   ]
  },
  {
   "cell_type": "code",
   "execution_count": 27,
   "id": "a9b07980",
   "metadata": {},
   "outputs": [
    {
     "name": "stdout",
     "output_type": "stream",
     "text": [
      "Index(['Warehouse_block ', 'Mode_of_Shipment', 'Customer_care_calls',\n",
      "       'Customer_rating', 'Cost_of_the_Product', 'Prior_purchases',\n",
      "       'Product_importance', 'Gender', 'Discount_offered', 'Weight_in_gms',\n",
      "       'Reached.on.Time_Y.N'],\n",
      "      dtype='object')\n"
     ]
    }
   ],
   "source": [
    "print(train.columns)"
   ]
  },
  {
   "cell_type": "code",
   "execution_count": 44,
   "id": "f36f492b",
   "metadata": {},
   "outputs": [
    {
     "data": {
      "text/plain": [
       "array(['1339', '1082', '4971', ..., '4075', '2486', '1480'], dtype=object)"
      ]
     },
     "execution_count": 44,
     "metadata": {},
     "output_type": "execute_result"
    }
   ],
   "source": [
    "train['Weight_in_gms'].unique()"
   ]
  },
  {
   "cell_type": "markdown",
   "id": "6566c0ff",
   "metadata": {},
   "source": [
    "### 결측치가 있는 컬럼\n",
    "- Customer_care_calls\n",
    "- Prior_purchases\n",
    "- Discount_offered"
   ]
  },
  {
   "cell_type": "markdown",
   "id": "f4e5a59a",
   "metadata": {},
   "source": [
    "### 물음표가 있는 칼럼\n",
    "- Mode_of_Shipment\n",
    "- Product_importance\n",
    "- Weight_in_gms"
   ]
  },
  {
   "cell_type": "markdown",
   "id": "a3a89052",
   "metadata": {},
   "source": [
    "### 결측치가 없는 컬럼\n",
    "- id\n",
    "- Warehouse_block\n",
    "- Customer_rating\n",
    "- Cost_of_the_Product\n",
    "- Gender\n",
    "- Reached.on.Time_Y.N"
   ]
  },
  {
   "cell_type": "code",
   "execution_count": null,
   "id": "a6dcc154",
   "metadata": {},
   "outputs": [],
   "source": [
    "# 전처리(특정 컬럼 삭제)\n",
    "# 1. Discount_offered는 특정 아이템에 대한 할인정보이므로 학습에 이용하기에 적절치 않으며, 결측치도 많기에 임의로 값을 채우면 데이터가 오염될 가능성이 큼"
   ]
  },
  {
   "cell_type": "code",
   "execution_count": null,
   "id": "a8fd5357",
   "metadata": {},
   "outputs": [],
   "source": [
    "pt1 = train['Customer_rating']"
   ]
  },
  {
   "cell_type": "code",
   "execution_count": null,
   "id": "85a794cd",
   "metadata": {},
   "outputs": [],
   "source": [
    "# customer_rating의 결측치 처리\n",
    "def fill_rating(row):\n",
    "    if np.isnan(row['Customer_rating']):\n",
    "        "
   ]
  },
  {
   "cell_type": "code",
   "execution_count": null,
   "id": "da0a09ba",
   "metadata": {},
   "outputs": [],
   "source": [
    "# 전처리 Mode_of_Shipment의 '?' 값 예측하기\n",
    "mos_train = train.drop('Mode_of_Shipment', axis = 1)\n",
    "mos_train"
   ]
  },
  {
   "cell_type": "code",
   "execution_count": null,
   "id": "6795f12d",
   "metadata": {},
   "outputs": [],
   "source": [
    "# 데이터 확인하기\n",
    "train.info"
   ]
  },
  {
   "cell_type": "code",
   "execution_count": null,
   "id": "ca77ee8b",
   "metadata": {
    "scrolled": true
   },
   "outputs": [],
   "source": [
    "# 제 시간에 도착한 여부에 대한 각 요소의 상관계수 구하기\n"
   ]
  },
  {
   "cell_type": "code",
   "execution_count": null,
   "id": "d968bcf9",
   "metadata": {},
   "outputs": [],
   "source": []
  }
 ],
 "metadata": {
  "kernelspec": {
   "display_name": "Python 3 (ipykernel)",
   "language": "python",
   "name": "python3"
  },
  "language_info": {
   "codemirror_mode": {
    "name": "ipython",
    "version": 3
   },
   "file_extension": ".py",
   "mimetype": "text/x-python",
   "name": "python",
   "nbconvert_exporter": "python",
   "pygments_lexer": "ipython3",
   "version": "3.10.9"
  }
 },
 "nbformat": 4,
 "nbformat_minor": 5
}
