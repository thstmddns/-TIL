{
 "cells": [
  {
   "cell_type": "markdown",
   "id": "88011a0c",
   "metadata": {},
   "source": [
    "# 첫번째\n",
    "- 첫번째\n",
    "  - 두번째\n",
    "## 두번째\n",
    "### 세번째\n",
    "#### 네번째"
   ]
  },
  {
   "cell_type": "code",
   "execution_count": null,
   "id": "009ee22b",
   "metadata": {},
   "outputs": [],
   "source": [
    "code = 1 # 주석입니다.\n",
    "code"
   ]
  },
  {
   "cell_type": "code",
   "execution_count": null,
   "id": "47fe6e40",
   "metadata": {},
   "outputs": [],
   "source": [
    "num = 3 \n",
    "print(num)"
   ]
  },
  {
   "cell_type": "code",
   "execution_count": null,
   "id": "782cf152",
   "metadata": {},
   "outputs": [],
   "source": [
    "num1 = 13\n",
    "print(num1)"
   ]
  },
  {
   "cell_type": "code",
   "execution_count": null,
   "id": "306ec20b",
   "metadata": {},
   "outputs": [],
   "source": [
    "num2 = 25 \n",
    "print(num2)\n",
    "num2 = 77\n",
    "print(num2)"
   ]
  },
  {
   "cell_type": "code",
   "execution_count": null,
   "id": "82486703",
   "metadata": {},
   "outputs": [],
   "source": [
    "type(num2)"
   ]
  },
  {
   "cell_type": "code",
   "execution_count": null,
   "id": "fcaddf67",
   "metadata": {},
   "outputs": [],
   "source": [
    "num3 = 3.1425\n",
    "num3"
   ]
  },
  {
   "cell_type": "code",
   "execution_count": null,
   "id": "f7b406a8",
   "metadata": {},
   "outputs": [],
   "source": [
    "num4 = 1.25\n",
    "num4"
   ]
  },
  {
   "cell_type": "code",
   "execution_count": null,
   "id": "1528cac5",
   "metadata": {},
   "outputs": [],
   "source": [
    "num4 = 3.12\n",
    "num4"
   ]
  },
  {
   "cell_type": "code",
   "execution_count": null,
   "id": "3c5f5203",
   "metadata": {},
   "outputs": [],
   "source": [
    "type(num4)"
   ]
  },
  {
   "cell_type": "code",
   "execution_count": null,
   "id": "025f5f78",
   "metadata": {},
   "outputs": [],
   "source": [
    "str1 = 'Funny Python'\n",
    "str1"
   ]
  },
  {
   "cell_type": "code",
   "execution_count": null,
   "id": "d1bd0749",
   "metadata": {},
   "outputs": [],
   "source": [
    "str2 = 'Easy Python'\n",
    "str2"
   ]
  },
  {
   "cell_type": "code",
   "execution_count": null,
   "id": "b306d6b6",
   "metadata": {},
   "outputs": [],
   "source": [
    "type(str2)"
   ]
  },
  {
   "cell_type": "code",
   "execution_count": null,
   "id": "629635cb",
   "metadata": {},
   "outputs": [],
   "source": [
    "number = 30\n",
    "Number = 20\n",
    "print(\"number : \", number)\n",
    "print(\"Number : \", Number)"
   ]
  },
  {
   "cell_type": "code",
   "execution_count": null,
   "id": "1b643d11",
   "metadata": {},
   "outputs": [],
   "source": [
    "number_Number = 10\n",
    "number_Number"
   ]
  },
  {
   "cell_type": "code",
   "execution_count": null,
   "id": "12b69ce1",
   "metadata": {},
   "outputs": [],
   "source": [
    "print(\"나 오늘\", \"너무\", \"씐나\", sep='^^')"
   ]
  },
  {
   "cell_type": "code",
   "execution_count": null,
   "id": "7f40109c",
   "metadata": {},
   "outputs": [],
   "source": [
    "1a = 10"
   ]
  },
  {
   "cell_type": "code",
   "execution_count": null,
   "id": "6f094e28",
   "metadata": {},
   "outputs": [],
   "source": [
    "if = 30\n",
    "if"
   ]
  },
  {
   "cell_type": "code",
   "execution_count": null,
   "id": "a7842289",
   "metadata": {},
   "outputs": [],
   "source": [
    "sum([1, 2])"
   ]
  },
  {
   "cell_type": "code",
   "execution_count": null,
   "id": "6272bd5a",
   "metadata": {},
   "outputs": [],
   "source": [
    "sum = 10\n",
    "sum"
   ]
  },
  {
   "cell_type": "code",
   "execution_count": null,
   "id": "876c3c39",
   "metadata": {},
   "outputs": [],
   "source": [
    "sum([1,2])"
   ]
  },
  {
   "cell_type": "code",
   "execution_count": null,
   "id": "d9716e88",
   "metadata": {},
   "outputs": [],
   "source": [
    "False\n",
    "None"
   ]
  },
  {
   "cell_type": "code",
   "execution_count": 1,
   "id": "732f0f79",
   "metadata": {},
   "outputs": [
    {
     "data": {
      "text/plain": [
       "['False',\n",
       " 'None',\n",
       " 'True',\n",
       " 'and',\n",
       " 'as',\n",
       " 'assert',\n",
       " 'async',\n",
       " 'await',\n",
       " 'break',\n",
       " 'class',\n",
       " 'continue',\n",
       " 'def',\n",
       " 'del',\n",
       " 'elif',\n",
       " 'else',\n",
       " 'except',\n",
       " 'finally',\n",
       " 'for',\n",
       " 'from',\n",
       " 'global',\n",
       " 'if',\n",
       " 'import',\n",
       " 'in',\n",
       " 'is',\n",
       " 'lambda',\n",
       " 'nonlocal',\n",
       " 'not',\n",
       " 'or',\n",
       " 'pass',\n",
       " 'raise',\n",
       " 'return',\n",
       " 'try',\n",
       " 'while',\n",
       " 'with',\n",
       " 'yield']"
      ]
     },
     "execution_count": 1,
     "metadata": {},
     "output_type": "execute_result"
    }
   ],
   "source": [
    "# 파이썬 예약어 확인\n",
    "import keyword\n",
    "keyword.kwlist"
   ]
  },
  {
   "cell_type": "code",
   "execution_count": 2,
   "id": "1bb49c7a",
   "metadata": {},
   "outputs": [
    {
     "data": {
      "text/plain": [
       "'python'"
      ]
     },
     "execution_count": 2,
     "metadata": {},
     "output_type": "execute_result"
    }
   ],
   "source": [
    "str1 = str2 = \"python\"\n",
    "str1\n",
    "str2"
   ]
  },
  {
   "cell_type": "code",
   "execution_count": 5,
   "id": "f856fe24",
   "metadata": {},
   "outputs": [
    {
     "name": "stdout",
     "output_type": "stream",
     "text": [
      "300\n"
     ]
    }
   ],
   "source": [
    "x = 100\n",
    "y = 200\n",
    "s = sum([x, y])\n",
    "print(s)"
   ]
  },
  {
   "cell_type": "code",
   "execution_count": 8,
   "id": "d53224da",
   "metadata": {},
   "outputs": [
    {
     "name": "stdout",
     "output_type": "stream",
     "text": [
      "she's gone\n"
     ]
    }
   ],
   "source": [
    "s = \"she's gone\"\n",
    "print(s)"
   ]
  },
  {
   "cell_type": "code",
   "execution_count": 10,
   "id": "7ba97e95",
   "metadata": {},
   "outputs": [
    {
     "name": "stdout",
     "output_type": "stream",
     "text": [
      "she's gone\n"
     ]
    }
   ],
   "source": [
    "s1 = \"she\\'s gone\"\n",
    "print(s1)"
   ]
  },
  {
   "cell_type": "code",
   "execution_count": 11,
   "id": "e86aae57",
   "metadata": {},
   "outputs": [
    {
     "name": "stdout",
     "output_type": "stream",
     "text": [
      "여러 줄로 구성된 \n",
      "문자열을 하나로 대입할 때\n"
     ]
    }
   ],
   "source": [
    "s2 = \"여러 줄로 구성된 \\n문자열을 하나로 대입할 때\"\n",
    "print(s2)"
   ]
  },
  {
   "cell_type": "code",
   "execution_count": 12,
   "id": "531ac25b",
   "metadata": {},
   "outputs": [
    {
     "name": "stdout",
     "output_type": "stream",
     "text": [
      " 여러줄로 구성된\n",
      "문자열을 하나로 대입할 때\n",
      "\n"
     ]
    }
   ],
   "source": [
    "s3 = ''' 여러줄로 구성된\n",
    "문자열을 하나로 대입할 때\n",
    "'''\n",
    "print(s3)"
   ]
  },
  {
   "cell_type": "code",
   "execution_count": 15,
   "id": "8f760059",
   "metadata": {},
   "outputs": [
    {
     "name": "stdout",
     "output_type": "stream",
     "text": [
      "오늘은 즐거운 파이썬 \t 수업 시간입니다.\n"
     ]
    }
   ],
   "source": [
    "s = \"오늘은 즐거운 파이썬 \\t 수업 시간입니다.\"\n",
    "print(s)"
   ]
  },
  {
   "cell_type": "code",
   "execution_count": 32,
   "id": "30d6a302",
   "metadata": {},
   "outputs": [
    {
     "name": "stdout",
     "output_type": "stream",
     "text": [
      "m\n",
      "i\n",
      "S\n",
      "W\n",
      "my\n",
      "name\n",
      "is\n",
      "is SW\n",
      "is SW\n",
      "my name is SW\n",
      "my name is SW\n",
      "my name is SW\n",
      "my name is SW\n"
     ]
    }
   ],
   "source": [
    "s = \"my name is SW\"\n",
    "print(s[0])\n",
    "print(s[8])\n",
    "print(s[-2])\n",
    "print(s[-1])\n",
    "print(s[0:2])\n",
    "print(s[3:7])\n",
    "print(s[8:10])\n",
    "\n",
    "print(s[0:7])\n",
    "\n",
    "print(s[:7])\n",
    "\n",
    "for i in range(7):\n",
    "    print(s[i], end='')\n",
    "    \n",
    "\n",
    "    \n",
    "print(s[8:])\n",
    "print(s[-5:])\n",
    "\n",
    "print(s)\n",
    "print(s[:])\n",
    "print(s[:13])\n",
    "print(s[-13:])"
   ]
  },
  {
   "cell_type": "code",
   "execution_count": 37,
   "id": "b2d3d42c",
   "metadata": {},
   "outputs": [
    {
     "name": "stdout",
     "output_type": "stream",
     "text": [
      "날짜 :  2020년 3월 3일\n",
      "날씨 :  맑음\n"
     ]
    }
   ],
   "source": [
    "S = \"2020년 3월 3일의 날씨는 맑음입니다.\"\n",
    "print(\"날짜 : \", S[:11])\n",
    "print(\"날씨 : \", S[-6:-4])"
   ]
  },
  {
   "cell_type": "code",
   "execution_count": 39,
   "id": "4e81bb9c",
   "metadata": {},
   "outputs": [
    {
     "data": {
      "text/plain": [
       "'오늘은 7월 7일 입니다.'"
      ]
     },
     "execution_count": 39,
     "metadata": {},
     "output_type": "execute_result"
    }
   ],
   "source": [
    "day = 7\n",
    "s = \"오늘은 7월 %d일 입니다.\"%day\n",
    "s"
   ]
  },
  {
   "cell_type": "code",
   "execution_count": 42,
   "id": "715cd8cb",
   "metadata": {},
   "outputs": [
    {
     "data": {
      "text/plain": [
       "'오늘은 7월 8일입니다.'"
      ]
     },
     "execution_count": 42,
     "metadata": {},
     "output_type": "execute_result"
    }
   ],
   "source": [
    "day = 8\n",
    "s = \"오늘은 7월 %d일입니다.\"%day\n",
    "s"
   ]
  },
  {
   "cell_type": "code",
   "execution_count": 43,
   "id": "c6855d1e",
   "metadata": {},
   "outputs": [
    {
     "data": {
      "text/plain": [
       "'오늘은 7월 7일 입니다'"
      ]
     },
     "execution_count": 43,
     "metadata": {},
     "output_type": "execute_result"
    }
   ],
   "source": [
    "month = 7\n",
    "day = 7\n",
    "s = \"오늘은 %d월 %d일 입니다.\"%(month, day)\n",
    "s"
   ]
  },
  {
   "cell_type": "code",
   "execution_count": 47,
   "id": "063183fd",
   "metadata": {},
   "outputs": [
    {
     "data": {
      "text/plain": [
       "'오늘은 7월 7일 입니다.'"
      ]
     },
     "execution_count": 47,
     "metadata": {},
     "output_type": "execute_result"
    }
   ],
   "source": [
    "month = 7\n",
    "day = 7\n",
    "s = \"오늘은 {}월 {}일 입니다.\".format(month, day)\n",
    "s"
   ]
  },
  {
   "cell_type": "code",
   "execution_count": 48,
   "id": "70074b66",
   "metadata": {},
   "outputs": [
    {
     "data": {
      "text/plain": [
       "'오늘은 7월 7일 입니다.'"
      ]
     },
     "execution_count": 48,
     "metadata": {},
     "output_type": "execute_result"
    }
   ],
   "source": [
    "month = 7\n",
    "day = 7\n",
    "s = f\"오늘은 {month}월 {day}일 입니다.\"\n",
    "s"
   ]
  },
  {
   "cell_type": "code",
   "execution_count": 53,
   "id": "beabc798",
   "metadata": {},
   "outputs": [
    {
     "name": "stdout",
     "output_type": "stream",
     "text": [
      "100과 200의 합은 300입니다.\n"
     ]
    }
   ],
   "source": [
    "x = 100\n",
    "y = 200\n",
    "sum2 = x + y\n",
    "print(f'{x}과 {y}의 합은 {sum2}입니다.')"
   ]
  },
  {
   "cell_type": "code",
   "execution_count": 54,
   "id": "8f438feb",
   "metadata": {},
   "outputs": [
    {
     "data": {
      "text/plain": [
       "2"
      ]
     },
     "execution_count": 54,
     "metadata": {},
     "output_type": "execute_result"
    }
   ],
   "source": [
    "# 카운트 함수\n",
    "s = \"오늘은 파이썬 수업날입니다. 파이썬 너무 재미있네요\"\n",
    "s.count(\"파이썬\")"
   ]
  },
  {
   "cell_type": "code",
   "execution_count": null,
   "id": "bb3d9b14",
   "metadata": {},
   "outputs": [],
   "source": [
    "# find 함수\n",
    "# 문자열 내의 특정 문자의 위치를 알려주는 함수\n",
    "\n",
    "s.find('파')\n"
   ]
  },
  {
   "cell_type": "code",
   "execution_count": 57,
   "id": "1ad2904a",
   "metadata": {},
   "outputs": [
    {
     "data": {
      "text/plain": [
       "'오늘 점심 메뉴 추천좀!'"
      ]
     },
     "execution_count": 57,
     "metadata": {},
     "output_type": "execute_result"
    }
   ],
   "source": [
    "# '구분자'.join 함수\n",
    "\n",
    "' '.join([\"오늘\", \"점심 메뉴\", \"추천좀!\"])"
   ]
  },
  {
   "cell_type": "code",
   "execution_count": 58,
   "id": "a8fb0cdc",
   "metadata": {},
   "outputs": [
    {
     "data": {
      "text/plain": [
       "'WHERE IS MY WALLET'"
      ]
     },
     "execution_count": 58,
     "metadata": {},
     "output_type": "execute_result"
    }
   ],
   "source": [
    "s = \"Where is my wallet\"\n",
    "s.upper()"
   ]
  },
  {
   "cell_type": "code",
   "execution_count": 60,
   "id": "8952ca6d",
   "metadata": {},
   "outputs": [
    {
     "data": {
      "text/plain": [
       "'where is my wallet'"
      ]
     },
     "execution_count": 60,
     "metadata": {},
     "output_type": "execute_result"
    }
   ],
   "source": [
    "s.lower()"
   ]
  },
  {
   "cell_type": "code",
   "execution_count": 62,
   "id": "329c7e3d",
   "metadata": {},
   "outputs": [
    {
     "data": {
      "text/plain": [
       "'Where is my wallet'"
      ]
     },
     "execution_count": 62,
     "metadata": {},
     "output_type": "execute_result"
    }
   ],
   "source": [
    "# strip 함수\n",
    "# 양쪽 공백 지우기 함수\n",
    "s = \"              Where is my wallet           \"\n",
    "s.strip()"
   ]
  },
  {
   "cell_type": "code",
   "execution_count": 64,
   "id": "912d8720",
   "metadata": {},
   "outputs": [
    {
     "data": {
      "text/plain": [
       "'Where is my Happy'"
      ]
     },
     "execution_count": 64,
     "metadata": {},
     "output_type": "execute_result"
    }
   ],
   "source": [
    "s = \"Where is my wallet\"\n",
    "s.replace('wallet', 'Happy')"
   ]
  },
  {
   "cell_type": "code",
   "execution_count": 65,
   "id": "c9dca2d8",
   "metadata": {},
   "outputs": [
    {
     "data": {
      "text/plain": [
       "['옆에 공사현장이 참', ' 시끄럽네요ㅠ']"
      ]
     },
     "execution_count": 65,
     "metadata": {},
     "output_type": "execute_result"
    }
   ],
   "source": [
    "# split함수\n",
    "s = '옆에 공사현장이 참, 시끄럽네요ㅠ'\n",
    "s.split(',')"
   ]
  },
  {
   "cell_type": "code",
   "execution_count": 72,
   "id": "4341bde6",
   "metadata": {},
   "outputs": [
    {
     "name": "stdout",
     "output_type": "stream",
     "text": [
      "정수를 입력하세요>>12\n"
     ]
    },
    {
     "data": {
      "text/plain": [
       "12"
      ]
     },
     "execution_count": 72,
     "metadata": {},
     "output_type": "execute_result"
    }
   ],
   "source": [
    "num = int(input(\"정수를 입력하세요>>\"))\n",
    "num"
   ]
  },
  {
   "cell_type": "code",
   "execution_count": 77,
   "id": "87713986",
   "metadata": {},
   "outputs": [
    {
     "name": "stdout",
     "output_type": "stream",
     "text": [
      "3\n",
      "7\n",
      "정수를 입력하세요>> 3\n",
      "정수를 입력하세요>> 7\n",
      "더하기 결과 : 10\n",
      "빼기 결과 : -4\n",
      "곱하기 결과 : 21\n",
      "나누기 결과 : 0.42857142857142855\n"
     ]
    }
   ],
   "source": [
    "num1 = int(input())\n",
    "num2 = int(input())\n",
    "plus = num1 + num2\n",
    "minus = num1 - num2\n",
    "multi = num1 * num2\n",
    "divide = num1 / num2\n",
    "print('정수를 입력하세요>>', num1)\n",
    "print('정수를 입력하세요>>', num2)\n",
    "print('더하기 결과 :', plus)\n",
    "print('빼기 결과 :', minus)\n",
    "print('곱하기 결과 :', multi)\n",
    "print('나누기 결과 :', divide)"
   ]
  },
  {
   "cell_type": "code",
   "execution_count": 80,
   "id": "24494387",
   "metadata": {},
   "outputs": [
    {
     "name": "stdout",
     "output_type": "stream",
     "text": [
      "100\n",
      "80\n",
      "60\n",
      "python 점수 입력 >> 100\n",
      "머신러닝 점수 입력 >> 80\n",
      "딥러닝 점수 입력 60\n",
      "합계 : plus\n",
      "평균 : 80.0\n"
     ]
    }
   ],
   "source": [
    "num1 = int(input())\n",
    "num2 = int(input())\n",
    "num3 = int(input())\n",
    "plus = num1 + num2 + num3\n",
    "minus = num1 - num2\n",
    "multi = num1 * num2\n",
    "average = plus / 3\n",
    "\n",
    "print('python 점수 입력 >>', num1)\n",
    "print('머신러닝 점수 입력 >>', num2)\n",
    "print('딥러닝 점수 입력', num3)\n",
    "print(f'합계 : {plus}')\n",
    "print(f'평균 : {average}') "
   ]
  },
  {
   "cell_type": "code",
   "execution_count": 87,
   "id": "26259904",
   "metadata": {},
   "outputs": [
    {
     "name": "stdout",
     "output_type": "stream",
     "text": [
      "시간 입력 >>7533\n",
      "2시간 5분 33초\n"
     ]
    }
   ],
   "source": [
    "time = int(input(\"시간 입력 >>\"))\n",
    "hour = time // 3600\n",
    "minute = time // 60 - hour * 60\n",
    "second = time % 60\n",
    "print(f\"{hour}시간 {minute}분 {second}초\")"
   ]
  },
  {
   "cell_type": "code",
   "execution_count": 88,
   "id": "4e294ddf",
   "metadata": {},
   "outputs": [
    {
     "name": "stdout",
     "output_type": "stream",
     "text": [
      "시간 입력 >>7533\n",
      "2시간 5분 33초\n"
     ]
    }
   ],
   "source": [
    "time = int(input(\"시간 입력 >>\"))\n",
    "hour = time // 3600\n",
    "minute = (time % 3600) //60\n",
    "second = time % 60\n",
    "print(f\"{hour}시간 {minute}분 {second}초\")"
   ]
  },
  {
   "cell_type": "code",
   "execution_count": 89,
   "id": "d28f17b5",
   "metadata": {},
   "outputs": [
    {
     "name": "stdout",
     "output_type": "stream",
     "text": [
      "xxxxxxxxxx\n"
     ]
    }
   ],
   "source": [
    "s = \"x\"\n",
    "print(s*10)"
   ]
  },
  {
   "cell_type": "code",
   "execution_count": 90,
   "id": "a80e426a",
   "metadata": {},
   "outputs": [
    {
     "name": "stdout",
     "output_type": "stream",
     "text": [
      "안녕하세요안녕하세요\n"
     ]
    }
   ],
   "source": [
    "s = \"안녕하세요\"\n",
    "print(s * 2)"
   ]
  },
  {
   "cell_type": "code",
   "execution_count": 98,
   "id": "8da25152",
   "metadata": {},
   "outputs": [
    {
     "name": "stdout",
     "output_type": "stream",
     "text": [
      "********연산하기********\n",
      "정수입력 >> 10\n",
      "정수입력 >> 20\n",
      "+연산자 입력 >> +\n",
      "10 + 20 = 30\n"
     ]
    }
   ],
   "source": [
    "print('********연산하기********')\n",
    "num1 = int(input('정수입력 >> '))\n",
    "num2 = int(input('정수입력 >> '))\n",
    "cal = input('+연산자 입력 >> ')\n",
    "print(f'{num1} {cal} {num2} = {num1 + num2}')"
   ]
  },
  {
   "cell_type": "code",
   "execution_count": 99,
   "id": "28e93583",
   "metadata": {},
   "outputs": [
    {
     "name": "stdout",
     "output_type": "stream",
     "text": [
      "정수 입력 >>2\n",
      "지수 입력 >>3\n",
      "2의 3승은 8입니다.\n"
     ]
    }
   ],
   "source": [
    "num = int(input(\"정수 입력 >>\"))\n",
    "power = int(input(\"지수 입력 >>\"))\n",
    "print(\"{}의 {}승은 {}입니다.\".format(num, power, num ** power))"
   ]
  },
  {
   "cell_type": "code",
   "execution_count": 100,
   "id": "533a7970",
   "metadata": {},
   "outputs": [
    {
     "name": "stdout",
     "output_type": "stream",
     "text": [
      "오늘은 일요일\n"
     ]
    }
   ],
   "source": [
    "print(\"오늘은\", \"일요일\")"
   ]
  },
  {
   "cell_type": "code",
   "execution_count": 101,
   "id": "c69768d3",
   "metadata": {},
   "outputs": [
    {
     "name": "stdout",
     "output_type": "stream",
     "text": [
      "Hello World\n"
     ]
    }
   ],
   "source": [
    "print(\"Hello World\")"
   ]
  },
  {
   "cell_type": "code",
   "execution_count": 103,
   "id": "bd725ef2",
   "metadata": {},
   "outputs": [
    {
     "name": "stdout",
     "output_type": "stream",
     "text": [
      "Mary's cosmetics\n"
     ]
    }
   ],
   "source": [
    "print(\"Mary's cosmetics\" )"
   ]
  },
  {
   "cell_type": "code",
   "execution_count": 104,
   "id": "dc089678",
   "metadata": {},
   "outputs": [
    {
     "name": "stdout",
     "output_type": "stream",
     "text": [
      "신씨가 소리질렀다. \"도둑이야\".\n"
     ]
    }
   ],
   "source": [
    "print('신씨가 소리질렀다. \"도둑이야\".')"
   ]
  },
  {
   "cell_type": "code",
   "execution_count": 105,
   "id": "a6545dea",
   "metadata": {},
   "outputs": [
    {
     "name": "stdout",
     "output_type": "stream",
     "text": [
      "C:\\Windows\n"
     ]
    }
   ],
   "source": [
    "print(\"C:\\Windows\")"
   ]
  },
  {
   "cell_type": "code",
   "execution_count": 106,
   "id": "434f4fe7",
   "metadata": {},
   "outputs": [
    {
     "name": "stdout",
     "output_type": "stream",
     "text": [
      "안녕하세요.\n",
      "만나서\t\t반갑습니다. \n"
     ]
    }
   ],
   "source": [
    "print(\"안녕하세요.\\n만나서\\t\\t반갑습니다. \")"
   ]
  },
  {
   "cell_type": "code",
   "execution_count": 107,
   "id": "7662687a",
   "metadata": {},
   "outputs": [
    {
     "name": "stdout",
     "output_type": "stream",
     "text": [
      "naver;kakao;sk;samsung\n"
     ]
    }
   ],
   "source": [
    "print(\"naver;kakao;sk;samsung\")"
   ]
  },
  {
   "cell_type": "code",
   "execution_count": 109,
   "id": "b44ee0a8",
   "metadata": {},
   "outputs": [
    {
     "name": "stdout",
     "output_type": "stream",
     "text": [
      "first second\n"
     ]
    }
   ],
   "source": [
    "print(\"first\", end=' ')\n",
    "print('second')"
   ]
  },
  {
   "cell_type": "code",
   "execution_count": 110,
   "id": "9629e7e8",
   "metadata": {},
   "outputs": [
    {
     "name": "stdout",
     "output_type": "stream",
     "text": [
      "1.6666666666666667\n"
     ]
    }
   ],
   "source": [
    "print(5/3)"
   ]
  },
  {
   "cell_type": "code",
   "execution_count": 111,
   "id": "67606db4",
   "metadata": {},
   "outputs": [
    {
     "name": "stdout",
     "output_type": "stream",
     "text": [
      "p t\n"
     ]
    }
   ],
   "source": [
    "letters = 'python'\n",
    "print(letters[0], letters[2])"
   ]
  },
  {
   "cell_type": "code",
   "execution_count": 112,
   "id": "83e62985",
   "metadata": {},
   "outputs": [
    {
     "name": "stdout",
     "output_type": "stream",
     "text": [
      "2210\n"
     ]
    }
   ],
   "source": [
    "license_plate = \"24가 2210\"\n",
    "print(license_plate[-4:])"
   ]
  },
  {
   "cell_type": "code",
   "execution_count": 113,
   "id": "1be52ae4",
   "metadata": {},
   "outputs": [
    {
     "name": "stdout",
     "output_type": "stream",
     "text": [
      "홀홀홀"
     ]
    }
   ],
   "source": [
    "string = \"홀짝홀짝홀짝\"\n",
    "for i in range(0, len(string), 2):\n",
    "    print(string[i], end = '')\n",
    "    "
   ]
  },
  {
   "cell_type": "code",
   "execution_count": 127,
   "id": "8916c0cd",
   "metadata": {},
   "outputs": [
    {
     "name": "stdout",
     "output_type": "stream",
     "text": [
      "NOHTYP"
     ]
    }
   ],
   "source": [
    "string = \"PYTHON\"\n",
    "ans = []\n",
    "for i in range(-1, -len(string) - 1, -1):\n",
    "    ans.append(string[i])\n",
    "for j in range(len(string)):\n",
    "    print(ans[j], end='')"
   ]
  },
  {
   "cell_type": "code",
   "execution_count": 129,
   "id": "e00566de",
   "metadata": {},
   "outputs": [
    {
     "name": "stdout",
     "output_type": "stream",
     "text": [
      "500000\n"
     ]
    }
   ],
   "source": [
    "samsung = 50000\n",
    "total = samsung * 10\n",
    "print(total)"
   ]
  },
  {
   "cell_type": "code",
   "execution_count": 130,
   "id": "b5b3263b",
   "metadata": {},
   "outputs": [],
   "source": [
    "total = 298000000000000\n",
    "present = 50000\n",
    "per = 15.79\n"
   ]
  },
  {
   "cell_type": "code",
   "execution_count": 132,
   "id": "2d5f258b",
   "metadata": {},
   "outputs": [
    {
     "name": "stdout",
     "output_type": "stream",
     "text": [
      "hello! python\n"
     ]
    }
   ],
   "source": [
    "s = \"hello\"\n",
    "t = \"python\"\n",
    "print(f'{s}! {t}')"
   ]
  },
  {
   "cell_type": "code",
   "execution_count": 133,
   "id": "00402fff",
   "metadata": {},
   "outputs": [
    {
     "name": "stdout",
     "output_type": "stream",
     "text": [
      "8\n"
     ]
    }
   ],
   "source": [
    "print( 2 + 2 * 3)"
   ]
  },
  {
   "cell_type": "code",
   "execution_count": 134,
   "id": "de089b9b",
   "metadata": {},
   "outputs": [
    {
     "name": "stdout",
     "output_type": "stream",
     "text": [
      "<class 'int'>\n"
     ]
    }
   ],
   "source": [
    "a = 128\n",
    "print(type(a))"
   ]
  },
  {
   "cell_type": "code",
   "execution_count": 136,
   "id": "57a7ab4f",
   "metadata": {},
   "outputs": [
    {
     "name": "stdout",
     "output_type": "stream",
     "text": [
      "<class 'str'>\n"
     ]
    }
   ],
   "source": [
    "a = '132'\n",
    "print(type(a))"
   ]
  },
  {
   "cell_type": "code",
   "execution_count": 137,
   "id": "297a3c0c",
   "metadata": {},
   "outputs": [],
   "source": [
    "num_str = '720'\n",
    "num_str = int(num_str)"
   ]
  },
  {
   "cell_type": "code",
   "execution_count": 138,
   "id": "70ceab6b",
   "metadata": {},
   "outputs": [],
   "source": [
    "num = 100\n",
    "num = str(num)"
   ]
  },
  {
   "cell_type": "code",
   "execution_count": 141,
   "id": "e7de9250",
   "metadata": {},
   "outputs": [
    {
     "name": "stdout",
     "output_type": "stream",
     "text": [
      "<class 'float'>\n"
     ]
    }
   ],
   "source": [
    "str1 = \"15.79\"\n",
    "str1 = float(str1)\n",
    "print(type(str1))"
   ]
  },
  {
   "cell_type": "code",
   "execution_count": 143,
   "id": "2816e7bd",
   "metadata": {},
   "outputs": [
    {
     "name": "stdout",
     "output_type": "stream",
     "text": [
      "3352296\n"
     ]
    }
   ],
   "source": [
    "total_cost = 48584 * 69\n",
    "print(total_cost)"
   ]
  },
  {
   "cell_type": "code",
   "execution_count": 147,
   "id": "f57e55ce",
   "metadata": {},
   "outputs": [
    {
     "name": "stdout",
     "output_type": "stream",
     "text": [
      "010 1111 2222\n"
     ]
    }
   ],
   "source": [
    "phone_number = \"010-1111-2222\"\n",
    "pn = phone_number.split('-')\n",
    "print(*pn)"
   ]
  },
  {
   "cell_type": "code",
   "execution_count": 150,
   "id": "987286ff",
   "metadata": {},
   "outputs": [
    {
     "name": "stdout",
     "output_type": "stream",
     "text": [
      "01011112222"
     ]
    }
   ],
   "source": [
    "for i in pn:\n",
    "    print(i, end='')"
   ]
  },
  {
   "cell_type": "code",
   "execution_count": 155,
   "id": "219229a5",
   "metadata": {},
   "outputs": [
    {
     "name": "stdout",
     "output_type": "stream",
     "text": [
      "kr\n",
      "kr\n"
     ]
    }
   ],
   "source": [
    "url = \"http://sharebook.kr\"\n",
    "Wls_url = url.split('.')\n",
    "print(url[-2:])\n",
    "print(Wls_url[-1])"
   ]
  },
  {
   "cell_type": "code",
   "execution_count": 156,
   "id": "fcad2ec3",
   "metadata": {},
   "outputs": [
    {
     "ename": "TypeError",
     "evalue": "'str' object does not support item assignment",
     "output_type": "error",
     "traceback": [
      "\u001b[1;31m---------------------------------------------------------------------------\u001b[0m",
      "\u001b[1;31mTypeError\u001b[0m                                 Traceback (most recent call last)",
      "Cell \u001b[1;32mIn[156], line 2\u001b[0m\n\u001b[0;32m      1\u001b[0m lang \u001b[38;5;241m=\u001b[39m \u001b[38;5;124m'\u001b[39m\u001b[38;5;124mpython\u001b[39m\u001b[38;5;124m'\u001b[39m\n\u001b[1;32m----> 2\u001b[0m lang[\u001b[38;5;241m0\u001b[39m] \u001b[38;5;241m=\u001b[39m \u001b[38;5;124m'\u001b[39m\u001b[38;5;124mP\u001b[39m\u001b[38;5;124m'\u001b[39m\n\u001b[0;32m      3\u001b[0m \u001b[38;5;28mprint\u001b[39m(lang)\n",
      "\u001b[1;31mTypeError\u001b[0m: 'str' object does not support item assignment"
     ]
    }
   ],
   "source": [
    "lang = 'python'\n",
    "lang[0] = 'P'\n",
    "print(lang)"
   ]
  },
  {
   "cell_type": "code",
   "execution_count": 157,
   "id": "83b3e85e",
   "metadata": {},
   "outputs": [
    {
     "data": {
      "text/plain": [
       "'Abcdfe2A354A32A'"
      ]
     },
     "execution_count": 157,
     "metadata": {},
     "output_type": "execute_result"
    }
   ],
   "source": [
    "string = 'abcdfe2a354a32a'\n",
    "string.replace('a', 'A')"
   ]
  },
  {
   "cell_type": "code",
   "execution_count": 158,
   "id": "529cc5ff",
   "metadata": {},
   "outputs": [
    {
     "name": "stdout",
     "output_type": "stream",
     "text": [
      "abcd\n"
     ]
    }
   ],
   "source": [
    "string = 'abcd'\n",
    "string.replace('b', 'B')\n",
    "print(string)"
   ]
  },
  {
   "cell_type": "code",
   "execution_count": 159,
   "id": "f3046cbf",
   "metadata": {},
   "outputs": [
    {
     "name": "stdout",
     "output_type": "stream",
     "text": [
      "34\n"
     ]
    }
   ],
   "source": [
    "a = \"3\"\n",
    "b = \"4\"\n",
    "print(a + b)"
   ]
  },
  {
   "cell_type": "code",
   "execution_count": 160,
   "id": "39987cb3",
   "metadata": {},
   "outputs": [
    {
     "name": "stdout",
     "output_type": "stream",
     "text": [
      "HiHiHi\n"
     ]
    }
   ],
   "source": [
    "print(\"Hi\" * 3)"
   ]
  },
  {
   "cell_type": "code",
   "execution_count": 161,
   "id": "aac70f1e",
   "metadata": {},
   "outputs": [
    {
     "name": "stdout",
     "output_type": "stream",
     "text": [
      "--------------------------------------------------------------------------------\n"
     ]
    }
   ],
   "source": [
    "print('-' * 80)"
   ]
  },
  {
   "cell_type": "code",
   "execution_count": 170,
   "id": "8e1c15c0",
   "metadata": {},
   "outputs": [
    {
     "name": "stdout",
     "output_type": "stream",
     "text": [
      "python java python java python java python java \n"
     ]
    }
   ],
   "source": [
    "t1 = 'python'\n",
    "t2 = 'java'\n",
    "t3 = t1 + ' ' + t2 + ' '\n",
    "print(t3 * 4)"
   ]
  },
  {
   "cell_type": "code",
   "execution_count": 174,
   "id": "442ef6e5",
   "metadata": {},
   "outputs": [
    {
     "name": "stdout",
     "output_type": "stream",
     "text": [
      "이름: 김민수 나이: 10\n",
      "이름: 이철희 나이: 13\n"
     ]
    }
   ],
   "source": [
    "name1 = \"김민수\" \n",
    "age1 = 10\n",
    "name2 = \"이철희\"\n",
    "age2 = 13\n",
    "\n",
    "print('이름: %s 나이: %d'% (name1, age1))\n",
    "print('이름: %s 나이: %d'% (name2, age2))"
   ]
  },
  {
   "cell_type": "code",
   "execution_count": 176,
   "id": "de4f3494",
   "metadata": {},
   "outputs": [
    {
     "name": "stdout",
     "output_type": "stream",
     "text": [
      "이름: 김민수 나이: 10\n",
      "이름: 이철희 나이: 13\n"
     ]
    }
   ],
   "source": [
    "print('이름: {} 나이: {}'.format(name1, age1))\n",
    "print('이름: {} 나이: {}'.format(name2, age2))"
   ]
  },
  {
   "cell_type": "code",
   "execution_count": 178,
   "id": "a2f26f3d",
   "metadata": {},
   "outputs": [
    {
     "name": "stdout",
     "output_type": "stream",
     "text": [
      "이름: 김민수 나이: 10\n",
      "이름: 이철희 나이: 13\n"
     ]
    }
   ],
   "source": [
    "print(f'이름: {name1} 나이: {age1}')\n",
    "print(f'이름: {name2} 나이: {age2}')"
   ]
  },
  {
   "cell_type": "code",
   "execution_count": 195,
   "id": "dd3b137b",
   "metadata": {},
   "outputs": [
    {
     "name": "stdout",
     "output_type": "stream",
     "text": [
      "5969782550\n"
     ]
    }
   ],
   "source": [
    "stock = \"5,969,782,550\"\n",
    "stock = stock.replace(',', '')\n",
    "stock = int(stock)\n",
    "print(stock)"
   ]
  },
  {
   "cell_type": "code",
   "execution_count": 196,
   "id": "5392a7df",
   "metadata": {},
   "outputs": [
    {
     "name": "stdout",
     "output_type": "stream",
     "text": [
      "2020/03\n"
     ]
    }
   ],
   "source": [
    "quarter = \"2020/03(E) (IFRS연결)\"\n",
    "print(quarter[:7])"
   ]
  },
  {
   "cell_type": "code",
   "execution_count": 198,
   "id": "5c08294c",
   "metadata": {},
   "outputs": [
    {
     "name": "stdout",
     "output_type": "stream",
     "text": [
      "삼성전자\n"
     ]
    }
   ],
   "source": [
    "data = \"   삼성전자    \"\n",
    "data = data.strip()\n",
    "print(data)"
   ]
  },
  {
   "cell_type": "code",
   "execution_count": 200,
   "id": "65e87cc5",
   "metadata": {},
   "outputs": [
    {
     "data": {
      "text/plain": [
       "'BTC_KRW'"
      ]
     },
     "execution_count": 200,
     "metadata": {},
     "output_type": "execute_result"
    }
   ],
   "source": [
    "ticker = \"btc_krw\"\n",
    "ticker.upper()"
   ]
  },
  {
   "cell_type": "code",
   "execution_count": 202,
   "id": "4a92e405",
   "metadata": {},
   "outputs": [
    {
     "data": {
      "text/plain": [
       "'btc_krw'"
      ]
     },
     "execution_count": 202,
     "metadata": {},
     "output_type": "execute_result"
    }
   ],
   "source": [
    "ticker = \"BTC_KRW\"\n",
    "ticker.lower()"
   ]
  },
  {
   "cell_type": "code",
   "execution_count": 205,
   "id": "ab6550c0",
   "metadata": {},
   "outputs": [
    {
     "data": {
      "text/plain": [
       "'Hello'"
      ]
     },
     "execution_count": 205,
     "metadata": {},
     "output_type": "execute_result"
    }
   ],
   "source": [
    "h = 'hello'\n",
    "h.replace('h', 'H')\n",
    "h.capitalize()"
   ]
  },
  {
   "cell_type": "code",
   "execution_count": 211,
   "id": "888b459d",
   "metadata": {},
   "outputs": [
    {
     "data": {
      "text/plain": [
       "True"
      ]
     },
     "execution_count": 211,
     "metadata": {},
     "output_type": "execute_result"
    }
   ],
   "source": [
    "file_name = \"보고서.xlsx\"\n",
    "file_name.endswith('xlsx' or 'xls', -4)"
   ]
  },
  {
   "cell_type": "code",
   "execution_count": 214,
   "id": "1fdc7ca3",
   "metadata": {},
   "outputs": [
    {
     "data": {
      "text/plain": [
       "True"
      ]
     },
     "execution_count": 214,
     "metadata": {},
     "output_type": "execute_result"
    }
   ],
   "source": [
    "file_name = \"2020_보고서.xlsx\"\n",
    "file_name.startswith('2020')"
   ]
  },
  {
   "cell_type": "code",
   "execution_count": 217,
   "id": "00e7bbea",
   "metadata": {},
   "outputs": [
    {
     "name": "stdout",
     "output_type": "stream",
     "text": [
      "hello world\n"
     ]
    }
   ],
   "source": [
    "a = \"hello world\"\n",
    "a = a.split()\n",
    "print(*a)"
   ]
  },
  {
   "cell_type": "code",
   "execution_count": 218,
   "id": "0dc4ba2e",
   "metadata": {},
   "outputs": [
    {
     "data": {
      "text/plain": [
       "['btc', 'krw']"
      ]
     },
     "execution_count": 218,
     "metadata": {},
     "output_type": "execute_result"
    }
   ],
   "source": [
    "ticker = \"btc_krw\"\n",
    "ticker.split('_')"
   ]
  },
  {
   "cell_type": "code",
   "execution_count": 220,
   "id": "f0844888",
   "metadata": {},
   "outputs": [
    {
     "data": {
      "text/plain": [
       "['2020', '05', '01']"
      ]
     },
     "execution_count": 220,
     "metadata": {},
     "output_type": "execute_result"
    }
   ],
   "source": [
    "date = \"2020-05-01\"\n",
    "date.split('-')"
   ]
  },
  {
   "cell_type": "code",
   "execution_count": 221,
   "id": "14bc7267",
   "metadata": {},
   "outputs": [
    {
     "data": {
      "text/plain": [
       "'039490'"
      ]
     },
     "execution_count": 221,
     "metadata": {},
     "output_type": "execute_result"
    }
   ],
   "source": [
    "data = \"039490     \"\n",
    "data.rstrip()"
   ]
  },
  {
   "cell_type": "code",
   "execution_count": 222,
   "id": "70a21ce6",
   "metadata": {},
   "outputs": [],
   "source": [
    "movie_rank = ['닥터 스트레인지', '스플릿', '럭키']"
   ]
  },
  {
   "cell_type": "code",
   "execution_count": 224,
   "id": "053bb30a",
   "metadata": {},
   "outputs": [
    {
     "data": {
      "text/plain": [
       "['닥터 스트레인지', '스플릿', '럭키', '배트맨', '배트맨']"
      ]
     },
     "execution_count": 224,
     "metadata": {},
     "output_type": "execute_result"
    }
   ],
   "source": [
    "movie_rank.append('배트맨')\n",
    "movie_rank"
   ]
  },
  {
   "cell_type": "code",
   "execution_count": 228,
   "id": "4462d223",
   "metadata": {},
   "outputs": [],
   "source": [
    "movie_rank.insert(1, '슈퍼맨')"
   ]
  },
  {
   "cell_type": "code",
   "execution_count": 229,
   "id": "65c25f22",
   "metadata": {},
   "outputs": [
    {
     "name": "stdout",
     "output_type": "stream",
     "text": [
      "['닥터 스트레인지', '슈퍼맨', '럭키', '스플릿', '럭키', '배트맨', '배트맨']\n"
     ]
    }
   ],
   "source": [
    "print(movie_rank)"
   ]
  },
  {
   "cell_type": "code",
   "execution_count": 233,
   "id": "b990d554",
   "metadata": {},
   "outputs": [],
   "source": [
    "movie_rank.remove('스플릿')"
   ]
  },
  {
   "cell_type": "code",
   "execution_count": 234,
   "id": "c61a4853",
   "metadata": {},
   "outputs": [],
   "source": [
    "lang1 = [\"C\", \"C++\", \"JAVA\"]\n",
    "lang2 = [\"Python\", \"Go\", \"C#\"]\n",
    "langs = lang1 + lang2"
   ]
  },
  {
   "cell_type": "code",
   "execution_count": 235,
   "id": "3e7e4a72",
   "metadata": {},
   "outputs": [
    {
     "name": "stdout",
     "output_type": "stream",
     "text": [
      "['C', 'C++', 'JAVA', 'Python', 'Go', 'C#']\n"
     ]
    }
   ],
   "source": [
    "print(langs)"
   ]
  },
  {
   "cell_type": "code",
   "execution_count": 237,
   "id": "f4c93d62",
   "metadata": {},
   "outputs": [
    {
     "name": "stdout",
     "output_type": "stream",
     "text": [
      "max:  7\n",
      "min:  1\n"
     ]
    }
   ],
   "source": [
    "nums = [1, 2, 3, 4, 5, 6, 7]\n",
    "print('max: ', max(nums))\n",
    "print('min: ', min(nums))"
   ]
  },
  {
   "cell_type": "code",
   "execution_count": 238,
   "id": "6528ff4a",
   "metadata": {},
   "outputs": [
    {
     "name": "stdout",
     "output_type": "stream",
     "text": [
      "15\n"
     ]
    }
   ],
   "source": [
    "nums = [1, 2, 3, 4, 5]\n",
    "print(sum(nums))"
   ]
  },
  {
   "cell_type": "code",
   "execution_count": 239,
   "id": "664da25c",
   "metadata": {},
   "outputs": [
    {
     "name": "stdout",
     "output_type": "stream",
     "text": [
      "12\n"
     ]
    }
   ],
   "source": [
    "cook = [\"피자\", \"김밥\", \"만두\", \"양념치킨\", \"족발\", \"피자\", \"김치만두\", \"쫄면\", \"소시지\", \"라면\", \"팥빙수\", \"김치전\"]\n",
    "print(len(cook))"
   ]
  },
  {
   "cell_type": "code",
   "execution_count": 241,
   "id": "a15f04a9",
   "metadata": {},
   "outputs": [
    {
     "name": "stdout",
     "output_type": "stream",
     "text": [
      "3.0\n"
     ]
    }
   ],
   "source": [
    "nums = [1, 2, 3, 4, 5]\n",
    "s = sum(nums)\n",
    "l = len(nums)\n",
    "print(s / l)"
   ]
  },
  {
   "cell_type": "code",
   "execution_count": 242,
   "id": "a27da05b",
   "metadata": {},
   "outputs": [
    {
     "name": "stdout",
     "output_type": "stream",
     "text": [
      "[100, 130, 140, 150, 160, 170]\n"
     ]
    }
   ],
   "source": [
    "price = ['20180728', 100, 130, 140, 150, 160, 170]\n",
    "print(price[1:])"
   ]
  },
  {
   "cell_type": "code",
   "execution_count": 243,
   "id": "4f4b259e",
   "metadata": {},
   "outputs": [
    {
     "data": {
      "text/plain": [
       "[1, 3, 5, 7, 9]"
      ]
     },
     "execution_count": 243,
     "metadata": {},
     "output_type": "execute_result"
    }
   ],
   "source": [
    "nums = [1, 2, 3, 4, 5, 6, 7, 8, 9, 10]\n",
    "nums[::2]"
   ]
  },
  {
   "cell_type": "code",
   "execution_count": 244,
   "id": "8dc321b7",
   "metadata": {},
   "outputs": [
    {
     "data": {
      "text/plain": [
       "[2, 4, 6, 8, 10]"
      ]
     },
     "execution_count": 244,
     "metadata": {},
     "output_type": "execute_result"
    }
   ],
   "source": [
    "nums = [1, 2, 3, 4, 5, 6, 7, 8, 9, 10]\n",
    "nums[1::2]"
   ]
  },
  {
   "cell_type": "code",
   "execution_count": 245,
   "id": "536cee35",
   "metadata": {},
   "outputs": [
    {
     "data": {
      "text/plain": [
       "[5, 4, 3, 2, 1]"
      ]
     },
     "execution_count": 245,
     "metadata": {},
     "output_type": "execute_result"
    }
   ],
   "source": [
    "nums = [1, 2, 3, 4, 5]\n",
    "nums[-1::-1]"
   ]
  },
  {
   "cell_type": "code",
   "execution_count": 246,
   "id": "7859d049",
   "metadata": {},
   "outputs": [
    {
     "name": "stdout",
     "output_type": "stream",
     "text": [
      "삼성전자 Naver\n"
     ]
    }
   ],
   "source": [
    "interest = ['삼성전자', 'LG전자', 'Naver']\n",
    "print(interest[0], interest[2])"
   ]
  },
  {
   "cell_type": "code",
   "execution_count": 247,
   "id": "6aed8150",
   "metadata": {},
   "outputs": [
    {
     "name": "stdout",
     "output_type": "stream",
     "text": [
      "삼성전자 LG전자 Naver SK하이닉스 미래에셋대우\n"
     ]
    }
   ],
   "source": [
    "interest = ['삼성전자', 'LG전자', 'Naver', 'SK하이닉스', '미래에셋대우']\n",
    "print(*interest)"
   ]
  },
  {
   "cell_type": "code",
   "execution_count": 249,
   "id": "788849d8",
   "metadata": {},
   "outputs": [
    {
     "name": "stdout",
     "output_type": "stream",
     "text": [
      "삼성전자/LG전자/Naver/SK하이닉스/미래에셋대우\n"
     ]
    }
   ],
   "source": [
    "interest = ['삼성전자', 'LG전자', 'Naver', 'SK하이닉스', '미래에셋대우']\n",
    "print('/'.join(interest))"
   ]
  },
  {
   "cell_type": "code",
   "execution_count": 250,
   "id": "8c5b168c",
   "metadata": {},
   "outputs": [
    {
     "name": "stdout",
     "output_type": "stream",
     "text": [
      "삼성전자\n",
      "LG전자\n",
      "Naver\n",
      "SK하이닉스\n",
      "미래에셋대우\n"
     ]
    }
   ],
   "source": [
    "interest = ['삼성전자', 'LG전자', 'Naver', 'SK하이닉스', '미래에셋대우']\n",
    "print('\\n'.join(interest))"
   ]
  },
  {
   "cell_type": "code",
   "execution_count": 254,
   "id": "4359694d",
   "metadata": {},
   "outputs": [
    {
     "name": "stdout",
     "output_type": "stream",
     "text": [
      "['삼성전자', 'LG전자', 'Naver']\n"
     ]
    }
   ],
   "source": [
    "string = \"삼성전자/LG전자/Naver\"\n",
    "string = string.split('/')\n",
    "string = list(string)\n",
    "print(string)"
   ]
  },
  {
   "cell_type": "code",
   "execution_count": 256,
   "id": "bc870bf4",
   "metadata": {},
   "outputs": [],
   "source": [
    "data = [2, 4, 3, 1, 5, 10, 9]\n",
    "data.sort()"
   ]
  },
  {
   "cell_type": "code",
   "execution_count": 257,
   "id": "12d5936d",
   "metadata": {},
   "outputs": [],
   "source": [
    "my_variable = ()"
   ]
  },
  {
   "cell_type": "code",
   "execution_count": 258,
   "id": "c5f5416a",
   "metadata": {},
   "outputs": [
    {
     "name": "stdout",
     "output_type": "stream",
     "text": [
      "('닥터 스트레인지', '스플릿', '럭키')\n"
     ]
    }
   ],
   "source": [
    "my_variable = ('닥터 스트레인지', '스플릿', '럭키')\n",
    "print(my_variable)"
   ]
  },
  {
   "cell_type": "code",
   "execution_count": 263,
   "id": "850198b8",
   "metadata": {},
   "outputs": [
    {
     "name": "stdout",
     "output_type": "stream",
     "text": [
      "(1,) <class 'tuple'>\n"
     ]
    }
   ],
   "source": [
    "num = (int(1),)\n",
    "print(num, type(num))\n"
   ]
  },
  {
   "cell_type": "code",
   "execution_count": 264,
   "id": "266bccba",
   "metadata": {},
   "outputs": [],
   "source": [
    "# 튜플은 인덱스가 없다(순서가 없다)"
   ]
  },
  {
   "cell_type": "code",
   "execution_count": 265,
   "id": "960aa0fb",
   "metadata": {},
   "outputs": [
    {
     "name": "stdout",
     "output_type": "stream",
     "text": [
      "<class 'tuple'>\n"
     ]
    }
   ],
   "source": [
    "t = 1, 2, 3, 4\n",
    "print(type(t))"
   ]
  },
  {
   "cell_type": "code",
   "execution_count": 267,
   "id": "be39fc58",
   "metadata": {},
   "outputs": [
    {
     "name": "stdout",
     "output_type": "stream",
     "text": [
      "[8.8, 8.9, 8.7, 9.2, 9.3, 9.7, 9.9, 9.5]\n"
     ]
    }
   ],
   "source": [
    "scores = [8.8, 8.9, 8.7, 9.2, 9.3, 9.7, 9.9, 9.5, 7.8, 9.4]\n",
    "*variable, _, _ = scores\n",
    "print(variable)"
   ]
  },
  {
   "cell_type": "code",
   "execution_count": null,
   "id": "58f98cfc",
   "metadata": {},
   "outputs": [],
   "source": []
  }
 ],
 "metadata": {
  "kernelspec": {
   "display_name": "Python 3 (ipykernel)",
   "language": "python",
   "name": "python3"
  },
  "language_info": {
   "codemirror_mode": {
    "name": "ipython",
    "version": 3
   },
   "file_extension": ".py",
   "mimetype": "text/x-python",
   "name": "python",
   "nbconvert_exporter": "python",
   "pygments_lexer": "ipython3",
   "version": "3.10.9"
  }
 },
 "nbformat": 4,
 "nbformat_minor": 5
}
