{
 "cells": [
  {
   "cell_type": "code",
   "execution_count": 1,
   "id": "abcf773d",
   "metadata": {},
   "outputs": [
    {
     "data": {
      "text/plain": [
       "30"
      ]
     },
     "execution_count": 1,
     "metadata": {},
     "output_type": "execute_result"
    }
   ],
   "source": [
    "num = 27\n",
    "num += 3\n",
    "num"
   ]
  },
  {
   "cell_type": "code",
   "execution_count": 2,
   "id": "521b8178",
   "metadata": {},
   "outputs": [
    {
     "data": {
      "text/plain": [
       "36"
      ]
     },
     "execution_count": 2,
     "metadata": {},
     "output_type": "execute_result"
    }
   ],
   "source": [
    "num  = 27\n",
    "num += 3\n",
    "num += 3\n",
    "num += 3\n",
    "num"
   ]
  },
  {
   "cell_type": "code",
   "execution_count": 3,
   "id": "c9f98248",
   "metadata": {},
   "outputs": [
    {
     "data": {
      "text/plain": [
       "25.0"
      ]
     },
     "execution_count": 3,
     "metadata": {},
     "output_type": "execute_result"
    }
   ],
   "source": [
    "num = 100\n",
    "num /= 2\n",
    "num /= 2\n",
    "num"
   ]
  },
  {
   "cell_type": "code",
   "execution_count": 4,
   "id": "82ec8941",
   "metadata": {},
   "outputs": [
    {
     "name": "stdout",
     "output_type": "stream",
     "text": [
      "False\n",
      "True\n",
      "False\n",
      "True\n"
     ]
    }
   ],
   "source": [
    "a = 3\n",
    "b = 7\n",
    "print(a > b)\n",
    "print(a <= b)\n",
    "print(a == b)\n",
    "print(a != b)"
   ]
  },
  {
   "cell_type": "code",
   "execution_count": 99,
   "id": "8fd60ff1",
   "metadata": {},
   "outputs": [
    {
     "name": "stdout",
     "output_type": "stream",
     "text": [
      "a:8, b:4\n",
      "False\n",
      "True\n",
      "False\n",
      "True\n"
     ]
    }
   ],
   "source": [
    "import random\n",
    "\n",
    "a = random.randint(1, 10)\n",
    "b = random.randint(1, 10)\n",
    "print(\"a:{}, b:{}\".format(a,b))\n",
    "\n",
    "print(a < b)\n",
    "print(a > b)\n",
    "print(a == b)\n",
    "print(a != b)"
   ]
  },
  {
   "cell_type": "code",
   "execution_count": 100,
   "id": "68ec75fb",
   "metadata": {},
   "outputs": [
    {
     "data": {
      "text/plain": [
       "False"
      ]
     },
     "execution_count": 100,
     "metadata": {},
     "output_type": "execute_result"
    }
   ],
   "source": [
    "a = 3\n",
    "b = 7\n",
    "not a < b"
   ]
  },
  {
   "cell_type": "code",
   "execution_count": 101,
   "id": "797681bf",
   "metadata": {},
   "outputs": [
    {
     "data": {
      "text/plain": [
       "True"
      ]
     },
     "execution_count": 101,
     "metadata": {},
     "output_type": "execute_result"
    }
   ],
   "source": [
    "a = 3\n",
    "b = 7\n",
    "not a == b"
   ]
  },
  {
   "cell_type": "code",
   "execution_count": 102,
   "id": "31e3435d",
   "metadata": {},
   "outputs": [
    {
     "data": {
      "text/plain": [
       "False"
      ]
     },
     "execution_count": 102,
     "metadata": {},
     "output_type": "execute_result"
    }
   ],
   "source": [
    "3 > 5 and 10 == 20 "
   ]
  },
  {
   "cell_type": "code",
   "execution_count": 103,
   "id": "78c4320a",
   "metadata": {},
   "outputs": [
    {
     "data": {
      "text/plain": [
       "False"
      ]
     },
     "execution_count": 103,
     "metadata": {},
     "output_type": "execute_result"
    }
   ],
   "source": [
    "3 > 5 and 10 < 20 "
   ]
  },
  {
   "cell_type": "code",
   "execution_count": 104,
   "id": "3366cc92",
   "metadata": {},
   "outputs": [
    {
     "data": {
      "text/plain": [
       "True"
      ]
     },
     "execution_count": 104,
     "metadata": {},
     "output_type": "execute_result"
    }
   ],
   "source": [
    "3 < 5 and 10 < 20 "
   ]
  },
  {
   "cell_type": "code",
   "execution_count": null,
   "id": "3458e1b4",
   "metadata": {},
   "outputs": [],
   "source": [
    "3 > 5 or 10 == 20 "
   ]
  },
  {
   "cell_type": "code",
   "execution_count": null,
   "id": "8e7faf5f",
   "metadata": {},
   "outputs": [],
   "source": [
    "3 > 5 or 10 < 20 "
   ]
  },
  {
   "cell_type": "code",
   "execution_count": null,
   "id": "709e7e80",
   "metadata": {},
   "outputs": [],
   "source": [
    "3 < 5 or 10 < 20 "
   ]
  },
  {
   "cell_type": "code",
   "execution_count": 105,
   "id": "939365c9",
   "metadata": {},
   "outputs": [
    {
     "data": {
      "text/plain": [
       "'합격'"
      ]
     },
     "execution_count": 105,
     "metadata": {},
     "output_type": "execute_result"
    }
   ],
   "source": [
    "score = 80\n",
    "\"합격\" if score >= 60 else \"불합격\" "
   ]
  },
  {
   "cell_type": "code",
   "execution_count": 106,
   "id": "ffae280a",
   "metadata": {},
   "outputs": [
    {
     "data": {
      "text/plain": [
       "'불합격'"
      ]
     },
     "execution_count": 106,
     "metadata": {},
     "output_type": "execute_result"
    }
   ],
   "source": [
    "score = 50\n",
    "\"합격\" if score >= 60 else \"불합격\" "
   ]
  },
  {
   "cell_type": "code",
   "execution_count": 110,
   "id": "c4066bce",
   "metadata": {},
   "outputs": [
    {
     "name": "stdout",
     "output_type": "stream",
     "text": [
      "정수입력 >> 3\n",
      "정수입력 >> 10\n",
      "b: 10\n"
     ]
    }
   ],
   "source": [
    "a = int(input('정수입력 >> '))\n",
    "b = int(input('정수입력 >> '))\n",
    "\n",
    "print('a:', a) if a > b else print('b:', b)"
   ]
  },
  {
   "cell_type": "code",
   "execution_count": 115,
   "id": "84330a66",
   "metadata": {},
   "outputs": [
    {
     "name": "stdout",
     "output_type": "stream",
     "text": [
      "첫 번째 정수 입력 >> 5\n",
      "두 번째 정수 입력 >> 10\n",
      "두 수의 차 : 5\n"
     ]
    }
   ],
   "source": [
    "a = int(input('첫 번째 정수 입력 >> '))\n",
    "b = int(input('두 번째 정수 입력 >> '))\n",
    "\n",
    "print('두 수의 차 :', a - b) if a > b else print('두 수의 차 :', b - a) "
   ]
  },
  {
   "cell_type": "code",
   "execution_count": 117,
   "id": "bb7ce653",
   "metadata": {},
   "outputs": [
    {
     "name": "stdout",
     "output_type": "stream",
     "text": [
      "정수 입력 >> 33\n",
      "33는(은) 홀수입니다.\n"
     ]
    }
   ],
   "source": [
    "a = int(input('정수 입력 >> '))\n",
    "\n",
    "print(f'{a}는(은) 홀수입니다.') if a % 2 == 1 else print(f'{a}는(은) 짝수입니다.')"
   ]
  },
  {
   "cell_type": "code",
   "execution_count": 118,
   "id": "a09ad2ea",
   "metadata": {},
   "outputs": [
    {
     "name": "stdout",
     "output_type": "stream",
     "text": [
      "실행문장 실행\n",
      "if문 밖에 있는 실행문장\n"
     ]
    }
   ],
   "source": [
    "if True:\n",
    "    print(\"실행문장 실행\")\n",
    "print(\"if문 밖에 있는 실행문장\")"
   ]
  },
  {
   "cell_type": "code",
   "execution_count": 119,
   "id": "1ee37e73",
   "metadata": {},
   "outputs": [
    {
     "name": "stdout",
     "output_type": "stream",
     "text": [
      "if문 밖에 있는 실행문장\n"
     ]
    }
   ],
   "source": [
    "if False:\n",
    "    print(\"실행문장 실행\")\n",
    "print(\"if문 밖에 있는 실행문장\")"
   ]
  },
  {
   "cell_type": "code",
   "execution_count": 121,
   "id": "57d564ee",
   "metadata": {},
   "outputs": [
    {
     "name": "stdout",
     "output_type": "stream",
     "text": [
      "택시를 탄다.\n"
     ]
    }
   ],
   "source": [
    "money = 11000\n",
    "if money >= 10000:\n",
    "    print('택시를 탄다.')"
   ]
  },
  {
   "cell_type": "code",
   "execution_count": 122,
   "id": "1834b562",
   "metadata": {},
   "outputs": [],
   "source": [
    "money = 9000\n",
    "if money >= 10000:\n",
    "    print('택시를 탄다.')"
   ]
  },
  {
   "cell_type": "code",
   "execution_count": 124,
   "id": "8952c4cb",
   "metadata": {},
   "outputs": [
    {
     "name": "stdout",
     "output_type": "stream",
     "text": [
      "실행문장1\n"
     ]
    }
   ],
   "source": [
    "if True:\n",
    "    print(\"실행문장1\")\n",
    "else:\n",
    "    print(\"실행문장2\")"
   ]
  },
  {
   "cell_type": "code",
   "execution_count": 123,
   "id": "c9123b97",
   "metadata": {},
   "outputs": [
    {
     "name": "stdout",
     "output_type": "stream",
     "text": [
      "실행문장2\n"
     ]
    }
   ],
   "source": [
    "if True:\n",
    "    print(\"실행문장2\")\n",
    "else:\n",
    "    print(\"실행문장1\")"
   ]
  },
  {
   "cell_type": "code",
   "execution_count": 126,
   "id": "2fb26464",
   "metadata": {},
   "outputs": [
    {
     "name": "stdout",
     "output_type": "stream",
     "text": [
      "택시를 탄다\n"
     ]
    }
   ],
   "source": [
    "money = 11000\n",
    "if money >= 10000:\n",
    "    print(\"택시를 탄다\")\n",
    "else:\n",
    "    print(\"버스를 탄다\")"
   ]
  },
  {
   "cell_type": "code",
   "execution_count": 129,
   "id": "78e2848e",
   "metadata": {},
   "outputs": [
    {
     "name": "stdout",
     "output_type": "stream",
     "text": [
      "정수 입력 >> 15\n",
      "3과 5의 배수입니다.\n"
     ]
    }
   ],
   "source": [
    "num = int(input('정수 입력 >> '))\n",
    "if num % 3 == 0 and num % 5 == 0:\n",
    "    print('3과 5의 배수입니다.')\n",
    "else:\n",
    "    print('3과 5의 배수가 아닙니다.')"
   ]
  },
  {
   "cell_type": "code",
   "execution_count": 136,
   "id": "6a4b7b6d",
   "metadata": {},
   "outputs": [
    {
     "name": "stdout",
     "output_type": "stream",
     "text": [
      "주민번호 뒷자리 입력 >> 12165989\n",
      "당신은 남자 입니다 ^^*\n"
     ]
    }
   ],
   "source": [
    "code = input(\"주민번호 뒷자리 입력 >> \")\n",
    "if code[0] == '2' or code[0] == '4':\n",
    "    print('당신은 여자 입니다 ^^*')\n",
    "else:\n",
    "    print('당신은 남자 입니다 ^^*')"
   ]
  },
  {
   "cell_type": "code",
   "execution_count": 143,
   "id": "1c8f72ca",
   "metadata": {},
   "outputs": [
    {
     "name": "stdout",
     "output_type": "stream",
     "text": [
      "이름 입력 >> 성우\n",
      "나이 입력 >> 18\n",
      "카드 소지 여부(소지, 미소지) >> 소지\n",
      "성우님은 입장료 15750원에 예약되셨습니다.\n"
     ]
    }
   ],
   "source": [
    "name = input('이름 입력 >> ')\n",
    "age = int(input('나이 입력 >> '))\n",
    "hc = input('카드 소지 여부(소지, 미소지) >> ')\n",
    "fee = 35000\n",
    "if age >= 19:\n",
    "    if hc == '소지':\n",
    "        fee *= 0.7\n",
    "else:\n",
    "    fee *= 0.5\n",
    "    if hc == '소지':\n",
    "        fee *= 0.9\n",
    "\n",
    "print(f'성우님은 입장료 {int(fee)}원에 예약되셨습니다.')"
   ]
  },
  {
   "cell_type": "code",
   "execution_count": 159,
   "id": "124529da",
   "metadata": {},
   "outputs": [
    {
     "name": "stdout",
     "output_type": "stream",
     "text": [
      "마스크 개수 입력88\n",
      "8개들이 포장지 개수 : 11\n",
      "5개들이 포장지 개수 : 1\n"
     ]
    }
   ],
   "source": [
    "countOfMask = int(input(\"마스크 개수 입력\"))\n",
    "eight = 0\n",
    "five = 0\n",
    "if countOfMask >= 8:\n",
    "    eight = countOfMask // 8\n",
    "    if countOfMask % 8 > 5:\n",
    "        five = 2\n",
    "    elif countOfMask % 8 <5 and countOfMask != 0:\n",
    "        five = 1\n",
    "    else:\n",
    "        five = 0\n",
    "else:\n",
    "    if countOfMask > 5:\n",
    "        five = 2\n",
    "    elif countOfMask <= 5 and countOfMask != 0:\n",
    "        five = 1\n",
    "    else:\n",
    "        five = 0\n",
    "print(f'8개들이 포장지 개수 : {eight}')\n",
    "print(f'5개들이 포장지 개수 : {five}')"
   ]
  },
  {
   "cell_type": "code",
   "execution_count": null,
   "id": "fea25084",
   "metadata": {},
   "outputs": [],
   "source": [
    "countOfMask = int(input(\"마스크 개수 입력\"))\n",
    "eight = 0\n",
    "five = 0\n",
    "\n",
    "if countOfMask < 5:\n",
    "    eight = 0\n",
    "    five = countOfMask % 5\n",
    "else:\n",
    "    if countOfMask > 8:\n",
    "        eight = countOfMask // 8\n",
    "        if countOfMask % 8 > 5:\n",
    "            five = 2\n",
    "        else:\n",
    "            five = 1\n",
    "    else:\n",
    "        eight = 0\n",
    "        if countOfMask > 5:\n",
    "            five = 2\n",
    "        else:\n",
    "            five = 1\n",
    "print(f'8개들이 포장지 개수 : {eight}')\n",
    "print(f'5개들이 포장지 개수 : {five}')"
   ]
  },
  {
   "cell_type": "code",
   "execution_count": 148,
   "id": "4f5218d0",
   "metadata": {},
   "outputs": [
    {
     "name": "stdout",
     "output_type": "stream",
     "text": [
      "실행문장1\n"
     ]
    }
   ],
   "source": [
    "if True:\n",
    "    print(\"실행문장1\")\n",
    "elif True:\n",
    "    print(\"실행문장2\")"
   ]
  },
  {
   "cell_type": "code",
   "execution_count": null,
   "id": "93dde388",
   "metadata": {},
   "outputs": [],
   "source": [
    "if False:\n",
    "    print(\"실행문장1\")\n",
    "elif True:\n",
    "    print(\"실행문장2\")"
   ]
  },
  {
   "cell_type": "code",
   "execution_count": 149,
   "id": "7734330f",
   "metadata": {},
   "outputs": [
    {
     "name": "stdout",
     "output_type": "stream",
     "text": [
      "첫 번째 정수 입력 >> 7\n",
      "두 번째 정수 입력 >> 7\n",
      "두 수가 똑같습니다.\n"
     ]
    }
   ],
   "source": [
    "num1 = int(input(\"첫 번째 정수 입력 >> \"))\n",
    "num2 = int(input(\"두 번째 정수 입력 >> \"))\n",
    "\n",
    "if num1 > num2:\n",
    "    print(\"첫 번째 정수가 더 큽니다.\")\n",
    "elif num1 < num2:\n",
    "    print(\"두 번째 정수가 더 큽니다.\")\n",
    "else:\n",
    "    print(\"두 수가 똑같습니다.\")"
   ]
  },
  {
   "cell_type": "code",
   "execution_count": 153,
   "id": "a7ccaad7",
   "metadata": {},
   "outputs": [
    {
     "name": "stdout",
     "output_type": "stream",
     "text": [
      "점수 입력 >> 66\n",
      "66점은 D학점 입니다.\n"
     ]
    }
   ],
   "source": [
    "score = int(input(\"점수 입력 >> \"))\n",
    "grade = 'F'\n",
    "if score >= 90:\n",
    "    grade = 'A'\n",
    "elif score >= 80:\n",
    "    grade = 'B'\n",
    "elif score >= 70:\n",
    "    grade = 'C'\n",
    "elif score >= 60:\n",
    "    grade = 'D'\n",
    "print(f'{score}점은 {grade}학점 입니다.')"
   ]
  },
  {
   "cell_type": "code",
   "execution_count": 168,
   "id": "56f6a1f9",
   "metadata": {},
   "outputs": [
    {
     "name": "stdout",
     "output_type": "stream",
     "text": [
      "x값을 입력하세요 : 12\n",
      "y값을 입력하세요 : -5\n",
      "좌표(12, -5)는 4사분면 입니다.\n"
     ]
    }
   ],
   "source": [
    "num1 = int(input(\"x값을 입력하세요 : \"))\n",
    "num2 = int(input(\"y값을 입력하세요 : \"))\n",
    "\n",
    "Quadrant = 0\n",
    "if num1 < 0:\n",
    "    if num2 < 0:\n",
    "        Quadrant = 3\n",
    "    else:\n",
    "        Quadrant = 2\n",
    "else:\n",
    "    if num2 < 0:\n",
    "        Quadrant = 4\n",
    "    else:\n",
    "        Quadrant = 1\n",
    "        \n",
    "print(f'좌표({num1}, {num2})는 {Quadrant}사분면 입니다.')        "
   ]
  },
  {
   "cell_type": "code",
   "execution_count": 175,
   "id": "11b34d45",
   "metadata": {},
   "outputs": [
    {
     "name": "stdout",
     "output_type": "stream",
     "text": [
      "나이 입력 >> 67\n",
      "요금은 375원 입니다.\n"
     ]
    }
   ],
   "source": [
    "age = int(input('나이 입력 >> '))\n",
    "fee = 1500\n",
    "if age < 5:\n",
    "    fee *= 0.5\n",
    "elif age < 20:\n",
    "    fee *= 0.75\n",
    "elif age >= 65:\n",
    "    fee *= 0.25\n",
    "print(f'요금은 {int(fee)}원 입니다.')"
   ]
  },
  {
   "cell_type": "code",
   "execution_count": 236,
   "id": "1e19fe90",
   "metadata": {},
   "outputs": [
    {
     "name": "stdout",
     "output_type": "stream",
     "text": [
      "=======================================\n",
      "=============----자판기----=============\n",
      "=======================================\n",
      "==1.콜라==2.사이다==3.물=======insert===\n",
      "==============================------===\n",
      "== 600 == 800 == 1000 ======= 000원 ===\n",
      "==============================------===\n",
      "=======================================\n",
      "==+++++++++++++++++++++++++++++++++++==\n",
      "==+++++++++++++++++++++++++++++++++++==\n",
      "==+++++++++++++++++++++++++++++++++++==\n",
      "==+++++++++++++         +++++++++++++==\n",
      "==+++++++++++++  SMHRD  +++++++++++++==\n",
      "==+++++++++++++         +++++++++++++==\n",
      "==+++++++++++++++++++++++++++++++++++==\n",
      "==+++++++++++++++++++++++++++++++++++==\n",
      "=======================================\n",
      "=======================================\n",
      "  ===                            ===  \n",
      "  ===                            ===  \n",
      "\n",
      "\n",
      "insert coin >>5000\n",
      "메뉴 선택 >>3\n",
      "잔돈 >> 1000원 4개, 500원 0개, 100원 0개\n"
     ]
    }
   ],
   "source": [
    "print('=' * 39)    #\n",
    "print('=' * 13, end='')#\n",
    "print('-' * 4, end='')\n",
    "print('자판기', end='')\n",
    "print('-' * 4, end='')\n",
    "print('=' * 13)#\n",
    "print('=' * 39)#\n",
    "print('=' * 2, end='')#\n",
    "print('1.콜라', end='')\n",
    "print('=' * 2, end='')\n",
    "print('2.사이다', end='')\n",
    "print('=' * 2, end='')\n",
    "print('3.물', end='')\n",
    "print('=' * 7, end='')\n",
    "print('insert', end='')\n",
    "print('=' * 3)#\n",
    "print('=' * 30,end = '')\n",
    "print('-' * 6,end = '')\n",
    "print('=' * 3)\n",
    "print('=' * 2, end='')#\n",
    "print(' 600 ', end='')\n",
    "print('=' * 2, end='')\n",
    "print(' 800 ', end='')\n",
    "print('=' * 2, end='')\n",
    "print(' 1000 ', end='')\n",
    "print('=' * 7, end='')\n",
    "print(' 000원 ', end='')\n",
    "print('=' * 3)#\n",
    "print('=' * 30,end = '')\n",
    "print('-' * 6,end = '')\n",
    "print('=' * 3)\n",
    "print('=' * 39)    #\n",
    "print('=' * 2, end='')#\n",
    "print('+' * 35,end='')\n",
    "print('=' * 2)\n",
    "print('=' * 2, end='')#\n",
    "print('+' * 35,end='')\n",
    "print('=' * 2)\n",
    "print('=' * 2, end='')#\n",
    "print('+' * 35,end='')\n",
    "print('=' * 2)\n",
    "print('=' * 2, end='')#\n",
    "print('+' * 13,end='')\n",
    "print(' ' * 9,end='')\n",
    "print('+' * 13,end='')\n",
    "print('=' * 2)\n",
    "print('=' * 2, end='')\n",
    "print('+' * 13,end='')\n",
    "print(' ' * 2,end='')\n",
    "print('SMHRD', end='')\n",
    "print(' ' * 2,end='')\n",
    "print('+' * 13,end='')\n",
    "print('=' * 2)\n",
    "print('=' * 2, end='')#\n",
    "print('+' * 13,end='')\n",
    "print(' ' * 9,end='')\n",
    "print('+' * 13,end='')\n",
    "print('=' * 2)\n",
    "print('=' * 2, end='')#\n",
    "print('+' * 35,end='')\n",
    "print('=' * 2)\n",
    "print('=' * 2, end='')#\n",
    "print('+' * 35,end='')\n",
    "print('=' * 2)\n",
    "print('=' * 39)    #\n",
    "print('=' * 39)    #\n",
    "print(' '* 2,end ='')\n",
    "print('='*3, end ='')\n",
    "print(' '* 28,end ='')\n",
    "print('='*3, end ='')\n",
    "print(' '* 2)\n",
    "print(' '* 2,end ='')\n",
    "print('='*3, end ='')\n",
    "print(' '* 28,end ='')\n",
    "print('='*3, end ='')\n",
    "print(' '* 2)\n",
    "print()\n",
    "print()\n",
    "    \n",
    "coin = int(input('insert coin >>'))\n",
    "\n",
    "chun = 0\n",
    "obaek = 0\n",
    "baek = 0\n",
    "\n",
    "if coin < 600:\n",
    "    print('좀 더 넣어봐')\n",
    "else:\n",
    "    select = int(input('메뉴 선택 >>'))\n",
    "    if select != 1 and select != 2 and select != 3:\n",
    "        \n",
    "        print('잘못된 메뉴')\n",
    "    else:\n",
    "        if select == 1:\n",
    "            coin -= 600\n",
    "            if coin >= 1000:\n",
    "                chun += coin // 1000\n",
    "                coin -= 1000 * chun\n",
    "            if coin >= 500:\n",
    "                obaek += coin // 500\n",
    "                coin -= 500 * obaek\n",
    "            if coin >= 100:\n",
    "                baek += coin // 500\n",
    "                coin -= 500 * baek\n",
    "\n",
    "        if select == 2:\n",
    "            coin -= 800\n",
    "            if coin >= 1000:\n",
    "                chun += coin // 1000\n",
    "                coin -= 1000 * chun\n",
    "            if coin >= 500:\n",
    "                obaek += coin // 500\n",
    "                coin -= 500 * obaek\n",
    "            if coin >= 100:\n",
    "                baek += coin // 500\n",
    "                coin -= 500 * baek\n",
    "\n",
    "        if select == 3:\n",
    "            coin -= 1000\n",
    "            if coin >= 1000:\n",
    "                chun += coin // 1000\n",
    "                coin -= 1000 * chun\n",
    "            if coin >= 500:\n",
    "                obaek += coin // 500\n",
    "                coin -= 500 * obaek\n",
    "            if coin >= 100:\n",
    "                baek += coin // 500\n",
    "                coin -= 500 * baek        \n",
    "\n",
    "print(f'잔돈 >> 1000원 {chun}개, 500원 {obaek}개, 100원 {baek}개')"
   ]
  },
  {
   "cell_type": "code",
   "execution_count": 238,
   "id": "d9a327c1",
   "metadata": {},
   "outputs": [
    {
     "data": {
      "text/plain": [
       "('삼성전자', 'LG전자', 'SK Hynix')"
      ]
     },
     "execution_count": 238,
     "metadata": {},
     "output_type": "execute_result"
    }
   ],
   "source": [
    "interest = ['삼성전자', 'LG전자', 'SK Hynix']\n",
    "interest = tuple(interest)\n",
    "interest"
   ]
  },
  {
   "cell_type": "code",
   "execution_count": 239,
   "id": "23282d3b",
   "metadata": {},
   "outputs": [
    {
     "name": "stdout",
     "output_type": "stream",
     "text": [
      "apple banana cake\n"
     ]
    }
   ],
   "source": [
    "temp = ('apple', 'banana', 'cake')\n",
    "a, b, c = temp\n",
    "print(a, b, c)"
   ]
  },
  {
   "cell_type": "code",
   "execution_count": 241,
   "id": "ddc94f99",
   "metadata": {},
   "outputs": [
    {
     "name": "stdout",
     "output_type": "stream",
     "text": [
      "(2, 4, 6, 8, 10, 12, 14, 16, 18, 20, 22, 24, 26, 28, 30, 32, 34, 36, 38, 40, 42, 44, 46, 48, 50, 52, 54, 56, 58, 60, 62, 64, 66, 68, 70, 72, 74, 76, 78, 80, 82, 84, 86, 88, 90, 92, 94, 96, 98)\n"
     ]
    }
   ],
   "source": [
    "data = tuple(range(2, 100, 2))\n",
    "print(data)"
   ]
  },
  {
   "cell_type": "code",
   "execution_count": null,
   "id": "f8bf3e34",
   "metadata": {},
   "outputs": [],
   "source": []
  },
  {
   "cell_type": "code",
   "execution_count": null,
   "id": "c8da9673",
   "metadata": {},
   "outputs": [],
   "source": []
  },
  {
   "cell_type": "code",
   "execution_count": null,
   "id": "548fce84",
   "metadata": {},
   "outputs": [],
   "source": []
  },
  {
   "cell_type": "code",
   "execution_count": null,
   "id": "6478b746",
   "metadata": {},
   "outputs": [],
   "source": []
  },
  {
   "cell_type": "code",
   "execution_count": null,
   "id": "e3b86ae6",
   "metadata": {},
   "outputs": [],
   "source": []
  },
  {
   "cell_type": "code",
   "execution_count": null,
   "id": "93698e2c",
   "metadata": {},
   "outputs": [],
   "source": []
  },
  {
   "cell_type": "code",
   "execution_count": null,
   "id": "74a1ce58",
   "metadata": {},
   "outputs": [],
   "source": []
  }
 ],
 "metadata": {
  "kernelspec": {
   "display_name": "Python 3 (ipykernel)",
   "language": "python",
   "name": "python3"
  },
  "language_info": {
   "codemirror_mode": {
    "name": "ipython",
    "version": 3
   },
   "file_extension": ".py",
   "mimetype": "text/x-python",
   "name": "python",
   "nbconvert_exporter": "python",
   "pygments_lexer": "ipython3",
   "version": "3.10.9"
  }
 },
 "nbformat": 4,
 "nbformat_minor": 5
}
