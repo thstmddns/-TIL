{
 "cells": [
  {
   "cell_type": "code",
   "execution_count": 1,
   "id": "4f98099f",
   "metadata": {},
   "outputs": [
    {
     "name": "stdout",
     "output_type": "stream",
     "text": [
      "안\n",
      "녕\n",
      "하\n",
      "세\n",
      "요\n"
     ]
    }
   ],
   "source": [
    "hi = '안녕하세요'\n",
    "for s in hi :\n",
    "    print(s)"
   ]
  },
  {
   "cell_type": "code",
   "execution_count": 2,
   "id": "d6fe307e",
   "metadata": {},
   "outputs": [
    {
     "name": "stdout",
     "output_type": "stream",
     "text": [
      "햄버거\n",
      "치킨\n",
      "피자\n"
     ]
    }
   ],
   "source": [
    "tuple_food = ('햄버거', '치킨', '피자')\n",
    "for food  in tuple_food:\n",
    "    print(food)"
   ]
  },
  {
   "cell_type": "code",
   "execution_count": 4,
   "id": "043e6f5b",
   "metadata": {},
   "outputs": [
    {
     "name": "stdout",
     "output_type": "stream",
     "text": [
      "1번 학생은 합격입니다.\n",
      "2번 학생은 불합격입니다.\n",
      "3번 학생은 합격입니다.\n",
      "4번 학생은 합격입니다.\n",
      "5번 학생은 불합격입니다.\n"
     ]
    }
   ],
   "source": [
    "score_list = [90, 45, 70, 60, 55]\n",
    "cut = 60\n",
    "for i in range(len(score_list)):\n",
    "    if score_list[i] >= cut:\n",
    "        print(f'{i + 1}번 학생은 합격입니다.')\n",
    "    else:\n",
    "        print(f'{i + 1}번 학생은 불합격입니다.')"
   ]
  },
  {
   "cell_type": "code",
   "execution_count": 7,
   "id": "d832ea66",
   "metadata": {},
   "outputs": [
    {
     "name": "stdout",
     "output_type": "stream",
     "text": [
      "1번은 57점 이며, C등급 입니다.\n",
      "2번은 86점 이며, A등급 입니다.\n",
      "3번은 63점 이며, B등급 입니다.\n",
      "4번은 92점 이며, A등급 입니다.\n",
      "5번은 35점 이며, C등급 입니다.\n",
      "6번은 79점 이며, B등급 입니다.\n"
     ]
    }
   ],
   "source": [
    "python_score = [57, 86, 63, 92, 35, 79]\n",
    "for i in range(len(python_score)):\n",
    "    if python_score[i] >= 80:\n",
    "        print(f'{i + 1}번은 {python_score[i]}점 이며, A등급 입니다.')\n",
    "    elif python_score[i] >= 60:\n",
    "        print(f'{i + 1}번은 {python_score[i]}점 이며, B등급 입니다.')\n",
    "    else:\n",
    "        print(f'{i + 1}번은 {python_score[i]}점 이며, C등급 입니다.')"
   ]
  },
  {
   "cell_type": "code",
   "execution_count": 8,
   "id": "b9f50b6e",
   "metadata": {},
   "outputs": [
    {
     "name": "stdout",
     "output_type": "stream",
     "text": [
      "1\n",
      "2\n",
      "3\n",
      "4\n",
      "5\n",
      "6\n",
      "7\n",
      "8\n",
      "9\n"
     ]
    }
   ],
   "source": [
    "for i in range(1, 10, 1):\n",
    "    print(i)"
   ]
  },
  {
   "cell_type": "code",
   "execution_count": 9,
   "id": "9421a669",
   "metadata": {},
   "outputs": [
    {
     "name": "stdout",
     "output_type": "stream",
     "text": [
      "1 2 3 4 5 6 7 8 9 "
     ]
    }
   ],
   "source": [
    "for i in range(1, 10, 1):\n",
    "    print(i, end =' ')"
   ]
  },
  {
   "cell_type": "code",
   "execution_count": 10,
   "id": "e99f154c",
   "metadata": {},
   "outputs": [
    {
     "name": "stdout",
     "output_type": "stream",
     "text": [
      "1\n",
      "2\n",
      "3\n",
      "4\n",
      "5\n",
      "6\n",
      "7\n",
      "8\n",
      "9\n"
     ]
    }
   ],
   "source": [
    "for i in range(1, 10, 1):\n",
    "    print(i)"
   ]
  },
  {
   "cell_type": "code",
   "execution_count": 11,
   "id": "a72005b3",
   "metadata": {},
   "outputs": [
    {
     "name": "stdout",
     "output_type": "stream",
     "text": [
      "3 4 5 6 7 8 9 "
     ]
    }
   ],
   "source": [
    "for i in range(3 , 10):\n",
    "    print(i, end = ' ')"
   ]
  },
  {
   "cell_type": "code",
   "execution_count": 12,
   "id": "ea1e9d7d",
   "metadata": {},
   "outputs": [
    {
     "name": "stdout",
     "output_type": "stream",
     "text": [
      "0 1 2 3 4 5 6 7 8 9 "
     ]
    }
   ],
   "source": [
    "for i in range(10):\n",
    "    print(i, end =' ')"
   ]
  },
  {
   "cell_type": "code",
   "execution_count": 15,
   "id": "cc04a4bc",
   "metadata": {},
   "outputs": [
    {
     "name": "stdout",
     "output_type": "stream",
     "text": [
      "97 96 95 94 93 92 91 90 89 88 87 86 85 84 83 82 81 80 79 78 77 "
     ]
    }
   ],
   "source": [
    "for i in range(97, 76, -1):\n",
    "    print(i, end =' ')"
   ]
  },
  {
   "cell_type": "code",
   "execution_count": 14,
   "id": "05d08660",
   "metadata": {},
   "outputs": [
    {
     "name": "stdout",
     "output_type": "stream",
     "text": [
      "23 24 25 26 27 28 29 30 31 32 33 34 35 36 37 38 39 "
     ]
    }
   ],
   "source": [
    "for i in range(23, 40):\n",
    "    print(i , end = ' ')"
   ]
  },
  {
   "cell_type": "code",
   "execution_count": 17,
   "id": "0e43325b",
   "metadata": {},
   "outputs": [
    {
     "name": "stdout",
     "output_type": "stream",
     "text": [
      "2 4 6 8 10 12 14 16 18 20 22 24 26 28 30 32 34 36 38 40 42 44 46 48 50 52 54 56 58 60 62 64 66 68 70 72 74 76 78 80 82 84 86 88 90 92 94 96 98 100 "
     ]
    }
   ],
   "source": [
    "for i in range(2, 101, 2):\n",
    "    print(i, end = ' ')"
   ]
  },
  {
   "cell_type": "code",
   "execution_count": 18,
   "id": "28252991",
   "metadata": {},
   "outputs": [
    {
     "name": "stdout",
     "output_type": "stream",
     "text": [
      "3 6 9 12 15 18 21 24 27 30 33 36 39 42 45 48 51 54 57 60 63 66 69 72 75 78 81 84 87 90 93 96 99 "
     ]
    }
   ],
   "source": [
    "for i in range(3, 101, 3):\n",
    "    print(i, end= ' ')"
   ]
  },
  {
   "cell_type": "code",
   "execution_count": 20,
   "id": "f65c7401",
   "metadata": {},
   "outputs": [
    {
     "name": "stdout",
     "output_type": "stream",
     "text": [
      "1 2\n",
      "3 4\n",
      "5 6\n"
     ]
    }
   ],
   "source": [
    "list1 = [[1, 2], [3, 4], [5, 6]]\n",
    "for i, j in list1:\n",
    "\n",
    "    print(i, j)"
   ]
  },
  {
   "cell_type": "code",
   "execution_count": 22,
   "id": "aab02fa7",
   "metadata": {},
   "outputs": [
    {
     "name": "stdout",
     "output_type": "stream",
     "text": [
      "99\n"
     ]
    }
   ],
   "source": [
    "list2 = [4, 5, 2, 1, 99, 15, 2, 7, 27]\n",
    "max_i = 0\n",
    "for i in list2:\n",
    "    if i > max_i:\n",
    "        max_i = i\n",
    "print(max_i)"
   ]
  },
  {
   "cell_type": "code",
   "execution_count": 23,
   "id": "4132ce71",
   "metadata": {},
   "outputs": [
    {
     "name": "stdout",
     "output_type": "stream",
     "text": [
      "1\n"
     ]
    }
   ],
   "source": [
    "min_i = 9876543210\n",
    "for i in list2:\n",
    "    if i < min_i:\n",
    "        min_i = i\n",
    "print(min_i)"
   ]
  },
  {
   "cell_type": "code",
   "execution_count": 25,
   "id": "eceb0da0",
   "metadata": {},
   "outputs": [
    {
     "name": "stdout",
     "output_type": "stream",
     "text": [
      "1683\n"
     ]
    }
   ],
   "source": [
    "total_3 = 0\n",
    "for i in range(3, 101, 3):\n",
    "    total_3 += i\n",
    "print(total_3)"
   ]
  },
  {
   "cell_type": "code",
   "execution_count": 28,
   "id": "523458b6",
   "metadata": {},
   "outputs": [
    {
     "name": "stdout",
     "output_type": "stream",
     "text": [
      "2 * 1 = 2\n",
      "2 * 2 = 4\n",
      "2 * 3 = 6\n",
      "2 * 4 = 8\n",
      "2 * 5 = 10\n",
      "2 * 6 = 12\n",
      "2 * 7 = 14\n",
      "2 * 8 = 16\n",
      "2 * 9 = 18\n"
     ]
    }
   ],
   "source": [
    "for i in range(1, 10):\n",
    "    print(f'2 * {i} = {2 * i}')"
   ]
  },
  {
   "cell_type": "code",
   "execution_count": 48,
   "id": "c3cc7c9d",
   "metadata": {},
   "outputs": [
    {
     "name": "stdout",
     "output_type": "stream",
     "text": [
      "정수 입력 >> 32\n",
      "32의 약수 : 1 2 4 8 16 32 "
     ]
    }
   ],
   "source": [
    "num = int(input('정수 입력 >> '))\n",
    "print(f'{num}의 약수 :', end =' ')\n",
    "for i in range(1, num + 1):\n",
    "    if num % i == 0:\n",
    "        print(i, end = ' ')"
   ]
  },
  {
   "cell_type": "code",
   "execution_count": 49,
   "id": "f730c280",
   "metadata": {},
   "outputs": [
    {
     "name": "stdout",
     "output_type": "stream",
     "text": [
      "*\n",
      "**\n",
      "***\n",
      "****\n",
      "*****\n",
      "******\n"
     ]
    }
   ],
   "source": [
    "for i in range(1, 7):\n",
    "    print('*' * i)"
   ]
  },
  {
   "cell_type": "code",
   "execution_count": 50,
   "id": "77677393",
   "metadata": {},
   "outputs": [
    {
     "name": "stdout",
     "output_type": "stream",
     "text": [
      "줄 수 입력 >> 7\n",
      "*\n",
      "**\n",
      "***\n",
      "****\n",
      "*****\n",
      "******\n",
      "*******\n"
     ]
    }
   ],
   "source": [
    "n = int(input('줄 수 입력 >> '))\n",
    "for i in range(1, n + 1):\n",
    "    print('*' * i)"
   ]
  },
  {
   "cell_type": "code",
   "execution_count": 52,
   "id": "f2684d5f",
   "metadata": {},
   "outputs": [
    {
     "name": "stdout",
     "output_type": "stream",
     "text": [
      "*\n",
      "**\n",
      "***\n",
      "****\n",
      "*****\n",
      "******\n",
      "*****\n",
      "****\n",
      "***\n",
      "**\n",
      "*\n"
     ]
    }
   ],
   "source": [
    "for i in range(1, 7):\n",
    "    print('*' * i)\n",
    "for j in range(5, 0, -1):\n",
    "    print('*' * j)"
   ]
  },
  {
   "cell_type": "code",
   "execution_count": 53,
   "id": "b73a2cef",
   "metadata": {},
   "outputs": [
    {
     "name": "stdout",
     "output_type": "stream",
     "text": [
      "*\n",
      "**\n",
      "***\n",
      "****\n",
      "*****\n",
      "******\n",
      "*****\n",
      "****\n",
      "***\n",
      "**\n",
      "*\n"
     ]
    }
   ],
   "source": [
    "for i in range(1,12):\n",
    "    if i < 6:\n",
    "        print('*' * i)\n",
    "    else:\n",
    "        print('*' * (12 - i))"
   ]
  },
  {
   "cell_type": "code",
   "execution_count": 56,
   "id": "81222dc1",
   "metadata": {},
   "outputs": [
    {
     "name": "stdout",
     "output_type": "stream",
     "text": [
      "첫 번째 정수 입력 >> 10\n",
      "두 번째 정수 입력 >> 30\n",
      "10 11 12 13 14 15 16 17 18 19 20 21 22 23 24 25 26 27 28 29 30 "
     ]
    }
   ],
   "source": [
    "start = int(input('첫 번째 정수 입력 >> '))\n",
    "end = int(input('두 번째 정수 입력 >> '))\n",
    "\n",
    "for i in range(start, end + 1):\n",
    "    print(i, end= ' ')"
   ]
  },
  {
   "cell_type": "code",
   "execution_count": 66,
   "id": "9379c960",
   "metadata": {},
   "outputs": [
    {
     "name": "stdout",
     "output_type": "stream",
     "text": [
      "첫 번째 정수 입력 >> 10\n",
      "두 번째 정수 입력 >> 20\n",
      "배수 입력 >> 2\n",
      "2의 배수의 합 : 90\n"
     ]
    }
   ],
   "source": [
    "n1 = int(input('첫 번째 정수 입력 >> '))\n",
    "n2 = int(input('두 번째 정수 입력 >> '))\n",
    "baebae = int(input('배수 입력 >> '))\n",
    "total = 0\n",
    "for i in range(n1, n2 + 1):\n",
    "    if i % baebae == 0:\n",
    "        total += i\n",
    "print(f'{baebae}의 배수의 합 : {total}')"
   ]
  },
  {
   "cell_type": "code",
   "execution_count": 67,
   "id": "b95b3db4",
   "metadata": {},
   "outputs": [
    {
     "name": "stdout",
     "output_type": "stream",
     "text": [
      "첫 번째 정수 입력 >> 1\n",
      "두 번째 정수 입력 >> 10\n",
      "배수 입력 >> 3\n",
      "3의 배수의 합 : 18\n"
     ]
    }
   ],
   "source": [
    "n1 = int(input('첫 번째 정수 입력 >> '))\n",
    "n2 = int(input('두 번째 정수 입력 >> '))\n",
    "baebae = int(input('배수 입력 >> '))\n",
    "s = 0\n",
    "total = 0\n",
    "for i in range(1, n1):\n",
    "    if i * baebae >= n1:\n",
    "        s = i\n",
    "        break\n",
    "for i in range(s, n2 + 1, 3):\n",
    "    total += i\n",
    "print(f'{baebae}의 배수의 합 : {total}')"
   ]
  },
  {
   "cell_type": "code",
   "execution_count": 71,
   "id": "d5b49b02",
   "metadata": {},
   "outputs": [
    {
     "name": "stdout",
     "output_type": "stream",
     "text": [
      "이름을 입력 : 성우\n",
      "주민번호 입력(7자리)9602081\n",
      "성우님은 96년 02월 08일에 태어났고, 성별은 남자입니다\n"
     ]
    }
   ],
   "source": [
    "name = input('이름을 입력 : ')\n",
    "id = input('주민번호 입력(7자리)')\n",
    "if id[-1] == '1' or id[-1] == '3':\n",
    "    print(f'{name}님은 {id[:2]}년 {id[2:4]}월 {id[4:6]}일에 태어났고, 성별은 남자입니다')\n",
    "else:\n",
    "    print(f'{name}님은 {id[:2]}년 {id[2:4]}월 {id[4:6]}일에 태어났고, 성별은 여자입니다')"
   ]
  },
  {
   "cell_type": "code",
   "execution_count": 73,
   "id": "16fa24ab",
   "metadata": {},
   "outputs": [
    {
     "name": "stdout",
     "output_type": "stream",
     "text": [
      "이름을 입력 : 성우\n",
      "주민번호 입력(7자리)9602081\n",
      "성우님은 96년 02월 08일에 태어났고, 성별은 남자입니다\n"
     ]
    }
   ],
   "source": [
    "name = input('이름을 입력 : ')\n",
    "id = input('주민번호 입력(7자리)')\n",
    "year = id[:2]\n",
    "month = id[2:4]\n",
    "day = id[4:6]\n",
    "sex = id[-1]\n",
    "if sex == '1' or sex == '3':\n",
    "    sex = '남자'\n",
    "else:\n",
    "    sex = '여자'\n",
    "print(f'{name}님은 {year}년 {month}월 {day}일에 태어났고, 성별은 {sex}입니다')"
   ]
  },
  {
   "cell_type": "code",
   "execution_count": 76,
   "id": "60dc462d",
   "metadata": {},
   "outputs": [
    {
     "name": "stdout",
     "output_type": "stream",
     "text": [
      "Life is too short, You need python."
     ]
    }
   ],
   "source": [
    "s = \".nohtyp deen uoY ,trohs oot si efiL\"\n",
    "for i in range(-1, -len(s) - 1, -1):\n",
    "    print(s[i], end ='')"
   ]
  },
  {
   "cell_type": "code",
   "execution_count": 78,
   "id": "e9561a4d",
   "metadata": {},
   "outputs": [
    {
     "name": "stdout",
     "output_type": "stream",
     "text": [
      "Life is too short, You need python."
     ]
    }
   ],
   "source": [
    "s = \".nohtyp deen uoY ,trohs oot si efiL\"\n",
    "stack = []\n",
    "for i in s:\n",
    "    stack.append(i)\n",
    "for i in range(1, len(s) + 1):\n",
    "    print(s[-i],end='') "
   ]
  },
  {
   "cell_type": "code",
   "execution_count": 89,
   "id": "c4f49d6b",
   "metadata": {},
   "outputs": [
    {
     "name": "stdout",
     "output_type": "stream",
     "text": [
      "2*1=2\t2*2=4\t2*3=6\t2*4=8\t2*5=10\t2*6=12\t2*7=14\t2*8=16\t2*9=18\t\n",
      "3*1=3\t3*2=6\t3*3=9\t3*4=12\t3*5=15\t3*6=18\t3*7=21\t3*8=24\t3*9=27\t\n",
      "4*1=4\t4*2=8\t4*3=12\t4*4=16\t4*5=20\t4*6=24\t4*7=28\t4*8=32\t4*9=36\t\n",
      "5*1=5\t5*2=10\t5*3=15\t5*4=20\t5*5=25\t5*6=30\t5*7=35\t5*8=40\t5*9=45\t\n",
      "6*1=6\t6*2=12\t6*3=18\t6*4=24\t6*5=30\t6*6=36\t6*7=42\t6*8=48\t6*9=54\t\n",
      "7*1=7\t7*2=14\t7*3=21\t7*4=28\t7*5=35\t7*6=42\t7*7=49\t7*8=56\t7*9=63\t\n",
      "8*1=8\t8*2=16\t8*3=24\t8*4=32\t8*5=40\t8*6=48\t8*7=56\t8*8=64\t8*9=72\t\n",
      "9*1=9\t9*2=18\t9*3=27\t9*4=36\t9*5=45\t9*6=54\t9*7=63\t9*8=72\t9*9=81\t\n"
     ]
    }
   ],
   "source": [
    "for i in range(2, 10):\n",
    "    for j in range(1, 10):\n",
    "        print(f'{i}*{j}={i*j}',end='\\t')\n",
    "    print()"
   ]
  },
  {
   "cell_type": "code",
   "execution_count": 90,
   "id": "6d31474b",
   "metadata": {},
   "outputs": [
    {
     "name": "stdout",
     "output_type": "stream",
     "text": [
      "2*1=2\t2*2=4\t2*3=6\t2*4=8\t2*5=10\t2*6=12\t2*7=14\t2*8=16\t2*9=18\t\n",
      "3*1=3\t3*2=6\t3*3=9\t3*4=12\t3*5=15\t3*6=18\t3*7=21\t3*8=24\t3*9=27\t\n",
      "4*1=4\t4*2=8\t4*3=12\t4*4=16\t4*5=20\t4*6=24\t4*7=28\t4*8=32\t4*9=36\t\n",
      "5*1=5\t5*2=10\t5*3=15\t5*4=20\t5*5=25\t5*6=30\t5*7=35\t5*8=40\t5*9=45\t\n",
      "6*1=6\t6*2=12\t6*3=18\t6*4=24\t6*5=30\t6*6=36\t6*7=42\t6*8=48\t6*9=54\t\n",
      "7*1=7\t7*2=14\t7*3=21\t7*4=28\t7*5=35\t7*6=42\t7*7=49\t7*8=56\t7*9=63\t\n",
      "8*1=8\t8*2=16\t8*3=24\t8*4=32\t8*5=40\t8*6=48\t8*7=56\t8*8=64\t8*9=72\t\n",
      "9*1=9\t9*2=18\t9*3=27\t9*4=36\t9*5=45\t9*6=54\t9*7=63\t9*8=72\t9*9=81\t\n"
     ]
    }
   ],
   "source": [
    "cnt = 2\n",
    "while True:\n",
    "    for i in range(1, 10):\n",
    "        print(f'{cnt}*{i}={i*cnt}',end='\\t')\n",
    "    print()\n",
    "    cnt += 1\n",
    "    if cnt > 9:\n",
    "        break"
   ]
  },
  {
   "cell_type": "code",
   "execution_count": 94,
   "id": "a8957b34",
   "metadata": {},
   "outputs": [
    {
     "name": "stdout",
     "output_type": "stream",
     "text": [
      "2*1=2\t3*1=3\t4*1=4\t5*1=5\t6*1=6\t7*1=7\t8*1=8\t9*1=9\t\n",
      "2*2=4\t3*2=6\t4*2=8\t5*2=10\t6*2=12\t7*2=14\t8*2=16\t9*2=18\t\n",
      "2*3=6\t3*3=9\t4*3=12\t5*3=15\t6*3=18\t7*3=21\t8*3=24\t9*3=27\t\n",
      "2*4=8\t3*4=12\t4*4=16\t5*4=20\t6*4=24\t7*4=28\t8*4=32\t9*4=36\t\n",
      "2*5=10\t3*5=15\t4*5=20\t5*5=25\t6*5=30\t7*5=35\t8*5=40\t9*5=45\t\n",
      "2*6=12\t3*6=18\t4*6=24\t5*6=30\t6*6=36\t7*6=42\t8*6=48\t9*6=54\t\n",
      "2*7=14\t3*7=21\t4*7=28\t5*7=35\t6*7=42\t7*7=49\t8*7=56\t9*7=63\t\n",
      "2*8=16\t3*8=24\t4*8=32\t5*8=40\t6*8=48\t7*8=56\t8*8=64\t9*8=72\t\n",
      "2*9=18\t3*9=27\t4*9=36\t5*9=45\t6*9=54\t7*9=63\t8*9=72\t9*9=81\t\n"
     ]
    }
   ],
   "source": [
    "for i in range(1, 10):\n",
    "    for j in range(2, 10):\n",
    "        print(f'{j}*{i}={i*j}',end='\\t')\n",
    "    print()"
   ]
  },
  {
   "cell_type": "code",
   "execution_count": 96,
   "id": "c0932511",
   "metadata": {},
   "outputs": [
    {
     "name": "stdout",
     "output_type": "stream",
     "text": [
      "2*1=2\t3*1=3\t4*1=4\t5*1=5\t6*1=6\t7*1=7\t8*1=8\t9*1=9\t\n",
      "2*2=4\t3*2=6\t4*2=8\t5*2=10\t6*2=12\t7*2=14\t8*2=16\t9*2=18\t\n",
      "2*3=6\t3*3=9\t4*3=12\t5*3=15\t6*3=18\t7*3=21\t8*3=24\t9*3=27\t\n",
      "2*4=8\t3*4=12\t4*4=16\t5*4=20\t6*4=24\t7*4=28\t8*4=32\t9*4=36\t\n",
      "2*5=10\t3*5=15\t4*5=20\t5*5=25\t6*5=30\t7*5=35\t8*5=40\t9*5=45\t\n",
      "2*6=12\t3*6=18\t4*6=24\t5*6=30\t6*6=36\t7*6=42\t8*6=48\t9*6=54\t\n",
      "2*7=14\t3*7=21\t4*7=28\t5*7=35\t6*7=42\t7*7=49\t8*7=56\t9*7=63\t\n",
      "2*8=16\t3*8=24\t4*8=32\t5*8=40\t6*8=48\t7*8=56\t8*8=64\t9*8=72\t\n",
      "2*9=18\t3*9=27\t4*9=36\t5*9=45\t6*9=54\t7*9=63\t8*9=72\t9*9=81\t\n"
     ]
    }
   ],
   "source": [
    "cnt = 1\n",
    "while True:\n",
    "    for i in range(2, 10):\n",
    "        print(f'{i}*{cnt}={i*cnt}',end='\\t')\n",
    "    print()\n",
    "    cnt += 1\n",
    "    if cnt > 9:\n",
    "        break"
   ]
  },
  {
   "cell_type": "code",
   "execution_count": 98,
   "id": "46ddd9b1",
   "metadata": {},
   "outputs": [
    {
     "name": "stdout",
     "output_type": "stream",
     "text": [
      "짝수 3개, 홀수 8개\n"
     ]
    }
   ],
   "source": [
    "list1 = [1, 30, 7, 9, 17, 3, 5, 23, 44, 32, 35]\n",
    "even = 0\n",
    "odd = 0\n",
    "for i in range(len(list1)):\n",
    "    if list1[i] % 2 == 0:\n",
    "        even += 1\n",
    "    else:\n",
    "        odd += 1\n",
    "print(f'짝수 {even}개, 홀수 {odd}개')"
   ]
  },
  {
   "cell_type": "code",
   "execution_count": 102,
   "id": "c490adf5",
   "metadata": {},
   "outputs": [
    {
     "name": "stdout",
     "output_type": "stream",
     "text": [
      "짝수 3개, 홀수 8개\n"
     ]
    }
   ],
   "source": [
    "list1 = [1, 30, 7, 9, 17, 3, 5, 23, 44, 32, 35]\n",
    "even = 0\n",
    "for i in range(len(list1)):\n",
    "    if list1[i] % 2 == 0:\n",
    "        even += 1\n",
    "print(f'짝수 {even}개, 홀수 {len(list1 ) - even}개')"
   ]
  },
  {
   "cell_type": "code",
   "execution_count": 106,
   "id": "97e55aef",
   "metadata": {},
   "outputs": [
    {
     "name": "stdout",
     "output_type": "stream",
     "text": [
      "3점\n"
     ]
    }
   ],
   "source": [
    "s = input()\n",
    "total = 0\n",
    "cnt = 0\n",
    "for i in s:\n",
    "    if i == 'o':\n",
    "        cnt += 1\n",
    "        total += cnt\n",
    "    else:\n",
    "        cnt = 0\n",
    "        \n",
    "print(f'{total}점')"
   ]
  },
  {
   "cell_type": "code",
   "execution_count": 108,
   "id": "51287d31",
   "metadata": {},
   "outputs": [
    {
     "name": "stdout",
     "output_type": "stream",
     "text": [
      "좋아하는 과일은?오렌지\n",
      "오답입니다.\n"
     ]
    }
   ],
   "source": [
    "fruit = [\"사과\", \"포도\", \"홍시\"]\n",
    "favorite = input('좋아하는 과일은?')\n",
    "if favorite in fruit:\n",
    "    print('정답입니다.')\n",
    "else:\n",
    "    print('오답입니다.')"
   ]
  },
  {
   "cell_type": "code",
   "execution_count": 110,
   "id": "0238a95c",
   "metadata": {},
   "outputs": [
    {
     "name": "stdout",
     "output_type": "stream",
     "text": [
      "SAMSUNG\n",
      "투자 경고 종목입니다.\n"
     ]
    }
   ],
   "source": [
    "warn_investment_list = [\"Microsoft\", \"Google\", \"Naver\", \"Kakao\", \"SAMSUNG\", \"LG\"]\n",
    "invest = input()\n",
    "if invest in warn_investment_list:\n",
    "    print('투자 경고 종목입니다.')\n",
    "else:\n",
    "    print('투자 경고 종목이 아닙니다.')"
   ]
  },
  {
   "cell_type": "code",
   "execution_count": null,
   "id": "5c5f75ad",
   "metadata": {},
   "outputs": [],
   "source": []
  }
 ],
 "metadata": {
  "kernelspec": {
   "display_name": "Python 3 (ipykernel)",
   "language": "python",
   "name": "python3"
  },
  "language_info": {
   "codemirror_mode": {
    "name": "ipython",
    "version": 3
   },
   "file_extension": ".py",
   "mimetype": "text/x-python",
   "name": "python",
   "nbconvert_exporter": "python",
   "pygments_lexer": "ipython3",
   "version": "3.10.9"
  }
 },
 "nbformat": 4,
 "nbformat_minor": 5
}
